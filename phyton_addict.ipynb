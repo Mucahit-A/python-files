{
  "nbformat": 4,
  "nbformat_minor": 0,
  "metadata": {
    "colab": {
      "name": "phyton addict",
      "provenance": [],
      "authorship_tag": "ABX9TyMo9/cvnWqtqbZyo0yVyoRD",
      "include_colab_link": true
    },
    "kernelspec": {
      "name": "python3",
      "display_name": "Python 3"
    },
    "language_info": {
      "name": "python"
    }
  },
  "cells": [
    {
      "cell_type": "markdown",
      "metadata": {
        "id": "view-in-github",
        "colab_type": "text"
      },
      "source": [
        "<a href=\"https://colab.research.google.com/github/Mucahit-A/python-files/blob/main/phyton_addict.ipynb\" target=\"_parent\"><img src=\"https://colab.research.google.com/assets/colab-badge.svg\" alt=\"Open In Colab\"/></a>"
      ]
    },
    {
      "cell_type": "code",
      "metadata": {
        "colab": {
          "base_uri": "https://localhost:8080/"
        },
        "id": "fEbsDdG-g4uj",
        "outputId": "2fe7fe08-18b3-40ad-8f11-23ea564c89e4"
      },
      "source": [
        "num = input(\"\")\n",
        "result = int(num) + int(num*2) + int(num*3)\n",
        "print(result)"
      ],
      "execution_count": null,
      "outputs": [
        {
          "output_type": "stream",
          "name": "stdout",
          "text": [
            "8\n",
            "984\n"
          ]
        }
      ]
    },
    {
      "cell_type": "code",
      "metadata": {
        "id": "YHHjxjnYhOCi",
        "colab": {
          "base_uri": "https://localhost:8080/"
        },
        "outputId": "644affdd-7b6f-4eb4-b306-00c46c03f5fa"
      },
      "source": [
        "mystr = \" My name is  22  Michele\"\n",
        "list_str = mystr.split()\n",
        "list_str.reverse()\n",
        "print(*list_str)"
      ],
      "execution_count": null,
      "outputs": [
        {
          "output_type": "stream",
          "name": "stdout",
          "text": [
            "Michele 22 is name My\n"
          ]
        }
      ]
    },
    {
      "cell_type": "code",
      "metadata": {
        "id": "LpiemwMWjiq8",
        "colab": {
          "base_uri": "https://localhost:8080/"
        },
        "outputId": "c5e8d07b-607f-4c31-ccba-05314d0dd2ec"
      },
      "source": [
        "name = \"my name is Mic\"\n",
        "name = name.split()\n",
        "print(*name[::-1])"
      ],
      "execution_count": null,
      "outputs": [
        {
          "output_type": "stream",
          "name": "stdout",
          "text": [
            "Mic is name my\n"
          ]
        }
      ]
    },
    {
      "cell_type": "code",
      "metadata": {
        "id": "PQr2LFZlkynh",
        "colab": {
          "base_uri": "https://localhost:8080/"
        },
        "outputId": "fd9d918f-a285-493a-92e7-5bdf6c2e7878"
      },
      "source": [
        "s1 = int(input())\n",
        "s2 = int(input())\n",
        "s3 = int(input())\n",
        "\n",
        "if s1 == s2 or s1 == s3 or s2 == s3:\n",
        "  print(\"zero\")\n",
        "else :\n",
        "  print(s1 + s2 +s3)"
      ],
      "execution_count": null,
      "outputs": [
        {
          "output_type": "stream",
          "name": "stdout",
          "text": [
            "5\n",
            "5\n",
            "5\n",
            "zero\n"
          ]
        }
      ]
    },
    {
      "cell_type": "code",
      "metadata": {
        "id": "770Y_iDsnwrW",
        "colab": {
          "base_uri": "https://localhost:8080/"
        },
        "outputId": "36d9d18d-486f-43e8-f405-e1e2f93d1af4"
      },
      "source": [
        "n1 = int(input())\n",
        "n2 = int(input())\n",
        "\n",
        "if 15<= n1+n2 <=20 :\n",
        "  \n",
        "  print(n1+n2)"
      ],
      "execution_count": null,
      "outputs": [
        {
          "output_type": "stream",
          "name": "stdout",
          "text": [
            "8\n",
            "9\n",
            "17\n"
          ]
        }
      ]
    },
    {
      "cell_type": "code",
      "metadata": {
        "id": "dufo0NIkpxeX",
        "colab": {
          "base_uri": "https://localhost:8080/"
        },
        "outputId": "50dba4e9-2fb1-4e55-db65-b940f78fe989"
      },
      "source": [
        "sayi1 = int(input())\n",
        "sayi2 = int(input())\n",
        "\n",
        "if sayi1==sayi2 or (((sayi1 + sayi2) and (sayi1 - sayi2)) == 5):\n",
        "  print(True)\n"
      ],
      "execution_count": null,
      "outputs": [
        {
          "output_type": "stream",
          "name": "stdout",
          "text": [
            "5\n",
            "0\n",
            "True\n"
          ]
        }
      ]
    },
    {
      "cell_type": "code",
      "metadata": {
        "id": "hVywMtEisdi_",
        "colab": {
          "base_uri": "https://localhost:8080/"
        },
        "outputId": "e62b65ce-94aa-4cea-ad16-2e17ef43e71c"
      },
      "source": [
        "a = int(input())\n",
        "b = int(input())\n",
        "c = int(input())\n",
        "\n",
        "if (a < b-c or a < c-b) or (b < a-c or b < c-a) or (c < a-b or c < b-a):\n",
        "  print(\"NOT TRIANGLE\")\n",
        "else:\n",
        "  print(\"THIS IS TRIANGLE\")\n"
      ],
      "execution_count": null,
      "outputs": [
        {
          "output_type": "stream",
          "name": "stdout",
          "text": [
            "3\n",
            "4\n",
            "5\n",
            "THIS IS TRIANGLE\n"
          ]
        }
      ]
    },
    {
      "cell_type": "code",
      "metadata": {
        "id": "nledpgkW3oNq",
        "colab": {
          "base_uri": "https://localhost:8080/"
        },
        "outputId": "5e5762c0-b745-404f-9677-61c95d16e8ac"
      },
      "source": [
        "kenarlar = list(map(int, input(\"\").split()))\n",
        "if (a < b-c or a < c-b) or (b < a-c or b < c-a) or (c < a-b or c < b-a):\n",
        "  print(\"NOT TRIANGLE\")\n",
        "else:\n",
        "  print(\"THIS IS TRIANGLE\")"
      ],
      "execution_count": null,
      "outputs": [
        {
          "output_type": "stream",
          "name": "stdout",
          "text": [
            "3 4 5\n",
            "THIS IS TRIANGLE\n"
          ]
        }
      ]
    },
    {
      "cell_type": "code",
      "metadata": {
        "id": "a_hRLT0bwMQl",
        "colab": {
          "base_uri": "https://localhost:8080/"
        },
        "outputId": "44676922-a0d6-467d-bd00-2a93e77b99a7"
      },
      "source": [
        "sides = list(map(int, input(\"\").split()))\n",
        "if (a < b-c and a < c-b) and (b < a-c and b < c-a) and (c < a-b and c < b-a):\n",
        "  print(\"NOT TRIANGLE\")\n",
        "else:\n",
        "  print(\"THIS IS TRIANGLE\")"
      ],
      "execution_count": null,
      "outputs": [
        {
          "output_type": "stream",
          "name": "stdout",
          "text": [
            "7 8 9\n",
            "THIS IS TRIANGLE\n"
          ]
        }
      ]
    },
    {
      "cell_type": "code",
      "metadata": {
        "id": "mz8feADO02lZ",
        "colab": {
          "base_uri": "https://localhost:8080/"
        },
        "outputId": "4b17a443-ad5e-4883-fe7b-a056aa231d20"
      },
      "source": [
        "liste = [1,2,3,4,5]\n",
        "def topla(x):\n",
        "     return x+10\n",
        "sonuc = map(topla,liste)\n",
        "print(list(sonuc))\n",
        "#[11, 12, 13, 14, 15]"
      ],
      "execution_count": null,
      "outputs": [
        {
          "output_type": "stream",
          "name": "stdout",
          "text": [
            "[11, 12, 13, 14, 15]\n"
          ]
        }
      ]
    },
    {
      "cell_type": "code",
      "metadata": {
        "id": "E1vVxxMG6QAA",
        "colab": {
          "base_uri": "https://localhost:8080/"
        },
        "outputId": "4817655d-a8c1-4d49-d266-86f28a506c65"
      },
      "source": [
        "str1 = \"JhonDipPeta\"\n",
        "str2 = \"JaSonAy\"\n",
        "\n",
        "print(str1[4:7], str2[2:5])\n"
      ],
      "execution_count": null,
      "outputs": [
        {
          "output_type": "stream",
          "name": "stdout",
          "text": [
            "Dip Son\n"
          ]
        }
      ]
    },
    {
      "cell_type": "code",
      "metadata": {
        "id": "osc6iv0I6P9R",
        "colab": {
          "base_uri": "https://localhost:8080/"
        },
        "outputId": "cdf67cf8-a060-4cad-e788-68125951ffec"
      },
      "source": [
        "ad_soyad = input(\"adinizi soyadinizi giriniz: \")\n",
        "yeni = ad_soyad.title()\n",
        "print(yeni)"
      ],
      "execution_count": null,
      "outputs": [
        {
          "output_type": "stream",
          "name": "stdout",
          "text": [
            "adinizi soyadinizi giriniz: Ali kara\n",
            "Ali Kara\n"
          ]
        }
      ]
    },
    {
      "cell_type": "code",
      "metadata": {
        "id": "iU2OQaa6vCjZ",
        "colab": {
          "base_uri": "https://localhost:8080/"
        },
        "outputId": "fa921dd6-71d4-492e-f15b-33afd087ae86"
      },
      "source": [
        "deger = input()\n",
        "deger1 = input()\n",
        "if deger.isnumeric() and deger1.isnumeric():\n",
        "  print(int(deger) + int(deger1))\n",
        "else:\n",
        "  print(\"gecersiz\")"
      ],
      "execution_count": null,
      "outputs": [
        {
          "output_type": "stream",
          "name": "stdout",
          "text": [
            "on\n",
            "bir\n",
            "gecersiz\n"
          ]
        }
      ]
    },
    {
      "cell_type": "code",
      "metadata": {
        "id": "GBf4QiMwIv8t"
      },
      "source": [
        ""
      ],
      "execution_count": null,
      "outputs": []
    },
    {
      "cell_type": "code",
      "metadata": {
        "id": "AZ_aMak3vCgA",
        "colab": {
          "base_uri": "https://localhost:8080/"
        },
        "outputId": "e2e73933-6faa-4188-afcb-b0373cf67456"
      },
      "source": [
        "list = [[\"FB\", \"BJK\", \"GS\", \"TS\"]]\n",
        "print(list[0])\n",
        "print(list[-1])\n",
        "print(list[::])\n",
        "print(list[0:4])\n",
        "print(list[::])\n",
        "print(list[0:555555])\n",
        "print(min(list))\n",
        "print(max(list))\n",
        "print(list.pop())"
      ],
      "execution_count": null,
      "outputs": [
        {
          "output_type": "stream",
          "name": "stdout",
          "text": [
            "['FB', 'BJK', 'GS', 'TS']\n",
            "['FB', 'BJK', 'GS', 'TS']\n",
            "[['FB', 'BJK', 'GS', 'TS']]\n",
            "[['FB', 'BJK', 'GS', 'TS']]\n",
            "[['FB', 'BJK', 'GS', 'TS']]\n",
            "[['FB', 'BJK', 'GS', 'TS']]\n",
            "['FB', 'BJK', 'GS', 'TS']\n",
            "['FB', 'BJK', 'GS', 'TS']\n",
            "['FB', 'BJK', 'GS', 'TS']\n"
          ]
        }
      ]
    },
    {
      "cell_type": "code",
      "metadata": {
        "id": "JOetdSKjvCY5",
        "colab": {
          "base_uri": "https://localhost:8080/"
        },
        "outputId": "5c82f31b-a0aa-4b53-fed9-a158c684e253"
      },
      "source": [
        "#Write python code that clears all characters except integers in the \n",
        "#given variable \"str1\" ​​and outputs only integers.\n",
        "\n",
        "str1 =  'I am 25 years old and 10 months old'\n",
        "\n",
        "\n",
        "print(str1[5:7] + str1[22:24])\n"
      ],
      "execution_count": null,
      "outputs": [
        {
          "output_type": "stream",
          "name": "stdout",
          "text": [
            "2510\n"
          ]
        }
      ]
    },
    {
      "cell_type": "code",
      "metadata": {
        "id": "PYwdo-5I6P3X",
        "colab": {
          "base_uri": "https://localhost:8080/"
        },
        "outputId": "d2b88ad0-fff3-485a-c85d-07e41a2e3ee9"
      },
      "source": [
        "sentence =  'I am 25 years and 10 months old'\n",
        "text = filter(str.isdigit, sentence)\n",
        "result = \"\".join(text)\n",
        "print(result)"
      ],
      "execution_count": null,
      "outputs": [
        {
          "output_type": "stream",
          "name": "stdout",
          "text": [
            "2510\n"
          ]
        }
      ]
    },
    {
      "cell_type": "code",
      "metadata": {
        "id": "BDot4OvvL6Se",
        "colab": {
          "base_uri": "https://localhost:8080/"
        },
        "outputId": "62b8c781-7043-408e-aa2d-abcb08b8b59b"
      },
      "source": [
        "a = \"* \"\n",
        "print(5*a)\n",
        "print(4*a)\n",
        "print(3*a)\n",
        "print(2*a)\n",
        "print(a)"
      ],
      "execution_count": null,
      "outputs": [
        {
          "output_type": "stream",
          "name": "stdout",
          "text": [
            "* * * * * \n",
            "* * * * \n",
            "* * * \n",
            "* * \n",
            "* \n"
          ]
        }
      ]
    },
    {
      "cell_type": "code",
      "metadata": {
        "id": "6r40lZ2IL6P3",
        "colab": {
          "base_uri": "https://localhost:8080/"
        },
        "outputId": "3e64b50a-d960-4ba9-9bca-64b185989235"
      },
      "source": [
        "n= \"* \"\n",
        "print (n*5,n*4,n*3,n*2,n*1,sep=\"\\n\")\n"
      ],
      "execution_count": null,
      "outputs": [
        {
          "output_type": "stream",
          "name": "stdout",
          "text": [
            "* * * * * \n",
            "* * * * \n",
            "* * * \n",
            "* * \n",
            "* \n"
          ]
        }
      ]
    },
    {
      "cell_type": "code",
      "metadata": {
        "id": "Ld9pAa_JL6M9",
        "colab": {
          "base_uri": "https://localhost:8080/"
        },
        "outputId": "b9c25102-1f3e-45df-d525-eebcb87ef163"
      },
      "source": [
        "for i in range(5,0,-1):\n",
        "  print(i * \"* \")"
      ],
      "execution_count": null,
      "outputs": [
        {
          "output_type": "stream",
          "name": "stdout",
          "text": [
            "* * * * * \n",
            "* * * * \n",
            "* * * \n",
            "* * \n",
            "* \n"
          ]
        }
      ]
    },
    {
      "cell_type": "code",
      "metadata": {
        "id": "i6MKmTs-L6J3",
        "colab": {
          "base_uri": "https://localhost:8080/"
        },
        "outputId": "ec59d8bb-442a-44da-b7c1-0c298f44e8e7"
      },
      "source": [
        "satır = int(input(\"Lütfen satır sayısını giriniz: \"));\n",
        "for i in range (0,satır):\n",
        "    for j in range (satır,i,-1):\n",
        "        print(\"* \", end=\"\")\n",
        "    print()"
      ],
      "execution_count": null,
      "outputs": [
        {
          "output_type": "stream",
          "name": "stdout",
          "text": [
            "Lütfen satır sayısını giriniz: 5\n",
            "* * * * * \n",
            "* * * * \n",
            "* * * \n",
            "* * \n",
            "* \n"
          ]
        }
      ]
    },
    {
      "cell_type": "code",
      "metadata": {
        "id": "YcMCjL7WL6GT",
        "colab": {
          "base_uri": "https://localhost:8080/"
        },
        "outputId": "212a8920-26f3-4e2f-8332-6add834a7fe0"
      },
      "source": [
        "rows = int(input(\"enter mumber:\"))\n",
        "\n",
        "for i in range(rows, 0, -1):\n",
        "  print((\"* \" * i), end=\"\\n\")\n",
        "  "
      ],
      "execution_count": null,
      "outputs": [
        {
          "output_type": "stream",
          "name": "stdout",
          "text": [
            "enter mumber:5\n",
            "* * * * * \n",
            "* * * * \n",
            "* * * \n",
            "* * \n",
            "* \n"
          ]
        }
      ]
    },
    {
      "cell_type": "code",
      "metadata": {
        "id": "FMJ3mpG0L6Cm",
        "colab": {
          "base_uri": "https://localhost:8080/"
        },
        "outputId": "d3923fc4-88f6-4b98-daa2-e823fab2c364"
      },
      "source": [
        "\n",
        "satır = int(input(\"Lütfen satır sayısını giriniz: \"))\n",
        "\n",
        "for i in range(satır):\n",
        "    for j in range(i+1):\n",
        "        print(j+1, end=\" \")\n",
        "    print()\n"
      ],
      "execution_count": null,
      "outputs": [
        {
          "output_type": "stream",
          "name": "stdout",
          "text": [
            "Lütfen satır sayısını giriniz: 5\n",
            "1 \n",
            "1 2 \n",
            "1 2 3 \n",
            "1 2 3 4 \n",
            "1 2 3 4 5 \n"
          ]
        }
      ]
    },
    {
      "cell_type": "code",
      "metadata": {
        "id": "mW3wFnzJ6Pzo",
        "colab": {
          "base_uri": "https://localhost:8080/"
        },
        "outputId": "56c9d977-3d6b-4853-89d9-9e3c8bad03db"
      },
      "source": [
        "row = int(input(\"row number: \"))\n",
        "for i in range(1, row):\n",
        "  for j in range(1, i+1):\n",
        "    print(j,end=\" \")\n",
        "  print()"
      ],
      "execution_count": null,
      "outputs": [
        {
          "output_type": "stream",
          "name": "stdout",
          "text": [
            "row number: 5\n",
            "1 \n",
            "1 2 \n",
            "1 2 3 \n",
            "1 2 3 4 \n"
          ]
        }
      ]
    },
    {
      "cell_type": "code",
      "metadata": {
        "id": "sKX2oevBWzpe",
        "colab": {
          "base_uri": "https://localhost:8080/"
        },
        "outputId": "ca9fbcf9-d3df-413d-c425-e51f5708cd79"
      },
      "source": [
        "num = int(input(\"enter num: \"))\n",
        "for i in range(1,num+1):\n",
        "  print(\" \" * (num-i) + i * \"*\")\n",
        "\n"
      ],
      "execution_count": null,
      "outputs": [
        {
          "output_type": "stream",
          "name": "stdout",
          "text": [
            "enter num: 5\n",
            "    *\n",
            "   **\n",
            "  ***\n",
            " ****\n",
            "*****\n"
          ]
        }
      ]
    },
    {
      "cell_type": "code",
      "metadata": {
        "id": "Rfl-HMsMXboP",
        "colab": {
          "base_uri": "https://localhost:8080/"
        },
        "outputId": "78c0af9d-909e-4211-f4af-2f3dbbd043f7"
      },
      "source": [
        "num = int(input(\"\"))\n",
        "space = (2 * num) - 2\n",
        "for i in range(num) :\n",
        "    print(\" \" * space + (i+1) * \"* \")\n",
        "    space -= 2"
      ],
      "execution_count": null,
      "outputs": [
        {
          "output_type": "stream",
          "name": "stdout",
          "text": [
            "5\n",
            "        * \n",
            "      * * \n",
            "    * * * \n",
            "  * * * * \n",
            "* * * * * \n"
          ]
        }
      ]
    },
    {
      "cell_type": "code",
      "metadata": {
        "id": "ObKQDhrmXblp",
        "colab": {
          "base_uri": "https://localhost:8080/"
        },
        "outputId": "089ad478-d3b8-40d9-c830-369eb2e57b3f"
      },
      "source": [
        "word = \"restart\"\n",
        "x = word.replace(word[0], \"$\") [1::]\n",
        "print(word[0],x, sep=\"\")"
      ],
      "execution_count": null,
      "outputs": [
        {
          "output_type": "stream",
          "name": "stdout",
          "text": [
            "resta$t\n"
          ]
        }
      ]
    },
    {
      "cell_type": "code",
      "metadata": {
        "id": "yZe0NlLUWzlT",
        "colab": {
          "base_uri": "https://localhost:8080/"
        },
        "outputId": "5f2b6e6a-fd93-4a3d-fb89-e11fada51c90"
      },
      "source": [
        "mystr=\"restart\"\n",
        "mystr=mystr[::-1].replace('r','$',1)[::-1]\n",
        "print(mystr)"
      ],
      "execution_count": null,
      "outputs": [
        {
          "output_type": "stream",
          "name": "stdout",
          "text": [
            "resta$t\n"
          ]
        }
      ]
    },
    {
      "cell_type": "code",
      "metadata": {
        "id": "G_fNBsFJWzia",
        "colab": {
          "base_uri": "https://localhost:8080/",
          "height": 35
        },
        "outputId": "a3b2bae1-7938-4b51-8983-1c4b86ee6d20"
      },
      "source": [
        "text = \"restart\"\n",
        "text =text[0] + text[1:].replace(text[0], \"$\")\n",
        "text"
      ],
      "execution_count": null,
      "outputs": [
        {
          "output_type": "execute_result",
          "data": {
            "application/vnd.google.colaboratory.intrinsic+json": {
              "type": "string"
            },
            "text/plain": [
              "'resta$t'"
            ]
          },
          "metadata": {},
          "execution_count": 43
        }
      ]
    },
    {
      "cell_type": "code",
      "metadata": {
        "id": "MzmegfMVWzeJ",
        "colab": {
          "base_uri": "https://localhost:8080/"
        },
        "outputId": "3c1e151d-3e25-4bcd-a3c4-1fdd99a15d03"
      },
      "source": [
        "word = \"restart\"\n",
        "a = word.replace(\"r\", \"$\")[1:]\n",
        "print(word[0]+a)"
      ],
      "execution_count": null,
      "outputs": [
        {
          "output_type": "stream",
          "name": "stdout",
          "text": [
            "resta$t\n"
          ]
        }
      ]
    },
    {
      "cell_type": "code",
      "metadata": {
        "id": "ZQyHaF8KUSeV",
        "colab": {
          "base_uri": "https://localhost:8080/"
        },
        "outputId": "62ed46c0-f65c-4c77-b338-525473343a20"
      },
      "source": [
        "num = int(input(\"Enter a number: \"))\n",
        "\n",
        "for i in range(1, num+1):\n",
        "    space = \" \" * (num - i)\n",
        "    print(space, *range(1, i+1), space)"
      ],
      "execution_count": null,
      "outputs": [
        {
          "output_type": "stream",
          "name": "stdout",
          "text": [
            "Enter a number: 5\n",
            "     1     \n",
            "    1 2    \n",
            "   1 2 3   \n",
            "  1 2 3 4  \n",
            " 1 2 3 4 5 \n"
          ]
        }
      ]
    },
    {
      "cell_type": "code",
      "metadata": {
        "id": "_fBfiLPOlvph",
        "colab": {
          "base_uri": "https://localhost:8080/"
        },
        "outputId": "e77efbba-c59f-44d3-a0c7-8e8132dd894f"
      },
      "source": [
        "\n",
        "str = \"abcdcdc\"\n",
        "str1 = \"cdc\"\n",
        "str.count(str1)"
      ],
      "execution_count": null,
      "outputs": [
        {
          "output_type": "execute_result",
          "data": {
            "text/plain": [
              "1"
            ]
          },
          "metadata": {},
          "execution_count": 46
        }
      ]
    },
    {
      "cell_type": "code",
      "metadata": {
        "id": "UFsoa_LblvlS",
        "colab": {
          "base_uri": "https://localhost:8080/"
        },
        "outputId": "d69aa3c7-3133-42d1-89c0-df6f4819a5b3"
      },
      "source": [
        "text = input(\"\")\n",
        "sub_text= input(\"\")\n",
        "count = 0\n",
        "for i in range(len(text)) :\n",
        "  if text[i:i+len(sub_text)] == sub_text :\n",
        "    count += 1\n",
        "print(count)"
      ],
      "execution_count": null,
      "outputs": [
        {
          "output_type": "stream",
          "name": "stdout",
          "text": [
            "ata\n",
            "araba\n",
            "0\n"
          ]
        }
      ]
    },
    {
      "cell_type": "code",
      "metadata": {
        "id": "51GZpgq9rUbR",
        "colab": {
          "base_uri": "https://localhost:8080/"
        },
        "outputId": "2182c5b5-d1dc-4bd7-f10e-054c81d5fe93"
      },
      "source": [
        "s1 = \"Hello\"\n",
        "s2 = \"Marry\"\n",
        "print(s1[:len(s1)//2] + s2 + s1[len(s1)//2:])"
      ],
      "execution_count": null,
      "outputs": [
        {
          "output_type": "stream",
          "name": "stdout",
          "text": [
            "HeMarryllo\n"
          ]
        }
      ]
    },
    {
      "cell_type": "code",
      "metadata": {
        "id": "yOPHN5XzrUYo",
        "colab": {
          "base_uri": "https://localhost:8080/"
        },
        "outputId": "ac701623-3ee5-4dea-cc31-e0e5d5341835"
      },
      "source": [
        "s1 = \"oradaburada\"\n",
        "s2 = \"şurada\"\n",
        "u1 = len(s1)\n",
        "s3 = s1[0:round(u1/2)] + s2 + s1[round(u1/2):]\n",
        "print(s3)"
      ],
      "execution_count": null,
      "outputs": [
        {
          "output_type": "stream",
          "name": "stdout",
          "text": [
            "oradabşuradaurada\n"
          ]
        }
      ]
    },
    {
      "cell_type": "code",
      "metadata": {
        "id": "sikOogsOrUVu",
        "colab": {
          "base_uri": "https://localhost:8080/"
        },
        "outputId": "ccec6c2f-009b-4889-9a93-d4b5d4c43270"
      },
      "source": [
        "word = \"ARTkdkdRRFffrRYJ\"\n",
        "low = \"\"\n",
        "up = ''\n",
        "\n",
        "for i in word:\n",
        "  if i.islower():\n",
        "    low += i\n",
        "  else:\n",
        "    up += i\n",
        "print(low + up)"
      ],
      "execution_count": null,
      "outputs": [
        {
          "output_type": "stream",
          "name": "stdout",
          "text": [
            "kdkdffrARTRRFRYJ\n"
          ]
        }
      ]
    },
    {
      "cell_type": "code",
      "metadata": {
        "id": "-cNrK6YjrUTB",
        "colab": {
          "base_uri": "https://localhost:8080/"
        },
        "outputId": "16a80280-a66c-42c5-c0fe-d1e29d96d471"
      },
      "source": [
        "text = input(\"\")\n",
        "if len(text) < 2 :\n",
        "  word = \"Empty String\"\n",
        "else :\n",
        "  word = text[0:1] + text[-2:]\n",
        "print(word)\n"
      ],
      "execution_count": null,
      "outputs": [
        {
          "output_type": "stream",
          "name": "stdout",
          "text": [
            "kasabali\n",
            "kli\n"
          ]
        }
      ]
    },
    {
      "cell_type": "code",
      "metadata": {
        "colab": {
          "base_uri": "https://localhost:8080/"
        },
        "id": "vRDOhXUErycq",
        "outputId": "5ff876f3-9876-4881-ae97-743b62013231"
      },
      "source": [
        "word = \"kasabbalilarla\"\n",
        "word = word[1:8]\n",
        "print(word)"
      ],
      "execution_count": null,
      "outputs": [
        {
          "output_type": "stream",
          "name": "stdout",
          "text": [
            "asabbal\n"
          ]
        }
      ]
    },
    {
      "cell_type": "code",
      "metadata": {
        "id": "HLnJll4HrUMB",
        "colab": {
          "base_uri": "https://localhost:8080/"
        },
        "outputId": "e363c228-8786-4e4e-c530-f395b63c4601"
      },
      "source": [
        "num = int(input(\"\"))\n",
        "scores = list(map(int, input(\"\").split()))\n",
        "runner_up =sorted(set(scores))[-2]\n",
        "print(runner_up)"
      ],
      "execution_count": null,
      "outputs": [
        {
          "output_type": "stream",
          "name": "stdout",
          "text": [
            "3\n",
            "10 20 30\n",
            "20\n"
          ]
        }
      ]
    },
    {
      "cell_type": "code",
      "metadata": {
        "id": "JMyiIHc05pLz",
        "colab": {
          "base_uri": "https://localhost:8080/"
        },
        "outputId": "76367de0-f5fe-418a-a488-3fd1ff4fe689"
      },
      "source": [
        "print(\"'Twinkle, twinkle, little star,\\n\\tHow I wonder what you are!\\n\\t\\tUp above the world so high,\\n\\t\\tLike a diamond in the sky.\\nTwinkle, twinkle, little star,\\n\\tHow I wonder what you are\"'')"
      ],
      "execution_count": null,
      "outputs": [
        {
          "output_type": "stream",
          "name": "stdout",
          "text": [
            "'Twinkle, twinkle, little star,\n",
            "\tHow I wonder what you are!\n",
            "\t\tUp above the world so high,\n",
            "\t\tLike a diamond in the sky.\n",
            "Twinkle, twinkle, little star,\n",
            "\tHow I wonder what you are\n"
          ]
        }
      ]
    },
    {
      "cell_type": "code",
      "metadata": {
        "id": "RXjZsT1-7tts",
        "colab": {
          "base_uri": "https://localhost:8080/"
        },
        "outputId": "14cd0ce9-10bf-4922-ae32-d34caf77eecf"
      },
      "source": [
        "exam_date = \"11,12,2014\"\n",
        "print(exam_date.replace(\",\", \"/\"))"
      ],
      "execution_count": null,
      "outputs": [
        {
          "output_type": "stream",
          "name": "stdout",
          "text": [
            "11/12/2014\n"
          ]
        }
      ]
    },
    {
      "cell_type": "code",
      "metadata": {
        "id": "3rl4FH397tq2",
        "colab": {
          "base_uri": "https://localhost:8080/"
        },
        "outputId": "eea36a85-3181-4ca2-f7db-657c6cf4e753"
      },
      "source": [
        "exam_st_date = (11, 12, 2014)\n",
        "print(*exam_st_date, sep=' / ')"
      ],
      "execution_count": null,
      "outputs": [
        {
          "output_type": "stream",
          "name": "stdout",
          "text": [
            "11 / 12 / 2014\n"
          ]
        }
      ]
    },
    {
      "cell_type": "code",
      "metadata": {
        "id": "UyPygR477tjX",
        "colab": {
          "base_uri": "https://localhost:8080/"
        },
        "outputId": "52dadf07-6275-476f-f06f-555ecb51aec6"
      },
      "source": [
        "num = int(input(\"\"))\n",
        "total = sum([i for i in range(1,num) if num % i == 0])\n",
        "if total == num :\n",
        "  print(\"{} is a perfect number.\".format(num))\n",
        "else:\n",
        "  print(\"{} is not a perfect number.\".format(num))"
      ],
      "execution_count": null,
      "outputs": [
        {
          "output_type": "stream",
          "name": "stdout",
          "text": [
            "25\n",
            "25 is not a perfect number.\n"
          ]
        }
      ]
    },
    {
      "cell_type": "code",
      "metadata": {
        "id": "Ru4-n4xM7tgv",
        "colab": {
          "base_uri": "https://localhost:8080/"
        },
        "outputId": "63a4425d-23ec-4fcf-9d2c-8dbffb2cf8a4"
      },
      "source": [
        "sentence = input(\"please enter a sentence : \")\n",
        "new_st = \"\"\n",
        "for i in sentence :\n",
        "  if i.isalnum():\n",
        "    new_st += i\n",
        "if new_st[::-1].lower() == new_st[::].lower() :\n",
        "  print(\"{} is a palindrome.\".format(sentence))\n",
        "else:\n",
        "  print(\"{} is not a palindrome.\".format(sentence))"
      ],
      "execution_count": null,
      "outputs": [
        {
          "output_type": "stream",
          "name": "stdout",
          "text": [
            "please enter a sentence : kasaba halki\n",
            "kasaba halki is not a palindrome.\n"
          ]
        }
      ]
    },
    {
      "cell_type": "code",
      "metadata": {
        "id": "Ekf3RkhT7teJ",
        "colab": {
          "base_uri": "https://localhost:8080/"
        },
        "outputId": "3554a743-634d-40a7-c7df-13a0e87f64d2"
      },
      "source": [
        "num = input(\"Enter a num: \")\n",
        "total = 0\n",
        "for i in num:\n",
        "  total += int(i) ** len(num)\n",
        "\n",
        "print(total == int(num))"
      ],
      "execution_count": null,
      "outputs": [
        {
          "output_type": "stream",
          "name": "stdout",
          "text": [
            "Enter a num: 8\n",
            "True\n"
          ]
        }
      ]
    },
    {
      "cell_type": "code",
      "metadata": {
        "colab": {
          "base_uri": "https://localhost:8080/"
        },
        "id": "hc-kUghAxDhV",
        "outputId": "da577bf1-ad2d-47ae-cbd6-e20c1f8ade90"
      },
      "source": [
        "num = input(\"Enter a num: \")\n",
        "total = 0\n",
        "for i in num:\n",
        "  print(i)"
      ],
      "execution_count": null,
      "outputs": [
        {
          "output_type": "stream",
          "name": "stdout",
          "text": [
            "Enter a num: 9\n",
            "9\n"
          ]
        }
      ]
    },
    {
      "cell_type": "code",
      "metadata": {
        "id": "RYT7rSfs7tbj",
        "colab": {
          "base_uri": "https://localhost:8080/"
        },
        "outputId": "66e51602-298e-47f7-8983-2b5ae3816b54"
      },
      "source": [
        "num = input(\"\")\n",
        "toplam = sum([int(i) ** len(num) for i in num])\n",
        "if int(num) == toplam :\n",
        "  print(num, \"is a armstrong number\")\n",
        "else:\n",
        "  print(num, \"is not a armstrong number\")"
      ],
      "execution_count": null,
      "outputs": [
        {
          "output_type": "stream",
          "name": "stdout",
          "text": [
            "8\n",
            "8 is a armstrong number\n"
          ]
        }
      ]
    },
    {
      "cell_type": "code",
      "metadata": {
        "id": "Y6G3mPsX7rZC",
        "colab": {
          "base_uri": "https://localhost:8080/"
        },
        "outputId": "1efec79f-6828-4ba3-8f7c-084b3d1be995"
      },
      "source": [
        "low, high = list(map(int, (input(\"\").split())))\n",
        "\n",
        "for num in range(low, high + 1):\n",
        "  order = len(str(num))\n",
        "  sum = 0\n",
        "  for i in str(num):\n",
        "    sum += int(i) ** order\n",
        "  if num == sum:\n",
        "    print(num)"
      ],
      "execution_count": null,
      "outputs": [
        {
          "output_type": "stream",
          "name": "stdout",
          "text": [
            "8 10\n",
            "8\n",
            "9\n"
          ]
        }
      ]
    },
    {
      "cell_type": "code",
      "metadata": {
        "id": "1HVrJVDWhHTm",
        "colab": {
          "base_uri": "https://localhost:8080/"
        },
        "outputId": "821e0c7a-23db-4b04-a89c-91cf86edfb64"
      },
      "source": [
        "num = int(input(\"Please enter a number : \"))\n",
        "for i in range(11):\n",
        "  print(num, \"x\", i, \"=\", num*i)"
      ],
      "execution_count": null,
      "outputs": [
        {
          "output_type": "stream",
          "name": "stdout",
          "text": [
            "Please enter a number : 8\n",
            "8 x 0 = 0\n",
            "8 x 1 = 8\n",
            "8 x 2 = 16\n",
            "8 x 3 = 24\n",
            "8 x 4 = 32\n",
            "8 x 5 = 40\n",
            "8 x 6 = 48\n",
            "8 x 7 = 56\n",
            "8 x 8 = 64\n",
            "8 x 9 = 72\n",
            "8 x 10 = 80\n"
          ]
        }
      ]
    },
    {
      "cell_type": "code",
      "metadata": {
        "id": "IgT3XljjkPpk",
        "colab": {
          "base_uri": "https://localhost:8080/"
        },
        "outputId": "f3ca517b-1777-4030-e4fe-790a62de8df8"
      },
      "source": [
        "num = int(input(\"Please enter a number : \"))\n",
        "for i in range(11):\n",
        "  print(f\"{num} x {i} = {num*i}\")"
      ],
      "execution_count": null,
      "outputs": [
        {
          "output_type": "stream",
          "name": "stdout",
          "text": [
            "Please enter a number : 5\n",
            "5 x 0 = 0\n",
            "5 x 1 = 5\n",
            "5 x 2 = 10\n",
            "5 x 3 = 15\n",
            "5 x 4 = 20\n",
            "5 x 5 = 25\n",
            "5 x 6 = 30\n",
            "5 x 7 = 35\n",
            "5 x 8 = 40\n",
            "5 x 9 = 45\n",
            "5 x 10 = 50\n"
          ]
        }
      ]
    },
    {
      "cell_type": "code",
      "metadata": {
        "id": "NA20V56_k5Qj",
        "colab": {
          "base_uri": "https://localhost:8080/"
        },
        "outputId": "823ef947-390a-430b-ed9c-a7259de40d67"
      },
      "source": [
        "for j in range(1, 11):\n",
        "  for i in range(1, 11):\n",
        "    print(\"\".join(f\"{i} x {j} = {i*j}\" ).center(13), end=\"|\")\n",
        "  print()"
      ],
      "execution_count": null,
      "outputs": [
        {
          "output_type": "stream",
          "name": "stdout",
          "text": [
            "  1 x 1 = 1  |  2 x 1 = 2  |  3 x 1 = 3  |  4 x 1 = 4  |  5 x 1 = 5  |  6 x 1 = 6  |  7 x 1 = 7  |  8 x 1 = 8  |  9 x 1 = 9  | 10 x 1 = 10 |\n",
            "  1 x 2 = 2  |  2 x 2 = 4  |  3 x 2 = 6  |  4 x 2 = 8  |  5 x 2 = 10 |  6 x 2 = 12 |  7 x 2 = 14 |  8 x 2 = 16 |  9 x 2 = 18 | 10 x 2 = 20 |\n",
            "  1 x 3 = 3  |  2 x 3 = 6  |  3 x 3 = 9  |  4 x 3 = 12 |  5 x 3 = 15 |  6 x 3 = 18 |  7 x 3 = 21 |  8 x 3 = 24 |  9 x 3 = 27 | 10 x 3 = 30 |\n",
            "  1 x 4 = 4  |  2 x 4 = 8  |  3 x 4 = 12 |  4 x 4 = 16 |  5 x 4 = 20 |  6 x 4 = 24 |  7 x 4 = 28 |  8 x 4 = 32 |  9 x 4 = 36 | 10 x 4 = 40 |\n",
            "  1 x 5 = 5  |  2 x 5 = 10 |  3 x 5 = 15 |  4 x 5 = 20 |  5 x 5 = 25 |  6 x 5 = 30 |  7 x 5 = 35 |  8 x 5 = 40 |  9 x 5 = 45 | 10 x 5 = 50 |\n",
            "  1 x 6 = 6  |  2 x 6 = 12 |  3 x 6 = 18 |  4 x 6 = 24 |  5 x 6 = 30 |  6 x 6 = 36 |  7 x 6 = 42 |  8 x 6 = 48 |  9 x 6 = 54 | 10 x 6 = 60 |\n",
            "  1 x 7 = 7  |  2 x 7 = 14 |  3 x 7 = 21 |  4 x 7 = 28 |  5 x 7 = 35 |  6 x 7 = 42 |  7 x 7 = 49 |  8 x 7 = 56 |  9 x 7 = 63 | 10 x 7 = 70 |\n",
            "  1 x 8 = 8  |  2 x 8 = 16 |  3 x 8 = 24 |  4 x 8 = 32 |  5 x 8 = 40 |  6 x 8 = 48 |  7 x 8 = 56 |  8 x 8 = 64 |  9 x 8 = 72 | 10 x 8 = 80 |\n",
            "  1 x 9 = 9  |  2 x 9 = 18 |  3 x 9 = 27 |  4 x 9 = 36 |  5 x 9 = 45 |  6 x 9 = 54 |  7 x 9 = 63 |  8 x 9 = 72 |  9 x 9 = 81 | 10 x 9 = 90 |\n",
            " 1 x 10 = 10 | 2 x 10 = 20 | 3 x 10 = 30 | 4 x 10 = 40 | 5 x 10 = 50 | 6 x 10 = 60 | 7 x 10 = 70 | 8 x 10 = 80 | 9 x 10 = 90 |10 x 10 = 100|\n"
          ]
        }
      ]
    },
    {
      "cell_type": "code",
      "metadata": {
        "id": "s7JeIuX1n1H9",
        "colab": {
          "base_uri": "https://localhost:8080/"
        },
        "outputId": "3976ea48-3f74-4c9b-91c2-094b389de10d"
      },
      "source": [
        "n = 50\n",
        "for i in range(1,n+1):\n",
        "    if  not i % 15:\n",
        "       print(\"FizzBuzz\")\n",
        "    elif not i % 5:\n",
        "        print(\"Buzz\")\n",
        "    elif not i % 3:\n",
        "        print(\"Fizz\")\n",
        "    else:\n",
        "        print(i)"
      ],
      "execution_count": null,
      "outputs": [
        {
          "output_type": "stream",
          "name": "stdout",
          "text": [
            "1\n",
            "2\n",
            "Fizz\n",
            "4\n",
            "Buzz\n",
            "Fizz\n",
            "7\n",
            "8\n",
            "Fizz\n",
            "Buzz\n",
            "11\n",
            "Fizz\n",
            "13\n",
            "14\n",
            "FizzBuzz\n",
            "16\n",
            "17\n",
            "Fizz\n",
            "19\n",
            "Buzz\n",
            "Fizz\n",
            "22\n",
            "23\n",
            "Fizz\n",
            "Buzz\n",
            "26\n",
            "Fizz\n",
            "28\n",
            "29\n",
            "FizzBuzz\n",
            "31\n",
            "32\n",
            "Fizz\n",
            "34\n",
            "Buzz\n",
            "Fizz\n",
            "37\n",
            "38\n",
            "Fizz\n",
            "Buzz\n",
            "41\n",
            "Fizz\n",
            "43\n",
            "44\n",
            "FizzBuzz\n",
            "46\n",
            "47\n",
            "Fizz\n",
            "49\n",
            "Buzz\n"
          ]
        }
      ]
    },
    {
      "cell_type": "code",
      "metadata": {
        "id": "wdNbVs9Nr7X6",
        "colab": {
          "base_uri": "https://localhost:8080/"
        },
        "outputId": "eb571964-0ebf-4813-a5bf-0887163189d8"
      },
      "source": [
        "toplam = 0\n",
        "while True:\n",
        " a = input(\"bir sayı girin yada çıkış için q basın: \")\n",
        " if a == 'q' :\n",
        "      break\n",
        " else:\n",
        "        toplam += int(a)\n",
        "print(\"sonuç=\",toplam)"
      ],
      "execution_count": null,
      "outputs": [
        {
          "output_type": "stream",
          "name": "stdout",
          "text": [
            "bir sayı girin yada çıkış için q basın: 5\n",
            "bir sayı girin yada çıkış için q basın: 6\n",
            "bir sayı girin yada çıkış için q basın: 9\n",
            "bir sayı girin yada çıkış için q basın: 3\n",
            "bir sayı girin yada çıkış için q basın: 22\n",
            "bir sayı girin yada çıkış için q basın: 54\n",
            "bir sayı girin yada çıkış için q basın: q\n",
            "sonuç= 99\n"
          ]
        }
      ]
    },
    {
      "cell_type": "code",
      "metadata": {
        "id": "mpwjgtpbr7UO",
        "colab": {
          "base_uri": "https://localhost:8080/"
        },
        "outputId": "eb962d91-5c4c-465f-a34d-d0277f2e7e67"
      },
      "source": [
        "#A jumbled list is given whose elements are consecutive numbers. \n",
        "#Write python code that outputs even numbers of missing numbers that \n",
        "#are between the smallest element and the largest element of the list, \n",
        "#but not shown in the list.\n",
        "\n",
        "liste = [48, 10, 11, 21, 36, 5, 6, 52, 28, 29, 53, 54, 45, 19, 20, 47, 55, 39, 41, 7, 9, 17, 26, 27, 42, 22, 37, 51, 46, 18, 44, 30, 34, 13, 15, 35, 33, 16, 50, 24]\n",
        " \n",
        "missing_nums = [i for i in range(min(liste), max(liste)+1) if i % 2 == 0 and not i in liste]\n",
        "print(* missing_nums)"
      ],
      "execution_count": null,
      "outputs": [
        {
          "output_type": "stream",
          "name": "stdout",
          "text": [
            "8 12 14 32 38 40\n"
          ]
        }
      ]
    },
    {
      "cell_type": "code",
      "metadata": {
        "id": "L_LVrFrhr7PT",
        "colab": {
          "base_uri": "https://localhost:8080/"
        },
        "outputId": "19647fa2-f880-43e8-d1d7-ce2959d9ac11"
      },
      "source": [
        "text = input(\"\")\n",
        "sonuc ={}\n",
        "for i in range(len(text)):\n",
        "  sonuc[i] = text[i]\n",
        "print(sonuc)"
      ],
      "execution_count": null,
      "outputs": [
        {
          "output_type": "stream",
          "name": "stdout",
          "text": [
            "kasaba\n",
            "{0: 'k', 1: 'a', 2: 's', 3: 'a', 4: 'b', 5: 'a'}\n"
          ]
        }
      ]
    },
    {
      "cell_type": "code",
      "metadata": {
        "id": "uFOncZaZr7Jz",
        "colab": {
          "base_uri": "https://localhost:8080/"
        },
        "outputId": "e36f893c-5e6e-4f5f-d91f-cb5b2efb127c"
      },
      "source": [
        "x = input(\"\")\n",
        "i = 1\n",
        "toplam = 0\n",
        "while i < int(x):\n",
        "  toplam += i**3\n",
        "  i += 1\n",
        "print(toplam)\n"
      ],
      "execution_count": null,
      "outputs": [
        {
          "output_type": "stream",
          "name": "stdout",
          "text": [
            "8\n",
            "784\n"
          ]
        }
      ]
    },
    {
      "cell_type": "code",
      "metadata": {
        "id": "g_1zMVJ5r7EJ",
        "colab": {
          "base_uri": "https://localhost:8080/"
        },
        "outputId": "622b85c8-2d88-44c3-cd55-0cfab10e5a75"
      },
      "source": [
        "liste = [1 ,2 ,3 ,4 ,5 ,6 ,7 ,8 ,9]\n",
        "indeks = 0\n",
        "uzunluk = len(liste)\n",
        "while len(liste) > 0 :\n",
        "  indeks = (2 + indeks) % uzunluk\n",
        "  liste.pop(indeks)\n",
        "  print(liste)\n",
        "  uzunluk -= 1"
      ],
      "execution_count": null,
      "outputs": [
        {
          "output_type": "stream",
          "name": "stdout",
          "text": [
            "[1, 2, 4, 5, 6, 7, 8, 9]\n",
            "[1, 2, 4, 5, 7, 8, 9]\n",
            "[1, 2, 4, 5, 7, 8]\n",
            "[1, 2, 5, 7, 8]\n",
            "[1, 2, 5, 7]\n",
            "[1, 2, 7]\n",
            "[1, 7]\n",
            "[1]\n",
            "[]\n"
          ]
        }
      ]
    },
    {
      "cell_type": "code",
      "metadata": {
        "id": "0ZCQtpKor7BB",
        "colab": {
          "base_uri": "https://localhost:8080/"
        },
        "outputId": "a2397986-b3ba-4dd3-b72b-e28ea6e5ba49"
      },
      "source": [
        "n=int(input(\"write a number : \"))\n",
        "arr = list(range(1,n+1))\n",
        "while len(arr) > 1:\n",
        "    arr.append(arr.pop(0))\n",
        "    arr.append(arr.pop(0))\n",
        "    arr = arr[1:]    \n",
        "    print(sorted(arr))"
      ],
      "execution_count": null,
      "outputs": [
        {
          "output_type": "stream",
          "name": "stdout",
          "text": [
            "write a number : 11\n",
            "[1, 2, 4, 5, 6, 7, 8, 9, 10, 11]\n",
            "[1, 2, 4, 5, 7, 8, 9, 10, 11]\n",
            "[1, 2, 4, 5, 7, 8, 10, 11]\n",
            "[2, 4, 5, 7, 8, 10, 11]\n",
            "[2, 4, 7, 8, 10, 11]\n",
            "[2, 4, 7, 8, 11]\n",
            "[2, 7, 8, 11]\n",
            "[2, 7, 8]\n",
            "[2, 7]\n",
            "[7]\n"
          ]
        }
      ]
    },
    {
      "cell_type": "code",
      "metadata": {
        "id": "I7FSd0rQIsXN",
        "colab": {
          "base_uri": "https://localhost:8080/"
        },
        "outputId": "1298caf2-d812-42b8-e6ba-3ab8a4e4a940"
      },
      "source": [
        "list1 = [1,2,3,4,5,6]\n",
        "len = len(list1)\n",
        "while len > 0:\n",
        "  list1.insert(0, list1.pop())\n",
        "  print(list1)\n",
        "  len -= 1"
      ],
      "execution_count": null,
      "outputs": [
        {
          "output_type": "stream",
          "name": "stdout",
          "text": [
            "[6, 1, 2, 3, 4, 5]\n",
            "[5, 6, 1, 2, 3, 4]\n",
            "[4, 5, 6, 1, 2, 3]\n",
            "[3, 4, 5, 6, 1, 2]\n",
            "[2, 3, 4, 5, 6, 1]\n",
            "[1, 2, 3, 4, 5, 6]\n"
          ]
        }
      ]
    },
    {
      "cell_type": "code",
      "metadata": {
        "id": "rwgExIorDiOO",
        "colab": {
          "base_uri": "https://localhost:8080/"
        },
        "outputId": "b76026ab-bda8-4ddb-a029-8a914912b41e"
      },
      "source": [
        "n=int(input(\"write a number : \"))\n",
        "liste = [1, 2, 3, 4, 5, 6, 7]\n",
        "print(liste)\n",
        "while n > 0:\n",
        "    liste.insert(0, liste.pop())\n",
        "    n -= 1\n",
        "print(liste)    "
      ],
      "execution_count": null,
      "outputs": [
        {
          "output_type": "stream",
          "name": "stdout",
          "text": [
            "write a number :  5\n",
            "[1, 2, 3, 4, 5, 6, 7]\n",
            "[3, 4, 5, 6, 7, 1, 2]\n"
          ]
        }
      ]
    },
    {
      "cell_type": "code",
      "metadata": {
        "id": "6mUuYFvZDiLY",
        "colab": {
          "base_uri": "https://localhost:8080/"
        },
        "outputId": "068ee24b-6228-47fe-abf1-dbf98035d81d"
      },
      "source": [
        "#Username and Password Login\n",
        "\n",
        "defusername = \"Michael\"\n",
        "defpassword =\"1234\"\n",
        "\n",
        "name = input(\"Write User Name: \")\n",
        "code = input(\"Write Password: \")\n",
        "\n",
        "if ((defusername == name) and (defpassword == code)):\n",
        "  print(\"Welcome Your Account\")\n",
        "elif ((defusername != name) and (defpassword == code)): \n",
        "  print(\"Wrong User Name\")\n",
        "elif ((defusername == name) and (defpassword != code)):\n",
        "  print(\"Did You Forget Password\")\n",
        "else:\n",
        "  print(\"Try Again\")"
      ],
      "execution_count": null,
      "outputs": [
        {
          "output_type": "stream",
          "name": "stdout",
          "text": [
            "Write User Name: ajjsks\n",
            "Write Password: jdkd\n",
            "Try Again\n"
          ]
        }
      ]
    },
    {
      "cell_type": "code",
      "metadata": {
        "id": "FEeTWQ8MDiFV",
        "colab": {
          "base_uri": "https://localhost:8080/"
        },
        "outputId": "ef086a13-a254-414a-be37-9b9e5b841816"
      },
      "source": [
        "name = input(\"What is your name: \").split()\n",
        "abbre = len(name)\n",
        "\n",
        "if abbre == 2:\n",
        "  print(f\"{name[0][0].upper()}.{name[1].capitalize()}\")\n",
        "elif abbre == 3:\n",
        "  print(f\"{name[0][0].upper()}.{name[1][0].upper()}.{name[2].capitalize()}\")\n",
        "else:\n",
        "  print(\"Try Again!\") "
      ],
      "execution_count": null,
      "outputs": [
        {
          "output_type": "stream",
          "name": "stdout",
          "text": [
            "What is your name: ahmet ali ata\n",
            "A.A.Ata\n"
          ]
        }
      ]
    },
    {
      "cell_type": "code",
      "metadata": {
        "id": "9QIxoDb1YdT9",
        "colab": {
          "base_uri": "https://localhost:8080/"
        },
        "outputId": "cb952de9-5b84-4f44-aa57-1c1d3a19c9f2"
      },
      "source": [
        "name = list(map(str.title, input(\"\").split()))\n",
        "print(\"{}.{}.{}\".format(name[0][0],name[1][0],name[2]))"
      ],
      "execution_count": null,
      "outputs": [
        {
          "output_type": "stream",
          "name": "stdout",
          "text": [
            "ali ahmet kaya\n",
            "A.A.Kaya\n"
          ]
        }
      ]
    },
    {
      "cell_type": "code",
      "metadata": {
        "id": "tmIAUOCiYdRe",
        "colab": {
          "base_uri": "https://localhost:8080/"
        },
        "outputId": "c29fc91f-4e37-4d24-d66e-15e5ffbbfcab"
      },
      "source": [
        "#Write a program that takes a maximum two-digit (1-99)\n",
        "# number from the user and finds the pronunciation of that number.\n",
        "#For example:\n",
        "#İnput:97\n",
        "#Output:Doksan Yedi\n",
        "\n",
        "s = int(input(\"Please enter max two digit number: \"))\n",
        "dic = {1:\"One\", 2:\"Two\", 3:\"Three\", 4:\"Four\", 5:\"Five\", 6:\"Six\", 7:\"Seven\",\n",
        "8:\"Eight\", 9:\"Nine\", 10:\"Ten\", 20:\"Twenty\", 30:\"Thirty\", 40:\"Forty\", 50:\"Fifty\",\n",
        " 60:\"Sixty\", 70:\"Seventy\", 80:\"Eighty\", 90:\"Ninty\"}\n",
        "if s<=10:\n",
        "  print(dic[s])\n",
        "else:\n",
        "  print(dic[s - s%10], dic[s%10])"
      ],
      "execution_count": null,
      "outputs": [
        {
          "output_type": "stream",
          "name": "stdout",
          "text": [
            "Please enter max two digit number: 55\n",
            "Fifty Five\n"
          ]
        }
      ]
    },
    {
      "cell_type": "code",
      "metadata": {
        "id": "1ZaJruatYdOm",
        "colab": {
          "base_uri": "https://localhost:8080/"
        },
        "outputId": "a378bc52-737d-4251-9895-805c7d1a645c"
      },
      "source": [
        "for x in range(1, 50):\n",
        "  for y in range(x, 50):\n",
        "    for z in range(y, 50):\n",
        "      if x ** 2 + y ** 2 == z ** 2:\n",
        "        print(x,y,z)"
      ],
      "execution_count": null,
      "outputs": [
        {
          "output_type": "stream",
          "name": "stdout",
          "text": [
            "3 4 5\n",
            "5 12 13\n",
            "6 8 10\n",
            "7 24 25\n",
            "8 15 17\n",
            "9 12 15\n",
            "9 40 41\n",
            "10 24 26\n",
            "12 16 20\n",
            "12 35 37\n",
            "15 20 25\n",
            "15 36 39\n",
            "16 30 34\n",
            "18 24 30\n",
            "20 21 29\n",
            "21 28 35\n",
            "24 32 40\n",
            "27 36 45\n"
          ]
        }
      ]
    },
    {
      "cell_type": "code",
      "metadata": {
        "id": "09tQ2ooeYdL4",
        "colab": {
          "base_uri": "https://localhost:8080/"
        },
        "outputId": "becf2d5a-01c1-4782-d440-9cc981f94f73"
      },
      "source": [
        "string = input(\"Write a string: \")\n",
        "string = string[::2]\n",
        "print(string)"
      ],
      "execution_count": null,
      "outputs": [
        {
          "output_type": "stream",
          "name": "stdout",
          "text": [
            "Write a string: araba\n",
            "aaa\n"
          ]
        }
      ]
    },
    {
      "cell_type": "code",
      "metadata": {
        "id": "dh3PkKCyYdJL",
        "colab": {
          "base_uri": "https://localhost:8080/"
        },
        "outputId": "5f2f75f4-df9c-42bc-c10c-a6445f955f3e"
      },
      "source": [
        "word = input(\"\")\n",
        "new_word = \"\"\n",
        "for i in range(len(word)):\n",
        "  if i % 2 == 0:\n",
        "    new_word += word[i]\n",
        "print(new_word)"
      ],
      "execution_count": null,
      "outputs": [
        {
          "output_type": "stream",
          "name": "stdout",
          "text": [
            "kasaba\n",
            "ksb\n"
          ]
        }
      ]
    },
    {
      "cell_type": "code",
      "metadata": {
        "id": "_W7vU-xuBPO3",
        "colab": {
          "base_uri": "https://localhost:8080/"
        },
        "outputId": "4fe9eadb-7c11-4879-fd84-db4ac9f5d52b"
      },
      "source": [
        "list = list(map(int, input(\"Enter your numbers seperate with space: \").split()))\n",
        "sets = set(list)\n",
        "if len(list) == len(sets):\n",
        "    print(\"All numbers are different each others\")\n",
        "else:\n",
        "    print(\"Some of the given numbers are the same\")       "
      ],
      "execution_count": null,
      "outputs": [
        {
          "output_type": "stream",
          "name": "stdout",
          "text": [
            "Enter your numbers seperate with space: 5 8 9 12\n",
            "All numbers are different each others\n"
          ]
        }
      ]
    },
    {
      "cell_type": "code",
      "metadata": {
        "id": "AjjMTktgBPMl",
        "colab": {
          "base_uri": "https://localhost:8080/"
        },
        "outputId": "970cc859-e743-411b-eed6-219590315ef4"
      },
      "source": [
        "number = input(\"\")\n",
        "print(len(set(number)) == len(number))"
      ],
      "execution_count": null,
      "outputs": [
        {
          "output_type": "stream",
          "name": "stdout",
          "text": [
            "45820\n",
            "True\n"
          ]
        }
      ]
    },
    {
      "cell_type": "code",
      "metadata": {
        "id": "SnJxMq2_BPKD",
        "colab": {
          "base_uri": "https://localhost:8080/"
        },
        "outputId": "04b37012-11b3-4dfe-c71e-d54ae66a7efc"
      },
      "source": [
        "str = input(\"\").lower()\n",
        "print(str[::] == str[::-1])"
      ],
      "execution_count": null,
      "outputs": [
        {
          "output_type": "stream",
          "name": "stdout",
          "text": [
            "kazak\n",
            "True\n"
          ]
        }
      ]
    },
    {
      "cell_type": "code",
      "metadata": {
        "id": "6BDpa_ASBPHt",
        "colab": {
          "base_uri": "https://localhost:8080/"
        },
        "outputId": "928864c2-2b17-4848-b1bd-24084ebc934e"
      },
      "source": [
        "#Exercise -33\n",
        "#You are given a string .\n",
        "#Your task is to find out if the string  contains: alphanumeric characters, alphabetical characters, digits, lowercase and uppercase characters.\n",
        "#Input Format\n",
        "#A single line containing a string .\n",
        "#Output Format\n",
        "#In the first line, print True if  has any alphanumeric characters. Otherwise, print False.\n",
        "#In the second line, print True if  has any alphabetical characters. Otherwise, print False.\n",
        "#In the third line, print True if  has any digits. Otherwise, print False.\n",
        "#In the fourth line, print True if  has any lowercase characters. Otherwise, print False.\n",
        "#In the fifth line, print True if  has any uppercase characters. Otherwise, print False.\n",
        "text = input(\"\")\n",
        "print(any(i.isalnum() for i in text))\n",
        "print(any(i.isalpha() for i in text))\n",
        "print(any(i.isdigit() for i in text))\n",
        "print(any(i.islower() for i in text))\n",
        "print(any(i.isupper() for i in text))"
      ],
      "execution_count": null,
      "outputs": [
        {
          "output_type": "stream",
          "name": "stdout",
          "text": [
            "aksiARC456FF\n",
            "True\n",
            "True\n",
            "True\n",
            "True\n",
            "True\n"
          ]
        }
      ]
    },
    {
      "cell_type": "code",
      "metadata": {
        "id": "mH2Sk-0bBPFB",
        "colab": {
          "base_uri": "https://localhost:8080/"
        },
        "outputId": "aee45b82-8b49-48d8-b598-a5be5d6eb433"
      },
      "source": [
        "#kullanıcıdan 3 sayı ve bir n sayısı girilmesi isteniyor. alınan sayıların her\n",
        "#birinden 0 dan kendisine kadar oluşan kombinasyonlar yapacağız ancak eğer \n",
        "#listedeki sayıların toplamı n sayısına eşit olursa o listeyi pas geçip \n",
        "#yazdırmayacağız.\n",
        "x, y, z, n = int(input(\"\")), int(input(\"\")), int(input(\"\")), int(input(\"\"))\n",
        "ls = []\n",
        "for i in range(1,x +1) :\n",
        "  for j in range(1,y + 1) :\n",
        "    for k in range(1,z + 1) :\n",
        "      if i + j + k != n :\n",
        "        ls.append([i,j,k])\n",
        "print(ls)"
      ],
      "execution_count": null,
      "outputs": [
        {
          "output_type": "stream",
          "name": "stdout",
          "text": [
            "2\n",
            "3\n",
            "4\n",
            "5\n",
            "[[1, 1, 1], [1, 1, 2], [1, 1, 4], [1, 2, 1], [1, 2, 3], [1, 2, 4], [1, 3, 2], [1, 3, 3], [1, 3, 4], [2, 1, 1], [2, 1, 3], [2, 1, 4], [2, 2, 2], [2, 2, 3], [2, 2, 4], [2, 3, 1], [2, 3, 2], [2, 3, 3], [2, 3, 4]]\n"
          ]
        }
      ]
    },
    {
      "cell_type": "code",
      "metadata": {
        "id": "5JXERmeTO7Q1",
        "colab": {
          "base_uri": "https://localhost:8080/"
        },
        "outputId": "10afb9a6-ca8f-46b7-8f40-0f7340c23476"
      },
      "source": [
        "list1=[0,1,2,3,4,5,6,7,8,9]\n",
        "list2=[1,2,3,5]\n",
        "set1=set(list1)\n",
        "set2=set(list2)\n",
        "print(set1.difference(set2))"
      ],
      "execution_count": null,
      "outputs": [
        {
          "output_type": "stream",
          "name": "stdout",
          "text": [
            "{0, 4, 6, 7, 8, 9}\n"
          ]
        }
      ]
    },
    {
      "cell_type": "code",
      "metadata": {
        "id": "RClP2S_GbPHx",
        "colab": {
          "base_uri": "https://localhost:8080/"
        },
        "outputId": "9ac218d3-7799-4a37-99af-e12caca79d5b"
      },
      "source": [
        "#Exercise- 36 : A number is said to be Harshad if it's exactly divisible by the \n",
        "#sum of its digits. Create a code that determines whether a number is a Harshad\n",
        "#or not.\n",
        "num = input(\"\")\n",
        "print(int(num) % sum([int(i) for i in num]) == 0)"
      ],
      "execution_count": null,
      "outputs": [
        {
          "output_type": "stream",
          "name": "stdout",
          "text": [
            "412\n",
            "False\n"
          ]
        }
      ]
    },
    {
      "cell_type": "code",
      "metadata": {
        "id": "1rZG1OpTQ8uO",
        "colab": {
          "base_uri": "https://localhost:8080/"
        },
        "outputId": "cf9583f5-ff38-48df-930c-5553969a6fb4"
      },
      "source": [
        "num = input(\"\")\n",
        "sum = 0\n",
        "for i in num:\n",
        "  i = int(i)\n",
        "  sum += i\n",
        "if int(num) % sum == 0:\n",
        "  print(True)\n",
        "else:\n",
        "  print(False)\n",
        "\n",
        " "
      ],
      "execution_count": null,
      "outputs": [
        {
          "output_type": "stream",
          "name": "stdout",
          "text": [
            "10\n",
            "True\n"
          ]
        }
      ]
    },
    {
      "cell_type": "code",
      "metadata": {
        "id": "NHPlvKQSQ8pP",
        "colab": {
          "base_uri": "https://localhost:8080/"
        },
        "outputId": "ef09953e-2e9e-4d5a-f720-05ff000a2afe"
      },
      "source": [
        "#Exercise 37\n",
        "#Try to find out if a number you get from the user is perfect.\n",
        "#A number is called a \"perfect number\" if the sum of its divisors is \n",
        "#equal to \n",
        "#itself. For example, 6 is a perfect number. (1 + 2 + 3 = 6)\n",
        "\n",
        "num = int(input(\"\"))\n",
        "total = 0\n",
        "for i in range(1,num) :\n",
        "  if num % i == 0 :\n",
        "    total += i\n",
        "if total == num :\n",
        "  print(\"{} is a perfect number.\".format(num))\n",
        "else :\n",
        "  print(\"{} is not a perfect number.\".format(num))"
      ],
      "execution_count": null,
      "outputs": [
        {
          "output_type": "stream",
          "name": "stdout",
          "text": [
            "25\n",
            "25 is not a perfect number.\n"
          ]
        }
      ]
    },
    {
      "cell_type": "code",
      "metadata": {
        "id": "WCUOT3J1Q8mT",
        "colab": {
          "base_uri": "https://localhost:8080/"
        },
        "outputId": "da347af9-f30a-4109-d60f-d6e1dd8531a0"
      },
      "source": [
        "l1= [12, 15, 25, 44, 9]\n",
        "l2 = [\"New York\" , \"Alabama\", \"Hawaii\", \"Vermont\", \"Virginia\"]\n",
        "l3 = list(zip(l1, l2))\n",
        "print(l3)"
      ],
      "execution_count": null,
      "outputs": [
        {
          "output_type": "stream",
          "name": "stdout",
          "text": [
            "[(12, 'New York'), (15, 'Alabama'), (25, 'Hawaii'), (44, 'Vermont'), (9, 'Virginia')]\n"
          ]
        }
      ]
    },
    {
      "cell_type": "code",
      "metadata": {
        "id": "ZR8tCDqTQ8i1",
        "colab": {
          "base_uri": "https://localhost:8080/"
        },
        "outputId": "cb71ab90-3e75-455d-e4e2-93b3fa2035d3"
      },
      "source": [
        "list1 = [195, 488, 142, 626, 180]\n",
        "list2 = [\"New York\", \"Alabama\", \"Hawaii\", \"Vermont\", \"West Virginia\"]\n",
        "list_merged = []\n",
        "i = 0\n",
        "while(i < len(list1) and i < len(list2)):\n",
        "    list_merged.append((list1[i], list2[i]))\n",
        "    i += 1\n",
        "print(list_merged)  "
      ],
      "execution_count": null,
      "outputs": [
        {
          "output_type": "stream",
          "name": "stdout",
          "text": [
            "[(195, 'New York'), (488, 'Alabama'), (142, 'Hawaii'), (626, 'Vermont'), (180, 'West Virginia')]\n"
          ]
        }
      ]
    },
    {
      "cell_type": "code",
      "metadata": {
        "colab": {
          "base_uri": "https://localhost:8080/"
        },
        "id": "ijs9nOohBPCP",
        "outputId": "6634bd0c-f198-433a-ec10-f99a6af4cd1c"
      },
      "source": [
        "# Lovesme or Loves me not\n",
        "n = int(input(\"\"))\n",
        "papatya = [\"Loves me\", \"Loves me not\" ]\n",
        "yeni_papatya = []\n",
        "if n == 1 :\n",
        "  print(papatya[0].upper())\n",
        "else:\n",
        "  for i in range(1,n + 1) :\n",
        "    if i % 2 == 1 :\n",
        "      yeni_papatya += [papatya[0]]\n",
        "    elif i % 2 == 0 :\n",
        "      yeni_papatya += [papatya[1]]\n",
        "  yeni_papatya  = yeni_papatya[:-1] + [yeni_papatya[-1].upper()]\n",
        "  print(\", \".join(yeni_papatya))"
      ],
      "execution_count": null,
      "outputs": [
        {
          "output_type": "stream",
          "name": "stdout",
          "text": [
            "4\n",
            "Loves me, Loves me not, Loves me, LOVES ME NOT\n"
          ]
        }
      ]
    },
    {
      "cell_type": "code",
      "metadata": {
        "colab": {
          "base_uri": "https://localhost:8080/"
        },
        "id": "F_UbGHCjriJf",
        "outputId": "793f3b59-3740-4b8e-c85e-df65f120197b"
      },
      "source": [
        "right_hand = {\"u\", \"ı\", \"o\", \"p\", \"ğ\", \"ü\", \"h\", \"j\", \"k\", \"l\", \"ş\", \"i\", \"n\", \"m\", \"ö\", \"ç\"}\n",
        "left_hand = {\"q\", \"w\", \"e\", \"r\", \"t\", \"y\", \"a\", \"s\", \"d\", \"f\", \"g\", \"z\", \"x\", \"c\", \"v\", \"b\"}\n",
        "word = set(input(\"please write a word: \"))\n",
        "print(word.intersection(right_hand) and word.intersection(left_hand) and True or False)"
      ],
      "execution_count": null,
      "outputs": [
        {
          "output_type": "stream",
          "name": "stdout",
          "text": [
            "please write a word: michael\n",
            "True\n"
          ]
        }
      ]
    },
    {
      "cell_type": "code",
      "metadata": {
        "colab": {
          "base_uri": "https://localhost:8080/"
        },
        "id": "27fC08w_rpaW",
        "outputId": "ace06814-d736-4e67-c8a6-3327e665bb81"
      },
      "source": [
        "l1 = [1,3,5,7]\n",
        "l2 = [1,5,8,1]\n",
        "print(l1[0]==l2[0] or l1[-1] == l2[-1])"
      ],
      "execution_count": null,
      "outputs": [
        {
          "output_type": "stream",
          "name": "stdout",
          "text": [
            "True\n"
          ]
        }
      ]
    },
    {
      "cell_type": "code",
      "metadata": {
        "id": "o2Bxp_surpLi",
        "colab": {
          "base_uri": "https://localhost:8080/"
        },
        "outputId": "61fa0c2f-2b77-42ca-e977-e8d60ff08602"
      },
      "source": [
        "a , b = int(input(\"a kenar uzunlugu: \")), int(input(\"b kenar uzunlugu: \"))\n",
        "c = (a**2 + b**2)**0.5\n",
        "print(c)\n"
      ],
      "execution_count": null,
      "outputs": [
        {
          "output_type": "stream",
          "name": "stdout",
          "text": [
            "a kenar uzunlugu: 8\n",
            "b kenar uzunlugu: 12\n",
            "14.422205101855956\n"
          ]
        }
      ]
    },
    {
      "cell_type": "code",
      "metadata": {
        "id": "TCMKGcfSj2gX",
        "colab": {
          "base_uri": "https://localhost:8080/"
        },
        "outputId": "3445d629-c5c5-4f40-ddd9-d82806aed0b9"
      },
      "source": [
        "num_list = [4, 8, 18, 55, 35, 67]\n",
        "n = int(input(\"my number: \"))\n",
        "for i in num_list:\n",
        "  if n < i:\n",
        "    print(str(n), \" is smaller at least one of num_list\")\n",
        "print(str(n), \" is bigger than all numbers in num_list\")"
      ],
      "execution_count": null,
      "outputs": [
        {
          "output_type": "stream",
          "name": "stdout",
          "text": [
            "my number: 88\n",
            "88  is bigger than all numbers in num_list\n"
          ]
        }
      ]
    },
    {
      "cell_type": "code",
      "metadata": {
        "id": "0rHcuy9tj2dY",
        "colab": {
          "base_uri": "https://localhost:8080/"
        },
        "outputId": "7aedec0d-36ac-43cc-df8c-dde88c78ecf2"
      },
      "source": [
        "x = int(input(\"\"))\n",
        "faktorial = 1\n",
        "for i in range(1, x+1):\n",
        "  faktorial *=i\n",
        "print(faktorial)"
      ],
      "execution_count": null,
      "outputs": [
        {
          "output_type": "stream",
          "name": "stdout",
          "text": [
            "8\n",
            "40320\n"
          ]
        }
      ]
    },
    {
      "cell_type": "code",
      "metadata": {
        "id": "7e98fP7Pj2ZX",
        "colab": {
          "base_uri": "https://localhost:8080/"
        },
        "outputId": "11e6c826-86f0-4874-cfb5-4ed5f9420dd5"
      },
      "source": [
        "toys_number, budget = list(map(int, input(\"\").split()))\n",
        "prices = list(map(int, input(\"\").split()))\n",
        "count = 0\n",
        "total = 0\n",
        "\n",
        "for i in sorted(prices) :\n",
        "  if total + i <= k :\n",
        "    count +=1\n",
        "    total +=i\n",
        "  else:\n",
        "    break\n",
        "print(count)"
      ],
      "execution_count": null,
      "outputs": [
        {
          "output_type": "stream",
          "name": "stdout",
          "text": [
            "5 50\n",
            "22 33 55 62 14\n",
            "2\n"
          ]
        }
      ]
    },
    {
      "cell_type": "code",
      "metadata": {
        "id": "KG2yspgYj2Wt",
        "colab": {
          "base_uri": "https://localhost:8080/"
        },
        "outputId": "d0a79a36-dbe6-4e4d-e541-3bd90cf90c88"
      },
      "source": [
        "n=int(input(\"Enter no of rows:\"))\n",
        "print('\\n')\n",
        "a=[]\n",
        "for i in range(n):\n",
        "  \n",
        "    a.append([])\n",
        "    a[i].append(1)\n",
        "    for j in range (1,i):\n",
        "        a[i].append(a[i-1][j-1]+a[i-1][j])\n",
        "    if (n!=0):\n",
        "        a[i].append(1)\n",
        "for i in range(n):\n",
        "    print(\"    \"*(n-i),end=\" \",sep=\" \")\n",
        "    for j in range(0,i+1):\n",
        "        print(\"{0:6}\".format(a[i][j]),end=\" \",sep=\" \")\n",
        "    print()"
      ],
      "execution_count": null,
      "outputs": [
        {
          "output_type": "stream",
          "name": "stdout",
          "text": [
            "Enter no of rows:6\n",
            "\n",
            "\n",
            "                              1 \n",
            "                          1      1 \n",
            "                      1      2      1 \n",
            "                  1      3      3      1 \n",
            "              1      4      6      4      1 \n",
            "          1      5     10     10      5      1 \n"
          ]
        }
      ]
    },
    {
      "cell_type": "code",
      "metadata": {
        "id": "n6zzlilyj2UT",
        "colab": {
          "base_uri": "https://localhost:8080/"
        },
        "outputId": "f51f0fd9-d91c-416b-b11f-0e3b59190428"
      },
      "source": [
        "num = 6\n",
        "liste = []\n",
        "for i in range(1,num+1):\n",
        "  sayac = 0\n",
        "  liste1 = []\n",
        "  for j in liste:\n",
        "    liste1.append(sayac + j)\n",
        "    sayac = j\n",
        "  liste1.append(1)\n",
        "  liste = liste1\n",
        "  print(liste)"
      ],
      "execution_count": null,
      "outputs": [
        {
          "output_type": "stream",
          "name": "stdout",
          "text": [
            "[1]\n",
            "[1, 1]\n",
            "[1, 2, 1]\n",
            "[1, 3, 3, 1]\n",
            "[1, 4, 6, 4, 1]\n",
            "[1, 5, 10, 10, 5, 1]\n"
          ]
        }
      ]
    },
    {
      "cell_type": "code",
      "metadata": {
        "id": "Y78PlyBPj2R4",
        "colab": {
          "base_uri": "https://localhost:8080/"
        },
        "outputId": "450947a9-cbde-477a-e2fb-69ea71abacc3"
      },
      "source": [
        "start, end, incr = list(map(int, input(\"\").split()))\n",
        "print(*range(start, end, incr))"
      ],
      "execution_count": null,
      "outputs": [
        {
          "output_type": "stream",
          "name": "stdout",
          "text": [
            "0 12 3\n",
            "0 3 6 9\n"
          ]
        }
      ]
    },
    {
      "cell_type": "code",
      "metadata": {
        "id": "irg2X__zj2PS",
        "colab": {
          "base_uri": "https://localhost:8080/"
        },
        "outputId": "3c74d0bc-aa56-4c13-bfbb-f002a873a8c7"
      },
      "source": [
        "#Write a program that shows which letter is used how many times in the text \n",
        "#received from the user.\n",
        "text = input(\"Write a text: \")\n",
        "my_dict = {}\n",
        "\n",
        "for i in text:\n",
        "  if i in my_dict:\n",
        "    my_dict[i] += 1\n",
        "  else:\n",
        "    my_dict[i] = 1\n",
        "for i, j in my_dict.items():\n",
        "  print(f\"The letter '{i}' occurs '{j} times\")\n"
      ],
      "execution_count": null,
      "outputs": [
        {
          "output_type": "stream",
          "name": "stdout",
          "text": [
            "Write a text: tente\n",
            "The letter 't' occurs '2 times\n",
            "The letter 'e' occurs '2 times\n",
            "The letter 'n' occurs '1 times\n"
          ]
        }
      ]
    },
    {
      "cell_type": "code",
      "metadata": {
        "id": "msfIjHAWj2KG",
        "colab": {
          "base_uri": "https://localhost:8080/"
        },
        "outputId": "d0685b4f-204c-4d75-f8d8-856d3efbfbbd"
      },
      "source": [
        "for i in range(100, 1000): \n",
        "  a = i % 10\n",
        "  b = i // 10 % 10\n",
        "  c = i // 100\n",
        "  if pow(a,3) + pow(b,3) + pow(c,3) == i:\n",
        "    print(i)"
      ],
      "execution_count": null,
      "outputs": [
        {
          "output_type": "stream",
          "name": "stdout",
          "text": [
            "153\n",
            "370\n",
            "371\n",
            "407\n"
          ]
        }
      ]
    },
    {
      "cell_type": "code",
      "metadata": {
        "id": "gTbAPsr2j2HD",
        "colab": {
          "base_uri": "https://localhost:8080/"
        },
        "outputId": "fa883807-00f1-4f56-fc91-5289b0678418"
      },
      "source": [
        "a, b = 0, 1\n",
        "fibonacci = [a, b]\n",
        "for i in range(98) :\n",
        "  a, b = b , a + b\n",
        "  fibonacci += [b]\n",
        "print(fibonacci)\n",
        "print(len(fibonacci))"
      ],
      "execution_count": null,
      "outputs": [
        {
          "output_type": "stream",
          "name": "stdout",
          "text": [
            "[0, 1, 1, 2, 3, 5, 8, 13, 21, 34, 55, 89, 144, 233, 377, 610, 987, 1597, 2584, 4181, 6765, 10946, 17711, 28657, 46368, 75025, 121393, 196418, 317811, 514229, 832040, 1346269, 2178309, 3524578, 5702887, 9227465, 14930352, 24157817, 39088169, 63245986, 102334155, 165580141, 267914296, 433494437, 701408733, 1134903170, 1836311903, 2971215073, 4807526976, 7778742049, 12586269025, 20365011074, 32951280099, 53316291173, 86267571272, 139583862445, 225851433717, 365435296162, 591286729879, 956722026041, 1548008755920, 2504730781961, 4052739537881, 6557470319842, 10610209857723, 17167680177565, 27777890035288, 44945570212853, 72723460248141, 117669030460994, 190392490709135, 308061521170129, 498454011879264, 806515533049393, 1304969544928657, 2111485077978050, 3416454622906707, 5527939700884757, 8944394323791464, 14472334024676221, 23416728348467685, 37889062373143906, 61305790721611591, 99194853094755497, 160500643816367088, 259695496911122585, 420196140727489673, 679891637638612258, 1100087778366101931, 1779979416004714189, 2880067194370816120, 4660046610375530309, 7540113804746346429, 12200160415121876738, 19740274219868223167, 31940434634990099905, 51680708854858323072, 83621143489848422977, 135301852344706746049, 218922995834555169026]\n",
            "100\n"
          ]
        }
      ]
    },
    {
      "cell_type": "code",
      "metadata": {
        "colab": {
          "base_uri": "https://localhost:8080/"
        },
        "id": "SNJWjmYTsJLu",
        "outputId": "11176289-7fed-4344-cb7e-feee28953564"
      },
      "source": [
        "ways = \"DDUUUUDD\"\n",
        "sea_level = field = 0\n",
        "\n",
        "for i in ways :\n",
        "  if ways == \"U\":\n",
        "    sea_level += 1\n",
        "  else:\n",
        "    sea_level -= 1\n",
        "  if i == \"U\" and sea_level == 0:\n",
        "    field += 1\n",
        "print(field)"
      ],
      "execution_count": null,
      "outputs": [
        {
          "output_type": "stream",
          "name": "stdout",
          "text": [
            "0\n"
          ]
        }
      ]
    },
    {
      "cell_type": "code",
      "metadata": {
        "colab": {
          "base_uri": "https://localhost:8080/"
        },
        "id": "lSXbQEHisJJH",
        "outputId": "d0d48e24-e384-4998-9d81-d29a78dbe2da"
      },
      "source": [
        "s = input(\"\").split()\n",
        "print(f\"The last word of sentence is '{s[-1]}' and it has {len(s[-1])} letters.\")"
      ],
      "execution_count": null,
      "outputs": [
        {
          "output_type": "stream",
          "name": "stdout",
          "text": [
            "I want to be a developer.\n",
            "The last word of sentence is 'developer.' and it has 10 letters.\n"
          ]
        }
      ]
    },
    {
      "cell_type": "code",
      "metadata": {
        "colab": {
          "base_uri": "https://localhost:8080/"
        },
        "id": "jo9oNdSzsJGh",
        "outputId": "3ee2a31e-1266-4bd2-f3d4-e5b6f33a2464"
      },
      "source": [
        "liste1 = [9,9,9,9,9,9,9,9,9]\n",
        "liste2 = [9,9,9,9]\n",
        "\n",
        "str_liste1 = \"\".join([str(i) for i in liste1[::-1]])\n",
        "str_liste2= \"\".join([str(j) for j in liste2[::-1]])\n",
        "\n",
        "print(list(str(int(str_liste2) + int(str_liste1)))[::-1])"
      ],
      "execution_count": null,
      "outputs": [
        {
          "output_type": "stream",
          "name": "stdout",
          "text": [
            "['8', '9', '9', '9', '0', '0', '0', '0', '0', '1']\n"
          ]
        }
      ]
    },
    {
      "cell_type": "code",
      "metadata": {
        "id": "39tTTy05sJET"
      },
      "source": [
        ""
      ],
      "execution_count": null,
      "outputs": []
    },
    {
      "cell_type": "code",
      "metadata": {
        "id": "F1UyxYp6sJBR"
      },
      "source": [
        ""
      ],
      "execution_count": null,
      "outputs": []
    },
    {
      "cell_type": "code",
      "metadata": {
        "id": "Vd4mUxWfsI-a"
      },
      "source": [
        ""
      ],
      "execution_count": null,
      "outputs": []
    },
    {
      "cell_type": "code",
      "metadata": {
        "id": "s3c-IqZmsI7v"
      },
      "source": [
        ""
      ],
      "execution_count": null,
      "outputs": []
    }
  ]
}