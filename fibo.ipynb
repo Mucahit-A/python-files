{
  "nbformat": 4,
  "nbformat_minor": 0,
  "metadata": {
    "colab": {
      "name": "fibo.ipynb",
      "provenance": [],
      "authorship_tag": "ABX9TyMiC7gZ3i8QTIivwulPbiFo",
      "include_colab_link": true
    },
    "kernelspec": {
      "name": "python3",
      "display_name": "Python 3"
    },
    "language_info": {
      "name": "python"
    }
  },
  "cells": [
    {
      "cell_type": "markdown",
      "metadata": {
        "id": "view-in-github",
        "colab_type": "text"
      },
      "source": [
        "<a href=\"https://colab.research.google.com/github/Mucahit-A/python-files/blob/main/fibo.ipynb\" target=\"_parent\"><img src=\"https://colab.research.google.com/assets/colab-badge.svg\" alt=\"Open In Colab\"/></a>"
      ]
    },
    {
      "cell_type": "code",
      "metadata": {
        "colab": {
          "base_uri": "https://localhost:8080/"
        },
        "id": "9G3Lj9Ptd00-",
        "outputId": "808b3234-a9bf-4f77-cac4-73a351947f6c"
      },
      "source": [
        "fibo = []\n",
        "\n",
        "fibo.append(1)\n",
        "fibo.append(1)\n",
        "#fibo = [1, 1]\n",
        "for i in range(2, 55):\n",
        "  fibo.append(fibo[i - 2] + fibo[i - 1])\n",
        "  if max(fibo) == 55:\n",
        "    break\n",
        "print(fibo)"
      ],
      "execution_count": 4,
      "outputs": [
        {
          "output_type": "stream",
          "name": "stdout",
          "text": [
            "[1, 1, 2, 3, 5, 8, 13, 21, 34, 55]\n"
          ]
        }
      ]
    },
    {
      "cell_type": "code",
      "metadata": {
        "id": "KCeoe9wfo3Eu"
      },
      "source": [
        ""
      ],
      "execution_count": null,
      "outputs": []
    }
  ]
}