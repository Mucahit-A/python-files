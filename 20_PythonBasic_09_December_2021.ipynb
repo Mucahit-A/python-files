{
  "cells": [
    {
      "cell_type": "markdown",
      "metadata": {
        "id": "view-in-github",
        "colab_type": "text"
      },
      "source": [
        "<a href=\"https://colab.research.google.com/github/Mucahit-A/python-files/blob/main/20_PythonBasic_09_December_2021.ipynb\" target=\"_parent\"><img src=\"https://colab.research.google.com/assets/colab-badge.svg\" alt=\"Open In Colab\"/></a>"
      ]
    },
    {
      "cell_type": "markdown",
      "id": "22263af8",
      "metadata": {
        "id": "22263af8"
      },
      "source": [
        "<h1><p style=\"text-align: center; color:darkblue\">Python In-Class, <br>09 December 2021</p><h1>"
      ]
    },
    {
      "cell_type": "code",
      "execution_count": null,
      "id": "ec16cc90",
      "metadata": {
        "id": "ec16cc90"
      },
      "outputs": [],
      "source": [
        "command = [\"right 20\", \"right 30\", \"left 50\", \"up 10\", \"down 20\"]"
      ]
    },
    {
      "cell_type": "code",
      "execution_count": null,
      "id": "29bd2c1a",
      "metadata": {
        "id": "29bd2c1a",
        "outputId": "28ae72c5-3777-4b0d-d1b5-b10c0b98e963"
      },
      "outputs": [
        {
          "data": {
            "text/plain": [
              "['right 20', 'right 30', 'left 50', 'up 10', 'down 20']"
            ]
          },
          "execution_count": 2,
          "metadata": {},
          "output_type": "execute_result"
        }
      ],
      "source": [
        "command"
      ]
    },
    {
      "cell_type": "code",
      "execution_count": null,
      "id": "1aa9feb7",
      "metadata": {
        "id": "1aa9feb7"
      },
      "outputs": [],
      "source": [
        "x = y = 0"
      ]
    },
    {
      "cell_type": "code",
      "execution_count": null,
      "id": "5421511a",
      "metadata": {
        "id": "5421511a"
      },
      "outputs": [],
      "source": [
        "# [x, y]"
      ]
    },
    {
      "cell_type": "code",
      "execution_count": null,
      "id": "dc87c14a",
      "metadata": {
        "id": "dc87c14a",
        "outputId": "7d0ff56f-7ddd-4abc-f504-da8d2f21afbe"
      },
      "outputs": [
        {
          "data": {
            "text/plain": [
              "'down 20'"
            ]
          },
          "execution_count": 5,
          "metadata": {},
          "output_type": "execute_result"
        }
      ],
      "source": [
        "command[-1]"
      ]
    },
    {
      "cell_type": "code",
      "execution_count": null,
      "id": "53ad02f2",
      "metadata": {
        "id": "53ad02f2",
        "outputId": "2ccae06e-5554-437d-f0ea-60409491b4d1"
      },
      "outputs": [
        {
          "data": {
            "text/plain": [
              "5"
            ]
          },
          "execution_count": 6,
          "metadata": {},
          "output_type": "execute_result"
        }
      ],
      "source": [
        "len(command)"
      ]
    },
    {
      "cell_type": "code",
      "execution_count": null,
      "id": "622edb21",
      "metadata": {
        "id": "622edb21",
        "outputId": "dc23123c-5ecd-4cf4-9e07-88d6a329d64a"
      },
      "outputs": [
        {
          "data": {
            "text/plain": [
              "['down', '20']"
            ]
          },
          "execution_count": 7,
          "metadata": {},
          "output_type": "execute_result"
        }
      ],
      "source": [
        "command[-1].split()"
      ]
    },
    {
      "cell_type": "code",
      "execution_count": null,
      "id": "5a6b0b69",
      "metadata": {
        "id": "5a6b0b69",
        "outputId": "a1d1546c-e1b4-465d-9b62-1bfcc7e83f2f"
      },
      "outputs": [
        {
          "data": {
            "text/plain": [
              "'right 20'"
            ]
          },
          "execution_count": 8,
          "metadata": {},
          "output_type": "execute_result"
        }
      ],
      "source": [
        "command[0]"
      ]
    },
    {
      "cell_type": "code",
      "execution_count": null,
      "id": "b5a917d1",
      "metadata": {
        "id": "b5a917d1",
        "outputId": "def4e1b8-67b3-432a-c178-a361849ff083"
      },
      "outputs": [
        {
          "data": {
            "text/plain": [
              "'20'"
            ]
          },
          "execution_count": 10,
          "metadata": {},
          "output_type": "execute_result"
        }
      ],
      "source": [
        "command[0].split()[1]"
      ]
    },
    {
      "cell_type": "code",
      "execution_count": null,
      "id": "e06e985d",
      "metadata": {
        "id": "e06e985d",
        "outputId": "552fde3a-0654-4244-b280-0c64d4c7a1db"
      },
      "outputs": [
        {
          "data": {
            "text/plain": [
              "str"
            ]
          },
          "execution_count": 11,
          "metadata": {},
          "output_type": "execute_result"
        }
      ],
      "source": [
        "type(command[0].split()[1])"
      ]
    },
    {
      "cell_type": "code",
      "execution_count": null,
      "id": "62cd09f2",
      "metadata": {
        "id": "62cd09f2",
        "outputId": "efe0e6b1-ca62-4288-afc7-3a0b09a9cf58"
      },
      "outputs": [
        {
          "data": {
            "text/plain": [
              "[0, -10]"
            ]
          },
          "execution_count": 12,
          "metadata": {},
          "output_type": "execute_result"
        }
      ],
      "source": [
        "for i in range(len(command)) :\n",
        "    if command[i].startswith(\"r\") : x = x + int(command[i].split()[1]) \n",
        "    elif command[i].startswith(\"l\") : x = x - int(command[i].split()[1])\n",
        "    elif command[i].startswith(\"u\") : y = y + int(command[i].split()[1])\n",
        "    elif command[i].startswith(\"d\") : y = y - int(command[i].split()[1])\n",
        "        \n",
        "[x, y]"
      ]
    },
    {
      "cell_type": "markdown",
      "id": "b59a20ba",
      "metadata": {
        "id": "b59a20ba"
      },
      "source": [
        "## Valid Paranthesis"
      ]
    },
    {
      "cell_type": "markdown",
      "id": "ddf89ac8",
      "metadata": {
        "id": "ddf89ac8"
      },
      "source": [
        "```\n",
        "Input        Output\n",
        "--------:    ------:\n",
        "\"()\"         True\n",
        "\"()[]{}\"     True\n",
        "\"(]\"         False\n",
        "\"([)]\"       False\n",
        "\"{[]}\"       True\n",
        "\"\"           True\n",
        "```"
      ]
    },
    {
      "cell_type": "code",
      "execution_count": null,
      "id": "988f25a8",
      "metadata": {
        "id": "988f25a8"
      },
      "outputs": [],
      "source": [
        "\"([{({})}]({}))\""
      ]
    },
    {
      "cell_type": "code",
      "execution_count": null,
      "id": "1abf0e05",
      "metadata": {
        "id": "1abf0e05"
      },
      "outputs": [],
      "source": [
        "\"([{()}]())\""
      ]
    },
    {
      "cell_type": "code",
      "execution_count": null,
      "id": "27aaab59",
      "metadata": {
        "id": "27aaab59"
      },
      "outputs": [],
      "source": [
        "\"([{}])\""
      ]
    },
    {
      "cell_type": "code",
      "execution_count": null,
      "id": "89220672",
      "metadata": {
        "id": "89220672"
      },
      "outputs": [],
      "source": [
        "\"([])\""
      ]
    },
    {
      "cell_type": "code",
      "execution_count": null,
      "id": "54f8b52e",
      "metadata": {
        "id": "54f8b52e"
      },
      "outputs": [],
      "source": [
        "\"()\""
      ]
    },
    {
      "cell_type": "code",
      "execution_count": null,
      "id": "dfc4c8fe",
      "metadata": {
        "id": "dfc4c8fe"
      },
      "outputs": [],
      "source": [
        "\"\""
      ]
    },
    {
      "cell_type": "code",
      "execution_count": null,
      "id": "bd67c9b9",
      "metadata": {
        "id": "bd67c9b9"
      },
      "outputs": [],
      "source": [
        "\"[([{({})}]({}))\""
      ]
    },
    {
      "cell_type": "code",
      "execution_count": null,
      "id": "2c0328b2",
      "metadata": {
        "id": "2c0328b2"
      },
      "outputs": [],
      "source": [
        "\"[\""
      ]
    },
    {
      "cell_type": "code",
      "execution_count": null,
      "id": "6d279b03",
      "metadata": {
        "id": "6d279b03"
      },
      "outputs": [],
      "source": [
        "x = \"[([{({})}]({}))\""
      ]
    },
    {
      "cell_type": "code",
      "execution_count": null,
      "id": "d5f18dcf",
      "metadata": {
        "id": "d5f18dcf",
        "outputId": "5a05f85d-3b8b-488d-9159-9e6a1f316075"
      },
      "outputs": [
        {
          "data": {
            "text/plain": [
              "'ali+deli+veli'"
            ]
          },
          "execution_count": 14,
          "metadata": {},
          "output_type": "execute_result"
        }
      ],
      "source": [
        "\"ali-deli-veli\".replace(\"-\", \"+\")"
      ]
    },
    {
      "cell_type": "code",
      "execution_count": null,
      "id": "a63a4322",
      "metadata": {
        "id": "a63a4322",
        "outputId": "358ba831-a81a-45e3-c397-94e99bc9cba5"
      },
      "outputs": [
        {
          "data": {
            "text/plain": [
              "'ldelvel'"
            ]
          },
          "execution_count": 17,
          "metadata": {},
          "output_type": "execute_result"
        }
      ],
      "source": [
        "\"ali-deli-veli\".replace(\"-\", \"\").replace(\"a\", \"\").replace(\"i\", \"\")"
      ]
    },
    {
      "cell_type": "code",
      "execution_count": null,
      "id": "31a69d29",
      "metadata": {
        "id": "31a69d29"
      },
      "outputs": [],
      "source": [
        "def isValid(s) :\n",
        "    while \"()\" in s or \"[]\" in s or \"{}\" in s :\n",
        "        s = s.replace(\"()\", \"\").replace(\"[]\", \"\").replace(\"{}\", \"\")\n",
        "    return s == \"\""
      ]
    },
    {
      "cell_type": "code",
      "execution_count": null,
      "id": "2ab8efc3",
      "metadata": {
        "id": "2ab8efc3",
        "outputId": "f24e69e1-75fb-47e6-f3b6-0797f9398092"
      },
      "outputs": [
        {
          "data": {
            "text/plain": [
              "False"
            ]
          },
          "execution_count": 19,
          "metadata": {},
          "output_type": "execute_result"
        }
      ],
      "source": [
        "isValid(x)"
      ]
    },
    {
      "cell_type": "markdown",
      "id": "372fe9ce",
      "metadata": {
        "id": "372fe9ce"
      },
      "source": [
        "## Building a Calculator using `dict` with `lambda` Expression"
      ]
    },
    {
      "cell_type": "code",
      "execution_count": null,
      "id": "46bdeaec",
      "metadata": {
        "id": "46bdeaec",
        "outputId": "f3f82d79-9363-40a9-fd84-7ea24a2175f7"
      },
      "outputs": [
        {
          "data": {
            "text/plain": [
              "9"
            ]
          },
          "execution_count": 20,
          "metadata": {},
          "output_type": "execute_result"
        }
      ],
      "source": [
        "(lambda x, y : x + y)(4, 5)"
      ]
    },
    {
      "cell_type": "code",
      "execution_count": null,
      "id": "f9d29c67",
      "metadata": {
        "id": "f9d29c67"
      },
      "outputs": [],
      "source": [
        "bir_dikşinıri = {\"ne_diyorum\" : \"sesimi_duy\",\n",
        "                 \"neden\" : [\"bilmiyorum\"]}"
      ]
    },
    {
      "cell_type": "code",
      "execution_count": null,
      "id": "d462988a",
      "metadata": {
        "id": "d462988a",
        "outputId": "da7c1fd0-679d-4fcc-8fa3-9ab42573f7cb"
      },
      "outputs": [
        {
          "data": {
            "text/plain": [
              "['bilmiyorum']"
            ]
          },
          "execution_count": 22,
          "metadata": {},
          "output_type": "execute_result"
        }
      ],
      "source": [
        "bir_dikşinıri[\"neden\"]"
      ]
    },
    {
      "cell_type": "code",
      "execution_count": null,
      "id": "1553b6cb",
      "metadata": {
        "id": "1553b6cb",
        "outputId": "70f5f526-8fb4-4088-aa6c-cd19e5b16d39"
      },
      "outputs": [
        {
          "data": {
            "text/plain": [
              "<function __main__.<lambda>(x, y)>"
            ]
          },
          "execution_count": 26,
          "metadata": {},
          "output_type": "execute_result"
        }
      ],
      "source": [
        "(lambda x, y : x + y)"
      ]
    },
    {
      "cell_type": "code",
      "execution_count": null,
      "id": "0d159161",
      "metadata": {
        "id": "0d159161"
      },
      "outputs": [],
      "source": [
        "calculator = {\"+\" : (lambda x, y : x + y),\n",
        "              \"-\" : (lambda x, y : x - y),\n",
        "              \"*\" : (lambda x, y : x * y),\n",
        "              \"/\" : (lambda x, y : x / y)}"
      ]
    },
    {
      "cell_type": "code",
      "execution_count": null,
      "id": "4623b7e2",
      "metadata": {
        "id": "4623b7e2",
        "outputId": "ce040e70-f642-46b5-e88c-8526e2662838"
      },
      "outputs": [
        {
          "data": {
            "text/plain": [
              "<function __main__.<lambda>(x, y)>"
            ]
          },
          "execution_count": 25,
          "metadata": {},
          "output_type": "execute_result"
        }
      ],
      "source": [
        "calculator[\"+\"]"
      ]
    },
    {
      "cell_type": "code",
      "execution_count": null,
      "id": "cbcc3086",
      "metadata": {
        "id": "cbcc3086",
        "outputId": "8f60d7d8-e00c-416c-bec0-5ca3606ca9c6"
      },
      "outputs": [
        {
          "data": {
            "text/plain": [
              "9"
            ]
          },
          "execution_count": 27,
          "metadata": {},
          "output_type": "execute_result"
        }
      ],
      "source": [
        "calculator[\"+\"](4, 5)"
      ]
    },
    {
      "cell_type": "code",
      "execution_count": null,
      "id": "88629665",
      "metadata": {
        "id": "88629665",
        "outputId": "a3bc91fb-a6f1-44a3-b6a6-44999bbac896"
      },
      "outputs": [
        {
          "data": {
            "text/plain": [
              "10.0"
            ]
          },
          "execution_count": 28,
          "metadata": {},
          "output_type": "execute_result"
        }
      ],
      "source": [
        "calculator[\"/\"](20, 2)"
      ]
    },
    {
      "cell_type": "code",
      "execution_count": null,
      "id": "5d7428db",
      "metadata": {
        "id": "5d7428db"
      },
      "outputs": [],
      "source": [
        "import random"
      ]
    },
    {
      "cell_type": "code",
      "execution_count": null,
      "id": "8c0874cd",
      "metadata": {
        "id": "8c0874cd",
        "outputId": "d2e1e099-0c97-497e-cdf6-ace40befb140"
      },
      "outputs": [
        {
          "data": {
            "text/plain": [
              "24"
            ]
          },
          "execution_count": 30,
          "metadata": {},
          "output_type": "execute_result"
        }
      ],
      "source": [
        "random.randint(10,30)"
      ]
    },
    {
      "cell_type": "code",
      "execution_count": null,
      "id": "8c9fdcf2",
      "metadata": {
        "id": "8c9fdcf2",
        "outputId": "7489ac37-1a14-4500-8f19-16829ffc071a"
      },
      "outputs": [
        {
          "data": {
            "text/plain": [
              "'o'"
            ]
          },
          "execution_count": 33,
          "metadata": {},
          "output_type": "execute_result"
        }
      ],
      "source": [
        "chr(111)"
      ]
    },
    {
      "cell_type": "code",
      "execution_count": null,
      "id": "05393cf9",
      "metadata": {
        "id": "05393cf9",
        "outputId": "fe1b23b2-ddea-4124-f153-45ec1cd27b5e"
      },
      "outputs": [
        {
          "data": {
            "text/plain": [
              "'W'"
            ]
          },
          "execution_count": 35,
          "metadata": {},
          "output_type": "execute_result"
        }
      ],
      "source": [
        "chr(random.randint(65, 90))"
      ]
    },
    {
      "cell_type": "code",
      "execution_count": null,
      "id": "be0905e2",
      "metadata": {
        "id": "be0905e2",
        "outputId": "3580d894-c5cd-49e9-8fd2-ece4bd71b29d"
      },
      "outputs": [
        {
          "data": {
            "text/plain": [
              "'i'"
            ]
          },
          "execution_count": 36,
          "metadata": {},
          "output_type": "execute_result"
        }
      ],
      "source": [
        "chr(random.randint(97, 122))"
      ]
    },
    {
      "cell_type": "code",
      "execution_count": null,
      "id": "d6642732",
      "metadata": {
        "id": "d6642732",
        "outputId": "8c4671e2-a755-4626-ed7f-73522fe7654f"
      },
      "outputs": [
        {
          "data": {
            "text/plain": [
              "'2'"
            ]
          },
          "execution_count": 37,
          "metadata": {},
          "output_type": "execute_result"
        }
      ],
      "source": [
        "chr(random.randint(48, 57))"
      ]
    },
    {
      "cell_type": "code",
      "execution_count": null,
      "id": "d72bc36f",
      "metadata": {
        "id": "d72bc36f"
      },
      "outputs": [],
      "source": [
        "chr(random.randint(65, 90))"
      ]
    },
    {
      "cell_type": "code",
      "execution_count": null,
      "id": "33983294",
      "metadata": {
        "id": "33983294",
        "outputId": "4e009ac2-28f3-4905-da34-9b4859f793c3"
      },
      "outputs": [
        {
          "data": {
            "text/plain": [
              "','"
            ]
          },
          "execution_count": 38,
          "metadata": {},
          "output_type": "execute_result"
        }
      ],
      "source": [
        "chr(random.randint(33, 47))"
      ]
    },
    {
      "cell_type": "code",
      "execution_count": null,
      "id": "dc891ae1",
      "metadata": {
        "id": "dc891ae1",
        "outputId": "16574b74-bb8a-4519-b2c2-d2e320b04d3e"
      },
      "outputs": [
        {
          "data": {
            "text/plain": [
              "';'"
            ]
          },
          "execution_count": 39,
          "metadata": {},
          "output_type": "execute_result"
        }
      ],
      "source": [
        "chr(random.randint(58, 64))"
      ]
    },
    {
      "cell_type": "code",
      "execution_count": null,
      "id": "532da5e8",
      "metadata": {
        "id": "532da5e8",
        "outputId": "f5b0580d-0268-431a-af09-6e722243a817"
      },
      "outputs": [
        {
          "data": {
            "text/plain": [
              "['U', 'P', 'Q']"
            ]
          },
          "execution_count": 43,
          "metadata": {},
          "output_type": "execute_result"
        }
      ],
      "source": [
        "uppers = [chr(random.randint(65, 90)) for i in range(3)]\n",
        "uppers"
      ]
    },
    {
      "cell_type": "code",
      "execution_count": null,
      "id": "e0697f67",
      "metadata": {
        "id": "e0697f67",
        "outputId": "1f61a380-3bb8-4dec-9ee8-d10061449ba5"
      },
      "outputs": [
        {
          "data": {
            "text/plain": [
              "['g', 'y', 'm']"
            ]
          },
          "execution_count": 47,
          "metadata": {},
          "output_type": "execute_result"
        }
      ],
      "source": [
        "lowers = [chr(random.randint(97, 122)) for i in range(3)]\n",
        "lowers"
      ]
    },
    {
      "cell_type": "code",
      "execution_count": null,
      "id": "e06fe676",
      "metadata": {
        "id": "e06fe676",
        "outputId": "f4dc4657-d27c-427f-a2cf-7e5e9cbd35ba"
      },
      "outputs": [
        {
          "data": {
            "text/plain": [
              "['9', '6', '6']"
            ]
          },
          "execution_count": 50,
          "metadata": {},
          "output_type": "execute_result"
        }
      ],
      "source": [
        "numbers = [chr(random.randint(48,57)) for i in range(3)]\n",
        "numbers"
      ]
    },
    {
      "cell_type": "code",
      "execution_count": null,
      "id": "1a02c3da",
      "metadata": {
        "id": "1a02c3da",
        "outputId": "51bcdf48-aabe-48e8-deb2-c093a2a6c956"
      },
      "outputs": [
        {
          "data": {
            "text/plain": [
              "')>'"
            ]
          },
          "execution_count": 53,
          "metadata": {},
          "output_type": "execute_result"
        }
      ],
      "source": [
        "chars = chr(random.randint(33,47))+chr(random.randint(58,64))\n",
        "chars"
      ]
    },
    {
      "cell_type": "code",
      "execution_count": null,
      "id": "42ccdf65",
      "metadata": {
        "id": "42ccdf65",
        "outputId": "2cba907f-b041-4d0e-8d0c-d551c9a503f6"
      },
      "outputs": [
        {
          "data": {
            "text/plain": [
              "'966'"
            ]
          },
          "execution_count": 59,
          "metadata": {},
          "output_type": "execute_result"
        }
      ],
      "source": [
        "\"\".join(numbers)"
      ]
    },
    {
      "cell_type": "code",
      "execution_count": null,
      "id": "c573e699",
      "metadata": {
        "id": "c573e699",
        "outputId": "ed561b5d-7143-4b53-afdf-1a27cddba10c"
      },
      "outputs": [
        {
          "data": {
            "text/plain": [
              "'UPQgym966)>'"
            ]
          },
          "execution_count": 60,
          "metadata": {},
          "output_type": "execute_result"
        }
      ],
      "source": [
        "passw = \"\".join(uppers) + \"\".join(lowers) + \"\".join(numbers) + \"\".join(chars)\n",
        "passw"
      ]
    },
    {
      "cell_type": "code",
      "execution_count": null,
      "id": "d37496c9",
      "metadata": {
        "id": "d37496c9"
      },
      "outputs": [],
      "source": [
        "ornek = \"alivelideli\""
      ]
    },
    {
      "cell_type": "code",
      "execution_count": null,
      "id": "d651bb7d",
      "metadata": {
        "id": "d651bb7d"
      },
      "outputs": [],
      "source": [
        "random.shuffle()"
      ]
    },
    {
      "cell_type": "code",
      "execution_count": null,
      "id": "a7cd2732",
      "metadata": {
        "id": "a7cd2732"
      },
      "outputs": [],
      "source": [
        "ornek_list = list(ornek)"
      ]
    },
    {
      "cell_type": "code",
      "execution_count": null,
      "id": "9e3633ea",
      "metadata": {
        "id": "9e3633ea",
        "outputId": "1bd6f038-7a27-4474-956e-86f12e2793ae"
      },
      "outputs": [
        {
          "data": {
            "text/plain": [
              "['a', 'l', 'i', 'v', 'e', 'l', 'i', 'd', 'e', 'l', 'i']"
            ]
          },
          "execution_count": 66,
          "metadata": {},
          "output_type": "execute_result"
        }
      ],
      "source": [
        "ornek_list"
      ]
    },
    {
      "cell_type": "code",
      "execution_count": null,
      "id": "7ce3b9fe",
      "metadata": {
        "id": "7ce3b9fe"
      },
      "outputs": [],
      "source": [
        "random.shuffle(ornek_list)"
      ]
    },
    {
      "cell_type": "code",
      "execution_count": null,
      "id": "eac62ee8",
      "metadata": {
        "id": "eac62ee8",
        "outputId": "7c2eb3d2-72bd-45a3-91d4-c5f5e4e76382"
      },
      "outputs": [
        {
          "data": {
            "text/plain": [
              "['e', 'l', 'i', 'i', 'l', 'v', 'd', 'i', 'e', 'a', 'l']"
            ]
          },
          "execution_count": 68,
          "metadata": {},
          "output_type": "execute_result"
        }
      ],
      "source": [
        "ornek_list"
      ]
    },
    {
      "cell_type": "code",
      "execution_count": null,
      "id": "39b0d122",
      "metadata": {
        "id": "39b0d122",
        "outputId": "07b6759f-8fa0-4cfe-c0dc-af2a85ba5436"
      },
      "outputs": [
        {
          "data": {
            "text/plain": [
              "'eliilvdieal'"
            ]
          },
          "execution_count": 72,
          "metadata": {},
          "output_type": "execute_result"
        }
      ],
      "source": [
        "\"\".join(ornek_list)"
      ]
    },
    {
      "cell_type": "code",
      "execution_count": null,
      "id": "4fbd78f7",
      "metadata": {
        "id": "4fbd78f7"
      },
      "outputs": [],
      "source": [
        "def karıştır(password) :\n",
        "    templist = list(password)\n",
        "    random.shuffle(templist)\n",
        "    return \"\".join(templist)"
      ]
    },
    {
      "cell_type": "code",
      "execution_count": null,
      "id": "c925dc30",
      "metadata": {
        "id": "c925dc30",
        "outputId": "60c660dd-db62-43cc-9381-0724b6075714"
      },
      "outputs": [
        {
          "data": {
            "text/plain": [
              "'y)9U6gQ>m6P'"
            ]
          },
          "execution_count": 76,
          "metadata": {},
          "output_type": "execute_result"
        }
      ],
      "source": [
        "passw = karıştır(passw)\n",
        "passw"
      ]
    },
    {
      "cell_type": "code",
      "execution_count": null,
      "id": "08145161",
      "metadata": {
        "id": "08145161"
      },
      "outputs": [],
      "source": [
        "from timeit import timeit"
      ]
    },
    {
      "cell_type": "code",
      "execution_count": null,
      "id": "0a83dea1",
      "metadata": {
        "id": "0a83dea1"
      },
      "outputs": [],
      "source": [
        "def for_loop() :\n",
        "    \n",
        "    result = []\n",
        "    \n",
        "    for i in range(1000000) :\n",
        "        result.append(i)\n",
        "    return result"
      ]
    },
    {
      "cell_type": "code",
      "execution_count": null,
      "id": "8d7a4807",
      "metadata": {
        "id": "8d7a4807"
      },
      "outputs": [],
      "source": [
        "def list_comp() :\n",
        "    return [i for i in range(1000000)]"
      ]
    },
    {
      "cell_type": "code",
      "execution_count": null,
      "id": "9edd634b",
      "metadata": {
        "id": "9edd634b"
      },
      "outputs": [],
      "source": [
        "#size = 100\n",
        "\n",
        "time_for = timeit(for_loop, number = size)\n",
        "time_list_comp = timeit(list_comp, number = size)"
      ]
    },
    {
      "cell_type": "code",
      "execution_count": null,
      "id": "2aabdb04",
      "metadata": {
        "id": "2aabdb04",
        "outputId": "301864ac-6a4e-49a5-ea0b-317a78d8181a"
      },
      "outputs": [
        {
          "name": "stdout",
          "output_type": "stream",
          "text": [
            "List Comp. is 1.57 times faster than for loops.\n"
          ]
        }
      ],
      "source": [
        "print(f\"List Comp. is {round(time_for/time_list_comp, 2)} times faster than for loops.\")"
      ]
    },
    {
      "cell_type": "code",
      "execution_count": null,
      "id": "1f475dc3",
      "metadata": {
        "id": "1f475dc3"
      },
      "outputs": [],
      "source": [
        ""
      ]
    },
    {
      "cell_type": "code",
      "execution_count": null,
      "id": "202c2e23",
      "metadata": {
        "id": "202c2e23"
      },
      "outputs": [],
      "source": [
        ""
      ]
    }
  ],
  "metadata": {
    "kernelspec": {
      "display_name": "Python 3",
      "language": "python",
      "name": "python3"
    },
    "language_info": {
      "codemirror_mode": {
        "name": "ipython",
        "version": 3
      },
      "file_extension": ".py",
      "mimetype": "text/x-python",
      "name": "python",
      "nbconvert_exporter": "python",
      "pygments_lexer": "ipython3",
      "version": "3.8.8"
    },
    "colab": {
      "name": "20_PythonBasic_09-December-2021.ipynb",
      "provenance": [],
      "include_colab_link": true
    }
  },
  "nbformat": 4,
  "nbformat_minor": 5
}