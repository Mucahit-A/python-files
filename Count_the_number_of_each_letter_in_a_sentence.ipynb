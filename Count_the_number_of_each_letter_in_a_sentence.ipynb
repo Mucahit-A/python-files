{
  "nbformat": 4,
  "nbformat_minor": 0,
  "metadata": {
    "colab": {
      "name": "Count the number of each letter in a sentence.ipynb",
      "provenance": [],
      "authorship_tag": "ABX9TyNn7elHgQFtMQDg6VMdXJlK",
      "include_colab_link": true
    },
    "kernelspec": {
      "name": "python3",
      "display_name": "Python 3"
    },
    "language_info": {
      "name": "python"
    }
  },
  "cells": [
    {
      "cell_type": "markdown",
      "metadata": {
        "id": "view-in-github",
        "colab_type": "text"
      },
      "source": [
        "<a href=\"https://colab.research.google.com/github/Mucahit-A/python-files/blob/main/Count_the_number_of_each_letter_in_a_sentence.ipynb\" target=\"_parent\"><img src=\"https://colab.research.google.com/assets/colab-badge.svg\" alt=\"Open In Colab\"/></a>"
      ]
    },
    {
      "cell_type": "code",
      "source": [
        "sent = input(\"Write a sentences: \")\n",
        "dictionary = dict()\n",
        "for i in sent:\n",
        "    dictionary[i] = sent.count(i)\n",
        "    \n",
        "print(dictionary)"
      ],
      "metadata": {
        "colab": {
          "base_uri": "https://localhost:8080/"
        },
        "id": "VNfZ98f5yV3x",
        "outputId": "281f6bec-817b-47c4-8dc9-15042100d912"
      },
      "execution_count": 3,
      "outputs": [
        {
          "output_type": "stream",
          "name": "stdout",
          "text": [
            "Write a sentences: hippo runs to us!\n",
            "{'h': 1, 'i': 1, 'p': 2, 'o': 2, ' ': 3, 'r': 1, 'u': 2, 'n': 1, 's': 2, 't': 1, '!': 1}\n"
          ]
        }
      ]
    },
    {
      "cell_type": "code",
      "execution_count": 4,
      "metadata": {
        "colab": {
          "base_uri": "https://localhost:8080/"
        },
        "id": "7uSuoZmJxuFW",
        "outputId": "7064f694-2c13-407f-d48a-a8f892fdfe01"
      },
      "outputs": [
        {
          "output_type": "stream",
          "name": "stdout",
          "text": [
            "Write a sentences: hippo runs to us!\n",
            "{'h': 1, 's': 2, 't': 1, 'u': 2, 'i': 1, 'p': 2, 'r': 1, 'o': 2, ' ': 3, '!': 1, 'n': 1}\n"
          ]
        }
      ],
      "source": [
        "sent = input(\"Write a sentences: \")\n",
        "sentset = set(sent)\n",
        "lowersent = sent.lower()\n",
        "countdict = {i : 0 for i in sentset}\n",
        "for i in lowersent:\n",
        "  if i in sentset:\n",
        "    countdict[i] += 1\n",
        "     \n",
        "print(countdict)"
      ]
    }
  ]
}