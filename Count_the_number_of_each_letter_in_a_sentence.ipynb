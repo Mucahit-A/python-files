{
  "nbformat": 4,
  "nbformat_minor": 0,
  "metadata": {
    "colab": {
      "name": "Count the number of each letter in a sentence.ipynb",
      "provenance": [],
      "authorship_tag": "ABX9TyOOeZD1aH4lznqYPTet/lsV",
      "include_colab_link": true
    },
    "kernelspec": {
      "name": "python3",
      "display_name": "Python 3"
    },
    "language_info": {
      "name": "python"
    }
  },
  "cells": [
    {
      "cell_type": "markdown",
      "metadata": {
        "id": "view-in-github",
        "colab_type": "text"
      },
      "source": [
        "<a href=\"https://colab.research.google.com/github/Mucahit-A/python-files/blob/main/Count_the_number_of_each_letter_in_a_sentence.ipynb\" target=\"_parent\"><img src=\"https://colab.research.google.com/assets/colab-badge.svg\" alt=\"Open In Colab\"/></a>"
      ]
    },
    {
      "cell_type": "code",
      "execution_count": 1,
      "metadata": {
        "colab": {
          "base_uri": "https://localhost:8080/"
        },
        "id": "7uSuoZmJxuFW",
        "outputId": "2605c7b7-dc05-403f-bc13-4912c259a5ca"
      },
      "outputs": [
        {
          "output_type": "stream",
          "name": "stdout",
          "text": [
            "Write a sentences: hippo runs to us!\n",
            "{'u': 2, '!': 1, 't': 1, 'n': 1, ' ': 3, 'r': 1, 'p': 2, 'h': 1, 'i': 1, 's': 2, 'o': 2}\n"
          ]
        }
      ],
      "source": [
        "sent = input(\"Write a sentences: \")\n",
        "sentset = set(sent)\n",
        "lowersent = sent.lower()\n",
        "countdict = {i : 0 for i in sentset}\n",
        "for i in lowersent:\n",
        "  if i in sentset:\n",
        "    countdict[i] += 1\n",
        "     \n",
        "print(countdict)"
      ]
    }
  ]
}