{
  "nbformat": 4,
  "nbformat_minor": 0,
  "metadata": {
    "colab": {
      "name": "Prime Number",
      "provenance": [],
      "collapsed_sections": [],
      "authorship_tag": "ABX9TyMhlWdDskfJnuKiEq6yZST5",
      "include_colab_link": true
    },
    "kernelspec": {
      "name": "python3",
      "display_name": "Python 3"
    },
    "language_info": {
      "name": "python"
    }
  },
  "cells": [
    {
      "cell_type": "markdown",
      "metadata": {
        "id": "view-in-github",
        "colab_type": "text"
      },
      "source": [
        "<a href=\"https://colab.research.google.com/github/Mucahit-A/python-files/blob/main/Prime_Number.ipynb\" target=\"_parent\"><img src=\"https://colab.research.google.com/assets/colab-badge.svg\" alt=\"Open In Colab\"/></a>"
      ]
    },
    {
      "cell_type": "code",
      "metadata": {
        "colab": {
          "base_uri": "https://localhost:8080/"
        },
        "id": "B_x4TxGSACkm",
        "outputId": "037e2ef0-d647-4ff1-b5ed-b6477d04cb63"
      },
      "source": [
        "num = int(input(\"Write a number is bigger than 1 :\"))\n",
        "total = 0\n",
        "for i in range(2,num):\n",
        "  if num % i == 0:\n",
        "    total += i\n",
        "if total > 1 :\n",
        "  print(num, \"is not Prime Number\")     \n",
        "else:\n",
        "  print(num , \"is Prime Number\")"
      ],
      "execution_count": null,
      "outputs": [
        {
          "output_type": "stream",
          "name": "stdout",
          "text": [
            "Write a number is bigger than 1 :1531\n",
            "1531 is Prime Number\n"
          ]
        }
      ]
    }
  ]
}