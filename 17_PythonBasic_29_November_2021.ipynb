{
  "nbformat": 4,
  "nbformat_minor": 5,
  "metadata": {
    "kernelspec": {
      "display_name": "Python 3",
      "language": "python",
      "name": "python3"
    },
    "language_info": {
      "codemirror_mode": {
        "name": "ipython",
        "version": 3
      },
      "file_extension": ".py",
      "mimetype": "text/x-python",
      "name": "python",
      "nbconvert_exporter": "python",
      "pygments_lexer": "ipython3",
      "version": "3.8.8"
    },
    "colab": {
      "name": "17_PythonBasic_29-November-2021.ipynb",
      "provenance": [],
      "include_colab_link": true
    }
  },
  "cells": [
    {
      "cell_type": "markdown",
      "metadata": {
        "id": "view-in-github",
        "colab_type": "text"
      },
      "source": [
        "<a href=\"https://colab.research.google.com/github/Mucahit-A/python-files/blob/main/17_PythonBasic_29_November_2021.ipynb\" target=\"_parent\"><img src=\"https://colab.research.google.com/assets/colab-badge.svg\" alt=\"Open In Colab\"/></a>"
      ]
    },
    {
      "cell_type": "markdown",
      "metadata": {
        "id": "22263af8"
      },
      "source": [
        "<h1><p style=\"text-align: center; color:darkblue\">Python In-Class, <br>29 November 2021</p><h1>"
      ],
      "id": "22263af8"
    },
    {
      "cell_type": "code",
      "metadata": {
        "id": "dd2803a0",
        "outputId": "43b7bad1-42cc-46dc-8886-681e2a29aa0d"
      },
      "source": [
        "lambda x : \"odd\" if x % 2 != 0 else \"even\""
      ],
      "id": "dd2803a0",
      "execution_count": null,
      "outputs": [
        {
          "data": {
            "text/plain": [
              "<function __main__.<lambda>(x)>"
            ]
          },
          "execution_count": 1,
          "metadata": {},
          "output_type": "execute_result"
        }
      ]
    },
    {
      "cell_type": "code",
      "metadata": {
        "id": "a0ddf63e",
        "outputId": "270a1c59-8d08-4e70-ba08-f3b24dbde5c1"
      },
      "source": [
        "(lambda x : \"odd\" if x % 2 != 0 else \"even\")(2)"
      ],
      "id": "a0ddf63e",
      "execution_count": null,
      "outputs": [
        {
          "data": {
            "text/plain": [
              "'even'"
            ]
          },
          "execution_count": 2,
          "metadata": {},
          "output_type": "execute_result"
        }
      ]
    },
    {
      "cell_type": "code",
      "metadata": {
        "id": "9eec0f3d",
        "outputId": "5b07b4e9-0ced-4f50-9ca8-bc768768a127"
      },
      "source": [
        "(lambda x : \"odd\" if x % 2 != 0 else \"even\")(3)"
      ],
      "id": "9eec0f3d",
      "execution_count": null,
      "outputs": [
        {
          "data": {
            "text/plain": [
              "'odd'"
            ]
          },
          "execution_count": 3,
          "metadata": {},
          "output_type": "execute_result"
        }
      ]
    },
    {
      "cell_type": "code",
      "metadata": {
        "id": "bd2d76ea",
        "outputId": "a6d76f98-0ea1-4f68-d174-acdb5db73591"
      },
      "source": [
        "(lambda x : x[::-1])(\"aali\")"
      ],
      "id": "bd2d76ea",
      "execution_count": null,
      "outputs": [
        {
          "data": {
            "text/plain": [
              "'ilaa'"
            ]
          },
          "execution_count": 5,
          "metadata": {},
          "output_type": "execute_result"
        }
      ]
    },
    {
      "cell_type": "code",
      "metadata": {
        "id": "b78f662b",
        "outputId": "f1b92bc0-42c2-40f7-e9c3-8b8ffecb9d38"
      },
      "source": [
        "(lambda x : x[::-1])([1,2,3])"
      ],
      "id": "b78f662b",
      "execution_count": null,
      "outputs": [
        {
          "data": {
            "text/plain": [
              "[3, 2, 1]"
            ]
          },
          "execution_count": 6,
          "metadata": {},
          "output_type": "execute_result"
        }
      ]
    },
    {
      "cell_type": "code",
      "metadata": {
        "id": "7eb1e60e",
        "outputId": "280bb94f-116d-4d91-c92b-cc1a4946c02f"
      },
      "source": [
        "(lambda a, b : (a + b) / 2)(3, 5) "
      ],
      "id": "7eb1e60e",
      "execution_count": null,
      "outputs": [
        {
          "data": {
            "text/plain": [
              "4.0"
            ]
          },
          "execution_count": 7,
          "metadata": {},
          "output_type": "execute_result"
        }
      ]
    },
    {
      "cell_type": "code",
      "metadata": {
        "id": "192a89c2"
      },
      "source": [
        "lambda x : \"odd\" if x % 2 != 0 else \"even\""
      ],
      "id": "192a89c2",
      "execution_count": null,
      "outputs": []
    },
    {
      "cell_type": "code",
      "metadata": {
        "id": "4d98517f"
      },
      "source": [
        "sayılar = [1, 2, 3, 4, 5, 6]"
      ],
      "id": "4d98517f",
      "execution_count": null,
      "outputs": []
    },
    {
      "cell_type": "code",
      "metadata": {
        "id": "2cf982f7",
        "outputId": "7f11b2dc-5f30-486a-d9e4-de9198736376"
      },
      "source": [
        "for a in sayılar :\n",
        "    print(a, \":\", (lambda x : \"odd\" if x % 2 != 0 else \"even\")(a))"
      ],
      "id": "2cf982f7",
      "execution_count": null,
      "outputs": [
        {
          "name": "stdout",
          "output_type": "stream",
          "text": [
            "1 : odd\n",
            "2 : even\n",
            "3 : odd\n",
            "4 : even\n",
            "5 : odd\n",
            "6 : even\n"
          ]
        }
      ]
    },
    {
      "cell_type": "code",
      "metadata": {
        "id": "a53190be"
      },
      "source": [
        "finder = lambda x : \"odd\" if x % 2 != 0 else \"even\""
      ],
      "id": "a53190be",
      "execution_count": null,
      "outputs": []
    },
    {
      "cell_type": "code",
      "metadata": {
        "id": "20deafeb",
        "outputId": "078e3715-3c0d-4d3a-ffd7-b56d9c83f11b"
      },
      "source": [
        "print(finder(5))"
      ],
      "id": "20deafeb",
      "execution_count": null,
      "outputs": [
        {
          "name": "stdout",
          "output_type": "stream",
          "text": [
            "odd\n"
          ]
        }
      ]
    },
    {
      "cell_type": "code",
      "metadata": {
        "id": "7db8e84a"
      },
      "source": [
        "reverser = lambda x : x[::-1]"
      ],
      "id": "7db8e84a",
      "execution_count": null,
      "outputs": []
    },
    {
      "cell_type": "code",
      "metadata": {
        "id": "9ae0784b",
        "outputId": "505d7282-1dd1-4608-9510-cd9a7378fb0a"
      },
      "source": [
        "reverser([1, 2, 3, 4])"
      ],
      "id": "9ae0784b",
      "execution_count": null,
      "outputs": [
        {
          "data": {
            "text/plain": [
              "[4, 3, 2, 1]"
            ]
          },
          "execution_count": 14,
          "metadata": {},
          "output_type": "execute_result"
        }
      ]
    },
    {
      "cell_type": "code",
      "metadata": {
        "id": "0da4140f"
      },
      "source": [
        "fonksiyon = lambda x : x ** 2\n",
        "iterable = [1, 2, 3]"
      ],
      "id": "0da4140f",
      "execution_count": null,
      "outputs": []
    },
    {
      "cell_type": "code",
      "metadata": {
        "id": "a60d64c8",
        "outputId": "5d07ae27-bece-4f7c-ffb1-f59cf8c4e35e"
      },
      "source": [
        "sonuc = map(fonksiyon, iterable)\n",
        "print(* sonuc)"
      ],
      "id": "a60d64c8",
      "execution_count": null,
      "outputs": [
        {
          "name": "stdout",
          "output_type": "stream",
          "text": [
            "1 4 9\n"
          ]
        }
      ]
    },
    {
      "cell_type": "code",
      "metadata": {
        "id": "36d7c2a2"
      },
      "source": [
        "def kare(b) :\n",
        "    return b ** 2"
      ],
      "id": "36d7c2a2",
      "execution_count": null,
      "outputs": []
    },
    {
      "cell_type": "code",
      "metadata": {
        "id": "3fd55033",
        "outputId": "a94b2633-e564-4285-b360-fb62fc757fda"
      },
      "source": [
        "sonuc2 = map(kare, iterable)\n",
        "print(* sonuc2)"
      ],
      "id": "3fd55033",
      "execution_count": null,
      "outputs": [
        {
          "name": "stdout",
          "output_type": "stream",
          "text": [
            "1 4 9\n"
          ]
        }
      ]
    },
    {
      "cell_type": "code",
      "metadata": {
        "id": "1a852729"
      },
      "source": [
        "map()"
      ],
      "id": "1a852729",
      "execution_count": null,
      "outputs": []
    },
    {
      "cell_type": "code",
      "metadata": {
        "id": "87b4fa09"
      },
      "source": [
        "topla = lambda x, y, z : x + y + z"
      ],
      "id": "87b4fa09",
      "execution_count": null,
      "outputs": []
    },
    {
      "cell_type": "code",
      "metadata": {
        "id": "e4748050",
        "outputId": "cf98baab-2219-4b25-a4d1-6d358a0353d8"
      },
      "source": [
        "topla(\"a\", \"l\", \"i\")"
      ],
      "id": "e4748050",
      "execution_count": null,
      "outputs": [
        {
          "data": {
            "text/plain": [
              "'ali'"
            ]
          },
          "execution_count": 20,
          "metadata": {},
          "output_type": "execute_result"
        }
      ]
    },
    {
      "cell_type": "code",
      "metadata": {
        "id": "202fa373"
      },
      "source": [
        "num1 = [9, 6, 7, 4]\n",
        "num2 = [3, 6, 5, 8]"
      ],
      "id": "202fa373",
      "execution_count": null,
      "outputs": []
    },
    {
      "cell_type": "code",
      "metadata": {
        "id": "2e9d139f"
      },
      "source": [
        "func = lambda x, y : (x + y) / 2"
      ],
      "id": "2e9d139f",
      "execution_count": null,
      "outputs": []
    },
    {
      "cell_type": "code",
      "metadata": {
        "id": "91577a51",
        "outputId": "db93390e-f864-42a2-b455-4abf2dac7d3d"
      },
      "source": [
        "numbers = map(func, num1, num2)\n",
        "print(list(numbers))"
      ],
      "id": "91577a51",
      "execution_count": null,
      "outputs": [
        {
          "name": "stdout",
          "output_type": "stream",
          "text": [
            "[6.0, 6.0, 6.0, 6.0]\n"
          ]
        }
      ]
    },
    {
      "cell_type": "code",
      "metadata": {
        "id": "06686ac2"
      },
      "source": [
        "words = [\"apple\", \"swim\", \"clock\", \"me\", \"kiwi\", \"banana\"]"
      ],
      "id": "06686ac2",
      "execution_count": null,
      "outputs": []
    },
    {
      "cell_type": "code",
      "metadata": {
        "id": "05e1769f",
        "outputId": "e225466d-af87-4413-df31-228fc7beee86"
      },
      "source": [
        "for i in filter(lambda x : len(x) < 5, words) :\n",
        "    print(i)"
      ],
      "id": "05e1769f",
      "execution_count": null,
      "outputs": [
        {
          "name": "stdout",
          "output_type": "stream",
          "text": [
            "swim\n",
            "me\n",
            "kiwi\n"
          ]
        }
      ]
    },
    {
      "cell_type": "code",
      "metadata": {
        "id": "55f12d71"
      },
      "source": [
        "vowel_list = ['a', 'e', 'i', 'o', 'u']\n",
        "first_ten = ['a', 'b', 'c', 'd', 'e', 'f', 'g', 'h', 'i', 'j']"
      ],
      "id": "55f12d71",
      "execution_count": null,
      "outputs": []
    },
    {
      "cell_type": "code",
      "metadata": {
        "id": "5e083a58",
        "outputId": "e053815e-4e74-4e23-f331-c7693e882cee"
      },
      "source": [
        "\"a\" in vowel_list"
      ],
      "id": "5e083a58",
      "execution_count": null,
      "outputs": [
        {
          "data": {
            "text/plain": [
              "True"
            ]
          },
          "execution_count": 27,
          "metadata": {},
          "output_type": "execute_result"
        }
      ]
    },
    {
      "cell_type": "code",
      "metadata": {
        "id": "a74d49ef",
        "outputId": "b1c87209-6d5a-479f-a1d1-4ab4729e4c7a"
      },
      "source": [
        "\"b\" in vowel_list"
      ],
      "id": "a74d49ef",
      "execution_count": null,
      "outputs": [
        {
          "data": {
            "text/plain": [
              "False"
            ]
          },
          "execution_count": 28,
          "metadata": {},
          "output_type": "execute_result"
        }
      ]
    },
    {
      "cell_type": "code",
      "metadata": {
        "id": "6dda768f",
        "outputId": "03d9e2d3-5aaf-4d51-d83f-70f26bb31db2"
      },
      "source": [
        "vowels = filter(lambda x : x in vowel_list, first_ten)\n",
        "print(list(vowels))"
      ],
      "id": "6dda768f",
      "execution_count": null,
      "outputs": [
        {
          "name": "stdout",
          "output_type": "stream",
          "text": [
            "['a', 'e', 'i']\n"
          ]
        }
      ]
    },
    {
      "cell_type": "code",
      "metadata": {
        "id": "3bb87e27"
      },
      "source": [
        "def modular(n) :\n",
        "    return lambda x : x ** n"
      ],
      "id": "3bb87e27",
      "execution_count": null,
      "outputs": []
    },
    {
      "cell_type": "code",
      "metadata": {
        "id": "08a43ec5"
      },
      "source": [
        "karesinial = modular(2)"
      ],
      "id": "08a43ec5",
      "execution_count": null,
      "outputs": []
    },
    {
      "cell_type": "code",
      "metadata": {
        "id": "1ade37d4",
        "outputId": "8085cf47-ca6b-4871-8e9e-40626a1e7104"
      },
      "source": [
        "karesinial(3)"
      ],
      "id": "1ade37d4",
      "execution_count": null,
      "outputs": [
        {
          "data": {
            "text/plain": [
              "9"
            ]
          },
          "execution_count": 33,
          "metadata": {},
          "output_type": "execute_result"
        }
      ]
    },
    {
      "cell_type": "code",
      "metadata": {
        "id": "3021b7f6"
      },
      "source": [
        "kupunual = modular(3)"
      ],
      "id": "3021b7f6",
      "execution_count": null,
      "outputs": []
    },
    {
      "cell_type": "code",
      "metadata": {
        "id": "ac54cebf",
        "outputId": "05be9380-b6ba-4b7b-a2f8-062aefb111fb"
      },
      "source": [
        "kupunual(2)"
      ],
      "id": "ac54cebf",
      "execution_count": null,
      "outputs": [
        {
          "data": {
            "text/plain": [
              "8"
            ]
          },
          "execution_count": 35,
          "metadata": {},
          "output_type": "execute_result"
        }
      ]
    },
    {
      "cell_type": "code",
      "metadata": {
        "id": "00d0d378",
        "outputId": "42a0822a-8fde-482d-a06f-97a1efb1c53e"
      },
      "source": [
        "(lambda x : print(x, \":)\"))(\"ali\")"
      ],
      "id": "00d0d378",
      "execution_count": null,
      "outputs": [
        {
          "name": "stdout",
          "output_type": "stream",
          "text": [
            "ali :)\n"
          ]
        }
      ]
    },
    {
      "cell_type": "code",
      "metadata": {
        "id": "2fe9958e",
        "outputId": "89fa22ee-7f4e-40f9-96c2-7b1f2543dbbb"
      },
      "source": [
        "print(\"ali\", \":)\")"
      ],
      "id": "2fe9958e",
      "execution_count": null,
      "outputs": [
        {
          "name": "stdout",
          "output_type": "stream",
          "text": [
            "ali :)\n"
          ]
        }
      ]
    },
    {
      "cell_type": "code",
      "metadata": {
        "id": "8a5cef61",
        "outputId": "2ba1fffc-b26d-482c-f1fc-5cb244792d0a"
      },
      "source": [
        "(lambda x : print(x, \":(\"))(\"ali\")"
      ],
      "id": "8a5cef61",
      "execution_count": null,
      "outputs": [
        {
          "name": "stdout",
          "output_type": "stream",
          "text": [
            "ali :(\n"
          ]
        }
      ]
    },
    {
      "cell_type": "code",
      "metadata": {
        "id": "5a3af549",
        "outputId": "48ee5246-141d-4acd-db72-357dbe642098"
      },
      "source": [
        "(lambda x : print(x, \":|\"))(\"ali\")"
      ],
      "id": "5a3af549",
      "execution_count": null,
      "outputs": [
        {
          "name": "stdout",
          "output_type": "stream",
          "text": [
            "ali :|\n"
          ]
        }
      ]
    },
    {
      "cell_type": "code",
      "metadata": {
        "id": "ce225b7a"
      },
      "source": [
        "def functioner(emoji) :\n",
        "    return lambda x : print(x, emoji)"
      ],
      "id": "ce225b7a",
      "execution_count": null,
      "outputs": []
    },
    {
      "cell_type": "code",
      "metadata": {
        "id": "e1de42f2"
      },
      "source": [
        "myPrint_smile = functioner(\":)\")\n",
        "myPrint_sad = functioner(\":(\")\n",
        "myPrint_neutral = functioner(\":|\")"
      ],
      "id": "e1de42f2",
      "execution_count": null,
      "outputs": []
    },
    {
      "cell_type": "code",
      "metadata": {
        "id": "6f98b881",
        "outputId": "f95046a2-e884-4d7e-98ff-bf11de7a119f"
      },
      "source": [
        "myPrint_sad(\"hello\")"
      ],
      "id": "6f98b881",
      "execution_count": null,
      "outputs": [
        {
          "name": "stdout",
          "output_type": "stream",
          "text": [
            "hello :(\n"
          ]
        }
      ]
    },
    {
      "cell_type": "code",
      "metadata": {
        "id": "ec853f67"
      },
      "source": [
        "def function_generator(function_name) :\n",
        "    return lambda x : function_name(x)"
      ],
      "id": "ec853f67",
      "execution_count": null,
      "outputs": []
    },
    {
      "cell_type": "code",
      "metadata": {
        "id": "f6d2da11"
      },
      "source": [
        "# ali_print() --> print()\n",
        "# ali_max() --> max()\n",
        "# ali_bool() --> bool()\n",
        "# ali_sorted() --> sorted()"
      ],
      "id": "f6d2da11",
      "execution_count": null,
      "outputs": []
    },
    {
      "cell_type": "code",
      "metadata": {
        "id": "e3f4a946",
        "outputId": "795efecf-af00-43e9-9483-b7f4c0316a7b"
      },
      "source": [
        "(lambda x : print(x))(\"ali veli deli\")"
      ],
      "id": "e3f4a946",
      "execution_count": null,
      "outputs": [
        {
          "name": "stdout",
          "output_type": "stream",
          "text": [
            "ali veli deli\n"
          ]
        }
      ]
    },
    {
      "cell_type": "code",
      "metadata": {
        "id": "9d580003",
        "outputId": "b8743e02-a907-41a2-d0f1-a057540cc2b3"
      },
      "source": [
        "(lambda x : max(x))((1,2,3))"
      ],
      "id": "9d580003",
      "execution_count": null,
      "outputs": [
        {
          "data": {
            "text/plain": [
              "3"
            ]
          },
          "execution_count": 47,
          "metadata": {},
          "output_type": "execute_result"
        }
      ]
    },
    {
      "cell_type": "code",
      "metadata": {
        "id": "062c8dd1",
        "outputId": "297ec842-3f7e-42a5-e11e-056266be259b"
      },
      "source": [
        "(lambda x : sorted(x))((3,5,1))"
      ],
      "id": "062c8dd1",
      "execution_count": null,
      "outputs": [
        {
          "data": {
            "text/plain": [
              "[1, 3, 5]"
            ]
          },
          "execution_count": 49,
          "metadata": {},
          "output_type": "execute_result"
        }
      ]
    },
    {
      "cell_type": "code",
      "metadata": {
        "id": "0d2f3e8d"
      },
      "source": [
        "joseph_max = function_generator(max)\n",
        "joseph_sorted = function_generator(sorted)"
      ],
      "id": "0d2f3e8d",
      "execution_count": null,
      "outputs": []
    },
    {
      "cell_type": "code",
      "metadata": {
        "id": "3c2492a5",
        "outputId": "949dae81-0a66-4c5d-c2b1-ba2eaabbdc65"
      },
      "source": [
        "joseph_max((2,22,3))"
      ],
      "id": "3c2492a5",
      "execution_count": null,
      "outputs": [
        {
          "data": {
            "text/plain": [
              "22"
            ]
          },
          "execution_count": 52,
          "metadata": {},
          "output_type": "execute_result"
        }
      ]
    },
    {
      "cell_type": "code",
      "metadata": {
        "id": "4ff9f0ca"
      },
      "source": [
        ""
      ],
      "id": "4ff9f0ca",
      "execution_count": null,
      "outputs": []
    },
    {
      "cell_type": "code",
      "metadata": {
        "id": "be8c6006"
      },
      "source": [
        ""
      ],
      "id": "be8c6006",
      "execution_count": null,
      "outputs": []
    }
  ]
}