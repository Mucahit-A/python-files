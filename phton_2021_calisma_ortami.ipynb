{
  "nbformat": 4,
  "nbformat_minor": 0,
  "metadata": {
    "colab": {
      "name": "phton 2021. calisma ortami",
      "provenance": [],
      "authorship_tag": "ABX9TyNFHrt1Hz7AijrktDNrl2Eo",
      "include_colab_link": true
    },
    "kernelspec": {
      "display_name": "Python 3",
      "name": "python3"
    },
    "language_info": {
      "name": "python"
    }
  },
  "cells": [
    {
      "cell_type": "markdown",
      "metadata": {
        "id": "view-in-github",
        "colab_type": "text"
      },
      "source": [
        "<a href=\"https://colab.research.google.com/github/Mucahit-A/python-files/blob/main/phton_2021_calisma_ortami.ipynb\" target=\"_parent\"><img src=\"https://colab.research.google.com/assets/colab-badge.svg\" alt=\"Open In Colab\"/></a>"
      ]
    },
    {
      "cell_type": "code",
      "metadata": {
        "colab": {
          "base_uri": "https://localhost:8080/"
        },
        "id": "D9BnubATFZli",
        "outputId": "8e2e1a2a-b980-4ef1-84c6-4ecc84a80e7a"
      },
      "source": [
        "print(\"hello world\")"
      ],
      "execution_count": null,
      "outputs": [
        {
          "name": "stdout",
          "output_type": "stream",
          "text": [
            "hello world\n"
          ]
        }
      ]
    },
    {
      "cell_type": "code",
      "metadata": {
        "colab": {
          "base_uri": "https://localhost:8080/"
        },
        "id": "m7lRJCs7nCQD",
        "outputId": "1dce0781-22f0-4855-c1a4-05a37c391b03"
      },
      "source": [
        "print(\"bugun ilk phyton dersim\")\n",
        "print(\"yeni bir baslangic yapmak icin buyuk bir adim\")\n",
        "print('basarmak icin hergun calismam gerekiyor')"
      ],
      "execution_count": null,
      "outputs": [
        {
          "name": "stdout",
          "output_type": "stream",
          "text": [
            "bugun ilk phyton dersim\n",
            "yeni bir baslangic yapmak icin buyuk bir adim\n",
            "basarmak icin hergun calismam gerekiyor\n"
          ]
        }
      ]
    },
    {
      "cell_type": "code",
      "metadata": {
        "colab": {
          "base_uri": "https://localhost:8080/"
        },
        "id": "a5DMDgaa4Bbq",
        "outputId": "508d2b4e-468a-4057-e6fd-0421f515e6b5"
      },
      "source": [
        "print('''hfjdsfkdh\n",
        "lk;lkkkk';\n",
        "lll;;kjkhgkoiiioouhfh''')"
      ],
      "execution_count": null,
      "outputs": [
        {
          "name": "stdout",
          "output_type": "stream",
          "text": [
            "hfjdsfkdh\n",
            "lk;lkkkk';\n",
            "lll;;kjkhgkoiiioouhfh\n"
          ]
        }
      ]
    },
    {
      "cell_type": "code",
      "metadata": {
        "colab": {
          "base_uri": "https://localhost:8080/"
        },
        "id": "_54-Ad4M4BY6",
        "outputId": "1af8e7e7-6343-4d81-f46e-c81941f17596"
      },
      "source": [
        "print(''''We should have enough time for our family\"''')"
      ],
      "execution_count": null,
      "outputs": [
        {
          "name": "stdout",
          "output_type": "stream",
          "text": [
            "'We should have enough time for our family\"\n"
          ]
        }
      ]
    },
    {
      "cell_type": "code",
      "metadata": {
        "colab": {
          "base_uri": "https://localhost:8080/"
        },
        "id": "GrBHWMy54BWE",
        "outputId": "7a082f6e-eb79-4bf9-aff2-7312780860b6"
      },
      "source": [
        "print()\n",
        "print(\"\")"
      ],
      "execution_count": null,
      "outputs": [
        {
          "name": "stdout",
          "output_type": "stream",
          "text": [
            "\n",
            "\n"
          ]
        }
      ]
    },
    {
      "cell_type": "code",
      "metadata": {
        "colab": {
          "base_uri": "https://localhost:8080/",
          "height": 129
        },
        "id": "4KITh1la4BTM",
        "outputId": "d6e0a53b-0150-422f-91a3-419a83b7171e"
      },
      "source": [
        "print('''')"
      ],
      "execution_count": null,
      "outputs": [
        {
          "ename": "SyntaxError",
          "evalue": "ignored",
          "output_type": "error",
          "traceback": [
            "\u001b[0;36m  File \u001b[0;32m\"<ipython-input-10-4b777b03c816>\"\u001b[0;36m, line \u001b[0;32m1\u001b[0m\n\u001b[0;31m    print('''')\u001b[0m\n\u001b[0m               ^\u001b[0m\n\u001b[0;31mSyntaxError\u001b[0m\u001b[0;31m:\u001b[0m EOF while scanning triple-quoted string literal\n"
          ]
        }
      ]
    },
    {
      "cell_type": "code",
      "metadata": {
        "colab": {
          "base_uri": "https://localhost:8080/"
        },
        "id": "CpKXlW7S4BQQ",
        "outputId": "412ef4ad-ef11-4151-f168-ff3e8cf25b9a"
      },
      "source": [
        "print(\"\"\"\"\"\")"
      ],
      "execution_count": null,
      "outputs": [
        {
          "name": "stdout",
          "output_type": "stream",
          "text": [
            "\n"
          ]
        }
      ]
    },
    {
      "cell_type": "code",
      "metadata": {
        "colab": {
          "base_uri": "https://localhost:8080/"
        },
        "id": "kA8s6smTnCNK",
        "outputId": "ad43a52b-7d4f-4e1e-bddb-e60ba0ba4918"
      },
      "source": [
        "print(\"sizinle tanismak guzel\") # bu benim aciklamam (in line comment) buraya yazilanlar kodu etkilemez"
      ],
      "execution_count": null,
      "outputs": [
        {
          "name": "stdout",
          "output_type": "stream",
          "text": [
            "sizinle tanismak guzel\n"
          ]
        }
      ]
    },
    {
      "cell_type": "code",
      "metadata": {
        "colab": {
          "base_uri": "https://localhost:8080/"
        },
        "id": "GlCuzj5SnCKY",
        "outputId": "667d25ef-63ad-4f4a-9de3-f6291c7920a9"
      },
      "source": [
        "print(\"\")\n",
        "# bu bir single line commenttir"
      ],
      "execution_count": null,
      "outputs": [
        {
          "name": "stdout",
          "output_type": "stream",
          "text": [
            "\n"
          ]
        }
      ]
    },
    {
      "cell_type": "code",
      "metadata": {
        "colab": {
          "base_uri": "https://localhost:8080/",
          "height": 35
        },
        "id": "B8Txbda2nCGv",
        "outputId": "538b68b9-29e1-4236-e45b-6c43883aeb45"
      },
      "source": [
        "pwd"
      ],
      "execution_count": null,
      "outputs": [
        {
          "data": {
            "application/vnd.google.colaboratory.intrinsic+json": {
              "type": "string"
            },
            "text/plain": [
              "'/content'"
            ]
          },
          "execution_count": 1,
          "metadata": {},
          "output_type": "execute_result"
        }
      ]
    },
    {
      "cell_type": "code",
      "metadata": {
        "id": "EHEmvxKRnCED"
      },
      "source": [
        "tom = 11\n",
        "ana = 44\n",
        "gang = 44 + 1\n"
      ],
      "execution_count": null,
      "outputs": []
    },
    {
      "cell_type": "code",
      "metadata": {
        "colab": {
          "base_uri": "https://localhost:8080/",
          "height": 163
        },
        "id": "SWRXs0PtnCBO",
        "outputId": "81b17205-6556-4878-9d03-0d7c3ba86e89"
      },
      "source": [
        "type(a)"
      ],
      "execution_count": null,
      "outputs": [
        {
          "ename": "NameError",
          "evalue": "ignored",
          "output_type": "error",
          "traceback": [
            "\u001b[0;31m---------------------------------------------------------------------------\u001b[0m",
            "\u001b[0;31mNameError\u001b[0m                                 Traceback (most recent call last)",
            "\u001b[0;32m<ipython-input-7-b152ec05ccbc>\u001b[0m in \u001b[0;36m<module>\u001b[0;34m()\u001b[0m\n\u001b[0;32m----> 1\u001b[0;31m \u001b[0mtype\u001b[0m\u001b[0;34m(\u001b[0m\u001b[0ma\u001b[0m\u001b[0;34m)\u001b[0m\u001b[0;34m\u001b[0m\u001b[0;34m\u001b[0m\u001b[0m\n\u001b[0m",
            "\u001b[0;31mNameError\u001b[0m: name 'a' is not defined"
          ]
        }
      ]
    },
    {
      "cell_type": "code",
      "metadata": {
        "colab": {
          "base_uri": "https://localhost:8080/"
        },
        "id": "CroVXdnXnB-D",
        "outputId": "ea79341f-d87d-439c-e163-308414992484"
      },
      "source": [
        "type(\"ali\")"
      ],
      "execution_count": null,
      "outputs": [
        {
          "data": {
            "text/plain": [
              "str"
            ]
          },
          "execution_count": 9,
          "metadata": {},
          "output_type": "execute_result"
        }
      ]
    },
    {
      "cell_type": "code",
      "metadata": {
        "colab": {
          "base_uri": "https://localhost:8080/",
          "height": 129
        },
        "id": "LEOJhJxKjhts",
        "outputId": "5eca7423-e0c5-4d55-d70a-df66260e7d44"
      },
      "source": [
        "'tom's cat'"
      ],
      "execution_count": null,
      "outputs": [
        {
          "ename": "SyntaxError",
          "evalue": "ignored",
          "output_type": "error",
          "traceback": [
            "\u001b[0;36m  File \u001b[0;32m\"<ipython-input-13-039b752afd67>\"\u001b[0;36m, line \u001b[0;32m1\u001b[0m\n\u001b[0;31m    'tom's cat'\u001b[0m\n\u001b[0m         ^\u001b[0m\n\u001b[0;31mSyntaxError\u001b[0m\u001b[0;31m:\u001b[0m invalid syntax\n"
          ]
        }
      ]
    },
    {
      "cell_type": "code",
      "metadata": {
        "colab": {
          "base_uri": "https://localhost:8080/",
          "height": 35
        },
        "id": "ei53s_UhnBy9",
        "outputId": "7f2b91f3-5951-4ba8-a90d-967155bf165c"
      },
      "source": [
        "'tom\\'s cat'"
      ],
      "execution_count": null,
      "outputs": [
        {
          "data": {
            "application/vnd.google.colaboratory.intrinsic+json": {
              "type": "string"
            },
            "text/plain": [
              "\"tom's cat\""
            ]
          },
          "execution_count": 14,
          "metadata": {},
          "output_type": "execute_result"
        }
      ]
    },
    {
      "cell_type": "code",
      "metadata": {
        "id": "bIAklxjjnBqK"
      },
      "source": [
        "bana = 11 + 1.2"
      ],
      "execution_count": null,
      "outputs": []
    },
    {
      "cell_type": "code",
      "metadata": {
        "colab": {
          "base_uri": "https://localhost:8080/"
        },
        "id": "hLacHxtzymTh",
        "outputId": "2d4cb90c-93dc-42e1-bc9e-28e9cf4e2e5e"
      },
      "source": [
        "nmr = 123\n",
        "inte = \"456\"\n",
        "print(\"sonuc\", type(nmr))"
      ],
      "execution_count": null,
      "outputs": [
        {
          "name": "stdout",
          "output_type": "stream",
          "text": [
            "sonuc <class 'int'>\n"
          ]
        }
      ]
    },
    {
      "cell_type": "code",
      "metadata": {
        "colab": {
          "base_uri": "https://localhost:8080/",
          "height": 35
        },
        "id": "C6y4YaomGIgZ",
        "outputId": "994d164a-36ed-4c63-d433-83de27d67279"
      },
      "source": [
        "inte = \"456\"\n",
        "str(inte)"
      ],
      "execution_count": null,
      "outputs": [
        {
          "data": {
            "application/vnd.google.colaboratory.intrinsic+json": {
              "type": "string"
            },
            "text/plain": [
              "'456'"
            ]
          },
          "execution_count": 23,
          "metadata": {},
          "output_type": "execute_result"
        }
      ]
    },
    {
      "cell_type": "code",
      "metadata": {
        "colab": {
          "base_uri": "https://localhost:8080/"
        },
        "id": "X_UBVbuOGIdt",
        "outputId": "51ac2693-4be3-4ba4-91bd-dd7a647ab786"
      },
      "source": [
        "nmr = 123\n",
        "inte = 456\n",
        "abs = nmr + inte\n",
        "print(abs)"
      ],
      "execution_count": null,
      "outputs": [
        {
          "name": "stdout",
          "output_type": "stream",
          "text": [
            "579\n"
          ]
        }
      ]
    },
    {
      "cell_type": "code",
      "metadata": {
        "colab": {
          "base_uri": "https://localhost:8080/",
          "height": 163
        },
        "id": "0JrFDF_lGIav",
        "outputId": "5ade8667-3f3a-49fb-ef26-02935d32f1fb"
      },
      "source": [
        "yazılım"
      ],
      "execution_count": null,
      "outputs": [
        {
          "ename": "NameError",
          "evalue": "ignored",
          "output_type": "error",
          "traceback": [
            "\u001b[0;31m---------------------------------------------------------------------------\u001b[0m",
            "\u001b[0;31mNameError\u001b[0m                                 Traceback (most recent call last)",
            "\u001b[0;32m<ipython-input-1-5580ffa70343>\u001b[0m in \u001b[0;36m<module>\u001b[0;34m()\u001b[0m\n\u001b[0;32m----> 1\u001b[0;31m \u001b[0myazılım\u001b[0m\u001b[0;34m\u001b[0m\u001b[0;34m\u001b[0m\u001b[0m\n\u001b[0m",
            "\u001b[0;31mNameError\u001b[0m: name 'yazılım' is not defined"
          ]
        }
      ]
    },
    {
      "cell_type": "code",
      "metadata": {
        "colab": {
          "base_uri": "https://localhost:8080/",
          "height": 35
        },
        "id": "D3eY3WDMGIXs",
        "outputId": "d2d894e7-311f-436b-b534-9e8ed25d435e"
      },
      "source": [
        "'yazilim'"
      ],
      "execution_count": null,
      "outputs": [
        {
          "data": {
            "application/vnd.google.colaboratory.intrinsic+json": {
              "type": "string"
            },
            "text/plain": [
              "'yazilim'"
            ]
          },
          "execution_count": 2,
          "metadata": {},
          "output_type": "execute_result"
        }
      ]
    },
    {
      "cell_type": "code",
      "metadata": {
        "colab": {
          "base_uri": "https://localhost:8080/"
        },
        "id": "w9qCd6MKvPb6",
        "outputId": "e84cb6d8-3728-4830-cb2c-14722f30a48f"
      },
      "source": [
        "11%3 #bolmede kalani verir"
      ],
      "execution_count": null,
      "outputs": [
        {
          "data": {
            "text/plain": [
              "2"
            ]
          },
          "execution_count": 1,
          "metadata": {},
          "output_type": "execute_result"
        }
      ]
    },
    {
      "cell_type": "code",
      "metadata": {
        "colab": {
          "base_uri": "https://localhost:8080/"
        },
        "id": "jslmlMa1vPZl",
        "outputId": "4779ce85-91e6-41ea-f9c5-6bdc37f4f3e3"
      },
      "source": [
        "11//3 # bolmede bolumu verir"
      ],
      "execution_count": null,
      "outputs": [
        {
          "data": {
            "text/plain": [
              "3"
            ]
          },
          "execution_count": 2,
          "metadata": {},
          "output_type": "execute_result"
        }
      ]
    },
    {
      "cell_type": "code",
      "metadata": {
        "colab": {
          "base_uri": "https://localhost:8080/"
        },
        "id": "UifUjVDhvPVA",
        "outputId": "109b7efb-d2c2-4e44-f2be-259ee7cc56ae"
      },
      "source": [
        "r = 5        #cemberin alani\n",
        "pi = 3.14\n",
        "area = pi * r**2\n",
        "print(area)"
      ],
      "execution_count": null,
      "outputs": [
        {
          "name": "stdout",
          "output_type": "stream",
          "text": [
            "78.5\n"
          ]
        }
      ]
    },
    {
      "cell_type": "code",
      "metadata": {
        "colab": {
          "base_uri": "https://localhost:8080/"
        },
        "id": "H_CQrEwRvPSE",
        "outputId": "53abba84-c283-444f-ffa3-a54f1d028860"
      },
      "source": [
        "print(2**3)"
      ],
      "execution_count": null,
      "outputs": [
        {
          "name": "stdout",
          "output_type": "stream",
          "text": [
            "8\n"
          ]
        }
      ]
    },
    {
      "cell_type": "code",
      "metadata": {
        "colab": {
          "base_uri": "https://localhost:8080/"
        },
        "id": "aHX_5ptfvPPP",
        "outputId": "e68631ef-28a2-4f5a-ce4f-921aa9731c64"
      },
      "source": [
        "a=2\n",
        "b=8\n",
        "print((a * b) ** 0.5)"
      ],
      "execution_count": null,
      "outputs": [
        {
          "name": "stdout",
          "output_type": "stream",
          "text": [
            "4.0\n"
          ]
        }
      ]
    },
    {
      "cell_type": "code",
      "metadata": {
        "colab": {
          "base_uri": "https://localhost:8080/"
        },
        "id": "gh1Q424RvPMX",
        "outputId": "dbbe2c78-671d-4bd1-ecc8-c911615faa5f"
      },
      "source": [
        "print(16 ** 0.5)"
      ],
      "execution_count": null,
      "outputs": [
        {
          "name": "stdout",
          "output_type": "stream",
          "text": [
            "4.0\n"
          ]
        }
      ]
    },
    {
      "cell_type": "code",
      "metadata": {
        "id": "KCJETwz6vPFs"
      },
      "source": [
        "var = 7"
      ],
      "execution_count": null,
      "outputs": []
    },
    {
      "cell_type": "code",
      "metadata": {
        "id": "ciJcUpg5vPA8"
      },
      "source": [
        "var = var + 5"
      ],
      "execution_count": null,
      "outputs": []
    },
    {
      "cell_type": "code",
      "metadata": {
        "colab": {
          "base_uri": "https://localhost:8080/"
        },
        "id": "JwvA8brTGIO9",
        "outputId": "fddfb295-bd6a-471f-d085-dc306945d0d7"
      },
      "source": [
        "print(var)"
      ],
      "execution_count": null,
      "outputs": [
        {
          "name": "stdout",
          "output_type": "stream",
          "text": [
            "12\n"
          ]
        }
      ]
    },
    {
      "cell_type": "code",
      "metadata": {
        "id": "pSVaXbrpDDIj"
      },
      "source": [
        ""
      ],
      "execution_count": null,
      "outputs": []
    },
    {
      "cell_type": "code",
      "metadata": {
        "colab": {
          "base_uri": "https://localhost:8080/"
        },
        "id": "DHmOczY5DC_Z",
        "outputId": "8686d64e-eb96-470d-f14a-cad078bdc75e"
      },
      "source": [
        "ana_para = 1000\n",
        "zaman = 90\n",
        "oran = 0.07\n",
        "faiz = ana_para * (1 + oran) ** zaman\n",
        "print(faiz)"
      ],
      "execution_count": null,
      "outputs": [
        {
          "output_type": "stream",
          "name": "stdout",
          "text": [
            "441102.9798754262\n"
          ]
        }
      ]
    },
    {
      "cell_type": "code",
      "metadata": {
        "id": "sH4Fmxw9IaWQ"
      },
      "source": [
        "\n",
        "\n"
      ],
      "execution_count": null,
      "outputs": []
    },
    {
      "cell_type": "code",
      "metadata": {
        "id": "_4Vu-ur4LILT"
      },
      "source": [
        ""
      ],
      "execution_count": null,
      "outputs": []
    },
    {
      "cell_type": "code",
      "metadata": {
        "colab": {
          "base_uri": "https://localhost:8080/"
        },
        "id": "oOYNTi_-1KpF",
        "outputId": "710bad44-25d7-4cfe-e29b-081c88f408f3"
      },
      "source": [
        "a = 3\n",
        "b = 5\n",
        "a += b\n",
        "print(a)"
      ],
      "execution_count": null,
      "outputs": [
        {
          "name": "stdout",
          "output_type": "stream",
          "text": [
            "8\n"
          ]
        }
      ]
    },
    {
      "cell_type": "code",
      "metadata": {
        "colab": {
          "base_uri": "https://localhost:8080/"
        },
        "id": "yzA-vUHc1Kl9",
        "outputId": "64089d92-25a9-4e10-a979-213ef7a7d82e"
      },
      "source": [
        "a = 5\n",
        "b = 7\n",
        "a *= b\n",
        "print(a)"
      ],
      "execution_count": null,
      "outputs": [
        {
          "name": "stdout",
          "output_type": "stream",
          "text": [
            "35\n"
          ]
        }
      ]
    },
    {
      "cell_type": "code",
      "metadata": {
        "colab": {
          "base_uri": "https://localhost:8080/"
        },
        "id": "DtDDRl431Kil",
        "outputId": "22f024fd-67fd-41b4-c77e-0504c7cbd172"
      },
      "source": [
        "a = 3\n",
        "b = 4\n",
        "c = (a**2 + b**2) ** 0.5\n",
        "print(c)"
      ],
      "execution_count": null,
      "outputs": [
        {
          "name": "stdout",
          "output_type": "stream",
          "text": [
            "5.0\n"
          ]
        }
      ]
    },
    {
      "cell_type": "code",
      "metadata": {
        "colab": {
          "base_uri": "https://localhost:8080/"
        },
        "id": "YM0UhYfW1KgZ",
        "outputId": "35a752d5-409c-48b0-a7f2-a8e04cc1bbaf"
      },
      "source": [
        "a = 5\n",
        "a += a**2\n",
        "print(a)"
      ],
      "execution_count": null,
      "outputs": [
        {
          "name": "stdout",
          "output_type": "stream",
          "text": [
            "30\n"
          ]
        }
      ]
    },
    {
      "cell_type": "code",
      "metadata": {
        "colab": {
          "base_uri": "https://localhost:8080/"
        },
        "id": "7rEnB0tq1KdG",
        "outputId": "70db9ea9-1011-4582-928e-8fa4ae3ee38b"
      },
      "source": [
        "print('ali', 'asli')\n",
        "print('veli', 'ayse')\n",
        "print('selvi', 'baharat', 44)\n",
        "print(c, False, 'ahmet', 3.14)\n"
      ],
      "execution_count": null,
      "outputs": [
        {
          "name": "stdout",
          "output_type": "stream",
          "text": [
            "ali asli\n",
            "veli ayse\n",
            "selvi baharat 44\n",
            "5.0 False ahmet 3.14\n"
          ]
        }
      ]
    },
    {
      "cell_type": "code",
      "metadata": {
        "id": "8u4mfp07gwm2"
      },
      "source": [
        ""
      ],
      "execution_count": null,
      "outputs": []
    },
    {
      "cell_type": "code",
      "metadata": {
        "colab": {
          "base_uri": "https://localhost:8080/"
        },
        "id": "nPiuExn21KaM",
        "outputId": "25bbff2a-8d0e-4201-f6a2-46e3c94f1bf9"
      },
      "source": [
        "print(c, False, 'ahmet', 3.14, sep = '+')    # sep in gorevi"
      ],
      "execution_count": null,
      "outputs": [
        {
          "name": "stdout",
          "output_type": "stream",
          "text": [
            "5.0+False+ahmet+3.14\n"
          ]
        }
      ]
    },
    {
      "cell_type": "code",
      "metadata": {
        "colab": {
          "base_uri": "https://localhost:8080/"
        },
        "id": "I3N3i0-X1KVN",
        "outputId": "95afea60-078d-4dd1-f3d4-f1642041c5b4"
      },
      "source": [
        "print(c, False, 'ahmet', 3.14, sep = '**')"
      ],
      "execution_count": null,
      "outputs": [
        {
          "name": "stdout",
          "output_type": "stream",
          "text": [
            "5.0**False**ahmet**3.14\n"
          ]
        }
      ]
    },
    {
      "cell_type": "code",
      "metadata": {
        "colab": {
          "base_uri": "https://localhost:8080/"
        },
        "id": "T9TeZJuVAPE_",
        "outputId": "b9342c8c-c5a2-4146-ad0c-df8157331e13"
      },
      "source": [
        "print('ali', 'asli', end = '')\n",
        "print('veli', 'ayse')"
      ],
      "execution_count": null,
      "outputs": [
        {
          "name": "stdout",
          "output_type": "stream",
          "text": [
            "ali asliveli ayse\n"
          ]
        }
      ]
    },
    {
      "cell_type": "code",
      "metadata": {
        "colab": {
          "base_uri": "https://localhost:8080/"
        },
        "id": "xtw4EUcZAPC8",
        "outputId": "cffa0a83-6eb9-4e7f-e074-3d9334d159b0"
      },
      "source": [
        "print('ali', 'asli', end = ' ')\n",
        "print('veli', 'ayse')"
      ],
      "execution_count": null,
      "outputs": [
        {
          "name": "stdout",
          "output_type": "stream",
          "text": [
            "ali asli veli ayse\n"
          ]
        }
      ]
    },
    {
      "cell_type": "code",
      "metadata": {
        "id": "1fTPh5mQAPBE"
      },
      "source": [
        ""
      ],
      "execution_count": null,
      "outputs": []
    },
    {
      "cell_type": "code",
      "metadata": {
        "colab": {
          "base_uri": "https://localhost:8080/"
        },
        "id": "mCH42cXJAO9d",
        "outputId": "57863bf0-a421-4772-dfd8-a136310b734b"
      },
      "source": [
        "print('ali', 'asli', end = '+')\n",
        "print('veli', 'ayse')"
      ],
      "execution_count": null,
      "outputs": [
        {
          "name": "stdout",
          "output_type": "stream",
          "text": [
            "ali asli+veli ayse\n"
          ]
        }
      ]
    },
    {
      "cell_type": "code",
      "metadata": {
        "id": "WdmHTnTgAO6z"
      },
      "source": [
        "a,b,c = 1, 2, 3"
      ],
      "execution_count": null,
      "outputs": []
    },
    {
      "cell_type": "code",
      "metadata": {
        "id": "_B4RTd-gAOzO"
      },
      "source": [
        "abc = 1,000,000"
      ],
      "execution_count": null,
      "outputs": []
    },
    {
      "cell_type": "code",
      "metadata": {
        "colab": {
          "base_uri": "https://localhost:8080/",
          "height": 129
        },
        "id": "yLptcXpJAOwb",
        "outputId": "b9dc979d-4547-4c66-ff56-a437b3186677"
      },
      "source": [
        "a b c = 1000 2000 3000 "
      ],
      "execution_count": null,
      "outputs": [
        {
          "ename": "SyntaxError",
          "evalue": "ignored",
          "output_type": "error",
          "traceback": [
            "\u001b[0;36m  File \u001b[0;32m\"<ipython-input-4-54d1c7b849ce>\"\u001b[0;36m, line \u001b[0;32m1\u001b[0m\n\u001b[0;31m    a b c = 1000 2000 3000\u001b[0m\n\u001b[0m      ^\u001b[0m\n\u001b[0;31mSyntaxError\u001b[0m\u001b[0;31m:\u001b[0m invalid syntax\n"
          ]
        }
      ]
    },
    {
      "cell_type": "code",
      "metadata": {
        "id": "GHokikzTAOuK"
      },
      "source": [
        "a_b_c = 1,000,000"
      ],
      "execution_count": null,
      "outputs": []
    },
    {
      "cell_type": "code",
      "metadata": {
        "colab": {
          "base_uri": "https://localhost:8080/",
          "height": 129
        },
        "id": "Mvj1jzm1AOrs",
        "outputId": "a085422b-b409-468f-f89e-ae38894ff8e2"
      },
      "source": [
        "a = 5 5"
      ],
      "execution_count": null,
      "outputs": [
        {
          "ename": "SyntaxError",
          "evalue": "ignored",
          "output_type": "error",
          "traceback": [
            "\u001b[0;36m  File \u001b[0;32m\"<ipython-input-7-0cf889a69cda>\"\u001b[0;36m, line \u001b[0;32m1\u001b[0m\n\u001b[0;31m    a = 5 5\u001b[0m\n\u001b[0m          ^\u001b[0m\n\u001b[0;31mSyntaxError\u001b[0m\u001b[0;31m:\u001b[0m invalid syntax\n"
          ]
        }
      ]
    },
    {
      "cell_type": "code",
      "metadata": {
        "colab": {
          "base_uri": "https://localhost:8080/",
          "height": 129
        },
        "id": "8BWyp6L2AOpL",
        "outputId": "87125e51-1c5b-4009-de16-66c42f747c1d"
      },
      "source": [
        "a b c = 5"
      ],
      "execution_count": null,
      "outputs": [
        {
          "ename": "SyntaxError",
          "evalue": "ignored",
          "output_type": "error",
          "traceback": [
            "\u001b[0;36m  File \u001b[0;32m\"<ipython-input-9-981d3fda2e23>\"\u001b[0;36m, line \u001b[0;32m1\u001b[0m\n\u001b[0;31m    a b c = 5\u001b[0m\n\u001b[0m      ^\u001b[0m\n\u001b[0;31mSyntaxError\u001b[0m\u001b[0;31m:\u001b[0m invalid syntax\n"
          ]
        }
      ]
    },
    {
      "cell_type": "code",
      "metadata": {
        "colab": {
          "base_uri": "https://localhost:8080/"
        },
        "id": "iZSdAvX4AOe1",
        "outputId": "ef472eed-f962-4c20-f9c4-9c8925b36eb7"
      },
      "source": [
        "i = 3\n",
        "f = float(i)\n",
        "print(f)"
      ],
      "execution_count": null,
      "outputs": [
        {
          "name": "stdout",
          "output_type": "stream",
          "text": [
            "3.0\n"
          ]
        }
      ]
    },
    {
      "cell_type": "code",
      "metadata": {
        "colab": {
          "base_uri": "https://localhost:8080/"
        },
        "id": "KgrzW3ZrombH",
        "outputId": "6f0a99a0-6538-4b8c-d9ca-0946f8782958"
      },
      "source": [
        "bool(None)"
      ],
      "execution_count": null,
      "outputs": [
        {
          "data": {
            "text/plain": [
              "False"
            ]
          },
          "execution_count": 1,
          "metadata": {},
          "output_type": "execute_result"
        }
      ]
    },
    {
      "cell_type": "code",
      "metadata": {
        "colab": {
          "base_uri": "https://localhost:8080/"
        },
        "id": "WyoiHRjpomYh",
        "outputId": "44d7cad9-a0be-42f1-ad5f-1f4511ec11bc"
      },
      "source": [
        "bool(\"0\")"
      ],
      "execution_count": null,
      "outputs": [
        {
          "data": {
            "text/plain": [
              "True"
            ]
          },
          "execution_count": 2,
          "metadata": {},
          "output_type": "execute_result"
        }
      ]
    },
    {
      "cell_type": "code",
      "metadata": {
        "colab": {
          "base_uri": "https://localhost:8080/"
        },
        "id": "ePsUEsmzomWI",
        "outputId": "9d29b6fb-4334-460b-9b6e-95f8c42fca8c"
      },
      "source": [
        "bool('')"
      ],
      "execution_count": null,
      "outputs": [
        {
          "data": {
            "text/plain": [
              "False"
            ]
          },
          "execution_count": 3,
          "metadata": {},
          "output_type": "execute_result"
        }
      ]
    },
    {
      "cell_type": "code",
      "metadata": {
        "colab": {
          "base_uri": "https://localhost:8080/"
        },
        "id": "2yX5r8gfomTp",
        "outputId": "0549b211-55eb-4ad5-fea1-cfde0eeadbfb"
      },
      "source": [
        "bool('?')"
      ],
      "execution_count": null,
      "outputs": [
        {
          "data": {
            "text/plain": [
              "True"
            ]
          },
          "execution_count": 5,
          "metadata": {},
          "output_type": "execute_result"
        }
      ]
    },
    {
      "cell_type": "code",
      "metadata": {
        "colab": {
          "base_uri": "https://localhost:8080/",
          "height": 129
        },
        "id": "JJmKyP9pomRV",
        "outputId": "c1d9a550-1d3d-4287-e860-23774b1c12cf"
      },
      "source": [
        "bool(?)"
      ],
      "execution_count": null,
      "outputs": [
        {
          "ename": "SyntaxError",
          "evalue": "ignored",
          "output_type": "error",
          "traceback": [
            "\u001b[0;36m  File \u001b[0;32m\"<ipython-input-6-bd7263171192>\"\u001b[0;36m, line \u001b[0;32m1\u001b[0m\n\u001b[0;31m    bool(?)\u001b[0m\n\u001b[0m         ^\u001b[0m\n\u001b[0;31mSyntaxError\u001b[0m\u001b[0;31m:\u001b[0m invalid syntax\n"
          ]
        }
      ]
    },
    {
      "cell_type": "code",
      "metadata": {
        "colab": {
          "base_uri": "https://localhost:8080/"
        },
        "id": "9uyseCIiomOl",
        "outputId": "35e7f8f4-bc7f-4e9c-e66e-bab91b041738"
      },
      "source": [
        "bool(0)"
      ],
      "execution_count": null,
      "outputs": [
        {
          "data": {
            "text/plain": [
              "False"
            ]
          },
          "execution_count": 7,
          "metadata": {},
          "output_type": "execute_result"
        }
      ]
    },
    {
      "cell_type": "code",
      "metadata": {
        "colab": {
          "base_uri": "https://localhost:8080/"
        },
        "id": "n8EYgn6NomLM",
        "outputId": "8c3c5b50-0c10-4994-ce3a-1adc6dbf6eeb"
      },
      "source": [
        "print(2 and 3) # en sonki True ye cevirir"
      ],
      "execution_count": null,
      "outputs": [
        {
          "name": "stdout",
          "output_type": "stream",
          "text": [
            "3\n"
          ]
        }
      ]
    },
    {
      "cell_type": "code",
      "metadata": {
        "colab": {
          "base_uri": "https://localhost:8080/"
        },
        "id": "VWbWbjuz0gb9",
        "outputId": "05f36e5e-fc01-4ce2-b8c6-ae8220a0c090"
      },
      "source": [
        "print(2 or 3) # ilk True  ya cevirir"
      ],
      "execution_count": null,
      "outputs": [
        {
          "name": "stdout",
          "output_type": "stream",
          "text": [
            "2\n"
          ]
        }
      ]
    },
    {
      "cell_type": "code",
      "metadata": {
        "colab": {
          "base_uri": "https://localhost:8080/",
          "height": 35
        },
        "id": "wXyw0ZV2WGPU",
        "outputId": "6ad4cfbf-df22-4042-81fa-98b438ebb5e8"
      },
      "source": [
        "\"\" and 3"
      ],
      "execution_count": null,
      "outputs": [
        {
          "data": {
            "application/vnd.google.colaboratory.intrinsic+json": {
              "type": "string"
            },
            "text/plain": [
              "''"
            ]
          },
          "execution_count": 10,
          "metadata": {},
          "output_type": "execute_result"
        }
      ]
    },
    {
      "cell_type": "code",
      "metadata": {
        "colab": {
          "base_uri": "https://localhost:8080/"
        },
        "id": "OUjXHUK4WGHX",
        "outputId": "69859425-e6f2-49d4-bc02-7c552c4dab17"
      },
      "source": [
        "0 or {}"
      ],
      "execution_count": null,
      "outputs": [
        {
          "data": {
            "text/plain": [
              "{}"
            ]
          },
          "execution_count": 11,
          "metadata": {},
          "output_type": "execute_result"
        }
      ]
    },
    {
      "cell_type": "code",
      "metadata": {
        "id": "cXrbvlfaWGD9"
      },
      "source": [
        "abc = \"orange\""
      ],
      "execution_count": null,
      "outputs": []
    },
    {
      "cell_type": "code",
      "metadata": {
        "colab": {
          "base_uri": "https://localhost:8080/",
          "height": 35
        },
        "id": "AfpymLvyWFnP",
        "outputId": "a12b55f0-b550-49ad-bea9-f9d3e59c1ce6"
      },
      "source": [
        "abc[-5:-2]"
      ],
      "execution_count": null,
      "outputs": [
        {
          "data": {
            "application/vnd.google.colaboratory.intrinsic+json": {
              "type": "string"
            },
            "text/plain": [
              "'ran'"
            ]
          },
          "execution_count": 20,
          "metadata": {},
          "output_type": "execute_result"
        }
      ]
    },
    {
      "cell_type": "code",
      "metadata": {
        "colab": {
          "base_uri": "https://localhost:8080/",
          "height": 35
        },
        "id": "lTraioO4WFkl",
        "outputId": "ff2845d4-92c8-4dbc-b2dc-02206c4ec820"
      },
      "source": [
        "abc[1:-2]"
      ],
      "execution_count": null,
      "outputs": [
        {
          "data": {
            "application/vnd.google.colaboratory.intrinsic+json": {
              "type": "string"
            },
            "text/plain": [
              "'ran'"
            ]
          },
          "execution_count": 21,
          "metadata": {},
          "output_type": "execute_result"
        }
      ]
    },
    {
      "cell_type": "code",
      "metadata": {
        "id": "dy_58F7sWFhO"
      },
      "source": [
        "isim = \"clarusway okulu\""
      ],
      "execution_count": null,
      "outputs": []
    },
    {
      "cell_type": "code",
      "metadata": {
        "colab": {
          "base_uri": "https://localhost:8080/",
          "height": 35
        },
        "id": "RS_HJciQWFbY",
        "outputId": "50560d4f-fe1e-4633-8547-2ab65794dd28"
      },
      "source": [
        "isim[-3:-1:-1]"
      ],
      "execution_count": null,
      "outputs": [
        {
          "data": {
            "application/vnd.google.colaboratory.intrinsic+json": {
              "type": "string"
            },
            "text/plain": [
              "''"
            ]
          },
          "execution_count": 24,
          "metadata": {},
          "output_type": "execute_result"
        }
      ]
    },
    {
      "cell_type": "code",
      "metadata": {
        "colab": {
          "base_uri": "https://localhost:8080/",
          "height": 35
        },
        "id": "6yQZfjFFWFYh",
        "outputId": "bf4b12ba-1ac3-4d4b-e788-7275b25df066"
      },
      "source": [
        "isim[-3:-11:-1]"
      ],
      "execution_count": null,
      "outputs": [
        {
          "data": {
            "application/vnd.google.colaboratory.intrinsic+json": {
              "type": "string"
            },
            "text/plain": [
              "'uko yaws'"
            ]
          },
          "execution_count": 25,
          "metadata": {},
          "output_type": "execute_result"
        }
      ]
    },
    {
      "cell_type": "code",
      "metadata": {
        "colab": {
          "base_uri": "https://localhost:8080/",
          "height": 35
        },
        "id": "DQYxZSdPWFTS",
        "outputId": "bedd4844-98cf-4152-d82a-6af6060f41b7"
      },
      "source": [
        "isim[-3:-11]"
      ],
      "execution_count": null,
      "outputs": [
        {
          "data": {
            "application/vnd.google.colaboratory.intrinsic+json": {
              "type": "string"
            },
            "text/plain": [
              "''"
            ]
          },
          "execution_count": 26,
          "metadata": {},
          "output_type": "execute_result"
        }
      ]
    },
    {
      "cell_type": "code",
      "metadata": {
        "colab": {
          "base_uri": "https://localhost:8080/"
        },
        "id": "08lpIajkWFQa",
        "outputId": "b5d68092-0d34-4f3e-adc0-500ad7bc68a6"
      },
      "source": [
        "num_1 = int(input())\n",
        "num_2 = int(input())\n",
        "num_3 = int(input())\n",
        "total = num_1 * num_2 * num_3 \n",
        "print(\"The multiple of {}, {} and {}  is: {}\".format(num_1, num_2,num_3, total))\n",
        "print(f\"{num_1} * {num_2} * {num_3} = {total}\")"
      ],
      "execution_count": null,
      "outputs": [
        {
          "name": "stdout",
          "output_type": "stream",
          "text": [
            "2\n",
            "3\n",
            "4\n",
            "The multiple of 2, 3 and 4  is: 24\n",
            "2 * 3 * 4 = 24\n"
          ]
        }
      ]
    },
    {
      "cell_type": "code",
      "metadata": {
        "colab": {
          "base_uri": "https://localhost:8080/"
        },
        "id": "85xbLo70Yb8H",
        "outputId": "ef9551fd-1540-46b0-ccfa-2895b0868d2a"
      },
      "source": [
        "weight = int(input(\"Kilonuzu yaziniz (Orn: 80)\"))\n",
        "height = float(input(\"boyunuzu yaziniz (Orn: 1.80)\"))\n",
        "body_mass = weight / height **2\n",
        "print(body_mass)"
      ],
      "execution_count": null,
      "outputs": [
        {
          "name": "stdout",
          "output_type": "stream",
          "text": [
            "Kilonuzu yaziniz (Orn: 80)77\n",
            "boyunuzu yaziniz (Orn: 1.80)1.77\n",
            "24.577867151840145\n"
          ]
        }
      ]
    },
    {
      "cell_type": "code",
      "metadata": {
        "colab": {
          "base_uri": "https://localhost:8080/"
        },
        "id": "jrUC6FTyYb0n",
        "outputId": "25e00365-b263-499b-d517-c16aa55d5d66"
      },
      "source": [
        "# Celsius and Fahrenheit Convert\n",
        "# Fahrenheit = Celsius * 9/5 + 32 formulu ile yapilir\n",
        "\n",
        "Celsius = int(input(\"Celsius: \"))\n",
        "Fahrenheit = Celsius * 9/5 + 32\n",
        "\n",
        "print(Fahrenheit)\n",
        "convert = '{} Celsius degree equals to {} Fahrenheit degree'.format(Celsius, Fahrenheit)\n",
        "print(convert)\n",
        "convert = f\"{Celsius} Celsius degree equals to {Fahrenheit} Fahrenheit degree\"\n",
        "print(convert)\n",
        "\n"
      ],
      "execution_count": null,
      "outputs": [
        {
          "name": "stdout",
          "output_type": "stream",
          "text": [
            "Celsius: 45\n",
            "113.0\n",
            "45 Celsius degree equals to 113.0 Fahrenheit degree\n",
            "45 Celsius degree equals to 113.0 Fahrenheit degree\n"
          ]
        }
      ]
    },
    {
      "cell_type": "code",
      "metadata": {
        "colab": {
          "base_uri": "https://localhost:8080/"
        },
        "id": "ag2aQHxvYbw2",
        "outputId": "fb57f8eb-f7f5-417c-a162-30847f0e68da"
      },
      "source": [
        "# Km and Mil Convert\n",
        "\n",
        "km = int(input(\"Write a km value : \"))\n",
        "mil = km * 0.62137119\n",
        "\n",
        "print(mil)\n",
        "convert = '{} km distance equals to {} mil distance'.format(km, mil)\n",
        "print(convert)\n",
        "convert = f\"{km} km distance equals to {mil} mil distance\"\n",
        "print(convert)\n",
        "\n"
      ],
      "execution_count": null,
      "outputs": [
        {
          "name": "stdout",
          "output_type": "stream",
          "text": [
            "Write a km value : 10\n",
            "6.2137119\n",
            "10 km distance equals to 6.2137119 mil distance\n",
            "10 km distance equals to 6.2137119 mil distance\n"
          ]
        }
      ]
    },
    {
      "cell_type": "code",
      "metadata": {
        "colab": {
          "base_uri": "https://localhost:8080/"
        },
        "id": "K_3VA_QvYbrN",
        "outputId": "8ab85873-8da7-4716-e2d3-01d2e5cf2d99"
      },
      "source": [
        "str_one = \"upper\"\n",
        "str_one += \"case\"\n",
        "print(str_one)"
      ],
      "execution_count": null,
      "outputs": [
        {
          "name": "stdout",
          "output_type": "stream",
          "text": [
            "uppercase\n"
          ]
        }
      ]
    },
    {
      "cell_type": "code",
      "metadata": {
        "colab": {
          "base_uri": "https://localhost:8080/"
        },
        "id": "4x5LVjq7Ybns",
        "outputId": "4b30fe48-ea87-4fe6-cd73-642ff7549e77"
      },
      "source": [
        "text = f\"{str(11) + '11' }\"\n",
        "print(text)"
      ],
      "execution_count": null,
      "outputs": [
        {
          "name": "stdout",
          "output_type": "stream",
          "text": [
            "1111\n"
          ]
        }
      ]
    },
    {
      "cell_type": "code",
      "metadata": {
        "colab": {
          "base_uri": "https://localhost:8080/"
        },
        "id": "tDrRd8q5Ybky",
        "outputId": "b4838384-80dd-4d7d-8e0e-1fad10893888"
      },
      "source": [
        "text = f\"ali veli {'seli'.replace('s', 'd')}\"\n",
        "print(text)"
      ],
      "execution_count": null,
      "outputs": [
        {
          "name": "stdout",
          "output_type": "stream",
          "text": [
            "ali veli deli\n"
          ]
        }
      ]
    },
    {
      "cell_type": "code",
      "metadata": {
        "colab": {
          "base_uri": "https://localhost:8080/"
        },
        "id": "6InVJg2BYbh5",
        "outputId": "9249aaa1-e84c-4640-ba0e-2e9c8f6188e2"
      },
      "source": [
        "name = 'MARIAM'\n",
        "isim = f\" isim {name.capitalize()}\"\n",
        "print(isim)"
      ],
      "execution_count": null,
      "outputs": [
        {
          "name": "stdout",
          "output_type": "stream",
          "text": [
            " isim Mariam\n"
          ]
        }
      ]
    },
    {
      "cell_type": "code",
      "metadata": {
        "colab": {
          "base_uri": "https://localhost:8080/"
        },
        "id": "IMBEMNpiYbfU",
        "outputId": "37cd46dc-9cbb-4146-81e9-bc8bd574ee8f"
      },
      "source": [
        "name = \"Susan\"\n",
        "age = \"young\"\n",
        "gender = \"lady\"\n",
        "school = \"clrwy ıt university\"\n",
        "\n",
        "output_1 = f\"{name} is a {age} {gender} and \\\n",
        "she is a student at the {school}\"\n",
        "print(output_1)"
      ],
      "execution_count": null,
      "outputs": [
        {
          "name": "stdout",
          "output_type": "stream",
          "text": [
            "Susan is a young lady and she is a student at the clrwy ıt university\n"
          ]
        }
      ]
    },
    {
      "cell_type": "code",
      "metadata": {
        "colab": {
          "base_uri": "https://localhost:8080/"
        },
        "id": "heA0-q_7Ybcc",
        "outputId": "66d7579b-921e-488d-e3e9-eb8541663fbb"
      },
      "source": [
        "word = 'clarusway'\n",
        "n = 3\n",
        "front = word[:n] \n",
        "back = word[n+1:]\n",
        "print(front + back)"
      ],
      "execution_count": null,
      "outputs": [
        {
          "name": "stdout",
          "output_type": "stream",
          "text": [
            "clausway\n"
          ]
        }
      ]
    },
    {
      "cell_type": "code",
      "metadata": {
        "colab": {
          "base_uri": "https://localhost:8080/"
        },
        "id": "2wMn1z9PYbZM",
        "outputId": "6d487937-ddaa-4896-dd17-51bd976b77c3"
      },
      "source": [
        "text = \"{} I am a {} programer and I {} Clarusway\".format(\"Hello\", \"new\", \"love\")\n",
        "print(text)\n",
        "\n"
      ],
      "execution_count": null,
      "outputs": [
        {
          "name": "stdout",
          "output_type": "stream",
          "text": [
            "Hello I am a new programer and I love Clarusway\n"
          ]
        }
      ]
    },
    {
      "cell_type": "code",
      "metadata": {
        "colab": {
          "base_uri": "https://localhost:8080/"
        },
        "id": "larAzHDqVwlr",
        "outputId": "fc1056b6-f098-40ef-f7a8-82c9db9e2bdf"
      },
      "source": [
        "city = \"SARAJEVO\"\n",
        "text = f\"I live in {city.capitalize()}.\"\n",
        "print(text)"
      ],
      "execution_count": null,
      "outputs": [
        {
          "name": "stdout",
          "output_type": "stream",
          "text": [
            "I live in Sarajevo.\n"
          ]
        }
      ]
    },
    {
      "cell_type": "code",
      "metadata": {
        "colab": {
          "base_uri": "https://localhost:8080/"
        },
        "id": "Xj6SDVrhYxPq",
        "outputId": "64d8c21d-8a4d-497f-e88c-0739ec6718bc"
      },
      "source": [
        "print(f\"I live in {city.capitalize()}.\")"
      ],
      "execution_count": null,
      "outputs": [
        {
          "name": "stdout",
          "output_type": "stream",
          "text": [
            "I live in Sarajevo.\n"
          ]
        }
      ]
    },
    {
      "cell_type": "code",
      "metadata": {
        "colab": {
          "base_uri": "https://localhost:8080/"
        },
        "id": "URqlrtfbuagz",
        "outputId": "4658fb4c-2a04-4cc9-9e2f-414a59e1b230"
      },
      "source": [
        "5!=6"
      ],
      "execution_count": null,
      "outputs": [
        {
          "data": {
            "text/plain": [
              "True"
            ]
          },
          "execution_count": 1,
          "metadata": {},
          "output_type": "execute_result"
        }
      ]
    },
    {
      "cell_type": "code",
      "metadata": {
        "colab": {
          "base_uri": "https://localhost:8080/"
        },
        "id": "6CJ3sTacuaeM",
        "outputId": "f9fc4293-acb4-47f4-d0eb-fe6e4c465490"
      },
      "source": [
        "for i in range(1, 100, 2):\n",
        "    islem = i * 2 + 10\n",
        "    print(islem)\n",
        "print(\"end\")"
      ],
      "execution_count": null,
      "outputs": [
        {
          "name": "stdout",
          "output_type": "stream",
          "text": [
            "12\n",
            "16\n",
            "20\n",
            "24\n",
            "28\n",
            "32\n",
            "36\n",
            "40\n",
            "44\n",
            "48\n",
            "52\n",
            "56\n",
            "60\n",
            "64\n",
            "68\n",
            "72\n",
            "76\n",
            "80\n",
            "84\n",
            "88\n",
            "92\n",
            "96\n",
            "100\n",
            "104\n",
            "108\n",
            "112\n",
            "116\n",
            "120\n",
            "124\n",
            "128\n",
            "132\n",
            "136\n",
            "140\n",
            "144\n",
            "148\n",
            "152\n",
            "156\n",
            "160\n",
            "164\n",
            "168\n",
            "172\n",
            "176\n",
            "180\n",
            "184\n",
            "188\n",
            "192\n",
            "196\n",
            "200\n",
            "204\n",
            "208\n",
            "end\n"
          ]
        }
      ]
    },
    {
      "cell_type": "code",
      "metadata": {
        "colab": {
          "base_uri": "https://localhost:8080/"
        },
        "id": "ELdEQCOUuaWY",
        "outputId": "b3e38266-3975-4bf8-cfb2-f6b054569dcf"
      },
      "source": [
        "list = [1, 2, 3, 4, 5, 6, 7, 8, 9, 10]\n",
        "for i in list:\n",
        "    print(i)\n",
        "    islem = i ** 2 + 5\n",
        "    print(islem)\n",
        "print(\"End of for loop\")"
      ],
      "execution_count": null,
      "outputs": [
        {
          "name": "stdout",
          "output_type": "stream",
          "text": [
            "1\n",
            "6\n",
            "2\n",
            "9\n",
            "3\n",
            "14\n",
            "4\n",
            "21\n",
            "5\n",
            "30\n",
            "6\n",
            "41\n",
            "7\n",
            "54\n",
            "8\n",
            "69\n",
            "9\n",
            "86\n",
            "10\n",
            "105\n",
            "End of for loop\n"
          ]
        }
      ]
    },
    {
      "cell_type": "code",
      "metadata": {
        "colab": {
          "base_uri": "https://localhost:8080/"
        },
        "id": "2XMON3z3uaTz",
        "outputId": "4eddc4cb-36e1-409c-fe8d-35a7acd02246"
      },
      "source": [
        "age = input(\"Are you a cigarette adict older than 75 years old? True/False: \")\n",
        "chronic = input(\"Do you have a severe chronic disease? True/False: \")\n",
        "immune = input(\"Is your immune system too weak? True/False: \")\n",
        "\n",
        "risk = age or chronic or immune\n",
        "print(\"Your risk factor is: \" + risk)"
      ],
      "execution_count": null,
      "outputs": [
        {
          "name": "stdout",
          "output_type": "stream",
          "text": [
            "Are you a cigarette adict older than 75 years old? True/False: True\n",
            "Do you have a severe chronic disease? True/False: False\n",
            "Is your immune system too weak? True/False: False\n",
            "Your risk factor is: True\n"
          ]
        }
      ]
    },
    {
      "cell_type": "code",
      "metadata": {
        "colab": {
          "base_uri": "https://localhost:8080/"
        },
        "id": "G9acubEZuaRQ",
        "outputId": "88822fac-fa61-42b8-8374-49e55e84ae25"
      },
      "source": [
        "age = input(\"Are you a cigarette adict older than 75 years old? True/False: \")\n",
        "chronic = input(\"Do you have a severe chronic disease? True/False: \")\n",
        "immune = input(\"Is your immune system too weak? True/False: \")\n",
        "\n",
        "risk = age or chronic or immune\n",
        "print(\"Your risk factor is: \" + risk)"
      ],
      "execution_count": null,
      "outputs": [
        {
          "name": "stdout",
          "output_type": "stream",
          "text": [
            "Are you a cigarette adict older than 75 years old? True/False: False\n",
            "Do you have a severe chronic disease? True/False: False\n",
            "Is your immune system too weak? True/False: True\n",
            "Your risk factor is: False\n"
          ]
        }
      ]
    },
    {
      "cell_type": "code",
      "metadata": {
        "colab": {
          "base_uri": "https://localhost:8080/"
        },
        "id": "qVCdACJRuaOR",
        "outputId": "038e3ed1-3c36-459e-c8e3-c5131f3fb71b"
      },
      "source": [
        "nmr = [5, 8, 10, 3]\n",
        "\n",
        "nmr.sort()\n",
        "print(nmr)"
      ],
      "execution_count": null,
      "outputs": [
        {
          "name": "stdout",
          "output_type": "stream",
          "text": [
            "[3, 5, 8, 10]\n"
          ]
        }
      ]
    },
    {
      "cell_type": "code",
      "metadata": {
        "colab": {
          "base_uri": "https://localhost:8080/"
        },
        "id": "L496pMqyuaLP",
        "outputId": "f20f0eba-4707-4ddb-e0d3-b603a348d621"
      },
      "source": [
        "city_list = [['New York', 'London', 'Istanbul', 'Seoul', 'Sydney']]\n",
        "print(city_list[0][0][0])"
      ],
      "execution_count": null,
      "outputs": [
        {
          "name": "stdout",
          "output_type": "stream",
          "text": [
            "N\n"
          ]
        }
      ]
    },
    {
      "cell_type": "code",
      "metadata": {
        "colab": {
          "base_uri": "https://localhost:8080/"
        },
        "id": "Ren6sviduaIT",
        "outputId": "95623192-2442-4ae6-85a2-d788b2baa5dd"
      },
      "source": [
        "city_list = [['New York', 'London', 'Istanbul', 'Seoul', 'Sydney']]\n",
        "print(city_list[0][2][3])"
      ],
      "execution_count": null,
      "outputs": [
        {
          "name": "stdout",
          "output_type": "stream",
          "text": [
            "a\n"
          ]
        }
      ]
    },
    {
      "cell_type": "code",
      "metadata": {
        "colab": {
          "base_uri": "https://localhost:8080/"
        },
        "id": "AAk31vq_uaFg",
        "outputId": "286d01b1-0f0b-45e4-ca86-3ccb8a1ef976"
      },
      "source": [
        "list(range(8))"
      ],
      "execution_count": null,
      "outputs": [
        {
          "data": {
            "text/plain": [
              "[0, 1, 2, 3, 4, 5, 6, 7]"
            ]
          },
          "execution_count": 1,
          "metadata": {},
          "output_type": "execute_result"
        }
      ]
    },
    {
      "cell_type": "code",
      "metadata": {
        "colab": {
          "base_uri": "https://localhost:8080/"
        },
        "id": "JE4VsDBAuaCC",
        "outputId": "50fcee5e-1812-43b1-dce6-6d45199ba1a2"
      },
      "source": [
        "print(len(\"ajajajs\"))"
      ],
      "execution_count": null,
      "outputs": [
        {
          "name": "stdout",
          "output_type": "stream",
          "text": [
            "7\n"
          ]
        }
      ]
    },
    {
      "cell_type": "code",
      "metadata": {
        "colab": {
          "base_uri": "https://localhost:8080/"
        },
        "id": "AIQeIflcaaXF",
        "outputId": "158d554b-723d-4263-99a3-3bd6ab579105"
      },
      "source": [
        "print(len([[12, 34, 56]]))"
      ],
      "execution_count": null,
      "outputs": [
        {
          "name": "stdout",
          "output_type": "stream",
          "text": [
            "1\n"
          ]
        }
      ]
    },
    {
      "cell_type": "code",
      "metadata": {
        "colab": {
          "base_uri": "https://localhost:8080/"
        },
        "id": "IoTxIFoKF4Bb",
        "outputId": "85b87127-47c6-42ea-be00-e4c66e0a4604"
      },
      "source": [
        "print(len([[12, 34, 56]][0]))"
      ],
      "execution_count": null,
      "outputs": [
        {
          "name": "stdout",
          "output_type": "stream",
          "text": [
            "3\n"
          ]
        }
      ]
    },
    {
      "cell_type": "code",
      "metadata": {
        "colab": {
          "base_uri": "https://localhost:8080/"
        },
        "id": "c_s4RM6rIIA6",
        "outputId": "0e5fb48f-232a-450d-e708-5d4ac9a854da"
      },
      "source": [
        "print(len([[12,34]] [0]))"
      ],
      "execution_count": null,
      "outputs": [
        {
          "name": "stdout",
          "output_type": "stream",
          "text": [
            "2\n"
          ]
        }
      ]
    },
    {
      "cell_type": "code",
      "metadata": {
        "colab": {
          "base_uri": "https://localhost:8080/"
        },
        "id": "cJ4-mx2EJi0A",
        "outputId": "032bea86-a925-4ec4-d518-17d69c6a8096"
      },
      "source": [
        "nmr = \"317\"\n",
        "print(nmr.endswith(\"7\"))"
      ],
      "execution_count": null,
      "outputs": [
        {
          "name": "stdout",
          "output_type": "stream",
          "text": [
            "True\n"
          ]
        }
      ]
    },
    {
      "cell_type": "code",
      "metadata": {
        "colab": {
          "base_uri": "https://localhost:8080/"
        },
        "id": "kJqeRbwiYrUM",
        "outputId": "52b3725d-0950-47c4-aa7e-040ac7156aba"
      },
      "source": [
        "text = \"clarucway\"\n",
        "text = text.replace(\"c\", \"C\", 1)\n",
        "print(text)"
      ],
      "execution_count": null,
      "outputs": [
        {
          "name": "stdout",
          "output_type": "stream",
          "text": [
            "Clarucway\n"
          ]
        }
      ]
    },
    {
      "cell_type": "code",
      "metadata": {
        "colab": {
          "base_uri": "https://localhost:8080/"
        },
        "id": "66qEqB3DdaUU",
        "outputId": "ac006198-5d6a-4eb8-d051-f5fbc58a78d2"
      },
      "source": [
        "abc = \"kamara\"\n",
        "abc = abc.strip(\"a\")\n",
        "print(abc)"
      ],
      "execution_count": null,
      "outputs": [
        {
          "name": "stdout",
          "output_type": "stream",
          "text": [
            "kamar\n"
          ]
        }
      ]
    },
    {
      "cell_type": "code",
      "metadata": {
        "colab": {
          "base_uri": "https://localhost:8080/"
        },
        "id": "5e9V31cxmfdA",
        "outputId": "65f304f2-6a36-4fdd-e309-a50595fca401"
      },
      "source": [
        "text = \"tasldsssafdksaks  mslasy\"\n",
        "text = text.lstrip(\"t\").rstrip(\"y\").upper()\n",
        "print(text)"
      ],
      "execution_count": null,
      "outputs": [
        {
          "name": "stdout",
          "output_type": "stream",
          "text": [
            "ASLDSSSAFDKSAKS  MSLAS\n"
          ]
        }
      ]
    },
    {
      "cell_type": "code",
      "metadata": {
        "colab": {
          "base_uri": "https://localhost:8080/"
        },
        "id": "VKBbIGurqEAf",
        "outputId": "d2e71340-4329-4693-a9c5-e6ed9624490a"
      },
      "source": [
        "text = text.strip(\"ty\").upper()\n",
        "print(text)"
      ],
      "execution_count": null,
      "outputs": [
        {
          "name": "stdout",
          "output_type": "stream",
          "text": [
            "ASLDSSSAFDKSAKS  MSLAS\n"
          ]
        }
      ]
    },
    {
      "cell_type": "code",
      "metadata": {
        "colab": {
          "base_uri": "https://localhost:8080/"
        },
        "id": "xy00HyGirDqI",
        "outputId": "54fbfe99-ca35-4313-e1ec-efdc89c43baa"
      },
      "source": [
        "task = \"{:.2}, {:.3}, {:.4}\".format(\"a3.1234\", \"5.b3545\", \"7.3243ft\")\n",
        "print(task)"
      ],
      "execution_count": null,
      "outputs": [
        {
          "name": "stdout",
          "output_type": "stream",
          "text": [
            "a3, 5.b, 7.32\n"
          ]
        }
      ]
    },
    {
      "cell_type": "code",
      "metadata": {
        "colab": {
          "base_uri": "https://localhost:8080/"
        },
        "id": "TVjcfBOsJ8eD",
        "outputId": "f5ac9474-4607-4917-d45e-34bb961d5f5a"
      },
      "source": [
        "numbers = [1, 3, 7, 4, 3, 0, 3, 6, 3 ]\n",
        "\n",
        "numbers.count(3)\n"
      ],
      "execution_count": null,
      "outputs": [
        {
          "data": {
            "text/plain": [
              "4"
            ]
          },
          "execution_count": 45,
          "metadata": {},
          "output_type": "execute_result"
        }
      ]
    },
    {
      "cell_type": "code",
      "metadata": {
        "colab": {
          "base_uri": "https://localhost:8080/",
          "height": 214
        },
        "id": "9J0p_cMX6148",
        "outputId": "88abc515-e16d-42e0-d7c9-63ddec112075"
      },
      "source": [
        "numbers = [1, 3, 7, 4, 3, 0, 3, 6, 3 ]\n",
        "numbers.sort()\n",
        "print(numbers)\n",
        "numbers.most_common()\n"
      ],
      "execution_count": null,
      "outputs": [
        {
          "name": "stdout",
          "output_type": "stream",
          "text": [
            "[0, 1, 3, 3, 3, 3, 4, 6, 7]\n"
          ]
        },
        {
          "ename": "AttributeError",
          "evalue": "ignored",
          "output_type": "error",
          "traceback": [
            "\u001b[0;31m---------------------------------------------------------------------------\u001b[0m",
            "\u001b[0;31mAttributeError\u001b[0m                            Traceback (most recent call last)",
            "\u001b[0;32m<ipython-input-37-6e1c0f41f55f>\u001b[0m in \u001b[0;36m<module>\u001b[0;34m()\u001b[0m\n\u001b[1;32m      2\u001b[0m \u001b[0mnumbers\u001b[0m\u001b[0;34m.\u001b[0m\u001b[0msort\u001b[0m\u001b[0;34m(\u001b[0m\u001b[0;34m)\u001b[0m\u001b[0;34m\u001b[0m\u001b[0;34m\u001b[0m\u001b[0m\n\u001b[1;32m      3\u001b[0m \u001b[0mprint\u001b[0m\u001b[0;34m(\u001b[0m\u001b[0mnumbers\u001b[0m\u001b[0;34m)\u001b[0m\u001b[0;34m\u001b[0m\u001b[0;34m\u001b[0m\u001b[0m\n\u001b[0;32m----> 4\u001b[0;31m \u001b[0mnumbers\u001b[0m\u001b[0;34m.\u001b[0m\u001b[0mmost_common\u001b[0m\u001b[0;34m(\u001b[0m\u001b[0;34m)\u001b[0m\u001b[0;34m\u001b[0m\u001b[0;34m\u001b[0m\u001b[0m\n\u001b[0m",
            "\u001b[0;31mAttributeError\u001b[0m: 'list' object has no attribute 'most_common'"
          ]
        }
      ]
    },
    {
      "cell_type": "code",
      "metadata": {
        "colab": {
          "base_uri": "https://localhost:8080/"
        },
        "id": "jYooGgPMNLvY",
        "outputId": "c5a1e44d-3c14-4bc1-a9f1-9c9396773d02"
      },
      "source": [
        "(numbers.count(3))\n"
      ],
      "execution_count": null,
      "outputs": [
        {
          "data": {
            "text/plain": [
              "4"
            ]
          },
          "execution_count": 31,
          "metadata": {},
          "output_type": "execute_result"
        }
      ]
    },
    {
      "cell_type": "code",
      "metadata": {
        "colab": {
          "base_uri": "https://localhost:8080/"
        },
        "id": "l_tBBCHFNLr2",
        "outputId": "98abbc4f-a288-4216-af35-026d91ad2529"
      },
      "source": [
        " import random\n",
        "# rastgele bir rakam secebiliriz bu kodla\n",
        "print(random.randrange(1, 10))"
      ],
      "execution_count": null,
      "outputs": [
        {
          "name": "stdout",
          "output_type": "stream",
          "text": [
            "9\n"
          ]
        }
      ]
    },
    {
      "cell_type": "code",
      "metadata": {
        "colab": {
          "base_uri": "https://localhost:8080/"
        },
        "id": "KjxOiCZ1NLic",
        "outputId": "b6e84a99-f140-43e2-a7cf-5c607dddb769"
      },
      "source": [
        "a = [1, 3, 7, 4, 3, 0, 3, 6, 3] \n",
        "c = Counter(a) \n",
        "print(c)"
      ],
      "execution_count": null,
      "outputs": [
        {
          "name": "stdout",
          "output_type": "stream",
          "text": [
            "Counter({3: 4, 1: 1, 7: 1, 4: 1, 0: 1, 6: 1})\n"
          ]
        }
      ]
    },
    {
      "cell_type": "code",
      "metadata": {
        "colab": {
          "base_uri": "https://localhost:8080/",
          "height": 197
        },
        "id": "QDyf1OkEM5Gh",
        "outputId": "fca1b16f-1c56-4963-f7b8-4e607e2061a0"
      },
      "source": [
        "number = [1, 3, 7, 4, 3, 0, 3, 6, 3]\n",
        "Counter(number)\n",
        "Counter(number).most_common(1)\n"
      ],
      "execution_count": null,
      "outputs": [
        {
          "ename": "NameError",
          "evalue": "ignored",
          "output_type": "error",
          "traceback": [
            "\u001b[0;31m---------------------------------------------------------------------------\u001b[0m",
            "\u001b[0;31mNameError\u001b[0m                                 Traceback (most recent call last)",
            "\u001b[0;32m<ipython-input-38-fc45b05cd7f8>\u001b[0m in \u001b[0;36m<module>\u001b[0;34m()\u001b[0m\n\u001b[1;32m      1\u001b[0m \u001b[0mnumber\u001b[0m \u001b[0;34m=\u001b[0m \u001b[0;34m[\u001b[0m\u001b[0;36m1\u001b[0m\u001b[0;34m,\u001b[0m \u001b[0;36m3\u001b[0m\u001b[0;34m,\u001b[0m \u001b[0;36m7\u001b[0m\u001b[0;34m,\u001b[0m \u001b[0;36m4\u001b[0m\u001b[0;34m,\u001b[0m \u001b[0;36m3\u001b[0m\u001b[0;34m,\u001b[0m \u001b[0;36m0\u001b[0m\u001b[0;34m,\u001b[0m \u001b[0;36m3\u001b[0m\u001b[0;34m,\u001b[0m \u001b[0;36m6\u001b[0m\u001b[0;34m,\u001b[0m \u001b[0;36m3\u001b[0m\u001b[0;34m]\u001b[0m\u001b[0;34m\u001b[0m\u001b[0;34m\u001b[0m\u001b[0m\n\u001b[0;32m----> 2\u001b[0;31m \u001b[0mCounter\u001b[0m\u001b[0;34m(\u001b[0m\u001b[0mnumber\u001b[0m\u001b[0;34m)\u001b[0m\u001b[0;34m\u001b[0m\u001b[0;34m\u001b[0m\u001b[0m\n\u001b[0m\u001b[1;32m      3\u001b[0m \u001b[0mCounter\u001b[0m\u001b[0;34m(\u001b[0m\u001b[0mnumber\u001b[0m\u001b[0;34m)\u001b[0m\u001b[0;34m.\u001b[0m\u001b[0mmost_common\u001b[0m\u001b[0;34m(\u001b[0m\u001b[0;36m1\u001b[0m\u001b[0;34m)\u001b[0m\u001b[0;34m\u001b[0m\u001b[0;34m\u001b[0m\u001b[0m\n",
            "\u001b[0;31mNameError\u001b[0m: name 'Counter' is not defined"
          ]
        }
      ]
    },
    {
      "cell_type": "code",
      "metadata": {
        "colab": {
          "base_uri": "https://localhost:8080/",
          "height": 231
        },
        "id": "Rg24Mk7SZtd8",
        "outputId": "a4f8eae4-2a0b-48e5-8050-ed4c501440d1"
      },
      "source": [
        "from collections import Counter\n",
        "a = [1, 3, 7, 4, 3, 0, 3, 6, 3] \n",
        "c = Counter(a)\n",
        "d = c.most_common(1)\n",
        "print(c)\n",
        "print(d[0]) # the one most common element...\n",
        "\n",
        "print"
      ],
      "execution_count": null,
      "outputs": [
        {
          "name": "stdout",
          "output_type": "stream",
          "text": [
            "Counter({3: 4, 1: 1, 7: 1, 4: 1, 0: 1, 6: 1})\n",
            "(3, 4)\n"
          ]
        },
        {
          "ename": "IndexError",
          "evalue": "ignored",
          "output_type": "error",
          "traceback": [
            "\u001b[0;31m---------------------------------------------------------------------------\u001b[0m",
            "\u001b[0;31mIndexError\u001b[0m                                Traceback (most recent call last)",
            "\u001b[0;32m<ipython-input-42-091edfd6a647>\u001b[0m in \u001b[0;36m<module>\u001b[0;34m()\u001b[0m\n\u001b[1;32m      6\u001b[0m \u001b[0mprint\u001b[0m\u001b[0;34m(\u001b[0m\u001b[0md\u001b[0m\u001b[0;34m[\u001b[0m\u001b[0;36m0\u001b[0m\u001b[0;34m]\u001b[0m\u001b[0;34m)\u001b[0m \u001b[0;31m# the one most common element...\u001b[0m\u001b[0;34m\u001b[0m\u001b[0;34m\u001b[0m\u001b[0m\n\u001b[1;32m      7\u001b[0m \u001b[0;34m\u001b[0m\u001b[0m\n\u001b[0;32m----> 8\u001b[0;31m \u001b[0mprint\u001b[0m\u001b[0;34m(\u001b[0m\u001b[0;34m'dffgfh {} ggfh {} '\u001b[0m\u001b[0;34m.\u001b[0m\u001b[0mformat\u001b[0m\u001b[0;34m(\u001b[0m\u001b[0md\u001b[0m\u001b[0;34m[\u001b[0m\u001b[0;36m0\u001b[0m\u001b[0;34m]\u001b[0m\u001b[0;34m)\u001b[0m\u001b[0;34m)\u001b[0m\u001b[0;34m\u001b[0m\u001b[0;34m\u001b[0m\u001b[0m\n\u001b[0m",
            "\u001b[0;31mIndexError\u001b[0m: tuple index out of range"
          ]
        }
      ]
    },
    {
      "cell_type": "code",
      "metadata": {
        "colab": {
          "base_uri": "https://localhost:8080/"
        },
        "id": "E5SZkeG8clpM",
        "outputId": "e766bd40-6ff9-48f0-c889-37c40d33b7e8"
      },
      "source": [
        "a = [1, 3, 7, 4, 3, 0, 3, 6, 3] \n",
        "c = Counter(a)\n",
        "d = c.most_common(1)\n",
        "print(c)\n",
        "print(c.most_common(1)) # the one most common element...\n",
        "d[0]"
      ],
      "execution_count": null,
      "outputs": [
        {
          "name": "stdout",
          "output_type": "stream",
          "text": [
            "Counter({3: 4, 1: 1, 7: 1, 4: 1, 0: 1, 6: 1})\n",
            "[(3, 4)]\n"
          ]
        },
        {
          "data": {
            "text/plain": [
              "(3, 4)"
            ]
          },
          "execution_count": 80,
          "metadata": {},
          "output_type": "execute_result"
        }
      ]
    },
    {
      "cell_type": "code",
      "metadata": {
        "colab": {
          "base_uri": "https://localhost:8080/"
        },
        "id": "rXq7jXh8c45Z",
        "outputId": "88ea989a-5a29-426f-a1bf-bf72f8ab173b"
      },
      "source": [
        "print(chr(ord('b')+1))\n",
        "\n"
      ],
      "execution_count": null,
      "outputs": [
        {
          "name": "stdout",
          "output_type": "stream",
          "text": [
            "c\n"
          ]
        }
      ]
    },
    {
      "cell_type": "code",
      "metadata": {
        "colab": {
          "base_uri": "https://localhost:8080/",
          "height": 214
        },
        "id": "2LR_aATsPpbi",
        "outputId": "eea7ac4b-a97b-47af-ec87-0099b68789eb"
      },
      "source": [
        "numbers = [1, 3, 7, 4, 3, 0, 3, 6, 3]\n",
        "\n",
        "Counter(numbers).most_common(1)\n",
        " "
      ],
      "execution_count": null,
      "outputs": [
        {
          "ename": "NameError",
          "evalue": "ignored",
          "output_type": "error",
          "traceback": [
            "\u001b[0;31m---------------------------------------------------------------------------\u001b[0m",
            "\u001b[0;31mNameError\u001b[0m                                 Traceback (most recent call last)",
            "\u001b[0;32m<ipython-input-3-2129cef5daf0>\u001b[0m in \u001b[0;36m<module>\u001b[0;34m()\u001b[0m\n\u001b[1;32m      1\u001b[0m \u001b[0mnumbers\u001b[0m \u001b[0;34m=\u001b[0m \u001b[0;34m[\u001b[0m\u001b[0;36m1\u001b[0m\u001b[0;34m,\u001b[0m \u001b[0;36m3\u001b[0m\u001b[0;34m,\u001b[0m \u001b[0;36m7\u001b[0m\u001b[0;34m,\u001b[0m \u001b[0;36m4\u001b[0m\u001b[0;34m,\u001b[0m \u001b[0;36m3\u001b[0m\u001b[0;34m,\u001b[0m \u001b[0;36m0\u001b[0m\u001b[0;34m,\u001b[0m \u001b[0;36m3\u001b[0m\u001b[0;34m,\u001b[0m \u001b[0;36m6\u001b[0m\u001b[0;34m,\u001b[0m \u001b[0;36m3\u001b[0m\u001b[0;34m]\u001b[0m\u001b[0;34m\u001b[0m\u001b[0;34m\u001b[0m\u001b[0m\n\u001b[1;32m      2\u001b[0m \u001b[0;34m\u001b[0m\u001b[0m\n\u001b[0;32m----> 3\u001b[0;31m \u001b[0mCounter\u001b[0m\u001b[0;34m(\u001b[0m\u001b[0mnumbers\u001b[0m\u001b[0;34m)\u001b[0m\u001b[0;34m.\u001b[0m\u001b[0mmost_common\u001b[0m\u001b[0;34m(\u001b[0m\u001b[0;36m1\u001b[0m\u001b[0;34m)\u001b[0m\u001b[0;34m\u001b[0m\u001b[0;34m\u001b[0m\u001b[0m\n\u001b[0m\u001b[1;32m      4\u001b[0m \u001b[0;34m\u001b[0m\u001b[0m\n",
            "\u001b[0;31mNameError\u001b[0m: name 'Counter' is not defined"
          ]
        }
      ]
    },
    {
      "cell_type": "code",
      "metadata": {
        "colab": {
          "base_uri": "https://localhost:8080/"
        },
        "id": "ebFVVCjg62m8",
        "outputId": "3d678532-4c1d-4e10-911a-73865ad36062"
      },
      "source": [
        "Counter('12332323')"
      ],
      "execution_count": null,
      "outputs": [
        {
          "data": {
            "text/plain": [
              "Counter({'1': 1, '2': 3, '3': 4})"
            ]
          },
          "execution_count": 56,
          "metadata": {},
          "output_type": "execute_result"
        }
      ]
    },
    {
      "cell_type": "code",
      "metadata": {
        "colab": {
          "base_uri": "https://localhost:8080/",
          "height": 129
        },
        "id": "U1_r0PdGJ8Ut",
        "outputId": "1c9887c9-baa8-430f-ae80-34d970520b47"
      },
      "source": [
        "from collections import Counter\n",
        "a = [1, 3, 7, 4, 3, 0, 3, 6, 3] \n",
        "c = Counter(a)\n",
        "print(c.most_common(1)) # the one most common element...\n",
        "\n",
        "\n",
        "# def def __init__(*args, **kwds)\n",
        "Dict subclass for counting hashable items. Sometimes called a bag or multiset. \n",
        "Elements are stored as dictionary keys and their counts are stored as dictionary values.\n",
        "\n",
        ">>> c = Counter('abcdeabcdabcaba')  # count elements from a string\n",
        ">>> c.most_common(3)                # three most common elements\n",
        "[('a', 5), ('b', 4), ('c', 3)]\n",
        ">>> sorted(c)                       # list all unique elements\n",
        "['a', 'b', 'c', 'd', 'e']\n",
        ">>> ''.join(sorted(c.elements()))   # list elements with repetitions\n",
        "'aaaaabbbbcccdde'\n",
        ">>> sum(c.values())                 # total of all counts\n",
        "15\n",
        ">>> c['a']                          # count of letter 'a'\n",
        "5\n",
        ">>> for elem in 'shazam':           # update counts from an iterable\n",
        "...     c[elem] += 1                # by adding 1 to each element's count\n",
        ">>> c['a']                          # now there are seven 'a'\n",
        "7\n",
        ">>> del c['b']                      # remove all 'b'\n",
        ">>> c['b']                          # now there are zero 'b'\n",
        "0\n",
        ">>> d = Counter('simsalabim')       # make another counter\n",
        ">>> c.update(d)                     # add in the second counter\n",
        ">>> c['a']                          # now there are nine 'a'\n",
        "9\n",
        ">>> c.clear()                       # empty the counter\n",
        ">>> c\n",
        "Counter()\n",
        "Note: If a count is set to zero or reduced to zero, it will remain in the counter until the entry is deleted or the counter is cleared:\n",
        "\n",
        ">>> c = Counter('aaabbc')\n",
        ">>> c['b'] -= 2                     # reduce the count of 'b' by two\n",
        ">>> c.most_common()                 # 'b' is still in, but its count is zero\n",
        "[('a', 3), ('c', 1), ('b', 0)]\n",
        "\n"
      ],
      "execution_count": null,
      "outputs": [
        {
          "ename": "SyntaxError",
          "evalue": "ignored",
          "output_type": "error",
          "traceback": [
            "\u001b[0;36m  File \u001b[0;32m\"<ipython-input-58-ffe9412f56bf>\"\u001b[0;36m, line \u001b[0;32m8\u001b[0m\n\u001b[0;31m    Dict subclass for counting hashable items. Sometimes called a bag or multiset.\u001b[0m\n\u001b[0m                ^\u001b[0m\n\u001b[0;31mSyntaxError\u001b[0m\u001b[0;31m:\u001b[0m invalid syntax\n"
          ]
        }
      ]
    },
    {
      "cell_type": "code",
      "metadata": {
        "colab": {
          "base_uri": "https://localhost:8080/"
        },
        "id": "znKeyLj7J8SO",
        "outputId": "675c5273-581f-4aa4-b57a-293bedbb6c38"
      },
      "source": [
        "abc = (\"abcccdabbabbbdd\")\n",
        "c = Counter(abc)\n",
        "print(c.most_common(1))"
      ],
      "execution_count": null,
      "outputs": [
        {
          "name": "stdout",
          "output_type": "stream",
          "text": [
            "[('b', 6)]\n"
          ]
        }
      ]
    },
    {
      "cell_type": "code",
      "metadata": {
        "colab": {
          "base_uri": "https://localhost:8080/",
          "height": 197
        },
        "id": "pRFFZa-UJ8QJ",
        "outputId": "dbb58fb9-e341-4cb5-ed12-17d9c493f969"
      },
      "source": [
        "liste = [1, 3, 7, 4, 3, 0, 3, 6, 3]\n",
        "\n",
        "print(Counter(liste).most_common(1), \"{}\".format(\"the most frequent number is 3 and it was 4 times repeated.\"))"
      ],
      "execution_count": null,
      "outputs": [
        {
          "ename": "NameError",
          "evalue": "ignored",
          "output_type": "error",
          "traceback": [
            "\u001b[0;31m---------------------------------------------------------------------------\u001b[0m",
            "\u001b[0;31mNameError\u001b[0m                                 Traceback (most recent call last)",
            "\u001b[0;32m<ipython-input-30-e662156741e1>\u001b[0m in \u001b[0;36m<module>\u001b[0;34m()\u001b[0m\n\u001b[1;32m      1\u001b[0m \u001b[0mliste\u001b[0m \u001b[0;34m=\u001b[0m \u001b[0;34m[\u001b[0m\u001b[0;36m1\u001b[0m\u001b[0;34m,\u001b[0m \u001b[0;36m3\u001b[0m\u001b[0;34m,\u001b[0m \u001b[0;36m7\u001b[0m\u001b[0;34m,\u001b[0m \u001b[0;36m4\u001b[0m\u001b[0;34m,\u001b[0m \u001b[0;36m3\u001b[0m\u001b[0;34m,\u001b[0m \u001b[0;36m0\u001b[0m\u001b[0;34m,\u001b[0m \u001b[0;36m3\u001b[0m\u001b[0;34m,\u001b[0m \u001b[0;36m6\u001b[0m\u001b[0;34m,\u001b[0m \u001b[0;36m3\u001b[0m\u001b[0;34m]\u001b[0m\u001b[0;34m\u001b[0m\u001b[0;34m\u001b[0m\u001b[0m\n\u001b[1;32m      2\u001b[0m \u001b[0;34m\u001b[0m\u001b[0m\n\u001b[0;32m----> 3\u001b[0;31m \u001b[0mprint\u001b[0m\u001b[0;34m(\u001b[0m\u001b[0mCounter\u001b[0m\u001b[0;34m(\u001b[0m\u001b[0mliste\u001b[0m\u001b[0;34m)\u001b[0m\u001b[0;34m.\u001b[0m\u001b[0mmost_common\u001b[0m\u001b[0;34m(\u001b[0m\u001b[0;36m1\u001b[0m\u001b[0;34m)\u001b[0m\u001b[0;34m,\u001b[0m \u001b[0;34m\"{}\"\u001b[0m\u001b[0;34m.\u001b[0m\u001b[0mformat\u001b[0m\u001b[0;34m(\u001b[0m\u001b[0;34m\"the most frequent number is 3 and it was 4 times repeated.\"\u001b[0m\u001b[0;34m)\u001b[0m\u001b[0;34m)\u001b[0m\u001b[0;34m\u001b[0m\u001b[0;34m\u001b[0m\u001b[0m\n\u001b[0m",
            "\u001b[0;31mNameError\u001b[0m: name 'Counter' is not defined"
          ]
        }
      ]
    },
    {
      "cell_type": "code",
      "metadata": {
        "colab": {
          "base_uri": "https://localhost:8080/",
          "height": 129
        },
        "id": "uz800JowJ8C2",
        "outputId": "ca5633ed-ef87-4a9b-8c68-18bc68d6c4cb"
      },
      "source": [
        "c = [1, 3, 7, 4, 3, 0, 3, 6, 3]\n",
        "c = (Counter([1, 3, 7, 4, 3, 0, 3, 6, 3]).most_common(1)\n",
        "print(c)\n",
        "\n"
      ],
      "execution_count": null,
      "outputs": [
        {
          "ename": "SyntaxError",
          "evalue": "ignored",
          "output_type": "error",
          "traceback": [
            "\u001b[0;36m  File \u001b[0;32m\"<ipython-input-26-086df2b7402f>\"\u001b[0;36m, line \u001b[0;32m3\u001b[0m\n\u001b[0;31m    print(c)\u001b[0m\n\u001b[0m        ^\u001b[0m\n\u001b[0;31mSyntaxError\u001b[0m\u001b[0;31m:\u001b[0m invalid syntax\n"
          ]
        }
      ]
    },
    {
      "cell_type": "code",
      "metadata": {
        "colab": {
          "base_uri": "https://localhost:8080/"
        },
        "id": "qSmGvVrvet_5",
        "outputId": "62086471-28e3-4f44-fb0e-072c47df4dbf"
      },
      "source": [
        "my_list = [1, 2, 3, 4, 5, 6]\n",
        "new_list = []\n",
        "\n",
        "my_list"
      ],
      "execution_count": null,
      "outputs": [
        {
          "data": {
            "text/plain": [
              "[1, 2, 3, 4, 5, 6]"
            ]
          },
          "execution_count": 13,
          "metadata": {},
          "output_type": "execute_result"
        }
      ]
    },
    {
      "cell_type": "code",
      "metadata": {
        "colab": {
          "base_uri": "https://localhost:8080/",
          "height": 214
        },
        "id": "m71NW0VhetyH",
        "outputId": "91a0a006-9f3b-473b-b4fa-c4ddf6386aed"
      },
      "source": [
        "c = Counter([1, 3, 7, 4, 3, 0, 3, 6, 3]).most_common(1)\n",
        "c[0]\n",
        "print(c[0])\n",
        "print(\"the most frequent number is {} and it was {} times repeated\".format(3, 4)) "
      ],
      "execution_count": null,
      "outputs": [
        {
          "ename": "NameError",
          "evalue": "ignored",
          "output_type": "error",
          "traceback": [
            "\u001b[0;31m---------------------------------------------------------------------------\u001b[0m",
            "\u001b[0;31mNameError\u001b[0m                                 Traceback (most recent call last)",
            "\u001b[0;32m<ipython-input-16-b75878348799>\u001b[0m in \u001b[0;36m<module>\u001b[0;34m()\u001b[0m\n\u001b[0;32m----> 1\u001b[0;31m \u001b[0mc\u001b[0m \u001b[0;34m=\u001b[0m \u001b[0mCounter\u001b[0m\u001b[0;34m(\u001b[0m\u001b[0;34m[\u001b[0m\u001b[0;36m1\u001b[0m\u001b[0;34m,\u001b[0m \u001b[0;36m3\u001b[0m\u001b[0;34m,\u001b[0m \u001b[0;36m7\u001b[0m\u001b[0;34m,\u001b[0m \u001b[0;36m4\u001b[0m\u001b[0;34m,\u001b[0m \u001b[0;36m3\u001b[0m\u001b[0;34m,\u001b[0m \u001b[0;36m0\u001b[0m\u001b[0;34m,\u001b[0m \u001b[0;36m3\u001b[0m\u001b[0;34m,\u001b[0m \u001b[0;36m6\u001b[0m\u001b[0;34m,\u001b[0m \u001b[0;36m3\u001b[0m\u001b[0;34m]\u001b[0m\u001b[0;34m)\u001b[0m\u001b[0;34m.\u001b[0m\u001b[0mmost_common\u001b[0m\u001b[0;34m(\u001b[0m\u001b[0;36m1\u001b[0m\u001b[0;34m)\u001b[0m\u001b[0;34m\u001b[0m\u001b[0;34m\u001b[0m\u001b[0m\n\u001b[0m\u001b[1;32m      2\u001b[0m \u001b[0mc\u001b[0m\u001b[0;34m[\u001b[0m\u001b[0;36m0\u001b[0m\u001b[0;34m]\u001b[0m\u001b[0;34m\u001b[0m\u001b[0;34m\u001b[0m\u001b[0m\n\u001b[1;32m      3\u001b[0m \u001b[0mprint\u001b[0m\u001b[0;34m(\u001b[0m\u001b[0mc\u001b[0m\u001b[0;34m[\u001b[0m\u001b[0;36m0\u001b[0m\u001b[0;34m]\u001b[0m\u001b[0;34m)\u001b[0m\u001b[0;34m\u001b[0m\u001b[0;34m\u001b[0m\u001b[0m\n\u001b[1;32m      4\u001b[0m \u001b[0mprint\u001b[0m\u001b[0;34m(\u001b[0m\u001b[0;34m\"the most frequent number is {} and it was {} times repeated\"\u001b[0m\u001b[0;34m.\u001b[0m\u001b[0mformat\u001b[0m\u001b[0;34m(\u001b[0m\u001b[0;36m3\u001b[0m\u001b[0;34m,\u001b[0m \u001b[0;36m4\u001b[0m\u001b[0;34m)\u001b[0m\u001b[0;34m)\u001b[0m\u001b[0;34m\u001b[0m\u001b[0;34m\u001b[0m\u001b[0m\n",
            "\u001b[0;31mNameError\u001b[0m: name 'Counter' is not defined"
          ]
        }
      ]
    },
    {
      "cell_type": "code",
      "metadata": {
        "colab": {
          "base_uri": "https://localhost:8080/"
        },
        "id": "zYhoLEBxetq-",
        "outputId": "38475130-d67e-40ab-9ea6-f70514fba2b0"
      },
      "source": [
        "numbers = [1, 3, 7, 4, 3, 0, 3, 6, 3] \n",
        "tuple(numbers)"
      ],
      "execution_count": null,
      "outputs": [
        {
          "data": {
            "text/plain": [
              "(1, 3, 7, 4, 3, 0, 3, 6, 3)"
            ]
          },
          "execution_count": 178,
          "metadata": {},
          "output_type": "execute_result"
        }
      ]
    },
    {
      "cell_type": "code",
      "metadata": {
        "colab": {
          "base_uri": "https://localhost:8080/"
        },
        "id": "2g1NAgV0etoj",
        "outputId": "cf011ede-0144-4875-d46e-42b9d98fafe0"
      },
      "source": [
        "colors = ['red', 'purple', 'blue', 'yellow', 'green']\n",
        "print(colors[2])"
      ],
      "execution_count": null,
      "outputs": [
        {
          "name": "stdout",
          "output_type": "stream",
          "text": [
            "blue\n"
          ]
        }
      ]
    },
    {
      "cell_type": "code",
      "metadata": {
        "colab": {
          "base_uri": "https://localhost:8080/"
        },
        "id": "iMGRXSHEetlf",
        "outputId": "b74ae99b-9cfa-433a-82f6-8e3a6939a06f"
      },
      "source": [
        "planets = 'mercury', 'jupiter', 'saturn'\n",
        "\n",
        "print(planets)"
      ],
      "execution_count": null,
      "outputs": [
        {
          "name": "stdout",
          "output_type": "stream",
          "text": [
            "('mercury', 'jupiter', 'saturn')\n"
          ]
        }
      ]
    },
    {
      "cell_type": "code",
      "metadata": {
        "colab": {
          "base_uri": "https://localhost:8080/"
        },
        "id": "Ud4acJSHetij",
        "outputId": "e034c849-28d3-49b5-887a-ecbb339d45cc"
      },
      "source": [
        "num = 1, 2, 3\n",
        "print(num)"
      ],
      "execution_count": null,
      "outputs": [
        {
          "name": "stdout",
          "output_type": "stream",
          "text": [
            "(1, 2, 3)\n"
          ]
        }
      ]
    },
    {
      "cell_type": "code",
      "metadata": {
        "colab": {
          "base_uri": "https://localhost:8080/"
        },
        "id": "p92SQ1xIZ74R",
        "outputId": "3780c6cf-bcca-4709-a679-63689f64913b"
      },
      "source": [
        "l = [i for i in range(1, 11)]\n",
        "\n",
        "l.sort(reverse=True)\n",
        "print(l)  \n",
        " "
      ],
      "execution_count": null,
      "outputs": [
        {
          "name": "stdout",
          "output_type": "stream",
          "text": [
            "[10, 9, 8, 7, 6, 5, 4, 3, 2, 1]\n"
          ]
        }
      ]
    },
    {
      "cell_type": "code",
      "metadata": {
        "id": "Ym-2n8oTZ71j"
      },
      "source": [
        " a = 1\n",
        " b = 2\n",
        " c = 3\n",
        " sayilar = [a, b, c]\n"
      ],
      "execution_count": null,
      "outputs": []
    },
    {
      "cell_type": "code",
      "metadata": {
        "colab": {
          "base_uri": "https://localhost:8080/"
        },
        "id": "K1XRUZ6kZ7w5",
        "outputId": "751aa28c-531c-4f96-a02d-454b739d680c"
      },
      "source": [
        "print(sayilar)"
      ],
      "execution_count": null,
      "outputs": [
        {
          "name": "stdout",
          "output_type": "stream",
          "text": [
            "[1, 2, 3]\n"
          ]
        }
      ]
    },
    {
      "cell_type": "code",
      "metadata": {
        "colab": {
          "base_uri": "https://localhost:8080/"
        },
        "id": "EVP5X8h3Z7uW",
        "outputId": "2bf80650-cf7f-4e3e-c51f-4ba214183540"
      },
      "source": [
        "numbers = [1, 4, 7]\n",
        "numbers.append(9)\n",
        "numbers.append(\"9\")\n",
        "print(numbers)"
      ],
      "execution_count": null,
      "outputs": [
        {
          "name": "stdout",
          "output_type": "stream",
          "text": [
            "[1, 4, 7, 9, '9']\n"
          ]
        }
      ]
    },
    {
      "cell_type": "code",
      "metadata": {
        "colab": {
          "base_uri": "https://localhost:8080/",
          "height": 35
        },
        "id": "u9fS2FIKZ7sR",
        "outputId": "2257b27e-d382-44a5-92db-04fb637a383c"
      },
      "source": [
        "numbers.pop()"
      ],
      "execution_count": null,
      "outputs": [
        {
          "data": {
            "application/vnd.google.colaboratory.intrinsic+json": {
              "type": "string"
            },
            "text/plain": [
              "'9'"
            ]
          },
          "execution_count": 7,
          "metadata": {},
          "output_type": "execute_result"
        }
      ]
    },
    {
      "cell_type": "code",
      "metadata": {
        "colab": {
          "base_uri": "https://localhost:8080/"
        },
        "id": "dsruuvwOZ7p1",
        "outputId": "c3aba828-e93a-4540-d874-10bf93227c5e"
      },
      "source": [
        "numbers"
      ],
      "execution_count": null,
      "outputs": [
        {
          "data": {
            "text/plain": [
              "[1, 4, 7, 9]"
            ]
          },
          "execution_count": 9,
          "metadata": {},
          "output_type": "execute_result"
        }
      ]
    },
    {
      "cell_type": "code",
      "metadata": {
        "colab": {
          "base_uri": "https://localhost:8080/"
        },
        "id": "mCzY3TB8Z7nT",
        "outputId": "b72c2b80-19c9-42e5-fe63-9a727323c9a6"
      },
      "source": [
        "numbers.pop(1)"
      ],
      "execution_count": null,
      "outputs": [
        {
          "data": {
            "text/plain": [
              "4"
            ]
          },
          "execution_count": 11,
          "metadata": {},
          "output_type": "execute_result"
        }
      ]
    },
    {
      "cell_type": "code",
      "metadata": {
        "colab": {
          "base_uri": "https://localhost:8080/"
        },
        "id": "eWdE9Y4lZ7j3",
        "outputId": "a8a30322-fef0-4910-8888-bd268954ca60"
      },
      "source": [
        "numbers"
      ],
      "execution_count": null,
      "outputs": [
        {
          "data": {
            "text/plain": [
              "[1, 7, 9]"
            ]
          },
          "execution_count": 12,
          "metadata": {},
          "output_type": "execute_result"
        }
      ]
    },
    {
      "cell_type": "code",
      "metadata": {
        "colab": {
          "base_uri": "https://localhost:8080/"
        },
        "id": "OJhUbEb1VhWG",
        "outputId": "af43e5a7-220c-4fa6-ebfb-fa420382baac"
      },
      "source": [
        "numara = [1, 4, 7]\n",
        "numara.insert(2, 9)\n",
        "print(numara)\n",
        "numara.insert(2, 6)\n",
        "print(numara)\n",
        "numara.insert(2, 2)\n",
        "print(numara)"
      ],
      "execution_count": null,
      "outputs": [
        {
          "name": "stdout",
          "output_type": "stream",
          "text": [
            "[1, 4, 9, 7]\n",
            "[1, 4, 6, 9, 7]\n",
            "[1, 4, 2, 6, 9, 7]\n"
          ]
        }
      ]
    },
    {
      "cell_type": "code",
      "metadata": {
        "colab": {
          "base_uri": "https://localhost:8080/"
        },
        "id": "PbxmZYSoGzbF",
        "outputId": "430bdafc-1556-4584-a1aa-d603ba385abf"
      },
      "source": [
        "list = [1, 2, 3, 4]\n",
        "list.insert(4, 5)\n",
        "print(list)"
      ],
      "execution_count": null,
      "outputs": [
        {
          "name": "stdout",
          "output_type": "stream",
          "text": [
            "[1, 2, 3, 4, 5]\n"
          ]
        }
      ]
    },
    {
      "cell_type": "code",
      "metadata": {
        "colab": {
          "base_uri": "https://localhost:8080/"
        },
        "id": "xhJarvAaGzW5",
        "outputId": "e60e1787-f33d-4555-bc1f-bd98f05b88da"
      },
      "source": [
        "list = [1, 2, 3, 4]\n",
        "list.insert(-1, 5)   # ayni sonucu alamayiz usttekiyle\n",
        "\n",
        "print(list)"
      ],
      "execution_count": null,
      "outputs": [
        {
          "name": "stdout",
          "output_type": "stream",
          "text": [
            "[1, 2, 3, 5, 4]\n"
          ]
        }
      ]
    },
    {
      "cell_type": "code",
      "metadata": {
        "colab": {
          "base_uri": "https://localhost:8080/"
        },
        "id": "jLi8FEV-GzS3",
        "outputId": "01657f6f-2e64-482f-cd30-d2bbcbc07691"
      },
      "source": [
        "list_1 = ['one', 'four', 'nine']\n",
        "list_1.sort()\n",
        "print(list_1)\n",
        "\n",
        "list_1.sort(reverse=True)\n",
        "print(list_1)"
      ],
      "execution_count": null,
      "outputs": [
        {
          "name": "stdout",
          "output_type": "stream",
          "text": [
            "['four', 'nine', 'one']\n",
            "['one', 'nine', 'four']\n"
          ]
        }
      ]
    },
    {
      "cell_type": "code",
      "metadata": {
        "colab": {
          "base_uri": "https://localhost:8080/"
        },
        "id": "O83fLcqLGzOl",
        "outputId": "41ccd679-926b-4138-f38e-36dc19477556"
      },
      "source": [
        "city = ['New York', 'London', 'Istanbul', 'Seoul', 'Sydney']\n",
        "city_list = []\n",
        "city_list.append(city)\n",
        "print(city_list)"
      ],
      "execution_count": null,
      "outputs": [
        {
          "name": "stdout",
          "output_type": "stream",
          "text": [
            "[['New York', 'London', 'Istanbul', 'Seoul', 'Sydney']]\n"
          ]
        }
      ]
    },
    {
      "cell_type": "code",
      "metadata": {
        "id": "aswveEsDGzJH"
      },
      "source": [
        "sayilar = []\n"
      ],
      "execution_count": null,
      "outputs": []
    },
    {
      "cell_type": "code",
      "metadata": {
        "colab": {
          "base_uri": "https://localhost:8080/"
        },
        "id": "aYlHmPNII676",
        "outputId": "99a42c7c-f236-469a-9295-fa6b402ff771"
      },
      "source": [
        "sayilar.append(55)\n",
        "print(sayilar)"
      ],
      "execution_count": null,
      "outputs": [
        {
          "name": "stdout",
          "output_type": "stream",
          "text": [
            "[55]\n"
          ]
        }
      ]
    },
    {
      "cell_type": "code",
      "metadata": {
        "colab": {
          "base_uri": "https://localhost:8080/"
        },
        "id": "px-ez1kjI62z",
        "outputId": "31bd5889-981f-48c3-f338-96d313ad4183"
      },
      "source": [
        "len([[]])"
      ],
      "execution_count": null,
      "outputs": [
        {
          "data": {
            "text/plain": [
              "1"
            ]
          },
          "execution_count": 30,
          "metadata": {},
          "output_type": "execute_result"
        }
      ]
    },
    {
      "cell_type": "code",
      "metadata": {
        "colab": {
          "base_uri": "https://localhost:8080/"
        },
        "id": "JoedigM7I6x9",
        "outputId": "9db1a670-7dd4-4eb6-9a34-0ad913ffba54"
      },
      "source": [
        "range(1, 11, 1)\n"
      ],
      "execution_count": null,
      "outputs": [
        {
          "data": {
            "text/plain": [
              "range(1, 11)"
            ]
          },
          "execution_count": 49,
          "metadata": {},
          "output_type": "execute_result"
        }
      ]
    },
    {
      "cell_type": "code",
      "metadata": {
        "colab": {
          "base_uri": "https://localhost:8080/",
          "height": 163
        },
        "id": "JzEvOmansgh6",
        "outputId": "75652cac-3aa3-4340-9610-da0e37703b37"
      },
      "source": [
        ""
      ],
      "execution_count": null,
      "outputs": [
        {
          "ename": "NameError",
          "evalue": "ignored",
          "output_type": "error",
          "traceback": [
            "\u001b[0;31m---------------------------------------------------------------------------\u001b[0m",
            "\u001b[0;31mNameError\u001b[0m                                 Traceback (most recent call last)",
            "\u001b[0;32m<ipython-input-10-7fc46a8d8ee4>\u001b[0m in \u001b[0;36m<module>\u001b[0;34m()\u001b[0m\n\u001b[0;32m----> 1\u001b[0;31m \u001b[0mlist\u001b[0m\u001b[0;34m(\u001b[0m\u001b[0mrange\u001b[0m\u001b[0;34m(\u001b[0m\u001b[0mz\u001b[0m\u001b[0;34m)\u001b[0m\u001b[0;34m)\u001b[0m\u001b[0;34m\u001b[0m\u001b[0;34m\u001b[0m\u001b[0m\n\u001b[0m",
            "\u001b[0;31mNameError\u001b[0m: name 'z' is not defined"
          ]
        }
      ]
    },
    {
      "cell_type": "code",
      "metadata": {
        "colab": {
          "base_uri": "https://localhost:8080/"
        },
        "id": "oEFqp7kcmMy0",
        "outputId": "384ad692-02ec-4628-f8ae-5578dcffe413"
      },
      "source": [
        "say = list(range(11))\n",
        "\n",
        "print(say)"
      ],
      "execution_count": null,
      "outputs": [
        {
          "name": "stdout",
          "output_type": "stream",
          "text": [
            "[0, 1, 2, 3, 4, 5, 6, 7, 8, 9, 10]\n"
          ]
        }
      ]
    },
    {
      "cell_type": "code",
      "metadata": {
        "colab": {
          "base_uri": "https://localhost:8080/"
        },
        "id": "Q-BpQyN7mMtZ",
        "outputId": "61277b2f-d483-4134-94d1-57c516ce5967"
      },
      "source": [
        "flowers = [[\"jasmine\", [\"lavender\", \"rose\"], \"tulip\"]]\n",
        "colors = [\"red\", (\"blue\", [\"yellow\", \"green\"]), \"pink\"]\n",
        "text = \"My two favorite flowers are {} and {}, two favorite colors are {} and \\n {}.\".format(flowers[0][2],flowers[0][1][1],colors[1][0],colors[1][1][1])\n",
        "print(text)"
      ],
      "execution_count": null,
      "outputs": [
        {
          "name": "stdout",
          "output_type": "stream",
          "text": [
            "My two favorite flowers are tulip and rose, two favorite colors are blue and \n",
            " green.\n"
          ]
        }
      ]
    },
    {
      "cell_type": "code",
      "metadata": {
        "colab": {
          "base_uri": "https://localhost:8080/"
        },
        "id": "nYFJ7oVf0IAi",
        "outputId": "08661a6d-359b-4ba5-9873-3649be2e1e79"
      },
      "source": [
        "flowers = [[\"jasmine\", [\"lavender\", \"rose\"], \"tulip\"]]\n",
        "colors = [\"red\", (\"blue\", [\"yellow\", \"green\"]), \"pink\"]\n",
        "text = \"My two favorite flowers are {}.\".format(flowers[0])\n",
        "print(text)"
      ],
      "execution_count": null,
      "outputs": [
        {
          "name": "stdout",
          "output_type": "stream",
          "text": [
            "My two favorite flowers are ['jasmine', ['lavender', 'rose'], 'tulip'].\n"
          ]
        }
      ]
    },
    {
      "cell_type": "code",
      "metadata": {
        "colab": {
          "base_uri": "https://localhost:8080/"
        },
        "id": "6efeG4CvmMqX",
        "outputId": "e5868268-f4bb-4a0e-e1a4-549dafcc145e"
      },
      "source": [
        "bomb = [\"\\n\\t\", \"\\n\\t\\t\", \"\\n\\t\\t\", \"\\n\", \"\\n\\t\"]\n",
        "sentence = \"Twinkle, twinkle, little star, {}How I wonder what you are! {}Up above the world so high, {}Like a diamond in the sky. {}Twinkle, twinkle, little star, {}How I wonder what you are\".format(bomb[0],bomb[1], bomb[2], bomb[3], bomb[4])\n",
        "print(sentence)"
      ],
      "execution_count": null,
      "outputs": [
        {
          "name": "stdout",
          "output_type": "stream",
          "text": [
            "Twinkle, twinkle, little star, \n",
            "\tHow I wonder what you are! \n",
            "\t\tUp above the world so high, \n",
            "\t\tLike a diamond in the sky. \n",
            "Twinkle, twinkle, little star, \n",
            "\tHow I wonder what you are\n"
          ]
        }
      ]
    },
    {
      "cell_type": "code",
      "metadata": {
        "colab": {
          "base_uri": "https://localhost:8080/"
        },
        "id": "fgt2jstxmMj7",
        "outputId": "1d8b73ab-66c9-4ca9-9ee5-c327634573ae"
      },
      "source": [
        "bomb = [\"\\n\\t\", \"\\n\\t\\t\", \"\\n\\t\\t\", \"\\n\", \"\\n\\t\"]\n",
        "sentence = \"Twinkle, twinkle, little star, {}How I wonder what you are! {}Up above the world so high, {}Like a diamond in the sky. {}Twinkle, twinkle, little star, {}How I wonder what you are\".format(bomb[0],bomb[1], bomb[2], bomb[3], bomb[4])\n",
        "print(sentence)"
      ],
      "execution_count": null,
      "outputs": [
        {
          "name": "stdout",
          "output_type": "stream",
          "text": [
            "Twinkle, twinkle, little star, \n",
            "\tHow I wonder what you are! \n",
            "\t\tUp above the world so high, \n",
            "\t\tLike a diamond in the sky. \n",
            "Twinkle, twinkle, little star, \n",
            "\tHow I wonder what you are\n"
          ]
        }
      ]
    },
    {
      "cell_type": "code",
      "metadata": {
        "colab": {
          "base_uri": "https://localhost:8080/"
        },
        "id": "AL8jKUjXmMg_",
        "outputId": "5964a0af-355c-42cc-b8a6-bceb41ae0760"
      },
      "source": [
        "escapes = [\"\\n\\t\", (\"\\t\", \"\\t\\t\"), [\"\\n\", \"\\n\\t\\t\"]]\n",
        "sentence = \"I am 40 years old.{} I have two children.{} Data Science is my IT domain.\".format(escapes[0],escapes[2][1])\n",
        "\n",
        "print(sentence)"
      ],
      "execution_count": null,
      "outputs": [
        {
          "name": "stdout",
          "output_type": "stream",
          "text": [
            "I am 40 years old.\n",
            "\t I have two children.\n",
            "\t\t Data Science is my IT domain.\n"
          ]
        }
      ]
    },
    {
      "cell_type": "code",
      "metadata": {
        "colab": {
          "base_uri": "https://localhost:8080/"
        },
        "id": "6nMzFqpDmMYw",
        "outputId": "2cfa1f56-0a5f-4c94-8ef6-84188a6e9651"
      },
      "source": [
        "flowers = [[\"jasmine\", [\"lavender\", \"rose\"], \"tulip\"]]\n",
        "colors = [\"red\", (\"blue\", [\"yellow\", \"green\"]), \"pink\"]\n",
        "\n",
        "print(\"My two favorite flowers are {}.\".format(flowers))"
      ],
      "execution_count": null,
      "outputs": [
        {
          "name": "stdout",
          "output_type": "stream",
          "text": [
            "My two favorite flowers are [['jasmine', ['lavender', 'rose'], 'tulip']].\n"
          ]
        }
      ]
    },
    {
      "cell_type": "code",
      "metadata": {
        "colab": {
          "base_uri": "https://localhost:8080/"
        },
        "id": "o0H6wqclmMU_",
        "outputId": "15c18a88-20c6-4100-fd15-de7c05821df9"
      },
      "source": [
        "num = tuple(range(1,11))\n",
        "print(num, type(num), sep=\"\\n\")"
      ],
      "execution_count": null,
      "outputs": [
        {
          "name": "stdout",
          "output_type": "stream",
          "text": [
            "(1, 2, 3, 4, 5, 6, 7, 8, 9, 10)\n",
            "<class 'tuple'>\n"
          ]
        }
      ]
    },
    {
      "cell_type": "code",
      "metadata": {
        "colab": {
          "base_uri": "https://localhost:8080/"
        },
        "id": "HC9Lw_gj2K5r",
        "outputId": "079cec79-907d-4c69-84ba-1eae50963042"
      },
      "source": [
        "sayilar = tuple(range(1,11))\n",
        "print(sayilar)"
      ],
      "execution_count": null,
      "outputs": [
        {
          "name": "stdout",
          "output_type": "stream",
          "text": [
            "(1, 2, 3, 4, 5, 6, 7, 8, 9, 10)\n"
          ]
        }
      ]
    },
    {
      "cell_type": "code",
      "metadata": {
        "colab": {
          "base_uri": "https://localhost:8080/"
        },
        "id": "qyJOKNsr2K3M",
        "outputId": "0c1fe12e-f43e-4340-ac3a-1189b35e9629"
      },
      "source": [
        "list(sayilar)"
      ],
      "execution_count": null,
      "outputs": [
        {
          "data": {
            "text/plain": [
              "[1, 2, 3, 4, 5, 6, 7, 8, 9, 10]"
            ]
          },
          "execution_count": 26,
          "metadata": {},
          "output_type": "execute_result"
        }
      ]
    },
    {
      "cell_type": "code",
      "metadata": {
        "colab": {
          "base_uri": "https://localhost:8080/"
        },
        "id": "XTPnyPQW2K0o",
        "outputId": "8a8aa8d0-873b-4434-90ea-356b099ecd04"
      },
      "source": [
        "set(sayilar)"
      ],
      "execution_count": null,
      "outputs": [
        {
          "data": {
            "text/plain": [
              "{1, 2, 3, 4, 5, 6, 7, 8, 9, 10}"
            ]
          },
          "execution_count": 27,
          "metadata": {},
          "output_type": "execute_result"
        }
      ]
    },
    {
      "cell_type": "code",
      "metadata": {
        "colab": {
          "base_uri": "https://localhost:8080/"
        },
        "id": "sz6d9cNr2KyP",
        "outputId": "a0c6155b-bcbe-4248-ab4f-c6c235fd0788"
      },
      "source": [
        "first_dict = {1 : \"one\", \"two\" : 2, False : [1,2,3], 1.5 : (\"one\", \"two\")}\n",
        "print(first_dict)"
      ],
      "execution_count": null,
      "outputs": [
        {
          "name": "stdout",
          "output_type": "stream",
          "text": [
            "{1: 'one', 'two': 2, False: [1, 2, 3], 1.5: ('one', 'two')}\n"
          ]
        }
      ]
    },
    {
      "cell_type": "code",
      "metadata": {
        "colab": {
          "base_uri": "https://localhost:8080/"
        },
        "id": "rtxQTbZZ2KvP",
        "outputId": "68c6f83b-bb71-46ff-b116-47fb15474c4d"
      },
      "source": [
        "family = {'name1': 'Ahmet',\n",
        "          'name2': 'Zafer',\n",
        "          'name3': 'Ebrar'}\n",
        "family['name4'] = 'Abdullah'\n",
        "print(family)"
      ],
      "execution_count": null,
      "outputs": [
        {
          "name": "stdout",
          "output_type": "stream",
          "text": [
            "{'name1': 'Ahmet', 'name2': 'Zafer', 'name3': 'Ebrar', 'name4': 'Abdullah'}\n"
          ]
        }
      ]
    },
    {
      "cell_type": "code",
      "metadata": {
        "id": "36hLtqF7H-gW"
      },
      "source": [
        "sehir = \"istanbul\"\n",
        "isim = \"yasemin\"\n",
        "nufus = 1000\n",
        "yagmurlu = False"
      ],
      "execution_count": null,
      "outputs": []
    },
    {
      "cell_type": "code",
      "metadata": {
        "colab": {
          "base_uri": "https://localhost:8080/"
        },
        "id": "f6khB8kYH-d1",
        "outputId": "96d8dd41-3219-4368-fced-3a4d7f04d779"
      },
      "source": [
        "benim = {1 : sehir, isim : \"bayan\", \"nufusum\" : nufus, \"hava_yagmur_mu\" : yagmurlu}\n",
        "print(benim)"
      ],
      "execution_count": null,
      "outputs": [
        {
          "name": "stdout",
          "output_type": "stream",
          "text": [
            "{1: 'istanbul', 'yasemin': 'bayan', 'nufusum': 1000, 'hava_yagmur_mu': False}\n"
          ]
        }
      ]
    },
    {
      "cell_type": "code",
      "metadata": {
        "id": "L8fLy7hoH-bG"
      },
      "source": [
        "benim.update({\"a\" : 1, \"b\" : 2})"
      ],
      "execution_count": null,
      "outputs": []
    },
    {
      "cell_type": "code",
      "metadata": {
        "colab": {
          "base_uri": "https://localhost:8080/"
        },
        "id": "cd69T_-RH-YA",
        "outputId": "f01800bd-3ef6-4753-ebd8-4c7f10f39fc0"
      },
      "source": [
        "print(benim)"
      ],
      "execution_count": null,
      "outputs": [
        {
          "name": "stdout",
          "output_type": "stream",
          "text": [
            "{1: 'istanbul', 'yasemin': 'bayan', 'nufusum': 1000, 'hava_yagmur_mu': False, 'a': 1, 'b': 2}\n"
          ]
        }
      ]
    },
    {
      "cell_type": "code",
      "metadata": {
        "colab": {
          "base_uri": "https://localhost:8080/"
        },
        "id": "zRAZzT4f2Ksr",
        "outputId": "8cc9dfd2-bd45-40f4-c331-7112894b40fd"
      },
      "source": [
        "numbers = [1, 3, 7, 4, 3, 0, 3, 6, 3]\n",
        "sec = max(numbers, key = numbers.count)\n",
        "sec1 = numbers.count(3)\n",
        "print('The most frequent number in the list is {} and it counts {} times.'.format(sec, sec1))\n"
      ],
      "execution_count": null,
      "outputs": [
        {
          "name": "stdout",
          "output_type": "stream",
          "text": [
            "The most frequent number in the list is 3 and it counts 4 times.\n"
          ]
        }
      ]
    },
    {
      "cell_type": "code",
      "metadata": {
        "colab": {
          "base_uri": "https://localhost:8080/"
        },
        "id": "RYl4xBki2KqG",
        "outputId": "2e657540-9702-4aaa-f9f7-deae8f397435"
      },
      "source": [
        "sehirler = [\"istanbul\", \"agri\", \"ankara\", \"van\"]\n",
        "uzunluk = max(sehirler, key = numbers.count)\n",
        "print(uzunluk)"
      ],
      "execution_count": null,
      "outputs": [
        {
          "name": "stdout",
          "output_type": "stream",
          "text": [
            "istanbul\n"
          ]
        }
      ]
    },
    {
      "cell_type": "code",
      "metadata": {
        "colab": {
          "base_uri": "https://localhost:8080/"
        },
        "id": "6AAhqEbk2Kn7",
        "outputId": "531baee0-ea79-4618-edeb-2f32b97b3ff2"
      },
      "source": [
        "sehirler = [\"istanbul\", \"agri\", \"ankara\", \"van\"]\n",
        "sorted(sehirler, key = len)"
      ],
      "execution_count": null,
      "outputs": [
        {
          "data": {
            "text/plain": [
              "['van', 'agri', 'ankara', 'istanbul']"
            ]
          },
          "execution_count": 51,
          "metadata": {},
          "output_type": "execute_result"
        }
      ]
    },
    {
      "cell_type": "code",
      "metadata": {
        "colab": {
          "base_uri": "https://localhost:8080/",
          "height": 35
        },
        "id": "fcidqvdv2Kkb",
        "outputId": "bd65b513-841e-4c36-e6c3-c1fcc1ec54fe"
      },
      "source": [
        "sehirler = [\"istanbul\", \"agri\", \"ankara\", \"van\"]\n",
        "max(sehirler, key = numbers.count)\n"
      ],
      "execution_count": null,
      "outputs": [
        {
          "data": {
            "application/vnd.google.colaboratory.intrinsic+json": {
              "type": "string"
            },
            "text/plain": [
              "'istanbul'"
            ]
          },
          "execution_count": 52,
          "metadata": {},
          "output_type": "execute_result"
        }
      ]
    },
    {
      "cell_type": "code",
      "metadata": {
        "id": "tYwZDlVKaiv5"
      },
      "source": [
        "\n",
        "Left = {\"q\", \"w\", \"e\", \"r\", \"t\", \"a\", \"s\", \"d\", \"f\", \"g\", \"z\", \"x\", \"c\", \"v\", \"b\"}\n",
        "Right = {\"y\", \"u\", \"i\", \"o\", \"p\", \"h\", \"j\", \"k\", \"l\", \"n\", \"m\"}\n"
      ],
      "execution_count": null,
      "outputs": []
    },
    {
      "cell_type": "code",
      "metadata": {
        "colab": {
          "base_uri": "https://localhost:8080/"
        },
        "id": "vK5gRtemaisa",
        "outputId": "f881dcb4-c335-4fdc-ea3d-f1dbc9c80d1d"
      },
      "source": [
        "Left = {\"q\", \"w\", \"e\", \"r\", \"t\", \"a\", \"s\", \"d\", \"f\", \"g\", \"z\", \"x\", \"c\", \"v\", \"b\"}\n",
        "a = list(input())\n",
        "\n",
        "print(\"a\" in Left)"
      ],
      "execution_count": null,
      "outputs": [
        {
          "name": "stdout",
          "output_type": "stream",
          "text": [
            "m\n",
            "True\n"
          ]
        }
      ]
    },
    {
      "cell_type": "code",
      "metadata": {
        "colab": {
          "base_uri": "https://localhost:8080/"
        },
        "id": "O5YrMfTqaijc",
        "outputId": "637b73ad-6f40-44e3-f98a-2a539e4eb4ac"
      },
      "source": [
        "Left = [\"q\", \"w\", \"e\", \"r\", \"t\", \"a\", \"s\", \"d\", \"f\", \"g\", \"z\", \"x\", \"c\", \"v\", \"b\"]\n",
        "txt = input()\n",
        "for x in Left:\n",
        "  list(txt)\n",
        "  if txt in x:\n",
        "    print(txt in Left)\n"
      ],
      "execution_count": null,
      "outputs": [
        {
          "name": "stdout",
          "output_type": "stream",
          "text": [
            "asd\n"
          ]
        }
      ]
    },
    {
      "cell_type": "code",
      "metadata": {
        "colab": {
          "base_uri": "https://localhost:8080/"
        },
        "id": "87KtuLMLbjas",
        "outputId": "8970a751-629c-4cd6-ce22-1e97a4c59dba"
      },
      "source": [
        "l = \"sa\"\n",
        "list(l)"
      ],
      "execution_count": null,
      "outputs": [
        {
          "data": {
            "text/plain": [
              "['s', 'a']"
            ]
          },
          "execution_count": 59,
          "metadata": {},
          "output_type": "execute_result"
        }
      ]
    },
    {
      "cell_type": "code",
      "metadata": {
        "colab": {
          "base_uri": "https://localhost:8080/"
        },
        "id": "wceTAayLbjSj",
        "outputId": "70b72de0-1388-4ea8-a96a-51a0caa38a8a"
      },
      "source": [
        "Left = [\"q\", \"w\", \"e\", \"r\", \"t\", \"a\", \"s\", \"d\", \"f\", \"g\", \"z\", \"x\", \"c\", \"v\", \"b\"]\n",
        "print(*Left) \n",
        "txt = input()\n",
        "newlist = [x for x in Left if txt in x]\n",
        "\n",
        "print(txt in Left)"
      ],
      "execution_count": null,
      "outputs": [
        {
          "output_type": "stream",
          "name": "stdout",
          "text": [
            "q w e r t a s d f g z x c v b\n",
            "kkj\n",
            "False\n"
          ]
        }
      ]
    },
    {
      "cell_type": "code",
      "metadata": {
        "colab": {
          "base_uri": "https://localhost:8080/"
        },
        "id": "ROrICrKe2Khv",
        "outputId": "e6ffe04b-d8be-4203-e680-396b0426bb77"
      },
      "source": [
        "list(range(5))\n"
      ],
      "execution_count": null,
      "outputs": [
        {
          "data": {
            "text/plain": [
              "[0, 1, 2, 3, 4]"
            ]
          },
          "execution_count": 79,
          "metadata": {},
          "output_type": "execute_result"
        }
      ]
    },
    {
      "cell_type": "code",
      "metadata": {
        "id": "QLNwOgGN164P",
        "colab": {
          "base_uri": "https://localhost:8080/"
        },
        "outputId": "2082a5f0-e31b-4281-da13-49fc997f432f"
      },
      "source": [
        "x = [int(x) for x in input(\"Enter multiple value: \").split(\",\")]\n",
        "print(\"Number of list is: \", x)"
      ],
      "execution_count": null,
      "outputs": [
        {
          "output_type": "stream",
          "name": "stdout",
          "text": [
            "Enter multiple value: 3,5,6,3\n",
            "Number of list is:  [3, 5, 6, 3]\n"
          ]
        }
      ]
    },
    {
      "cell_type": "code",
      "metadata": {
        "id": "2h87OepU0vKh"
      },
      "source": [
        "items = list(dict_by_dict.items())\n"
      ],
      "execution_count": null,
      "outputs": []
    },
    {
      "cell_type": "code",
      "metadata": {
        "colab": {
          "base_uri": "https://localhost:8080/"
        },
        "id": "u1uiRfaIt_N-",
        "outputId": "b243ee3d-94fd-48ae-c41b-2c27d81d4662"
      },
      "source": [
        "dict_by_dict = {'animal':'dog',\n",
        "\t\t\t'planet': 'Neptun',\n",
        "\t\t\t'number': 40,\n",
        "\t\t\t'pi':3.14,\n",
        "\t\t\t'is_good': True}\n",
        "\n",
        "print(dict_by_dict.items(), '\\n')\n",
        "print(dict_by_dict.keys(), '\\n')\n",
        "print(dict_by_dict.values(), '\\n')"
      ],
      "execution_count": null,
      "outputs": [
        {
          "output_type": "stream",
          "name": "stdout",
          "text": [
            "dict_items([('animal', 'dog'), ('planet', 'Neptun'), ('number', 40), ('pi', 3.14), ('is_good', True)]) \n",
            "\n",
            "dict_keys(['animal', 'planet', 'number', 'pi', 'is_good']) \n",
            "\n",
            "dict_values(['dog', 'Neptun', 40, 3.14, True]) \n",
            "\n"
          ]
        }
      ]
    },
    {
      "cell_type": "code",
      "metadata": {
        "id": "ngIJPqR4uAJL"
      },
      "source": [
        "family = {'name1': 'Mucahit', \n",
        "          'name2': 'Zeynep',\n",
        "          'name3': 'Mavi',\n",
        "          'name4': 'Suavi'\n",
        "         }"
      ],
      "execution_count": null,
      "outputs": []
    },
    {
      "cell_type": "code",
      "metadata": {
        "colab": {
          "base_uri": "https://localhost:8080/"
        },
        "id": "Hgw5M_o_uoCJ",
        "outputId": "de5feb17-8f30-4ba8-fce7-add5ce571e01"
      },
      "source": [
        "list(family.items())"
      ],
      "execution_count": null,
      "outputs": [
        {
          "output_type": "execute_result",
          "data": {
            "text/plain": [
              "[('name1', 'Mucahit'),\n",
              " ('name2', 'Zeynep'),\n",
              " ('name3', 'Mavi'),\n",
              " ('name4', 'Suavi')]"
            ]
          },
          "metadata": {},
          "execution_count": 6
        }
      ]
    },
    {
      "cell_type": "code",
      "metadata": {
        "colab": {
          "base_uri": "https://localhost:8080/"
        },
        "id": "2wfvVtzNuoUZ",
        "outputId": "2aea1e80-e97e-45d8-9109-d435cf5b5521"
      },
      "source": [
        "list(family.keys())"
      ],
      "execution_count": null,
      "outputs": [
        {
          "output_type": "execute_result",
          "data": {
            "text/plain": [
              "['name1', 'name2', 'name3', 'name4']"
            ]
          },
          "metadata": {},
          "execution_count": 8
        }
      ]
    },
    {
      "cell_type": "code",
      "metadata": {
        "colab": {
          "base_uri": "https://localhost:8080/"
        },
        "id": "UkwIkx-gvPRj",
        "outputId": "f61e9437-2f3f-40f8-8f75-0517d683cd2b"
      },
      "source": [
        "list(family.values())"
      ],
      "execution_count": null,
      "outputs": [
        {
          "output_type": "execute_result",
          "data": {
            "text/plain": [
              "['Mucahit', 'Zeynep', 'Mavi', 'Suavi']"
            ]
          },
          "metadata": {},
          "execution_count": 9
        }
      ]
    },
    {
      "cell_type": "code",
      "metadata": {
        "id": "D7FZxyr3vZJx"
      },
      "source": [
        "family.update({\"name6\": \"Bella\"})"
      ],
      "execution_count": null,
      "outputs": []
    },
    {
      "cell_type": "code",
      "metadata": {
        "colab": {
          "base_uri": "https://localhost:8080/"
        },
        "id": "alCbtAG9wItc",
        "outputId": "23fa31f1-1d76-49ec-88f1-505e06b2573a"
      },
      "source": [
        "print(family)"
      ],
      "execution_count": null,
      "outputs": [
        {
          "output_type": "stream",
          "name": "stdout",
          "text": [
            "{'name1': 'Mucahit', 'name2': 'Zeynep', 'name3': 'Mavi', 'name4': 'Suavi', 'name6': 'Bella'}\n"
          ]
        }
      ]
    },
    {
      "cell_type": "code",
      "metadata": {
        "colab": {
          "base_uri": "https://localhost:8080/",
          "height": 35
        },
        "id": "s6Y2_GglwrH5",
        "outputId": "0c243a79-35ad-4671-e277-e2cec14a573b"
      },
      "source": [
        "family[\"name2\"]"
      ],
      "execution_count": null,
      "outputs": [
        {
          "output_type": "execute_result",
          "data": {
            "application/vnd.google.colaboratory.intrinsic+json": {
              "type": "string"
            },
            "text/plain": [
              "'Zeynep'"
            ]
          },
          "metadata": {},
          "execution_count": 16
        }
      ]
    },
    {
      "cell_type": "code",
      "metadata": {
        "id": "P0XsOCoZw5dm"
      },
      "source": [
        "del family[\"name6\"]"
      ],
      "execution_count": null,
      "outputs": []
    },
    {
      "cell_type": "code",
      "metadata": {
        "colab": {
          "base_uri": "https://localhost:8080/"
        },
        "id": "VesfyIuQxJ5m",
        "outputId": "ced6ca5e-0b0b-43d5-ba09-8f3ff812582a"
      },
      "source": [
        "print(family)"
      ],
      "execution_count": null,
      "outputs": [
        {
          "output_type": "stream",
          "name": "stdout",
          "text": [
            "{'name1': 'Mucahit', 'name2': 'Zeynep', 'name3': 'Mavi', 'name4': 'Suavi'}\n"
          ]
        }
      ]
    },
    {
      "cell_type": "code",
      "metadata": {
        "colab": {
          "base_uri": "https://localhost:8080/"
        },
        "id": "DX5RSf_4xXgv",
        "outputId": "c220c52d-02a6-4e04-893d-afe7dbf79955"
      },
      "source": [
        "\"i\" in \"clarusway\"\n"
      ],
      "execution_count": null,
      "outputs": [
        {
          "output_type": "execute_result",
          "data": {
            "text/plain": [
              "False"
            ]
          },
          "metadata": {},
          "execution_count": 3
        }
      ]
    },
    {
      "cell_type": "code",
      "metadata": {
        "colab": {
          "base_uri": "https://localhost:8080/"
        },
        "id": "vXPHME3Nxws2",
        "outputId": "4fc6d119-a095-4b4b-c6e0-0791dd9b1987"
      },
      "source": [
        "\"c\" in \"clarusway\""
      ],
      "execution_count": null,
      "outputs": [
        {
          "output_type": "execute_result",
          "data": {
            "text/plain": [
              "True"
            ]
          },
          "metadata": {},
          "execution_count": 4
        }
      ]
    },
    {
      "cell_type": "code",
      "metadata": {
        "id": "4oGNVepuyomz"
      },
      "source": [
        "bootcamp = \"c l a r u s w a y\".split()"
      ],
      "execution_count": null,
      "outputs": []
    },
    {
      "cell_type": "code",
      "metadata": {
        "colab": {
          "base_uri": "https://localhost:8080/"
        },
        "id": "2BD_6x_my0Kj",
        "outputId": "6240bb92-8a5c-48cf-a50a-a43eeecf93f8"
      },
      "source": [
        "print(bootcamp)"
      ],
      "execution_count": null,
      "outputs": [
        {
          "output_type": "stream",
          "name": "stdout",
          "text": [
            "['c', 'l', 'a', 'r', 'u', 's', 'w', 'a', 'y']\n"
          ]
        }
      ]
    },
    {
      "cell_type": "code",
      "metadata": {
        "colab": {
          "base_uri": "https://localhost:8080/"
        },
        "id": "_Zk7rhx7y1Gs",
        "outputId": "cf7f7b71-30fd-49c5-b4ad-28502f810a04"
      },
      "source": [
        "dict_by_dict = {'animal':'dog',\n",
        "\t\t\t'planet': 'Neptun',\n",
        "\t\t\t'number': 40,\n",
        "\t\t\t'pi':3.14,\n",
        "\t\t\t'is_good': True}\n",
        "print(dict_by_dict)"
      ],
      "execution_count": null,
      "outputs": [
        {
          "output_type": "stream",
          "name": "stdout",
          "text": [
            "{'animal': 'dog', 'planet': 'Neptun', 'number': 40, 'pi': 3.14, 'is_good': True}\n"
          ]
        }
      ]
    },
    {
      "cell_type": "code",
      "metadata": {
        "colab": {
          "base_uri": "https://localhost:8080/"
        },
        "id": "uVKFk9Aoy1Oj",
        "outputId": "05820a18-5429-4c72-f791-a09e0f55a300"
      },
      "source": [
        "\"planet\" in dict_by_dict"
      ],
      "execution_count": null,
      "outputs": [
        {
          "output_type": "execute_result",
          "data": {
            "text/plain": [
              "True"
            ]
          },
          "metadata": {},
          "execution_count": 14
        }
      ]
    },
    {
      "cell_type": "code",
      "metadata": {
        "colab": {
          "base_uri": "https://localhost:8080/"
        },
        "id": "ruJt-2mdy1VH",
        "outputId": "48e939d3-4b48-4c24-8d39-1f37d01df63d"
      },
      "source": [
        "\"dog\" in dict_by_dict"
      ],
      "execution_count": null,
      "outputs": [
        {
          "output_type": "execute_result",
          "data": {
            "text/plain": [
              "False"
            ]
          },
          "metadata": {},
          "execution_count": 15
        }
      ]
    },
    {
      "cell_type": "code",
      "metadata": {
        "colab": {
          "base_uri": "https://localhost:8080/"
        },
        "id": "AhtiHFMsy1dS",
        "outputId": "d3027855-92e6-49b0-a25d-f04e426c2bce"
      },
      "source": [
        "\"dog\" in dict_by_dict.values()"
      ],
      "execution_count": null,
      "outputs": [
        {
          "output_type": "execute_result",
          "data": {
            "text/plain": [
              "True"
            ]
          },
          "metadata": {},
          "execution_count": 16
        }
      ]
    },
    {
      "cell_type": "code",
      "metadata": {
        "id": "Lco5eh4vy1kH"
      },
      "source": [
        "school_records={\n",
        "\t'personal_info':\n",
        "\t\t{'kid':{'tom':{'class':'intermediate', 'age':10},\n",
        "\t\t\t'sue':{'class':'elemantary', 'age':8}\n",
        "\t\t\t},\n",
        "\t\t'teen':{'joseph':{'class':'college', 'age':19},\n",
        "\t\t\t'marry':{'class':'high school', 'age':16}\n",
        "\t\t\t},\n",
        "\t\t},\n",
        "\t'grades_info':\n",
        "\t\t{'kid':{'tom':{'math':88, 'speech':69},\n",
        "\t\t\t'sue':{'math':90, 'speech':81}\n",
        "\t\t\t},\n",
        "\t\t'teen':{'joseph':{'coding':80, 'math':89},\n",
        "\t\t\t'marry':{'coding':70, 'math':96}\n",
        "\t\t\t},\n",
        "\t\t}\n",
        "}"
      ],
      "execution_count": null,
      "outputs": []
    },
    {
      "cell_type": "code",
      "metadata": {
        "colab": {
          "base_uri": "https://localhost:8080/"
        },
        "id": "J6bPLaqwy1p1",
        "outputId": "b01ee980-db19-49c0-900c-b70a487e95ba"
      },
      "source": [
        "len(school_records)"
      ],
      "execution_count": null,
      "outputs": [
        {
          "output_type": "execute_result",
          "data": {
            "text/plain": [
              "2"
            ]
          },
          "metadata": {},
          "execution_count": 20
        }
      ]
    },
    {
      "cell_type": "code",
      "metadata": {
        "colab": {
          "base_uri": "https://localhost:8080/"
        },
        "id": "juY8Hpxb1JQO",
        "outputId": "6f584683-f17f-4779-cecd-fc4edef50054"
      },
      "source": [
        "friends = {\"friend1\" : {\"first\" : \"Sue\", \"last\" : \"Bold\"},\n",
        "           \"friend2\" : {\"first\" : \"Steve\", \"last\" : \"Smith\"}\n",
        "          }\n",
        "print(friends)"
      ],
      "execution_count": null,
      "outputs": [
        {
          "output_type": "stream",
          "name": "stdout",
          "text": [
            "{'friend1': {'first': 'Sue', 'last': 'Bold'}, 'friend2': {'first': 'Steve', 'last': 'Smith'}}\n"
          ]
        }
      ]
    },
    {
      "cell_type": "code",
      "metadata": {
        "id": "2m3Hgq3q1JWw"
      },
      "source": [
        "ilk = {1, 2, 0, 1, 1}"
      ],
      "execution_count": null,
      "outputs": []
    },
    {
      "cell_type": "code",
      "metadata": {
        "colab": {
          "base_uri": "https://localhost:8080/"
        },
        "id": "sJigqu7m1Jcr",
        "outputId": "2ce0c26f-8d41-4dcd-8268-3e3584325261"
      },
      "source": [
        "print(ilk)"
      ],
      "execution_count": null,
      "outputs": [
        {
          "output_type": "stream",
          "name": "stdout",
          "text": [
            "{0, 1, 2}\n"
          ]
        }
      ]
    },
    {
      "cell_type": "code",
      "metadata": {
        "id": "rVmx64C41Ji0"
      },
      "source": [
        "letter = \"a k l o i u y b g t j l o k m n b g\".split()"
      ],
      "execution_count": null,
      "outputs": []
    },
    {
      "cell_type": "code",
      "metadata": {
        "colab": {
          "base_uri": "https://localhost:8080/"
        },
        "id": "ZsIP7Gzn1JnD",
        "outputId": "fc8d8504-267c-4dc8-d80d-0599cc124b5e"
      },
      "source": [
        "print(letter)\n",
        "print(set(letter))"
      ],
      "execution_count": null,
      "outputs": [
        {
          "output_type": "stream",
          "name": "stdout",
          "text": [
            "['a', 'k', 'l', 'o', 'i', 'u', 'y', 'b', 'g', 't', 'j', 'l', 'o', 'k', 'm', 'n', 'b', 'g']\n",
            "{'m', 'o', 'i', 'k', 'g', 'j', 't', 'u', 'n', 'a', 'y', 'l', 'b'}\n"
          ]
        }
      ]
    },
    {
      "cell_type": "code",
      "metadata": {
        "colab": {
          "base_uri": "https://localhost:8080/"
        },
        "id": "i9pDvuE_1Jrz",
        "outputId": "db8670df-e7bb-49af-9fca-fea8af724487"
      },
      "source": [
        "set_1 = {'red', 'blue', 'pink', 'red'}\n",
        "colors = 'red', 'blue', 'pink', 'red'\n",
        "set_2 = set(colors)\n",
        "print(set_1)\n",
        "print(set_2)"
      ],
      "execution_count": null,
      "outputs": [
        {
          "output_type": "stream",
          "name": "stdout",
          "text": [
            "{'blue', 'red', 'pink'}\n",
            "{'blue', 'red', 'pink'}\n"
          ]
        }
      ]
    },
    {
      "cell_type": "code",
      "metadata": {
        "id": "cwGRwZLVDOwv"
      },
      "source": [
        "test = {1, \"1\", 1.0}"
      ],
      "execution_count": null,
      "outputs": []
    },
    {
      "cell_type": "code",
      "metadata": {
        "colab": {
          "base_uri": "https://localhost:8080/"
        },
        "id": "ScAgRQT5DPck",
        "outputId": "6eae5b25-f0f2-4fc9-970f-08f02b63a04b"
      },
      "source": [
        "len(test)"
      ],
      "execution_count": null,
      "outputs": [
        {
          "output_type": "execute_result",
          "data": {
            "text/plain": [
              "2"
            ]
          },
          "metadata": {},
          "execution_count": 34
        }
      ]
    },
    {
      "cell_type": "code",
      "metadata": {
        "colab": {
          "base_uri": "https://localhost:8080/"
        },
        "id": "dnOuop2BDPlV",
        "outputId": "bf17f6d9-37d7-4010-9111-127f53764447"
      },
      "source": [
        "1 == 1.0\n"
      ],
      "execution_count": null,
      "outputs": [
        {
          "output_type": "execute_result",
          "data": {
            "text/plain": [
              "True"
            ]
          },
          "metadata": {},
          "execution_count": 35
        }
      ]
    },
    {
      "cell_type": "code",
      "metadata": {
        "colab": {
          "base_uri": "https://localhost:8080/"
        },
        "id": "MHN9A8RSDPqD",
        "outputId": "e25c248b-80af-4578-e2b3-7875843f9419"
      },
      "source": [
        "a = {'carnation', 'orchid', 'rose', 'violet'} \n",
        "b = {'rose', 'orchid', 'rose', 'violet', 'carnation'}\n",
        "a == b"
      ],
      "execution_count": null,
      "outputs": [
        {
          "output_type": "execute_result",
          "data": {
            "text/plain": [
              "True"
            ]
          },
          "metadata": {},
          "execution_count": 36
        }
      ]
    },
    {
      "cell_type": "code",
      "metadata": {
        "id": "Zg4RDbNhKpV9"
      },
      "source": [
        "a.add(\"lilly\")"
      ],
      "execution_count": null,
      "outputs": []
    },
    {
      "cell_type": "code",
      "metadata": {
        "colab": {
          "base_uri": "https://localhost:8080/"
        },
        "id": "X7CDiEh_Kpbd",
        "outputId": "898a535c-7b0d-456c-f4dc-9604179f5643"
      },
      "source": [
        "a"
      ],
      "execution_count": null,
      "outputs": [
        {
          "output_type": "execute_result",
          "data": {
            "text/plain": [
              "{'carnation', 'lilly', 'orchid', 'rose', 'violet'}"
            ]
          },
          "metadata": {},
          "execution_count": 38
        }
      ]
    },
    {
      "cell_type": "code",
      "metadata": {
        "id": "pIZeP_QcKpel"
      },
      "source": [
        "a.remove(\"rose\")"
      ],
      "execution_count": null,
      "outputs": []
    },
    {
      "cell_type": "code",
      "metadata": {
        "colab": {
          "base_uri": "https://localhost:8080/"
        },
        "id": "tSev8l9oKphH",
        "outputId": "8f74b222-a90e-4987-886b-e861325d5c54"
      },
      "source": [
        "a"
      ],
      "execution_count": null,
      "outputs": [
        {
          "output_type": "execute_result",
          "data": {
            "text/plain": [
              "{'carnation', 'lilly', 'orchid', 'violet'}"
            ]
          },
          "metadata": {},
          "execution_count": 41
        }
      ]
    },
    {
      "cell_type": "code",
      "metadata": {
        "id": "aOhe_HxmKpje",
        "colab": {
          "base_uri": "https://localhost:8080/"
        },
        "outputId": "a4c43fff-e100-4776-b793-6cf945397233"
      },
      "source": [
        "t = set(\"philadelphia\")\n",
        "q = set(\"dolphin\")\n",
        "\n",
        "print(t)\n",
        "print(q)\n",
        "print(t-q)\n",
        "print(t.difference(q))\n",
        "print(q-t)\n",
        "print(q.difference(t))\n",
        "print(t|q)"
      ],
      "execution_count": null,
      "outputs": [
        {
          "output_type": "stream",
          "name": "stdout",
          "text": [
            "{'a', 'h', 'i', 'd', 'p', 'l', 'e'}\n",
            "{'h', 'n', 'd', 'i', 'p', 'l', 'o'}\n",
            "{'e', 'a'}\n",
            "{'e', 'a'}\n",
            "{'n', 'o'}\n",
            "{'n', 'o'}\n",
            "{'a', 'h', 'n', 'i', 'd', 'p', 'l', 'e', 'o'}\n"
          ]
        }
      ]
    },
    {
      "cell_type": "code",
      "metadata": {
        "id": "r6O6eQU8Kplo",
        "colab": {
          "base_uri": "https://localhost:8080/"
        },
        "outputId": "fbbe1653-7f1e-4b3e-ca11-973015c5ad48"
      },
      "source": [
        "minced = True\n",
        "bread = True\n",
        "\n",
        "lettuce = True\n",
        "onion = True\n",
        "\n",
        "grocery = True\n",
        "\n",
        "hamburger = minced and bread and (onion or lettuce) and grocery \n",
        "if hamburger :\n",
        "  print(\"Bon Appetit\")"
      ],
      "execution_count": null,
      "outputs": [
        {
          "output_type": "stream",
          "name": "stdout",
          "text": [
            "Bon Appetit\n"
          ]
        }
      ]
    },
    {
      "cell_type": "code",
      "metadata": {
        "id": "emGnoAqHKpo5",
        "colab": {
          "base_uri": "https://localhost:8080/"
        },
        "outputId": "3f16e083-e992-46c7-e605-c231260ced57"
      },
      "source": [
        "A = set(\"TWELVE PLUS ONE\")\n",
        "B = set(\"ELEVEN PLUS TWO\")\n",
        "if A==B :\n",
        "  print(\"WE ARE SAME\")"
      ],
      "execution_count": null,
      "outputs": [
        {
          "output_type": "stream",
          "name": "stdout",
          "text": [
            "WE ARE SAME\n"
          ]
        }
      ]
    },
    {
      "cell_type": "code",
      "metadata": {
        "id": "cwPEs24RDPtu",
        "colab": {
          "base_uri": "https://localhost:8080/"
        },
        "outputId": "0614dead-6d73-4027-b8c0-4be274c6e5d7"
      },
      "source": [
        "print(input(\"Enter Yes or No :\").title().strip() == \"Yes\")\n",
        "print(input(\"Enter Yes or No :\").upper().strip() == \"YES\")"
      ],
      "execution_count": null,
      "outputs": [
        {
          "output_type": "stream",
          "name": "stdout",
          "text": [
            "Enter Yes or No :baba\n",
            "False\n",
            "Enter Yes or No :baba\n",
            "False\n"
          ]
        }
      ]
    },
    {
      "cell_type": "code",
      "metadata": {
        "colab": {
          "base_uri": "https://localhost:8080/"
        },
        "id": "l0cSbAvEfYQs",
        "outputId": "acb74b48-9860-4d65-9c18-0d551d6d00b3"
      },
      "source": [
        " nmr = int(input())\n",
        " if nmr % 2 == 0:\n",
        "   print(nmr,\" is even\")\n",
        " else:\n",
        "   print(nmr, \" is odd\")\n"
      ],
      "execution_count": null,
      "outputs": [
        {
          "output_type": "stream",
          "name": "stdout",
          "text": [
            "8\n",
            "8  is even\n"
          ]
        }
      ]
    },
    {
      "cell_type": "code",
      "metadata": {
        "colab": {
          "base_uri": "https://localhost:8080/"
        },
        "id": "vmKyq3XxpyWN",
        "outputId": "d777501f-61f3-474c-d07c-751818431b98"
      },
      "source": [
        "num = int(input())\n",
        "if num < 0 :\n",
        "  print(num, \"negative number\")\n",
        "else:\n",
        "  print(num, \"positive number\")"
      ],
      "execution_count": null,
      "outputs": [
        {
          "output_type": "stream",
          "name": "stdout",
          "text": [
            "-8\n",
            "-8 negative number\n"
          ]
        }
      ]
    },
    {
      "cell_type": "code",
      "metadata": {
        "colab": {
          "base_uri": "https://localhost:8080/"
        },
        "id": "iyrTYGsosqcM",
        "outputId": "f938848f-4e8e-4a91-b03a-275e7892acd6"
      },
      "source": [
        "a = int(input(\"Bir sayi giriniz: \"))\n",
        "b = int(input(\"Bir sayi giriniz: \"))\n",
        "if a > b:\n",
        "  larger = a\n",
        "else :\n",
        "  larger = b\n",
        "print(larger)"
      ],
      "execution_count": null,
      "outputs": [
        {
          "output_type": "stream",
          "name": "stdout",
          "text": [
            "Bir sayi giriniz: 1\n",
            "Bir sayi giriniz: 8\n",
            "8\n"
          ]
        }
      ]
    },
    {
      "cell_type": "code",
      "metadata": {
        "colab": {
          "base_uri": "https://localhost:8080/"
        },
        "id": "VrO8XgWPu5KV",
        "outputId": "7afcd767-7d19-464a-c3ae-4277befdce44"
      },
      "source": [
        "a = int(input(\"Bir sayi giriniz: \"))\n",
        "b = int(input(\"Bir sayi giriniz: \")) \n",
        "if a > b: \n",
        "   print(\"The large number is: \", a) \n",
        "else: \n",
        "  print(\"The large number is: \", b)"
      ],
      "execution_count": null,
      "outputs": [
        {
          "output_type": "stream",
          "name": "stdout",
          "text": [
            "Bir sayi giriniz: 55\n",
            "Bir sayi giriniz: 22\n",
            "The large number is:  55\n"
          ]
        }
      ]
    },
    {
      "cell_type": "code",
      "metadata": {
        "colab": {
          "base_uri": "https://localhost:8080/"
        },
        "id": "x6rJ7_F3u5My",
        "outputId": "0a8305e4-38fa-47ef-db5c-0eba2e411bdf"
      },
      "source": [
        "college_years = ['Freshman', 'Sophomore', 'Junior', 'Senior']\n",
        "print(list(enumerate(college_years, 2019)))\n"
      ],
      "execution_count": null,
      "outputs": [
        {
          "output_type": "stream",
          "name": "stdout",
          "text": [
            "[(2019, 'Freshman'), (2020, 'Sophomore'), (2021, 'Junior'), (2022, 'Senior')]\n"
          ]
        }
      ]
    },
    {
      "cell_type": "code",
      "metadata": {
        "colab": {
          "base_uri": "https://localhost:8080/"
        },
        "id": "hY3IqirNu5PP",
        "outputId": "bc3658d9-a76f-4a33-a2e3-1f22e415d02b"
      },
      "source": [
        "fruits = ['Apples', 'Oranges', 'Bananas']\n",
        "quantities = [5, 3, 4]\n",
        "prices = [1.50, 2.25, 0.89]\n",
        "groceries = zip(fruits, quantities, prices)\n",
        "print(list(groceries))\n"
      ],
      "execution_count": null,
      "outputs": [
        {
          "output_type": "stream",
          "name": "stdout",
          "text": [
            "[('Apples', 5, 1.5), ('Oranges', 3, 2.25), ('Bananas', 4, 0.89)]\n"
          ]
        }
      ]
    },
    {
      "cell_type": "code",
      "metadata": {
        "colab": {
          "base_uri": "https://localhost:8080/"
        },
        "id": "8N6vwo-AkmKg",
        "outputId": "faa90718-c1f1-4d47-c000-a1390dd3d9af"
      },
      "source": [
        "college_years = ['Freshman', 'Sophomore', 'Junior', 'Senior']\n",
        "print(list(enumerate( college_years, 4)))"
      ],
      "execution_count": null,
      "outputs": [
        {
          "output_type": "stream",
          "name": "stdout",
          "text": [
            "[(4, 'Freshman'), (5, 'Sophomore'), (6, 'Junior'), (7, 'Senior')]\n"
          ]
        }
      ]
    },
    {
      "cell_type": "code",
      "metadata": {
        "colab": {
          "base_uri": "https://localhost:8080/",
          "height": 86
        },
        "id": "k4l-DI9HKcbV",
        "outputId": "a4f04515-b770-4b96-d747-522914bdd121"
      },
      "source": [
        "enumerate.__doc__"
      ],
      "execution_count": null,
      "outputs": [
        {
          "output_type": "execute_result",
          "data": {
            "application/vnd.google.colaboratory.intrinsic+json": {
              "type": "string"
            },
            "text/plain": [
              "'Return an enumerate object.\\n\\n  iterable\\n    an object supporting iteration\\n\\nThe enumerate object yields pairs containing a count (from start, which\\ndefaults to zero) and a value yielded by the iterable argument.\\n\\nenumerate is useful for obtaining an indexed list:\\n    (0, seq[0]), (1, seq[1]), (2, seq[2]), ...'"
            ]
          },
          "metadata": {},
          "execution_count": 2
        }
      ]
    },
    {
      "cell_type": "code",
      "metadata": {
        "colab": {
          "base_uri": "https://localhost:8080/"
        },
        "id": "hXSz6FICkoWz",
        "outputId": "d52c7a08-e30e-45da-8bac-bae8047441cf"
      },
      "source": [
        "college_years = ['Freshman', 'Sophomore', 'Junior', 'Senior']\n",
        "print(set(enumerate( college_years, 4)))"
      ],
      "execution_count": null,
      "outputs": [
        {
          "output_type": "stream",
          "name": "stdout",
          "text": [
            "{(7, 'Senior'), (4, 'Freshman'), (6, 'Junior'), (5, 'Sophomore')}\n"
          ]
        }
      ]
    },
    {
      "cell_type": "code",
      "metadata": {
        "colab": {
          "base_uri": "https://localhost:8080/"
        },
        "id": "VJPYx4qvkodn",
        "outputId": "66ffafd3-c8dc-4390-88b1-7462c7fee1e1"
      },
      "source": [
        "college_years = ['Freshman', 'Sophomore', 'Junior', 'Senior']\n",
        "print(dict(enumerate( college_years, 4)))"
      ],
      "execution_count": null,
      "outputs": [
        {
          "output_type": "stream",
          "name": "stdout",
          "text": [
            "{4: 'Freshman', 5: 'Sophomore', 6: 'Junior', 7: 'Senior'}\n"
          ]
        }
      ]
    },
    {
      "cell_type": "code",
      "metadata": {
        "colab": {
          "base_uri": "https://localhost:8080/"
        },
        "id": "6FhX-gXdkof7",
        "outputId": "1b9ad25b-5fe5-4516-cf72-bdd067ecb4b4"
      },
      "source": [
        "toplar = [2, 5 , 6]\n",
        "for q in toplar:\n",
        "  print(q)"
      ],
      "execution_count": null,
      "outputs": [
        {
          "output_type": "stream",
          "name": "stdout",
          "text": [
            "2\n",
            "5\n",
            "6\n"
          ]
        }
      ]
    },
    {
      "cell_type": "code",
      "metadata": {
        "colab": {
          "base_uri": "https://localhost:8080/",
          "height": 52
        },
        "id": "YYysjpOhkoob",
        "outputId": "a8ce2312-1e71-4d11-d582-28512c45ba65"
      },
      "source": [
        "zip.__doc__"
      ],
      "execution_count": null,
      "outputs": [
        {
          "output_type": "execute_result",
          "data": {
            "application/vnd.google.colaboratory.intrinsic+json": {
              "type": "string"
            },
            "text/plain": [
              "'zip(*iterables) --> zip object\\n\\nReturn a zip object whose .__next__() method returns a tuple where\\nthe i-th element comes from the i-th iterable argument.  The .__next__()\\nmethod continues until the shortest iterable in the argument sequence\\nis exhausted and then it raises StopIteration.'"
            ]
          },
          "metadata": {},
          "execution_count": 34
        }
      ]
    },
    {
      "cell_type": "code",
      "metadata": {
        "id": "6gNwBuRikow2",
        "colab": {
          "base_uri": "https://localhost:8080/"
        },
        "outputId": "ae5cc7f0-676e-425b-f992-8b90a07e8f7b"
      },
      "source": [
        "print(range(10))"
      ],
      "execution_count": null,
      "outputs": [
        {
          "output_type": "stream",
          "name": "stdout",
          "text": [
            "range(0, 10)\n"
          ]
        }
      ]
    },
    {
      "cell_type": "code",
      "metadata": {
        "colab": {
          "base_uri": "https://localhost:8080/"
        },
        "id": "moXkxf8JwUFL",
        "outputId": "2511d974-4766-4f77-8d80-164703b1f31b"
      },
      "source": [
        "print(*range(10))"
      ],
      "execution_count": null,
      "outputs": [
        {
          "output_type": "stream",
          "name": "stdout",
          "text": [
            "0 1 2 3 4 5 6 7 8 9\n"
          ]
        }
      ]
    },
    {
      "cell_type": "code",
      "metadata": {
        "colab": {
          "base_uri": "https://localhost:8080/"
        },
        "id": "Y9P1ruYfwbgo",
        "outputId": "9c7c8652-5637-4863-e445-b7eaf13c04dc"
      },
      "source": [
        "print(list(range(10)))"
      ],
      "execution_count": null,
      "outputs": [
        {
          "output_type": "stream",
          "name": "stdout",
          "text": [
            "[0, 1, 2, 3, 4, 5, 6, 7, 8, 9]\n"
          ]
        }
      ]
    },
    {
      "cell_type": "code",
      "metadata": {
        "colab": {
          "base_uri": "https://localhost:8080/"
        },
        "id": "aUUw89p5w5Jg",
        "outputId": "ec70a619-bed3-46fc-b70e-a54311d8dc21"
      },
      "source": [
        "for i in range(6):\n",
        "  print(i* \"*\")"
      ],
      "execution_count": null,
      "outputs": [
        {
          "output_type": "stream",
          "name": "stdout",
          "text": [
            "\n",
            "*\n",
            "**\n",
            "***\n",
            "****\n",
            "*****\n"
          ]
        }
      ]
    },
    {
      "cell_type": "code",
      "metadata": {
        "colab": {
          "base_uri": "https://localhost:8080/"
        },
        "id": "vDfzSjP6xV3I",
        "outputId": "6843d0e8-4658-45c5-d876-72dcb131ed97"
      },
      "source": [
        "answer = 44\n",
        "\n",
        "question = 'What number am I thinking of?  '\n",
        "print (\"Let's play the guessing game!\")\n",
        "\n",
        "while True:\n",
        "    guess = int(input(question))\n",
        "\n",
        "    if guess < answer:\n",
        "        print('Little higher')\n",
        "    elif guess > answer:\n",
        "        print('Little lower')\n",
        "    else:  # guess == answer\n",
        "        print('Are you a MINDREADER!!!')\n",
        "        break"
      ],
      "execution_count": null,
      "outputs": [
        {
          "output_type": "stream",
          "name": "stdout",
          "text": [
            "Let's play the guessing game!\n",
            "What number am I thinking of?  33\n",
            "Little higher\n",
            "What number am I thinking of?  45\n",
            "Little lower\n",
            "What number am I thinking of?  44\n",
            "Are you a MINDREADER!!!\n"
          ]
        }
      ]
    },
    {
      "cell_type": "code",
      "metadata": {
        "colab": {
          "base_uri": "https://localhost:8080/"
        },
        "id": "-TrcWyziBc8_",
        "outputId": "638ccaff-1f74-4e30-97e4-1ece43bf6959"
      },
      "source": [
        "flowers = ['Rose', 'Orchid', 'Tulip']\n",
        "count1 = len(flowers)\n",
        "count2 = 0\n",
        "\n",
        "while count1 > 0 :\n",
        "    print(flowers[count2])\n",
        "    count1 -= 1\n",
        "    count2 += 1"
      ],
      "execution_count": null,
      "outputs": [
        {
          "output_type": "stream",
          "name": "stdout",
          "text": [
            "Rose\n",
            "Orchid\n",
            "Tulip\n"
          ]
        }
      ]
    },
    {
      "cell_type": "code",
      "metadata": {
        "colab": {
          "base_uri": "https://localhost:8080/"
        },
        "id": "DQRAjDQEL2UH",
        "outputId": "4cc1f835-9306-4fa4-aca8-c79e56b7f0e2"
      },
      "source": [
        "for i in ['Rose', 'Orchid', 'Tulip']: print(i)"
      ],
      "execution_count": null,
      "outputs": [
        {
          "output_type": "stream",
          "name": "stdout",
          "text": [
            "Rose\n",
            "Orchid\n",
            "Tulip\n"
          ]
        }
      ]
    },
    {
      "cell_type": "code",
      "metadata": {
        "colab": {
          "base_uri": "https://localhost:8080/"
        },
        "id": "H2KwNcvEDUzY",
        "outputId": "b0d32771-8aa6-4504-a095-ed07919ecf56"
      },
      "source": [
        "for i in {'n1' : 'one', 'n2' : 'two'} : \n",
        "  print(i)"
      ],
      "execution_count": null,
      "outputs": [
        {
          "output_type": "stream",
          "name": "stdout",
          "text": [
            "n1\n",
            "n2\n"
          ]
        }
      ]
    },
    {
      "cell_type": "code",
      "metadata": {
        "colab": {
          "base_uri": "https://localhost:8080/"
        },
        "id": "1jl6uUq9LSdc",
        "outputId": "ed40c6b3-9d82-46f0-e0ee-84f28df83b68"
      },
      "source": [
        "n = int(input('enter a number between 1-10: '))\n",
        "\n",
        "for i in range(11):\n",
        "    print('{}x{} = '.format(n, i), n*i)"
      ],
      "execution_count": null,
      "outputs": [
        {
          "output_type": "stream",
          "name": "stdout",
          "text": [
            "enter a number between 1-10: 4\n",
            "4x0 =  0\n",
            "4x1 =  4\n",
            "4x2 =  8\n",
            "4x3 =  12\n",
            "4x4 =  16\n",
            "4x5 =  20\n",
            "4x6 =  24\n",
            "4x7 =  28\n",
            "4x8 =  32\n",
            "4x9 =  36\n",
            "4x10 =  40\n"
          ]
        }
      ]
    },
    {
      "cell_type": "code",
      "metadata": {
        "colab": {
          "base_uri": "https://localhost:8080/"
        },
        "id": "JeihMAYNN4CB",
        "outputId": "2ae89714-b12f-4e3d-b64b-8f42714066e0"
      },
      "source": [
        "no1 = float(input())\n",
        "no2 = float(input())\n",
        "no3 = float(input())\n",
        "\n",
        "if (no1 > no2) and (no1 > no3) :\n",
        "  largest = no1\n",
        "elif (no2 > no1) and (no2 > no3):\n",
        "  largest = no2\n",
        "else:\n",
        "  largest = no3\n",
        "print(largest)"
      ],
      "execution_count": null,
      "outputs": [
        {
          "output_type": "stream",
          "name": "stdout",
          "text": [
            "9\n",
            "5\n",
            "6\n",
            "9.0\n"
          ]
        }
      ]
    },
    {
      "cell_type": "code",
      "metadata": {
        "colab": {
          "base_uri": "https://localhost:8080/"
        },
        "id": "bnTd96X6y2HX",
        "outputId": "a135e12b-c24a-4070-8ece-56ab586fd93e"
      },
      "source": [
        "test = float(input(\"enter your note: \"))\n",
        "\n",
        "if test >= 90:\n",
        "  \n",
        "  if test >= 95 :\n",
        "    print(\"A+\")\n",
        "  else  :\n",
        "    print(\"A\")\n",
        "elif  test >= 80 :\n",
        "    \n",
        "  if test >= 84 :\n",
        "    print(\"B+\")\n",
        "  else :\n",
        "    print(\"B\")\n",
        "else:\n",
        " print(\"B-\")"
      ],
      "execution_count": null,
      "outputs": [
        {
          "output_type": "stream",
          "name": "stdout",
          "text": [
            "enter your note: 94\n",
            "A\n"
          ]
        }
      ]
    },
    {
      "cell_type": "code",
      "metadata": {
        "colab": {
          "base_uri": "https://localhost:8080/"
        },
        "id": "TeaG6xyey2RO",
        "outputId": "448acbbd-7534-42df-aeba-e19abb3ad57d"
      },
      "source": [
        "number = 0\n",
        "\n",
        "while number < 6 :\n",
        "  print(number)\n",
        "  number += 1\n",
        "print(\"sayi 6 dan buyuk\")"
      ],
      "execution_count": null,
      "outputs": [
        {
          "output_type": "stream",
          "name": "stdout",
          "text": [
            "0\n",
            "1\n",
            "2\n",
            "3\n",
            "4\n",
            "5\n",
            "sayi 6 dan buyuk\n"
          ]
        }
      ]
    },
    {
      "cell_type": "code",
      "metadata": {
        "colab": {
          "base_uri": "https://localhost:8080/"
        },
        "id": "EW2AEJEfy2c4",
        "outputId": "69988396-62da-4b00-8320-69a4c0eb53c0"
      },
      "source": [
        "number = 0\n",
        "\n",
        "while number < 6 :\n",
        "  number += 1\n",
        "  print(number)\n",
        "  \n",
        "print(\"sayi 6 dan buyuk\")"
      ],
      "execution_count": null,
      "outputs": [
        {
          "output_type": "stream",
          "name": "stdout",
          "text": [
            "1\n",
            "2\n",
            "3\n",
            "4\n",
            "5\n",
            "6\n",
            "sayi 6 dan buyuk\n"
          ]
        }
      ]
    },
    {
      "cell_type": "code",
      "metadata": {
        "colab": {
          "base_uri": "https://localhost:8080/"
        },
        "id": "dGWh9N7ly2ml",
        "outputId": "3ceea96d-b254-4b94-9d13-ef9111a12c31"
      },
      "source": [
        "age = input(\"write your age: \")\n",
        "\n",
        "while not age.isdigit() :\n",
        "  print(\"you entered incorrect, try again\")\n",
        "\n",
        "  age = input(\"Enter your age again: \")\n",
        "print(\"Nice it is correct: \", age)"
      ],
      "execution_count": null,
      "outputs": [
        {
          "output_type": "stream",
          "name": "stdout",
          "text": [
            "write your age: lkfld\n",
            "you entered incorrect, try again\n",
            "Enter your age again: -88\n",
            "you entered incorrect, try again\n",
            "Enter your age again: 55\n",
            "Nice it is correct:  55\n"
          ]
        }
      ]
    },
    {
      "cell_type": "code",
      "metadata": {
        "colab": {
          "base_uri": "https://localhost:8080/"
        },
        "id": "fi_l0hh3y2us",
        "outputId": "70a61a89-92ae-40bf-a2f7-4042523b2163"
      },
      "source": [
        "nmr = 15\n",
        "\n",
        "while True :\n",
        "  i = int(input(\"write number: \"))\n",
        "  if i < nmr :\n",
        "    print(\"Little higher\")\n",
        "  elif i > nmr :\n",
        "    print(\"Little lower\")\n",
        "  else:\n",
        "    print(\"You are a mindreader\")\n",
        "  break"
      ],
      "execution_count": null,
      "outputs": [
        {
          "output_type": "stream",
          "name": "stdout",
          "text": [
            "write number15\n",
            "You are a mindreader\n"
          ]
        }
      ]
    },
    {
      "cell_type": "code",
      "metadata": {
        "colab": {
          "base_uri": "https://localhost:8080/"
        },
        "id": "s7ZurMQ5y22l",
        "outputId": "3aa230ee-16a4-4d36-f331-bf874e791413"
      },
      "source": [
        "sentence = input('Give me a sentence: ')\n",
        "word_list = sentence.split()\n",
        "i = 0\n",
        "longest = 0\n",
        "while i < len(word_list) :\n",
        "\n",
        "  if len(word_list[i]) > longest :\n",
        "    longest = len(word_list[i])\n",
        "\n",
        "  i += 1\n",
        "print(\"The lenght of the longest word :\", longest)"
      ],
      "execution_count": null,
      "outputs": [
        {
          "output_type": "stream",
          "name": "stdout",
          "text": [
            "Give me a sentence: the best is clarusway\n",
            "The lenght of the longest word : 9\n"
          ]
        }
      ]
    },
    {
      "cell_type": "code",
      "metadata": {
        "colab": {
          "base_uri": "https://localhost:8080/"
        },
        "id": "LEM9IOZHy0XK",
        "outputId": "15029b90-7b79-441f-abd3-e9f6c3cbbbc9"
      },
      "source": [
        "answer = 22\n",
        "\n",
        "print(\"Let's play the guessing game!\")\n",
        "\n",
        "while True :\n",
        "   guess = int(input(\"What a two-digit number ı am thinking: \"))\n",
        "   if guess < answer :\n",
        "     print(\"Little higher.. \")\n",
        "   elif guess > answer :\n",
        "     print(\"Little lower..\")\n",
        "   else :\n",
        "     print(\"Are you MİNDREADER..!\") \n",
        "     break"
      ],
      "execution_count": null,
      "outputs": [
        {
          "output_type": "stream",
          "name": "stdout",
          "text": [
            "Let's play the guessing game!\n",
            "What a two-digit number ı am thinking: 55\n",
            "Little lower..\n",
            "What a two-digit number ı am thinking: 22\n",
            "Are you MİNDREADER..!\n"
          ]
        }
      ]
    },
    {
      "cell_type": "code",
      "metadata": {
        "colab": {
          "base_uri": "https://localhost:8080/"
        },
        "id": "neIOn2mfOGvw",
        "outputId": "e400e1e7-26ef-44bc-983d-e1b4283e458b"
      },
      "source": [
        "#password reminder\n",
        "\n",
        "name = \"Michael\"\n",
        "password = \"kasaba\"\n",
        "\n",
        "user = input(\"Enter your name: \")\n",
        "if user == name:\n",
        "  print(f'Hello, {name}! The password is: {password}')\n",
        "else:\n",
        "  print(f'Hello {user}! See you later.')"
      ],
      "execution_count": null,
      "outputs": [
        {
          "output_type": "stream",
          "name": "stdout",
          "text": [
            "Enter your name: Michael\n",
            "Hello, Michael! The password is: kasaba\n"
          ]
        }
      ]
    },
    {
      "cell_type": "code",
      "metadata": {
        "id": "4DbL2XjdaTQS",
        "colab": {
          "base_uri": "https://localhost:8080/"
        },
        "outputId": "8838a1b3-51b1-465f-c5d1-566c972dad74"
      },
      "source": [
        "#Estimating the risk of death from coronavirus.\n",
        "#Takes \"Yes\" or \"No\" from the user as an answer to the following questions :\n",
        "\n",
        "age = input(\"Are you a cigarette addict older than 75 years old?: Yes or No >> \")\n",
        "chronic = input(\"Do you have a severe chronic disease?: Yes or No >> \")\n",
        "immune = input(\"Is your immune system too weak?: Yes or No >> \")\n",
        "\n",
        "\n",
        "if age == \"Yes\" or chronic == \"Yes\" or immune == \"Yes\":\n",
        "  print(\"You are in risky group\")\n",
        "else:\n",
        "  print(\"You are not in risky group\")\n"
      ],
      "execution_count": null,
      "outputs": [
        {
          "output_type": "stream",
          "name": "stdout",
          "text": [
            "Are you a cigarette addict older than 75 years old?: Yes or No >> No\n",
            "Do you have a severe chronic disease?: Yes or No >> No\n",
            "Is your immune system too weak?: Yes or No >> Yes\n",
            "You are in risky group\n"
          ]
        }
      ]
    },
    {
      "cell_type": "code",
      "metadata": {
        "id": "3Dg720GSO6FJ"
      },
      "source": [
        "sent = input(\"write sentence: \")\n",
        "words = sent.split()\n",
        "i = 0\n",
        "longest = 0\n",
        "while i < len(words) :\n",
        "  if len(words[i]) > longest :"
      ],
      "execution_count": null,
      "outputs": []
    },
    {
      "cell_type": "code",
      "metadata": {
        "colab": {
          "base_uri": "https://localhost:8080/"
        },
        "id": "k3opActQMtwv",
        "outputId": "d9a093d7-152b-4d64-f165-add1595de2ee"
      },
      "source": [
        "A = 1000\n",
        "F = 0.07\n",
        "A = A + A * F\n",
        "for i in range(1,11):\n",
        "  print(A)\n",
        "  A = A + A * F"
      ],
      "execution_count": null,
      "outputs": [
        {
          "output_type": "stream",
          "name": "stdout",
          "text": [
            "1070.0\n",
            "1144.9\n",
            "1225.0430000000001\n",
            "1310.79601\n",
            "1402.5517307\n",
            "1500.730351849\n",
            "1605.78147647843\n",
            "1718.18617983192\n",
            "1838.4592124201545\n",
            "1967.1513572895653\n"
          ]
        }
      ]
    },
    {
      "cell_type": "code",
      "metadata": {
        "colab": {
          "base_uri": "https://localhost:8080/"
        },
        "id": "Bwop1b55Mtsv",
        "outputId": "4b349038-2152-4967-cd89-a65041d5963c"
      },
      "source": [
        "l = []\n",
        "\n",
        "for i in range(1,6) :\n",
        "  l.append(i)\n",
        "  print(l)\n"
      ],
      "execution_count": null,
      "outputs": [
        {
          "output_type": "stream",
          "name": "stdout",
          "text": [
            "[1]\n",
            "[1, 2]\n",
            "[1, 2, 3]\n",
            "[1, 2, 3, 4]\n",
            "[1, 2, 3, 4, 5]\n"
          ]
        }
      ]
    },
    {
      "cell_type": "code",
      "metadata": {
        "colab": {
          "base_uri": "https://localhost:8080/"
        },
        "id": "PPOMqxSCMtoi",
        "outputId": "3decea62-9ea3-4300-deb3-9d73aac4252b"
      },
      "source": [
        "l = []\n",
        "\n",
        "for i in range(1,6) :\n",
        "  l.append(i)\n",
        "print(l)"
      ],
      "execution_count": null,
      "outputs": [
        {
          "output_type": "stream",
          "name": "stdout",
          "text": [
            "[1, 2, 3, 4, 5]\n"
          ]
        }
      ]
    },
    {
      "cell_type": "code",
      "metadata": {
        "id": "_Ze5kzNxMtlv"
      },
      "source": [
        ""
      ],
      "execution_count": null,
      "outputs": []
    },
    {
      "cell_type": "code",
      "metadata": {
        "colab": {
          "base_uri": "https://localhost:8080/"
        },
        "id": "MEBW8uhkZU3q",
        "outputId": "3c66a4de-aaff-4064-c42f-3b122432ff78"
      },
      "source": [
        "i = input(\"Bir kelime giriniz: \")\n",
        "\n",
        "for a in i :\n",
        "  print(a.lower())"
      ],
      "execution_count": null,
      "outputs": [
        {
          "output_type": "stream",
          "name": "stdout",
          "text": [
            "Bir kelime giriniz: araba\n",
            "a\n",
            "r\n",
            "a\n",
            "b\n",
            "a\n"
          ]
        }
      ]
    },
    {
      "cell_type": "code",
      "metadata": {
        "colab": {
          "base_uri": "https://localhost:8080/"
        },
        "id": "8r8Rh-bjMti_",
        "outputId": "e9961b12-0fc6-4631-b5eb-028811fc7073"
      },
      "source": [
        "text= \"Clarusway\"\n",
        "count = 0\n",
        "\n",
        "for i in text : \n",
        "  count += 1\n",
        "  if count < len(text) :\n",
        "    i += \"-\" \n",
        "  print(i, end = \"\")"
      ],
      "execution_count": null,
      "outputs": [
        {
          "output_type": "stream",
          "name": "stdout",
          "text": [
            "C-l-a-r-u-s-w-a-y"
          ]
        }
      ]
    },
    {
      "cell_type": "code",
      "metadata": {
        "colab": {
          "base_uri": "https://localhost:8080/"
        },
        "id": "C0zFnCdjZWLn",
        "outputId": "091c4246-5251-43c3-8dcc-1bcd89869c0e"
      },
      "source": [
        "num = list(range(11))\n",
        "\n",
        "counter = 0\n",
        "for i in  num :\n",
        "    counter += 1\n",
        "    if counter < len(num): \n",
        "       i = str(i) + \"-\"\n",
        "    print(i, end= \"\")"
      ],
      "execution_count": null,
      "outputs": [
        {
          "output_type": "stream",
          "name": "stdout",
          "text": [
            "0-1-2-3-4-5-6-7-8-9-10"
          ]
        }
      ]
    },
    {
      "cell_type": "code",
      "metadata": {
        "id": "v3JOCxWhmlce"
      },
      "source": [
        ""
      ],
      "execution_count": null,
      "outputs": []
    },
    {
      "cell_type": "code",
      "metadata": {
        "colab": {
          "base_uri": "https://localhost:8080/"
        },
        "id": "1GqfHZlgZWCX",
        "outputId": "0cb2665f-8fd7-4bca-e72b-01cf0fe6d8c4"
      },
      "source": [
        "num = int(input(\"bir rakam giriniz:\"))\n",
        "for i in range(11):\n",
        "  print(f'{num} x {i} = {num * i}')"
      ],
      "execution_count": null,
      "outputs": [
        {
          "output_type": "stream",
          "name": "stdout",
          "text": [
            "bir rakam giriniz:5\n",
            "5 x 0 = 0\n",
            "5 x 1 = 5\n",
            "5 x 2 = 10\n",
            "5 x 3 = 15\n",
            "5 x 4 = 20\n",
            "5 x 5 = 25\n",
            "5 x 6 = 30\n",
            "5 x 7 = 35\n",
            "5 x 8 = 40\n",
            "5 x 9 = 45\n",
            "5 x 10 = 50\n"
          ]
        }
      ]
    },
    {
      "cell_type": "code",
      "metadata": {
        "colab": {
          "base_uri": "https://localhost:8080/"
        },
        "id": "w7WJTvJ1ZWHt",
        "outputId": "4cb54777-17be-44e0-a4cb-43d8b9ec3a33"
      },
      "source": [
        "for i in range(1,10):\n",
        "  print(str(i) * i)"
      ],
      "execution_count": null,
      "outputs": [
        {
          "output_type": "stream",
          "name": "stdout",
          "text": [
            "1\n",
            "22\n",
            "333\n",
            "4444\n",
            "55555\n",
            "666666\n",
            "7777777\n",
            "88888888\n",
            "999999999\n"
          ]
        }
      ]
    },
    {
      "cell_type": "code",
      "metadata": {
        "id": "IA3u8socrK4w"
      },
      "source": [
        ""
      ],
      "execution_count": null,
      "outputs": []
    },
    {
      "cell_type": "code",
      "metadata": {
        "colab": {
          "base_uri": "https://localhost:8080/"
        },
        "id": "_6CVgVbdMtYL",
        "outputId": "c6464482-609b-4ed3-91d1-56c0ffc4792c"
      },
      "source": [
        "a = list(range(1,10))\n",
        "print(a)"
      ],
      "execution_count": null,
      "outputs": [
        {
          "output_type": "stream",
          "name": "stdout",
          "text": [
            "[1, 2, 3, 4, 5, 6, 7, 8, 9]\n"
          ]
        }
      ]
    },
    {
      "cell_type": "code",
      "metadata": {
        "colab": {
          "base_uri": "https://localhost:8080/"
        },
        "id": "jndtwPPxMtVg",
        "outputId": "d346784f-497f-4f5f-aceb-42291d2c3065"
      },
      "source": [
        "a = set(range(1,10))\n",
        "print(a)"
      ],
      "execution_count": null,
      "outputs": [
        {
          "output_type": "stream",
          "name": "stdout",
          "text": [
            "{1, 2, 3, 4, 5, 6, 7, 8, 9}\n"
          ]
        }
      ]
    },
    {
      "cell_type": "code",
      "metadata": {
        "colab": {
          "base_uri": "https://localhost:8080/"
        },
        "id": "jKKAKhpBMtQg",
        "outputId": "e28a09b5-62ca-4f05-a9ae-1798376b5ee7"
      },
      "source": [
        "a = list(range(10, 0, -2))\n",
        "print(a)"
      ],
      "execution_count": null,
      "outputs": [
        {
          "output_type": "stream",
          "name": "stdout",
          "text": [
            "[10, 8, 6, 4, 2]\n"
          ]
        }
      ]
    },
    {
      "cell_type": "code",
      "metadata": {
        "id": "Yjxjkw2_tzZn"
      },
      "source": [
        ""
      ],
      "execution_count": null,
      "outputs": []
    },
    {
      "cell_type": "code",
      "metadata": {
        "colab": {
          "base_uri": "https://localhost:8080/"
        },
        "id": "k48nINpQtzPm",
        "outputId": "76c39bb4-d8a3-47fa-8aa8-05dee9784636"
      },
      "source": [
        "tex = [\"one\", \"two\", \"three\"]\n",
        "num = [1, 2, 3]\n",
        "A = zip(tex, num)\n",
        "print(A)\n",
        "print(*A)"
      ],
      "execution_count": null,
      "outputs": [
        {
          "output_type": "stream",
          "name": "stdout",
          "text": [
            "<zip object at 0x7f521261cc80>\n",
            "('one', 1) ('two', 2) ('three', 3)\n"
          ]
        }
      ]
    },
    {
      "cell_type": "code",
      "metadata": {
        "colab": {
          "base_uri": "https://localhost:8080/"
        },
        "id": "658lR7KitB05",
        "outputId": "c144af32-ed87-4e9b-908a-70441b900361"
      },
      "source": [
        "tex = [\"one\", \"two\", \"three\"]\n",
        "num = [1, 2, 3]\n",
        "A = zip(tex, num)\n",
        "for i, j in A:\n",
        "  print(i, j)"
      ],
      "execution_count": null,
      "outputs": [
        {
          "output_type": "stream",
          "name": "stdout",
          "text": [
            "one 1\n",
            "two 2\n",
            "three 3\n"
          ]
        }
      ]
    },
    {
      "cell_type": "code",
      "metadata": {
        "colab": {
          "base_uri": "https://localhost:8080/"
        },
        "id": "uYDzPfgNttcL",
        "outputId": "57f3096f-3c74-4603-80d1-2a84a55164db"
      },
      "source": [
        "evens = []\n",
        "odds = []\n",
        "\n",
        "for n in range(10):\n",
        "\n",
        "  if n % 2 == 0:\n",
        "    evens.append(n)\n",
        "  else :\n",
        "    odds.append(n)\n",
        "print(\"evens : \", evens)\n",
        "print(\"odds : \", odds)"
      ],
      "execution_count": null,
      "outputs": [
        {
          "output_type": "stream",
          "name": "stdout",
          "text": [
            "evens :  [0, 2, 4, 6, 8]\n",
            "odds :  [1, 3, 5, 7, 9]\n"
          ]
        }
      ]
    },
    {
      "cell_type": "code",
      "metadata": {
        "colab": {
          "base_uri": "https://localhost:8080/"
        },
        "id": "IYmyFOktv7EI",
        "outputId": "317e20fe-78b9-4065-856d-9d8283d4766b"
      },
      "source": [
        "num = (11, 36, 33, 66, 89, 21, 32, 16, 10)\n",
        "odds = 0\n",
        "evens = 0\n",
        "\n",
        "for i in num :\n",
        "\n",
        "  if i % 2 == 0:\n",
        "    evens += 1\n",
        "  else :\n",
        "    odds += 1\n",
        "print(\"evens count : \", evens)\n",
        "print(\"odds count : \", odds)"
      ],
      "execution_count": null,
      "outputs": [
        {
          "output_type": "stream",
          "name": "stdout",
          "text": [
            "evens count :  5\n",
            "odds count :  4\n"
          ]
        }
      ]
    },
    {
      "cell_type": "code",
      "metadata": {
        "colab": {
          "base_uri": "https://localhost:8080/"
        },
        "id": "vftW7TzHxSSm",
        "outputId": "26de8987-08fd-4949-e93f-50db1878ffe4"
      },
      "source": [
        "faktoryel = 1\n",
        "\n",
        "while True:\n",
        "  sayi = int(input(\"Lutfen pozitif bir sayi giriniz :\"))\n",
        "  if sayi <= 0:\n",
        "    print(\"Lutfen pozitif bir sayi giriniz\")\n",
        "  else :\n",
        "    for i in range(1, sayi + 1):\n",
        "      faktoryel *= i\n",
        "    print(\"Faktoryel\", sayi, \"=\", faktoryel)\n",
        "  break"
      ],
      "execution_count": null,
      "outputs": [
        {
          "output_type": "stream",
          "name": "stdout",
          "text": [
            "Lutfen pozitif bir sayi giriniz :6\n",
            "Faktoryel 6 = 720\n"
          ]
        }
      ]
    },
    {
      "cell_type": "code",
      "metadata": {
        "id": "smJJ59HlxSO7",
        "colab": {
          "base_uri": "https://localhost:8080/"
        },
        "outputId": "b4989e6e-078b-4ff9-84e2-669f54dcae62"
      },
      "source": [
        "a=[1,2,3,4]\n",
        "b=a.copy()\n",
        "a.append(5)\n",
        "print(b)"
      ],
      "execution_count": null,
      "outputs": [
        {
          "output_type": "stream",
          "name": "stdout",
          "text": [
            "[1, 2, 3, 4]\n"
          ]
        }
      ]
    },
    {
      "cell_type": "code",
      "metadata": {
        "id": "8zmxKAXfxSMb",
        "colab": {
          "base_uri": "https://localhost:8080/"
        },
        "outputId": "b801a417-849b-4bbf-910e-f3cc28fbd7b0"
      },
      "source": [
        "a=[1,2,3,4]\n",
        "b=a.copy()\n",
        "print(b)"
      ],
      "execution_count": null,
      "outputs": [
        {
          "output_type": "stream",
          "name": "stdout",
          "text": [
            "[1, 2, 3, 4]\n"
          ]
        }
      ]
    },
    {
      "cell_type": "code",
      "metadata": {
        "id": "O_-RjwTaxSJd",
        "colab": {
          "base_uri": "https://localhost:8080/"
        },
        "outputId": "a481d0a7-57c8-4347-8428-dc68d5ccc1fc"
      },
      "source": [
        "L1 = []\n",
        "L1.append([1, [2, 3], 4])\n",
        "L1.extend([7, 8, 9])\n",
        "print(L1[0][1][1] + L1[2])"
      ],
      "execution_count": null,
      "outputs": [
        {
          "output_type": "stream",
          "name": "stdout",
          "text": [
            "11\n"
          ]
        }
      ]
    },
    {
      "cell_type": "code",
      "metadata": {
        "colab": {
          "base_uri": "https://localhost:8080/"
        },
        "id": "f553rRnrOfUQ",
        "outputId": "333d2df3-26ee-4d01-8ec8-5d1df4e50209"
      },
      "source": [
        "T = (1, 2, 3, 4, 5, 6, 7, 8)   #index modu refere edilen degerin index numarasini gosterir.\n",
        "print(T.index(5))"
      ],
      "execution_count": null,
      "outputs": [
        {
          "output_type": "stream",
          "name": "stdout",
          "text": [
            "4\n"
          ]
        }
      ]
    },
    {
      "cell_type": "code",
      "metadata": {
        "id": "NpOXmYocxSGD",
        "colab": {
          "base_uri": "https://localhost:8080/"
        },
        "outputId": "55b396e6-b42d-46fa-c2aa-031ec4b1c8f9"
      },
      "source": [
        "T = (1, 2, 3, 4, 5, 6, 7, 8)\n",
        "print(T[T.index(5)], end = \" \")\n",
        "print(T[T[T[6]-3]-6])"
      ],
      "execution_count": null,
      "outputs": [
        {
          "output_type": "stream",
          "name": "stdout",
          "text": [
            "5 8\n"
          ]
        }
      ]
    },
    {
      "cell_type": "code",
      "metadata": {
        "colab": {
          "base_uri": "https://localhost:8080/"
        },
        "id": "Q_nEwjJPOQPq",
        "outputId": "f15c2731-5a1f-4aa1-c367-53a77108e537"
      },
      "source": [
        "D = {1 : 1, 2 : '2', '1' : 1, '2' : 3}\n",
        "D['1'] = 2\n",
        "print(D[D[D[str(D[1])]]])"
      ],
      "execution_count": null,
      "outputs": [
        {
          "output_type": "stream",
          "name": "stdout",
          "text": [
            "3\n"
          ]
        }
      ]
    },
    {
      "cell_type": "code",
      "metadata": {
        "colab": {
          "base_uri": "https://localhost:8080/"
        },
        "id": "ZyWU1WEvOQLa",
        "outputId": "d3f6d3fe-36fb-487b-fb52-e57238b4e6f6"
      },
      "source": [
        "set1 = {1, 2, 3}\n",
        "set2 = set1.copy()\n",
        "set2.add(4)\n",
        "print(set1)"
      ],
      "execution_count": null,
      "outputs": [
        {
          "output_type": "stream",
          "name": "stdout",
          "text": [
            "{1, 2, 3}\n"
          ]
        }
      ]
    },
    {
      "cell_type": "code",
      "metadata": {
        "id": "VF7ZpqjvOQIL",
        "colab": {
          "base_uri": "https://localhost:8080/"
        },
        "outputId": "c6e99139-9868-4f50-c8eb-0a4143840a9f"
      },
      "source": [
        "i = 0\n",
        "while i < 10 :\n",
        "  print('i degeri: ', i)\n",
        "  i += 2\n",
        "  i -= 1"
      ],
      "execution_count": null,
      "outputs": [
        {
          "output_type": "stream",
          "name": "stdout",
          "text": [
            "i degeri:  0\n",
            "i degeri:  1\n",
            "i degeri:  2\n",
            "i degeri:  3\n",
            "i degeri:  4\n",
            "i degeri:  5\n",
            "i degeri:  6\n",
            "i degeri:  7\n",
            "i degeri:  8\n",
            "i degeri:  9\n"
          ]
        }
      ]
    },
    {
      "cell_type": "code",
      "metadata": {
        "id": "NI0fbA00OQC-",
        "colab": {
          "base_uri": "https://localhost:8080/"
        },
        "outputId": "7a1dd3aa-7142-44cc-b8f7-e5fe893f5fad"
      },
      "source": [
        "sayi = 0\n",
        "for i in range(1,75):\n",
        "  sayi += i\n",
        "print(sayi)"
      ],
      "execution_count": null,
      "outputs": [
        {
          "output_type": "stream",
          "name": "stdout",
          "text": [
            "2775\n"
          ]
        }
      ]
    },
    {
      "cell_type": "code",
      "metadata": {
        "id": "zdRV8LwQOQAT",
        "colab": {
          "base_uri": "https://localhost:8080/"
        },
        "outputId": "fdb695fc-0897-4bd3-9dcb-8eefbba52709"
      },
      "source": [
        " who = [\"I am\", \"You are\"]\n",
        " mood = [\" happy\", \" confident\"]\n",
        "\n",
        " for i in who:\n",
        "   for ii in mood:\n",
        "     print(i + ii)\n"
      ],
      "execution_count": null,
      "outputs": [
        {
          "output_type": "stream",
          "name": "stdout",
          "text": [
            "I am happy\n",
            "I am confident\n",
            "You are happy\n",
            "You are confident\n"
          ]
        }
      ]
    },
    {
      "cell_type": "code",
      "metadata": {
        "id": "n91BZiI2OP9s",
        "colab": {
          "base_uri": "https://localhost:8080/"
        },
        "outputId": "7fd3f1ea-abe9-47fa-bb07-9a7813c38bbb"
      },
      "source": [
        "names = [\"susan\", \"tom\", \"edward\"]\n",
        "mood = [\"happy\", \"sad\"]\n",
        "\n",
        "for i in names:\n",
        "  for ii in mood:\n",
        "    print(i + \" is \" + ii)"
      ],
      "execution_count": null,
      "outputs": [
        {
          "output_type": "stream",
          "name": "stdout",
          "text": [
            "susan is happy\n",
            "susan is sad\n",
            "tom is happy\n",
            "tom is sad\n",
            "edward is happy\n",
            "edward is sad\n"
          ]
        }
      ]
    },
    {
      "cell_type": "code",
      "metadata": {
        "id": "8hkGH52cOP5x",
        "colab": {
          "base_uri": "https://localhost:8080/"
        },
        "outputId": "f140a2ea-6aea-456a-ac6d-2a2e7e56c472"
      },
      "source": [
        "# Listelerde toplama islemi\n",
        "[1,2,3,4] + [\"bir\", \"iki\", \"uc\"]"
      ],
      "execution_count": null,
      "outputs": [
        {
          "output_type": "execute_result",
          "data": {
            "text/plain": [
              "[1, 2, 3, 4, 'bir', 'iki', 'uc']"
            ]
          },
          "metadata": {},
          "execution_count": 9
        }
      ]
    },
    {
      "cell_type": "code",
      "metadata": {
        "id": "WzYXWnPSOP1Y",
        "colab": {
          "base_uri": "https://localhost:8080/",
          "height": 180
        },
        "outputId": "9b34a7be-380b-4eae-f173-1c995e730fde"
      },
      "source": [
        "a, b = [10, 20, 30, 40]\n",
        "print(a, b)"
      ],
      "execution_count": null,
      "outputs": [
        {
          "output_type": "error",
          "ename": "ValueError",
          "evalue": "ignored",
          "traceback": [
            "\u001b[0;31m---------------------------------------------------------------------------\u001b[0m",
            "\u001b[0;31mValueError\u001b[0m                                Traceback (most recent call last)",
            "\u001b[0;32m<ipython-input-20-3b295db562e6>\u001b[0m in \u001b[0;36m<module>\u001b[0;34m()\u001b[0m\n\u001b[0;32m----> 1\u001b[0;31m \u001b[0ma\u001b[0m\u001b[0;34m,\u001b[0m \u001b[0mb\u001b[0m \u001b[0;34m=\u001b[0m \u001b[0;34m[\u001b[0m\u001b[0;36m10\u001b[0m\u001b[0;34m,\u001b[0m \u001b[0;36m20\u001b[0m\u001b[0;34m,\u001b[0m \u001b[0;36m30\u001b[0m\u001b[0;34m,\u001b[0m \u001b[0;36m40\u001b[0m\u001b[0;34m]\u001b[0m\u001b[0;34m\u001b[0m\u001b[0;34m\u001b[0m\u001b[0m\n\u001b[0m\u001b[1;32m      2\u001b[0m \u001b[0mprint\u001b[0m\u001b[0;34m(\u001b[0m\u001b[0ma\u001b[0m\u001b[0;34m,\u001b[0m \u001b[0mb\u001b[0m\u001b[0;34m)\u001b[0m\u001b[0;34m\u001b[0m\u001b[0;34m\u001b[0m\u001b[0m\n",
            "\u001b[0;31mValueError\u001b[0m: too many values to unpack (expected 2)"
          ]
        }
      ]
    },
    {
      "cell_type": "code",
      "metadata": {
        "colab": {
          "base_uri": "https://localhost:8080/"
        },
        "id": "ndPD5OEi7Rbq",
        "outputId": "b21c6d85-3d4b-45fa-89a0-fefd5d8a0fb7"
      },
      "source": [
        "#Place holder kullanimi (_)\n",
        "a, _, b, _ =[10,20,30,40]\n",
        "print(a, b)"
      ],
      "execution_count": null,
      "outputs": [
        {
          "output_type": "stream",
          "name": "stdout",
          "text": [
            "10 30\n"
          ]
        }
      ]
    },
    {
      "cell_type": "code",
      "metadata": {
        "colab": {
          "base_uri": "https://localhost:8080/"
        },
        "id": "MNVUftvR8W36",
        "outputId": "db60412d-fa42-46ba-d880-c43bacf8ae0e"
      },
      "source": [
        "x, y,*_ = (11, 22, 33, 44, 55)\n",
        "print(x,y)"
      ],
      "execution_count": null,
      "outputs": [
        {
          "output_type": "stream",
          "name": "stdout",
          "text": [
            "11 22\n"
          ]
        }
      ]
    },
    {
      "cell_type": "code",
      "metadata": {
        "colab": {
          "base_uri": "https://localhost:8080/"
        },
        "id": "bBev1-dq8Wyb",
        "outputId": "45c8ce30-3e9c-4c28-b825-fed94811d8a4"
      },
      "source": [
        "x, y, *z, t = (11, 22, 33, 44, 55, 66, 77)\n",
        "print(x, y, z, t)"
      ],
      "execution_count": null,
      "outputs": [
        {
          "output_type": "stream",
          "name": "stdout",
          "text": [
            "11 22 [33, 44, 55, 66] 77\n"
          ]
        }
      ]
    },
    {
      "cell_type": "code",
      "metadata": {
        "colab": {
          "base_uri": "https://localhost:8080/"
        },
        "id": "IId90id88Wto",
        "outputId": "512814a7-a72a-4703-a295-dd6185844334"
      },
      "source": [
        "x, y, *_, t = (11, 22, 33, 44, 55, 66, 77)\n",
        "print(x, y, t)"
      ],
      "execution_count": null,
      "outputs": [
        {
          "output_type": "stream",
          "name": "stdout",
          "text": [
            "11 22 77\n"
          ]
        }
      ]
    },
    {
      "cell_type": "code",
      "metadata": {
        "colab": {
          "base_uri": "https://localhost:8080/"
        },
        "id": "xY-CxGLg8Wqm",
        "outputId": "e4708725-3729-4ce2-e298-a8616073db41"
      },
      "source": [
        "#List Comprehension\n",
        "\n",
        "sayi = []\n",
        "\n",
        "for i in range(5):\n",
        "  sayi.append(i)\n",
        "print(sayi)"
      ],
      "execution_count": null,
      "outputs": [
        {
          "output_type": "stream",
          "name": "stdout",
          "text": [
            "[0, 1, 2, 3, 4]\n"
          ]
        }
      ]
    },
    {
      "cell_type": "code",
      "metadata": {
        "colab": {
          "base_uri": "https://localhost:8080/"
        },
        "id": "QdTQXJqG8Wn3",
        "outputId": "d911be2d-239a-40f1-d8c7-643d70d7db14"
      },
      "source": [
        "[i for i in range(5)]"
      ],
      "execution_count": null,
      "outputs": [
        {
          "output_type": "execute_result",
          "data": {
            "text/plain": [
              "[0, 1, 2, 3, 4]"
            ]
          },
          "metadata": {},
          "execution_count": 31
        }
      ]
    },
    {
      "cell_type": "code",
      "metadata": {
        "colab": {
          "base_uri": "https://localhost:8080/"
        },
        "id": "C1cvc5Nx8Wk3",
        "outputId": "01cca348-175e-438e-d477-a4ea7153d26a"
      },
      "source": [
        "[i ** 2 for i in range(1,6)]"
      ],
      "execution_count": null,
      "outputs": [
        {
          "output_type": "execute_result",
          "data": {
            "text/plain": [
              "[1, 4, 9, 16, 25]"
            ]
          },
          "metadata": {},
          "execution_count": 32
        }
      ]
    },
    {
      "cell_type": "code",
      "metadata": {
        "colab": {
          "base_uri": "https://localhost:8080/"
        },
        "id": "po7g27vi7jNc",
        "outputId": "4a1fd389-85a3-4d6e-8366-78f8b080468d"
      },
      "source": [
        "[i ** 2 for i in range(1,7) if i%2 != 0]"
      ],
      "execution_count": null,
      "outputs": [
        {
          "output_type": "execute_result",
          "data": {
            "text/plain": [
              "[1, 9, 25]"
            ]
          },
          "metadata": {},
          "execution_count": 36
        }
      ]
    },
    {
      "cell_type": "code",
      "metadata": {
        "colab": {
          "base_uri": "https://localhost:8080/"
        },
        "id": "qqoGKavEBp8W",
        "outputId": "88473886-f078-4983-fe6f-2b09ea942b69"
      },
      "source": [
        "#Ternary if condition\n",
        "\n",
        "condition = True\n",
        "if condition :\n",
        "  a = 1\n",
        "else:\n",
        "  a = 0\n",
        "print(a)"
      ],
      "execution_count": null,
      "outputs": [
        {
          "output_type": "stream",
          "name": "stdout",
          "text": [
            "1\n"
          ]
        }
      ]
    },
    {
      "cell_type": "code",
      "metadata": {
        "colab": {
          "base_uri": "https://localhost:8080/"
        },
        "id": "qZe7q_hdBqCe",
        "outputId": "6d65eecb-2648-4637-a2f5-2e71fbfb367c"
      },
      "source": [
        "condition = True\n",
        "1 if condition else 0"
      ],
      "execution_count": null,
      "outputs": [
        {
          "output_type": "execute_result",
          "data": {
            "text/plain": [
              "1"
            ]
          },
          "metadata": {},
          "execution_count": 39
        }
      ]
    },
    {
      "cell_type": "code",
      "metadata": {
        "colab": {
          "base_uri": "https://localhost:8080/"
        },
        "id": "pSUK9JUVX1u2",
        "outputId": "c21eab8d-7c1b-42ce-b621-40afca076bf2"
      },
      "source": [
        "num =input(\"Write a positive number: \")\n",
        "\n",
        "a = 0\n",
        "\n",
        "while num.isalpha() or int(num) <= 0  :\n",
        "  print(\"It is an invalid entry. Don't use non-numeric, float, or negative values!\")\n",
        "  num = 0\n",
        "  break\n",
        "if int(num) > 0 :\n",
        "    for i in num:\n",
        "      a += int(i) **len(num)\n",
        "      if a == int(num):\n",
        "        print(num, \" is an Armstrong number\")   \n",
        "      else:\n",
        "        print(num, \" is not an Armstrong number\") \n",
        "   "
      ],
      "execution_count": null,
      "outputs": [
        {
          "output_type": "stream",
          "name": "stdout",
          "text": [
            "Write a positive number: 55\n",
            "55  is not an Armstrong number\n",
            "55  is not an Armstrong number\n"
          ]
        }
      ]
    },
    {
      "cell_type": "code",
      "metadata": {
        "id": "gO2HePABEAdo",
        "colab": {
          "base_uri": "https://localhost:8080/"
        },
        "outputId": "13feaeb8-e5cb-4ea8-df3c-918dcffddf55"
      },
      "source": [
        "a = input(\"Please enter a number : \")\n",
        "sum = 0\n",
        "for i in str(a):\n",
        "  b= int(i)\n",
        "  sum = sum + b**3\n",
        "if sum ==a:\n",
        "  print(a,\" is an Armstrong Number\")\n",
        "else:\n",
        "  print(a,\" is NOT an Armstrong Number, because sum of 3rd power of numbers is \", sum)"
      ],
      "execution_count": null,
      "outputs": [
        {
          "output_type": "stream",
          "name": "stdout",
          "text": [
            "Please enter a number : 55\n",
            "55  is NOT an Armstrong Number, because sum of 3rd power of numbers is  250\n"
          ]
        }
      ]
    },
    {
      "cell_type": "code",
      "metadata": {
        "colab": {
          "base_uri": "https://localhost:8080/"
        },
        "id": "MYG7qi0IEAa_",
        "outputId": "0353573c-56c1-403b-ce70-0595c4d03a9b"
      },
      "source": [
        "listA = [\"ali\", \"veli\", False, 0, 22]\n",
        "filtered_list = filter(None, listA)\n",
        "print(\"The filtered elements are: \")\n",
        "for i in filtered_list:\n",
        "  print(i)"
      ],
      "execution_count": null,
      "outputs": [
        {
          "output_type": "stream",
          "name": "stdout",
          "text": [
            "The filtered elements are: \n",
            "ali\n",
            "veli\n",
            "22\n"
          ]
        }
      ]
    },
    {
      "cell_type": "code",
      "metadata": {
        "colab": {
          "base_uri": "https://localhost:8080/"
        },
        "id": "HMBsOPq1EAYS",
        "outputId": "9eece46f-ea37-416f-d66e-df771f8ac66e"
      },
      "source": [
        "grocery = [\"bread\", \"water\", \"olive\"]\n",
        "enum_grocery = enumerate(grocery)\n",
        "\n",
        "print(type(enum_grocery))\n",
        "print(list(enum_grocery))\n",
        "enum_grocery = enumerate(grocery, 10)\n",
        "print(list(enum_grocery))"
      ],
      "execution_count": null,
      "outputs": [
        {
          "output_type": "stream",
          "name": "stdout",
          "text": [
            "<class 'enumerate'>\n",
            "[(0, 'bread'), (1, 'water'), (2, 'olive')]\n",
            "[(10, 'bread'), (11, 'water'), (12, 'olive')]\n"
          ]
        }
      ]
    },
    {
      "cell_type": "code",
      "metadata": {
        "id": "7IHD6i89EAVG"
      },
      "source": [
        "def ilk_fonksion(x, y) :\n",
        "  print(x ** 2 + y ** 2)\n",
        "\n"
      ],
      "execution_count": null,
      "outputs": []
    },
    {
      "cell_type": "code",
      "metadata": {
        "id": "bqxUVWDqBqQD",
        "colab": {
          "base_uri": "https://localhost:8080/"
        },
        "outputId": "235cba5f-a619-4e58-80d3-06ee078d3c17"
      },
      "source": [
        "ilk_fonksion(3,4)"
      ],
      "execution_count": null,
      "outputs": [
        {
          "output_type": "stream",
          "name": "stdout",
          "text": [
            "25\n"
          ]
        }
      ]
    },
    {
      "cell_type": "code",
      "metadata": {
        "id": "DEtZ9ir0RNet"
      },
      "source": [
        "def hipotenus(a, b) :\n",
        "  print((a ** 2 + b ** 2) ** 0.5)"
      ],
      "execution_count": null,
      "outputs": []
    },
    {
      "cell_type": "code",
      "metadata": {
        "id": "dBN9_OwlRNbC",
        "colab": {
          "base_uri": "https://localhost:8080/"
        },
        "outputId": "2f5a6056-063e-40e2-fc52-20ece00345d5"
      },
      "source": [
        "hipotenus(3, 4)"
      ],
      "execution_count": null,
      "outputs": [
        {
          "output_type": "stream",
          "name": "stdout",
          "text": [
            "5.0\n"
          ]
        }
      ]
    },
    {
      "cell_type": "code",
      "metadata": {
        "id": "C3koi9S7V85v"
      },
      "source": [
        "def rumi():\n",
        "  print(\"\"\"Cömertlik ve yardım etmede akarsu gibi ol\n",
        "Şefkat ve merhamette güneş gibi ol\n",
        "Başkalarının kusurunu örtmede gece gibi ol\n",
        "Hiddet ve asabiyette ölü gibi ol\n",
        "Tevazu ve alçakgönüllülükte toprak gibi ol\n",
        "Hoşgörürlükte deniz gibi ol\n",
        "Ya olduğun gibi görün,\n",
        "ya göründüğün gibi ol\n",
        "\"\"\")"
      ],
      "execution_count": null,
      "outputs": []
    },
    {
      "cell_type": "code",
      "metadata": {
        "colab": {
          "base_uri": "https://localhost:8080/"
        },
        "id": "vjVhXAgIV83H",
        "outputId": "11e91a66-c28f-46a6-9250-bddb0273f4ff"
      },
      "source": [
        "rumi()"
      ],
      "execution_count": null,
      "outputs": [
        {
          "output_type": "stream",
          "name": "stdout",
          "text": [
            "Cömertlik ve yardım etmede akarsu gibi ol\n",
            "Şefkat ve merhamette güneş gibi ol\n",
            "Başkalarının kusurunu örtmede gece gibi ol\n",
            "Hiddet ve asabiyette ölü gibi ol\n",
            "Tevazu ve alçakgönüllülükte toprak gibi ol\n",
            "Hoşgörürlükte deniz gibi ol\n",
            "Ya olduğun gibi görün,\n",
            "ya göründüğün gibi ol\n",
            "\n"
          ]
        }
      ]
    },
    {
      "cell_type": "code",
      "metadata": {
        "id": "cbo9v342V80c"
      },
      "source": [
        "def add(x, y):\n",
        "  print(x + y)"
      ],
      "execution_count": null,
      "outputs": []
    },
    {
      "cell_type": "code",
      "metadata": {
        "colab": {
          "base_uri": "https://localhost:8080/"
        },
        "id": "SaRmijdPV8xw",
        "outputId": "0b33eea1-5d7d-4c48-e2f2-40308616a751"
      },
      "source": [
        "add(100, 524)"
      ],
      "execution_count": null,
      "outputs": [
        {
          "output_type": "stream",
          "name": "stdout",
          "text": [
            "624\n"
          ]
        }
      ]
    },
    {
      "cell_type": "code",
      "metadata": {
        "id": "1C1ukfXeV8sq"
      },
      "source": [
        "def calculater(x, y, opr) :\n",
        "  if opr == \"+\":\n",
        "    print(x + y)\n",
        "  elif opr == \"-\":\n",
        "    print(x - y)\n",
        "  elif opr == \"*\":\n",
        "    print(x * y)\n",
        "  elif opr == \"/\":\n",
        "    print(x /y)\n",
        "  else:\n",
        "    print(\"Enter a valid operator\")\n"
      ],
      "execution_count": null,
      "outputs": []
    },
    {
      "cell_type": "code",
      "metadata": {
        "colab": {
          "base_uri": "https://localhost:8080/"
        },
        "id": "dkS_oR33V8qD",
        "outputId": "8a5fe9d5-ecf2-4bf7-a1aa-9146336261d0"
      },
      "source": [
        "calculater(41, 5, \"*\")"
      ],
      "execution_count": null,
      "outputs": [
        {
          "output_type": "stream",
          "name": "stdout",
          "text": [
            "205\n"
          ]
        }
      ]
    },
    {
      "cell_type": "code",
      "metadata": {
        "id": "MXj0cgonRNXz",
        "colab": {
          "base_uri": "https://localhost:8080/"
        },
        "outputId": "67ffbe73-3fac-4b75-a2cf-ba6e44f85f76"
      },
      "source": [
        "calculater(5, 20, \":\")"
      ],
      "execution_count": null,
      "outputs": [
        {
          "output_type": "stream",
          "name": "stdout",
          "text": [
            "Enter a valid operator\n"
          ]
        }
      ]
    },
    {
      "cell_type": "code",
      "metadata": {
        "id": "J2WLZFgaaF_9"
      },
      "source": [
        "def topla(x, y) :\n",
        "  return x + y"
      ],
      "execution_count": null,
      "outputs": []
    },
    {
      "cell_type": "code",
      "metadata": {
        "colab": {
          "base_uri": "https://localhost:8080/"
        },
        "id": "SVlDoenjbHD2",
        "outputId": "59f0de4c-dee8-48b9-ef4c-c34cfbd50243"
      },
      "source": [
        "type(topla(3, 5))"
      ],
      "execution_count": null,
      "outputs": [
        {
          "output_type": "execute_result",
          "data": {
            "text/plain": [
              "int"
            ]
          },
          "metadata": {},
          "execution_count": 59
        }
      ]
    },
    {
      "cell_type": "code",
      "metadata": {
        "colab": {
          "base_uri": "https://localhost:8080/"
        },
        "id": "WdRm_WzCbHSk",
        "outputId": "cfb3525d-90e1-4e20-c910-ba6d0cf5b19b"
      },
      "source": [
        "type(3 + 5)"
      ],
      "execution_count": null,
      "outputs": [
        {
          "output_type": "execute_result",
          "data": {
            "text/plain": [
              "int"
            ]
          },
          "metadata": {},
          "execution_count": 60
        }
      ]
    },
    {
      "cell_type": "code",
      "metadata": {
        "id": "AFyWiIBjbHVC"
      },
      "source": [
        "def string():\n",
        "  return \"alivelideli\""
      ],
      "execution_count": null,
      "outputs": []
    },
    {
      "cell_type": "code",
      "metadata": {
        "colab": {
          "base_uri": "https://localhost:8080/",
          "height": 34
        },
        "id": "857GsjIvb1Jj",
        "outputId": "b85e4782-4479-46b5-c499-8d787fbdd734"
      },
      "source": [
        "string()"
      ],
      "execution_count": null,
      "outputs": [
        {
          "output_type": "execute_result",
          "data": {
            "application/vnd.google.colaboratory.intrinsic+json": {
              "type": "string"
            },
            "text/plain": [
              "'alivelideli'"
            ]
          },
          "metadata": {},
          "execution_count": 64
        }
      ]
    },
    {
      "cell_type": "code",
      "metadata": {
        "colab": {
          "base_uri": "https://localhost:8080/",
          "height": 34
        },
        "id": "5_D2bFOkcObv",
        "outputId": "7c80aa61-54d5-4bdd-d715-cb5fbae46307"
      },
      "source": [
        "\"alivelideli\""
      ],
      "execution_count": null,
      "outputs": [
        {
          "output_type": "execute_result",
          "data": {
            "application/vnd.google.colaboratory.intrinsic+json": {
              "type": "string"
            },
            "text/plain": [
              "'alivelideli'"
            ]
          },
          "metadata": {},
          "execution_count": 65
        }
      ]
    },
    {
      "cell_type": "code",
      "metadata": {
        "id": "ZqbM14iUcRm7"
      },
      "source": [
        "def absolute_value(x):\n",
        "  if x >= 0 :\n",
        "    return x\n",
        "  else:\n",
        "    return -x"
      ],
      "execution_count": null,
      "outputs": []
    },
    {
      "cell_type": "code",
      "metadata": {
        "id": "tMPHS7oZiUE7",
        "colab": {
          "base_uri": "https://localhost:8080/"
        },
        "outputId": "4a1e9888-813a-4648-bcc3-74234183d8fc"
      },
      "source": [
        "absolute_value(-5)"
      ],
      "execution_count": null,
      "outputs": [
        {
          "output_type": "execute_result",
          "data": {
            "text/plain": [
              "5"
            ]
          },
          "metadata": {},
          "execution_count": 74
        }
      ]
    },
    {
      "cell_type": "code",
      "metadata": {
        "id": "JGNJ15WfiUCF",
        "colab": {
          "base_uri": "https://localhost:8080/"
        },
        "outputId": "779e7d0b-37eb-4b5a-ea85-a1cd45613cce"
      },
      "source": [
        "absolute_value(5)"
      ],
      "execution_count": null,
      "outputs": [
        {
          "output_type": "execute_result",
          "data": {
            "text/plain": [
              "5"
            ]
          },
          "metadata": {},
          "execution_count": 75
        }
      ]
    },
    {
      "cell_type": "code",
      "metadata": {
        "id": "7L5feI-DiT_Z",
        "colab": {
          "base_uri": "https://localhost:8080/"
        },
        "outputId": "77faf92e-abf9-49cd-cafb-5498f472cbd1"
      },
      "source": [
        "print(abs.__doc__)"
      ],
      "execution_count": null,
      "outputs": [
        {
          "output_type": "stream",
          "name": "stdout",
          "text": [
            "Return the absolute value of the argument.\n"
          ]
        }
      ]
    },
    {
      "cell_type": "code",
      "metadata": {
        "id": "hM9kERrkiT8Y"
      },
      "source": [
        "yeni_listem = [i ** 2 for i in range(6)]"
      ],
      "execution_count": null,
      "outputs": []
    },
    {
      "cell_type": "code",
      "metadata": {
        "id": "XzYGc1HFiT3F",
        "colab": {
          "base_uri": "https://localhost:8080/"
        },
        "outputId": "d297dbb6-52e4-4930-c2e1-677c8f04b200"
      },
      "source": [
        "print(yeni_listem)"
      ],
      "execution_count": null,
      "outputs": [
        {
          "output_type": "stream",
          "name": "stdout",
          "text": [
            "[0, 1, 4, 9, 16, 25]\n"
          ]
        }
      ]
    },
    {
      "cell_type": "code",
      "metadata": {
        "colab": {
          "base_uri": "https://localhost:8080/"
        },
        "id": "VHedBhv1o8aw",
        "outputId": "42b1cc66-938e-4880-ca7a-a432f815f7df"
      },
      "source": [
        "generator = (i ** 2 for i in range(6))\n",
        "print(generator)"
      ],
      "execution_count": null,
      "outputs": [
        {
          "output_type": "stream",
          "name": "stdout",
          "text": [
            "<generator object <genexpr> at 0x7f53f2a85e50>\n"
          ]
        }
      ]
    },
    {
      "cell_type": "code",
      "metadata": {
        "colab": {
          "base_uri": "https://localhost:8080/"
        },
        "id": "3RSlc-1ppIVR",
        "outputId": "50b5ce00-3404-424b-96cd-f3afb1940acc"
      },
      "source": [
        "print(* generator)"
      ],
      "execution_count": null,
      "outputs": [
        {
          "output_type": "stream",
          "name": "stdout",
          "text": [
            "0 1 4 9 16 25\n"
          ]
        }
      ]
    },
    {
      "cell_type": "code",
      "metadata": {
        "id": "-EPdt1LgpVAZ"
      },
      "source": [
        "for i in generator:\n",
        "  print(i)"
      ],
      "execution_count": null,
      "outputs": []
    },
    {
      "cell_type": "code",
      "metadata": {
        "colab": {
          "base_uri": "https://localhost:8080/"
        },
        "id": "4apBko5epgJN",
        "outputId": "1e17b487-ab4a-4fd9-92ef-267be0d4fdf2"
      },
      "source": [
        "generator = (i ** 2 for i in range(6))\n",
        "list(generator)"
      ],
      "execution_count": null,
      "outputs": [
        {
          "output_type": "execute_result",
          "data": {
            "text/plain": [
              "[0, 1, 4, 9, 16, 25]"
            ]
          },
          "metadata": {},
          "execution_count": 90
        }
      ]
    },
    {
      "cell_type": "code",
      "metadata": {
        "colab": {
          "base_uri": "https://localhost:8080/"
        },
        "id": "82SgL0YoqACF",
        "outputId": "e6a32ea3-57cd-41f0-be71-0d2a69731c39"
      },
      "source": [
        "generator = (i ** 2 for i in range(6))\n",
        "print(next(generator))\n",
        "print(next(generator))\n",
        "print(next(generator))"
      ],
      "execution_count": null,
      "outputs": [
        {
          "output_type": "stream",
          "name": "stdout",
          "text": [
            "0\n",
            "1\n",
            "4\n"
          ]
        }
      ]
    },
    {
      "cell_type": "code",
      "metadata": {
        "id": "jg0GFlJRqLE5"
      },
      "source": [
        "\n"
      ],
      "execution_count": null,
      "outputs": []
    },
    {
      "cell_type": "code",
      "metadata": {
        "id": "kjcdewtyf4O9"
      },
      "source": [
        ""
      ],
      "execution_count": null,
      "outputs": []
    },
    {
      "cell_type": "code",
      "metadata": {
        "colab": {
          "base_uri": "https://localhost:8080/"
        },
        "id": "CCTwa5gqlZJ2",
        "outputId": "bb4f55a3-61f3-48ce-ef5d-f84dd175a8c1"
      },
      "source": [
        "num = int(input(\"Write a number is bigger than 1 :\"))\n",
        "total = 0\n",
        "for i in range(2,num):\n",
        "  if num % i == 0:\n",
        "    total += i\n",
        "if total > 1 :\n",
        "  print(num, \"is not Prime Number\")     \n",
        "else:\n",
        "  print(num , \"is Prime Number\")"
      ],
      "execution_count": null,
      "outputs": [
        {
          "output_type": "stream",
          "name": "stdout",
          "text": [
            "Write a number is bigger than 1 :125\n",
            "125 is not Prime Number\n"
          ]
        }
      ]
    },
    {
      "cell_type": "code",
      "metadata": {
        "id": "BW8Mpjbql0b7",
        "colab": {
          "base_uri": "https://localhost:8080/"
        },
        "outputId": "be3c6614-02d9-4953-a4c2-dc669797e2d6"
      },
      "source": [
        "num = (input(\"Enter number: \"))\n",
        "\n",
        "if num.isdigit() and int(num) > 0:\n",
        "  lenght = len(num)\n",
        "  sum = 0\n",
        "  for integer in num :\n",
        "    integer = int(integer)\n",
        "    sum += integer ** lenght\n",
        "  if int(num) == sum:\n",
        "      print(\"This is an Armstrong number\")\n",
        "  else:\n",
        "      print(\"This is not an Armstrong number\")\n",
        "else:\n",
        "  print(\"Please enter a valid number\")"
      ],
      "execution_count": null,
      "outputs": [
        {
          "output_type": "stream",
          "name": "stdout",
          "text": [
            "Enter number: 371\n",
            "This is an Armstrong number\n"
          ]
        }
      ]
    },
    {
      "cell_type": "code",
      "metadata": {
        "colab": {
          "base_uri": "https://localhost:8080/"
        },
        "id": "COBFNcvp-v52",
        "outputId": "0316d8a2-3a71-46a6-a6f5-52f71426923d"
      },
      "source": [
        "num =input(\"Write a positive number: \")\n",
        "a = 0\n",
        "if num.isdigit() and int(num) > 0:\n",
        "  for i in num:\n",
        "      a += int(i) **len(num)\n",
        "  if a == int(num):\n",
        "      print(num, \" is an Armstrong number\")   \n",
        "  else:\n",
        "      print(num, \" is not an Armstrong number\")\n",
        "else:\n",
        "  print(\"It is an invalid entry. Don't use non-numeric, float, or negative values!\")"
      ],
      "execution_count": null,
      "outputs": [
        {
          "output_type": "stream",
          "name": "stdout",
          "text": [
            "Write a positive number: fgrdg\n",
            "It is an invalid entry. Don't use non-numeric, float, or negative values!\n"
          ]
        }
      ]
    },
    {
      "cell_type": "code",
      "metadata": {
        "colab": {
          "base_uri": "https://localhost:8080/"
        },
        "id": "dO5r33LW-v2w",
        "outputId": "e6931847-1261-4702-bd40-6a7e1cd7c876"
      },
      "source": [
        "for x in set('pqr'):\n",
        "    print(x*2)"
      ],
      "execution_count": null,
      "outputs": [
        {
          "output_type": "stream",
          "name": "stdout",
          "text": [
            "qq\n",
            "pp\n",
            "rr\n"
          ]
        }
      ]
    },
    {
      "cell_type": "code",
      "metadata": {
        "colab": {
          "base_uri": "https://localhost:8080/"
        },
        "id": "ajrIcWTN-vyY",
        "outputId": "d0cbcd99-72b7-4f1a-d76c-50c10b75cbd2"
      },
      "source": [
        "a={}\n",
        "a['a']=1\n",
        "a['b']=[2,3,4]\n",
        "print(a)\n",
        "\n"
      ],
      "execution_count": null,
      "outputs": [
        {
          "output_type": "stream",
          "name": "stdout",
          "text": [
            "{'a': 1, 'b': [2, 3, 4]}\n"
          ]
        }
      ]
    },
    {
      "cell_type": "code",
      "metadata": {
        "colab": {
          "base_uri": "https://localhost:8080/"
        },
        "id": "iSael9GX-vv4",
        "outputId": "36f79be5-3db1-40b6-e2c0-17337b0a3f6d"
      },
      "source": [
        "z=set('abc')\n",
        "z.add('san')\n",
        "z.update(set(['p', 'q']))\n",
        "print(z)\n"
      ],
      "execution_count": null,
      "outputs": [
        {
          "output_type": "stream",
          "name": "stdout",
          "text": [
            "{'a', 'c', 'san', 'b', 'p', 'q'}\n"
          ]
        }
      ]
    },
    {
      "cell_type": "code",
      "metadata": {
        "colab": {
          "base_uri": "https://localhost:8080/"
        },
        "id": "rPfz2JO--vsq",
        "outputId": "04610ac7-70e5-483a-afea-6bafe3905e6a"
      },
      "source": [
        "college_years = ['Freshman', 'Sophomore', 'Junior', 'Senior']\n",
        "print(dict(enumerate(college_years, 2019)))\n"
      ],
      "execution_count": null,
      "outputs": [
        {
          "output_type": "stream",
          "name": "stdout",
          "text": [
            "{2019: 'Freshman', 2020: 'Sophomore', 2021: 'Junior', 2022: 'Senior'}\n"
          ]
        }
      ]
    },
    {
      "cell_type": "code",
      "metadata": {
        "colab": {
          "base_uri": "https://localhost:8080/"
        },
        "id": "yTTFAiKjSgWy",
        "outputId": "0fd0b9b2-1aaf-445e-c7f0-0239458d80a2"
      },
      "source": [
        "fruits = (\"apple\", \"banana\", \"cherry\")\n",
        "(green, yellow, red) = fruits\n",
        "print(green)"
      ],
      "execution_count": null,
      "outputs": [
        {
          "output_type": "stream",
          "name": "stdout",
          "text": [
            "apple\n"
          ]
        }
      ]
    },
    {
      "cell_type": "code",
      "metadata": {
        "id": "IkaL-XSx-vXR",
        "colab": {
          "base_uri": "https://localhost:8080/"
        },
        "outputId": "e86c9c1b-1196-45b2-f7cd-d44337c10cd8"
      },
      "source": [
        "a = \"i\"\n",
        "b = \"love\"\n",
        "c = 'you'\n",
        "def texter(x, y,z):\n",
        "  print(z,y,x)\n",
        "texter(c,b,a)"
      ],
      "execution_count": null,
      "outputs": [
        {
          "output_type": "stream",
          "name": "stdout",
          "text": [
            "i love you\n"
          ]
        }
      ]
    },
    {
      "cell_type": "code",
      "metadata": {
        "id": "aGbP8-s2ZCo7",
        "colab": {
          "base_uri": "https://localhost:8080/"
        },
        "outputId": "f7e91bd4-982b-4129-b1ef-48032ae41532"
      },
      "source": [
        "#on tanimli (default) fonksiyon\n",
        "def fonksiyon(x = \"ali\", y = 22):\n",
        "  print(x, y, \"yasindadir\")\n",
        "\n",
        "fonksiyon()"
      ],
      "execution_count": null,
      "outputs": [
        {
          "output_type": "stream",
          "name": "stdout",
          "text": [
            "ali 22 yasindadir\n"
          ]
        }
      ]
    },
    {
      "cell_type": "code",
      "metadata": {
        "id": "BenJB4b5ZCmU",
        "colab": {
          "base_uri": "https://localhost:8080/"
        },
        "outputId": "2426b067-92ad-4c4e-e7ac-feb912e05854"
      },
      "source": [
        "# keyword tanimlanmasi yapildigi icin siralamasi onemli degildir\n",
        "fonksiyon(x = \"deli\", y = 33)\n",
        "fonksiyon(y = 33, x = \"deli\" )"
      ],
      "execution_count": null,
      "outputs": [
        {
          "output_type": "stream",
          "name": "stdout",
          "text": [
            "deli 33 yasindadir\n",
            "deli 33 yasindadir\n"
          ]
        }
      ]
    },
    {
      "cell_type": "code",
      "metadata": {
        "id": "baB-tzooZCeh",
        "colab": {
          "base_uri": "https://localhost:8080/"
        },
        "outputId": "6489b576-5244-4b76-bc8c-3770adec8fd8"
      },
      "source": [
        "fonksiyon(\"veli\", 40)"
      ],
      "execution_count": null,
      "outputs": [
        {
          "output_type": "stream",
          "name": "stdout",
          "text": [
            "veli 40 yasindadir\n"
          ]
        }
      ]
    },
    {
      "cell_type": "code",
      "metadata": {
        "id": "SKKOzkMzTpbz",
        "colab": {
          "base_uri": "https://localhost:8080/"
        },
        "outputId": "50d5101c-f755-4a62-937a-0054882c24ce"
      },
      "source": [
        "# tum parametlere atama yapilmayinca ilkine atayip digerlerini default deger alir.\n",
        "fonksiyon(\"selin\")\n"
      ],
      "execution_count": null,
      "outputs": [
        {
          "output_type": "stream",
          "name": "stdout",
          "text": [
            "selin 22 yasindadir\n"
          ]
        }
      ]
    },
    {
      "cell_type": "code",
      "metadata": {
        "id": "FIQA61RSTpWw"
      },
      "source": [
        "def parrot(voltage, state='a stiff', action='voom', type='Norwegian Blue'):\n",
        "    print(\"-- This parrot wouldn't\", action, end=' ')\n",
        "    print(\"if you put\", voltage, \"volts through it.\")\n",
        "    print(\"-- Lovely plumage, the\", type)\n",
        "    print(\"-- It's\", state, \"!\")"
      ],
      "execution_count": null,
      "outputs": []
    },
    {
      "cell_type": "code",
      "metadata": {
        "id": "cyUXVSDlTpR3",
        "colab": {
          "base_uri": "https://localhost:8080/"
        },
        "outputId": "85a2af28-5f30-4b1d-a8bc-5870526484a5"
      },
      "source": [
        "parrot(1000)"
      ],
      "execution_count": null,
      "outputs": [
        {
          "output_type": "stream",
          "name": "stdout",
          "text": [
            "-- This parrot wouldn't voom if you put 1000 volts through it.\n",
            "-- Lovely plumage, the Norwegian Blue\n",
            "-- It's a stiff !\n"
          ]
        }
      ]
    },
    {
      "cell_type": "code",
      "metadata": {
        "id": "kPUSjjorTpOu",
        "colab": {
          "base_uri": "https://localhost:8080/"
        },
        "outputId": "371a4bef-18cc-4805-e151-0a7e7aef8e73"
      },
      "source": [
        "parrot(voltage=1000000, action='VOOOOOM') "
      ],
      "execution_count": null,
      "outputs": [
        {
          "output_type": "stream",
          "name": "stdout",
          "text": [
            "-- This parrot wouldn't VOOOOOM if you put 1000000 volts through it.\n",
            "-- Lovely plumage, the Norwegian Blue\n",
            "-- It's a stiff !\n"
          ]
        }
      ]
    },
    {
      "cell_type": "code",
      "metadata": {
        "id": "IZSCa0RE_Fa9"
      },
      "source": [
        "def parrot(voltage, state='a stiff', action='voom', type='Norwegian Blue'):\n",
        "    print(\"-- This parrot wouldn't\", action, end=' ')\n",
        "    print(\"if you put\", voltage, \"volts through it.\")\n",
        "    print(\"-- Lovely plumage, the\", type)\n",
        "    print(\"-- It's\", state, \"!\")"
      ],
      "execution_count": null,
      "outputs": []
    },
    {
      "cell_type": "code",
      "metadata": {
        "colab": {
          "base_uri": "https://localhost:8080/"
        },
        "id": "djzIBYWv_FYN",
        "outputId": "f7e537f7-8a7c-4ef3-c087-47e1362631d5"
      },
      "source": [
        "parrot(\"a million\", \"bereft of life\", \"jump\")"
      ],
      "execution_count": null,
      "outputs": [
        {
          "output_type": "stream",
          "name": "stdout",
          "text": [
            "-- This parrot wouldn't jump if you put a million volts through it.\n",
            "-- Lovely plumage, the Norwegian Blue\n",
            "-- It's bereft of life !\n"
          ]
        }
      ]
    },
    {
      "cell_type": "code",
      "metadata": {
        "colab": {
          "base_uri": "https://localhost:8080/"
        },
        "id": "_JPg-ubJ_FVy",
        "outputId": "e4e348b0-32c3-4f42-a7d6-c3c0ec56ae39"
      },
      "source": [
        "num = int(input(\"Write a number is bigger than 1 :\"))\n",
        "total = 0\n",
        "for i in range(2,num):\n",
        "  if num % i == 0:\n",
        "    total += i\n",
        "if total > 1 :\n",
        "  print(num, \"is not Prime Number\")     \n",
        "else:\n",
        "  print(num , \"is Prime Number\")"
      ],
      "execution_count": null,
      "outputs": [
        {
          "output_type": "stream",
          "name": "stdout",
          "text": [
            "Write a number is bigger than 1 :885694651\n",
            "885694651 is not Prime Number\n"
          ]
        }
      ]
    },
    {
      "cell_type": "code",
      "metadata": {
        "id": "3AeY_YIk_FTp"
      },
      "source": [
        "n = int(input(\"Enter a positive number to check if it is a Prime Number\"))\n",
        "counter = 0\n",
        "\n",
        "for i in range(1, n+1) :\n",
        "    if n % i == 0 :\n",
        "        counter += 1\n",
        "        \n",
        "if (n == 0) or (n == 1) or (counter >= 3) :\n",
        "    print(n, \" is not a Prime Number\")\n",
        "    \n",
        "else :\n",
        "    print(n, \" is a Prime Number\")"
      ],
      "execution_count": null,
      "outputs": []
    },
    {
      "cell_type": "markdown",
      "metadata": {
        "id": "o5-I6XZ47KgG"
      },
      "source": [
        "29.11.2021  Lambda"
      ]
    },
    {
      "cell_type": "code",
      "metadata": {
        "colab": {
          "base_uri": "https://localhost:8080/"
        },
        "id": "YMJ-UnCV7P-R",
        "outputId": "6a96b71f-b74a-4cf5-f362-f28b1b556863"
      },
      "source": [
        "lambda x : \"odd\" if x % 2 != 0 else \"even\""
      ],
      "execution_count": null,
      "outputs": [
        {
          "output_type": "execute_result",
          "data": {
            "text/plain": [
              "<function __main__.<lambda>>"
            ]
          },
          "metadata": {},
          "execution_count": 2
        }
      ]
    },
    {
      "cell_type": "code",
      "metadata": {
        "id": "qd2E1MMq_FPN",
        "colab": {
          "base_uri": "https://localhost:8080/",
          "height": 36
        },
        "outputId": "b6cbcac3-c098-4164-e5cb-d503d0ec5572"
      },
      "source": [
        "(lambda x : \"odd\" if x % 2 != 0 else \"even\")(2)"
      ],
      "execution_count": null,
      "outputs": [
        {
          "output_type": "execute_result",
          "data": {
            "application/vnd.google.colaboratory.intrinsic+json": {
              "type": "string"
            },
            "text/plain": [
              "'even'"
            ]
          },
          "metadata": {},
          "execution_count": 3
        }
      ]
    },
    {
      "cell_type": "code",
      "metadata": {
        "colab": {
          "base_uri": "https://localhost:8080/",
          "height": 36
        },
        "id": "AYWVvmma4ao5",
        "outputId": "ef806b2f-5194-4c10-b9a2-414a29e855a6"
      },
      "source": [
        "(lambda x : \"odd\" if x % 2 != 0 else \"even\")(3)"
      ],
      "execution_count": null,
      "outputs": [
        {
          "output_type": "execute_result",
          "data": {
            "application/vnd.google.colaboratory.intrinsic+json": {
              "type": "string"
            },
            "text/plain": [
              "'odd'"
            ]
          },
          "metadata": {},
          "execution_count": 4
        }
      ]
    },
    {
      "cell_type": "code",
      "metadata": {
        "colab": {
          "base_uri": "https://localhost:8080/",
          "height": 36
        },
        "id": "w3Vs4Yb84al6",
        "outputId": "be3556b3-1916-42b7-d778-ee7ba5b5fe39"
      },
      "source": [
        "(lambda x : x[::-1])(\"kasa\") "
      ],
      "execution_count": null,
      "outputs": [
        {
          "output_type": "execute_result",
          "data": {
            "application/vnd.google.colaboratory.intrinsic+json": {
              "type": "string"
            },
            "text/plain": [
              "'asak'"
            ]
          },
          "metadata": {},
          "execution_count": 8
        }
      ]
    },
    {
      "cell_type": "code",
      "metadata": {
        "colab": {
          "base_uri": "https://localhost:8080/"
        },
        "id": "xgxSPacG4ajT",
        "outputId": "11247d93-a9f8-45cd-fe65-2e399250fe67"
      },
      "source": [
        "(lambda a, b : (a + b) / 2 )(3,5)"
      ],
      "execution_count": null,
      "outputs": [
        {
          "output_type": "execute_result",
          "data": {
            "text/plain": [
              "4.0"
            ]
          },
          "metadata": {},
          "execution_count": 9
        }
      ]
    },
    {
      "cell_type": "code",
      "metadata": {
        "colab": {
          "base_uri": "https://localhost:8080/"
        },
        "id": "wd-zt8Pa4agr",
        "outputId": "04fd4d58-3ec2-4ce0-e20c-ab5745d92cc1"
      },
      "source": [
        "\n",
        "for i in [1,2,3,4]:\n",
        "  print( i, \":\", (lambda x :\"odd\" if x % 2 != 0 else \"even\")(i))"
      ],
      "execution_count": null,
      "outputs": [
        {
          "output_type": "stream",
          "name": "stdout",
          "text": [
            "1 : odd\n",
            "2 : even\n",
            "3 : odd\n",
            "4 : even\n"
          ]
        }
      ]
    },
    {
      "cell_type": "code",
      "metadata": {
        "colab": {
          "base_uri": "https://localhost:8080/",
          "height": 36
        },
        "id": "8VlCjzhc4aeA",
        "outputId": "0d2dee1d-0373-4a2c-adcb-370f8f30dc42"
      },
      "source": [
        "finder = lambda x :\"odd\" if x % 2 != 0 else \"even\"\n",
        "finder(5)"
      ],
      "execution_count": null,
      "outputs": [
        {
          "output_type": "execute_result",
          "data": {
            "application/vnd.google.colaboratory.intrinsic+json": {
              "type": "string"
            },
            "text/plain": [
              "'odd'"
            ]
          },
          "metadata": {},
          "execution_count": 20
        }
      ]
    },
    {
      "cell_type": "code",
      "metadata": {
        "colab": {
          "base_uri": "https://localhost:8080/"
        },
        "id": "f4jftRmT4abY",
        "outputId": "55731109-bcff-4fa8-f98a-a6d521a2a928"
      },
      "source": [
        "finder = lambda x :\"odd\" if x % 2 != 0 else \"even\"\n",
        "print(finder(5))"
      ],
      "execution_count": null,
      "outputs": [
        {
          "output_type": "stream",
          "name": "stdout",
          "text": [
            "odd\n"
          ]
        }
      ]
    },
    {
      "cell_type": "code",
      "metadata": {
        "colab": {
          "base_uri": "https://localhost:8080/"
        },
        "id": "sF7J-wBD4aY0",
        "outputId": "837a4294-cedb-4fb5-b5d8-fe192943fab1"
      },
      "source": [
        "reverser = lambda x : x[::-1]\n",
        "reverser([1,2,3,4,5])"
      ],
      "execution_count": null,
      "outputs": [
        {
          "output_type": "execute_result",
          "data": {
            "text/plain": [
              "[5, 4, 3, 2, 1]"
            ]
          },
          "metadata": {},
          "execution_count": 22
        }
      ]
    },
    {
      "cell_type": "markdown",
      "metadata": {
        "id": "cY75a-h1BOCH"
      },
      "source": [
        "map(function, iterible)"
      ]
    },
    {
      "cell_type": "code",
      "metadata": {
        "colab": {
          "base_uri": "https://localhost:8080/"
        },
        "id": "74aW_jQfA70V",
        "outputId": "c1fe4f77-1735-41f4-b6c2-edfff8abcc9c"
      },
      "source": [
        "map(lambda a : a**2, [1,2,3,4])"
      ],
      "execution_count": null,
      "outputs": [
        {
          "output_type": "execute_result",
          "data": {
            "text/plain": [
              "<map at 0x7ff5494effd0>"
            ]
          },
          "metadata": {},
          "execution_count": 23
        }
      ]
    },
    {
      "cell_type": "code",
      "metadata": {
        "colab": {
          "base_uri": "https://localhost:8080/"
        },
        "id": "884fnFp3AexD",
        "outputId": "29b33e2a-f343-4fe1-d089-486daaf5b637"
      },
      "source": [
        "fonksiyon = lambda x : x**2\n",
        "iterable = [1,2,3,4]\n",
        "sonuc = map(fonksiyon, iterable)\n",
        "print(*sonuc)"
      ],
      "execution_count": null,
      "outputs": [
        {
          "output_type": "stream",
          "name": "stdout",
          "text": [
            "1 4 9 16\n"
          ]
        }
      ]
    },
    {
      "cell_type": "code",
      "metadata": {
        "id": "KOTAvotoAe46",
        "colab": {
          "base_uri": "https://localhost:8080/"
        },
        "outputId": "8f3359e4-bea0-4de3-dc05-56a9daf11d0c"
      },
      "source": [
        "num1 = [9, 6, 7, 4]\n",
        "num2 = [3, 6, 5, 8]\n",
        "\n",
        "func = lambda x, y : (x+y) / 2\n",
        "numbers = map(func, num1, num2)\n",
        "print(list(numbers))"
      ],
      "execution_count": null,
      "outputs": [
        {
          "output_type": "stream",
          "name": "stdout",
          "text": [
            "[6.0, 6.0, 6.0, 6.0]\n"
          ]
        }
      ]
    },
    {
      "cell_type": "code",
      "metadata": {
        "id": "joLVo8ipAhQQ",
        "colab": {
          "base_uri": "https://localhost:8080/"
        },
        "outputId": "a3e00c80-e15e-46c3-a7be-f91b04ecdc28"
      },
      "source": [
        "words1 = [\"you\", \"much\", \"hard\"]\n",
        "words2 = [\"i\", \"you\", \"he\"]\n",
        "words3 = [\"love\", \"ate\", \"works\"]\n",
        "text = lambda x, y, z : y +\" \" + z +\" \" + x\n",
        "sentence = map(text, words1, words2,words3)\n",
        "print(list(sentence))"
      ],
      "execution_count": null,
      "outputs": [
        {
          "output_type": "stream",
          "name": "stdout",
          "text": [
            "['i love you', 'you ate much', 'he works hard']\n"
          ]
        }
      ]
    },
    {
      "cell_type": "code",
      "metadata": {
        "id": "ivOll6bRAhNV",
        "colab": {
          "base_uri": "https://localhost:8080/"
        },
        "outputId": "9ec151aa-7d7d-43a7-8bea-9b3025da5ace"
      },
      "source": [
        "words1 = [\"you\", \"much\", \"hard\"]\n",
        "words2 = [\"i\", \"you\", \"he\"]\n",
        "words3 = [\"love\", \"ate\", \"works\"]\n",
        "sentences = map(lambda x, y, z : y + \" \" + z +\" \" + x, words1, words2, words3)\n",
        "for i in sentences:\n",
        "  print(i)"
      ],
      "execution_count": null,
      "outputs": [
        {
          "output_type": "stream",
          "name": "stdout",
          "text": [
            "i love you\n",
            "you ate much\n",
            "he works hard\n"
          ]
        }
      ]
    },
    {
      "cell_type": "markdown",
      "metadata": {
        "id": "bs5os_yZN1Nb"
      },
      "source": [
        "filter() "
      ]
    },
    {
      "cell_type": "code",
      "metadata": {
        "id": "H9OAE7CJAhIA",
        "colab": {
          "base_uri": "https://localhost:8080/"
        },
        "outputId": "6f610983-da39-4aab-b0ac-63f1e8cebddd"
      },
      "source": [
        "first_ten = [0,1,2,3,4,5,6,9]\n",
        "even = filter(lambda x : x%2 ==0, first_ten)\n",
        "print(\"even numbers are: \", list(even))"
      ],
      "execution_count": null,
      "outputs": [
        {
          "output_type": "stream",
          "name": "stdout",
          "text": [
            "even numbers are:  [0, 2, 4, 6]\n"
          ]
        }
      ]
    },
    {
      "cell_type": "code",
      "metadata": {
        "id": "Wo1qPPeXAhFg",
        "colab": {
          "base_uri": "https://localhost:8080/"
        },
        "outputId": "acb84b4b-5c86-4016-a9a7-774b9b16ff66"
      },
      "source": [
        "words = [\"apple\", \"swim\", \"clock\", \"me\", \"kiwi\", \"banana\"]\n",
        "less5 = filter(lambda x : len(x) < 5, words) \n",
        "print(\" less than 5 words: \", list(less5))"
      ],
      "execution_count": null,
      "outputs": [
        {
          "output_type": "stream",
          "name": "stdout",
          "text": [
            " less than 5 words:  ['swim', 'me', 'kiwi']\n"
          ]
        }
      ]
    },
    {
      "cell_type": "code",
      "metadata": {
        "id": "AbsjeXN2AhCb",
        "colab": {
          "base_uri": "https://localhost:8080/"
        },
        "outputId": "c52d148a-f450-4d27-cd27-15b4a28331aa"
      },
      "source": [
        "words = [\"apple\", \"swim\", \"clock\", \"me\", \"kiwi\", \"banana\"]\n",
        "for i in filter(lambda x : len(x) < 5, words):\n",
        "  print(i)"
      ],
      "execution_count": null,
      "outputs": [
        {
          "output_type": "stream",
          "name": "stdout",
          "text": [
            "swim\n",
            "me\n",
            "kiwi\n"
          ]
        }
      ]
    },
    {
      "cell_type": "code",
      "metadata": {
        "colab": {
          "base_uri": "https://localhost:8080/"
        },
        "id": "UOqpR5KVSscM",
        "outputId": "8dce49f3-ca47-49a4-d6f0-2995d5a06031"
      },
      "source": [
        "first_ten = [\"a\", \"b\", \"c\", \"d\", \"e\", \"f\", \"g\", \"h\", \"i\", \"j\"]\n",
        "vowel_list = [\"a\", \"e\", \"i\", \"o\", \"u\"]\n",
        "vowels = filter(lambda x : x in vowel_list, first_ten)\n",
        "print(list(vowels))"
      ],
      "execution_count": null,
      "outputs": [
        {
          "output_type": "stream",
          "name": "stdout",
          "text": [
            "['a', 'e', 'i']\n"
          ]
        }
      ]
    },
    {
      "cell_type": "markdown",
      "metadata": {
        "id": "T2LRrWujVO0o"
      },
      "source": [
        "lambda use with def\n"
      ]
    },
    {
      "cell_type": "code",
      "metadata": {
        "colab": {
          "base_uri": "https://localhost:8080/"
        },
        "id": "8OZs4HauSsaH",
        "outputId": "8341bfb6-9796-4bf1-9eca-b1a692a41b19"
      },
      "source": [
        "(lambda x : print(x, \":)\"))(\"hello\")\n"
      ],
      "execution_count": null,
      "outputs": [
        {
          "output_type": "stream",
          "name": "stdout",
          "text": [
            "hello :)\n"
          ]
        }
      ]
    },
    {
      "cell_type": "code",
      "metadata": {
        "colab": {
          "base_uri": "https://localhost:8080/"
        },
        "id": "YYGMn8eDSsXB",
        "outputId": "e2302532-998f-4fbd-c4fc-07517c6a1a88"
      },
      "source": [
        "def functioner(emoji) :\n",
        "  return lambda x :print(x, emoji)\n",
        "myPrint_smile = functioner(\":)\")\n",
        "myPrint_sad = functioner(\":(\")\n",
        "myPrint_neutral = functioner(\":|\")\n",
        "\n",
        "myPrint_smile(\"hello\")\n",
        "myPrint_sad(\"hello\")\n",
        "myPrint_neutral(\"hello\")"
      ],
      "execution_count": null,
      "outputs": [
        {
          "output_type": "stream",
          "name": "stdout",
          "text": [
            "hello :)\n",
            "hello :(\n",
            "hello :|\n"
          ]
        }
      ]
    },
    {
      "cell_type": "code",
      "metadata": {
        "colab": {
          "base_uri": "https://localhost:8080/"
        },
        "id": "BFpY6XDkSsS2",
        "outputId": "62b3cdfe-2919-4210-c22f-edde298656b9"
      },
      "source": [
        "def func_genereter(func_name):\n",
        "  return lambda x : func_name(x)\n",
        "\n",
        "mic_max = func_genereter(max)\n",
        "mic_print = func_genereter(print)\n",
        "mic_sorted = func_genereter(sorted)\n",
        "\n",
        "\n",
        "mic_print(\"Michael\")\n",
        "\n",
        "mic_max([12,4,54])"
      ],
      "execution_count": null,
      "outputs": [
        {
          "output_type": "stream",
          "name": "stdout",
          "text": [
            "Michael\n"
          ]
        },
        {
          "output_type": "execute_result",
          "data": {
            "text/plain": [
              "54"
            ]
          },
          "metadata": {},
          "execution_count": 64
        }
      ]
    },
    {
      "cell_type": "code",
      "metadata": {
        "colab": {
          "base_uri": "https://localhost:8080/"
        },
        "id": "e8sswhmTSsOp",
        "outputId": "547289f4-6575-465e-a5a0-359564257b90"
      },
      "source": [
        "mic_sorted([12,4,54])"
      ],
      "execution_count": null,
      "outputs": [
        {
          "output_type": "execute_result",
          "data": {
            "text/plain": [
              "[4, 12, 54]"
            ]
          },
          "metadata": {},
          "execution_count": 65
        }
      ]
    },
    {
      "cell_type": "code",
      "metadata": {
        "id": "be_qbHbw_FLm",
        "colab": {
          "base_uri": "https://localhost:8080/"
        },
        "outputId": "520f869b-bc8d-4e15-b58d-04d3740adeff"
      },
      "source": [
        "def team_league(team, league='Premier League'):\n",
        "    print(team, 'in', league)\n",
        "\n",
        "team_league('Liverpool')"
      ],
      "execution_count": null,
      "outputs": [
        {
          "output_type": "stream",
          "name": "stdout",
          "text": [
            "Liverpool in Premier League\n"
          ]
        }
      ]
    },
    {
      "cell_type": "code",
      "metadata": {
        "colab": {
          "base_uri": "https://localhost:8080/"
        },
        "id": "t4IMNCdv3T-P",
        "outputId": "3a4c291a-7be8-4561-cdc3-4a0c4b0ee5a3"
      },
      "source": [
        "def my_function(first, last) : \n",
        "    print('Your first name is :', first)\n",
        "    print('Your last name is :', last)\n",
        "\n",
        "my_function(first='Richard', last='Rice') "
      ],
      "execution_count": null,
      "outputs": [
        {
          "output_type": "stream",
          "name": "stdout",
          "text": [
            "Your first name is : Richard\n",
            "Your last name is : Rice\n"
          ]
        }
      ]
    },
    {
      "cell_type": "code",
      "metadata": {
        "colab": {
          "base_uri": "https://localhost:8080/"
        },
        "id": "_U_2ptiA3T7o",
        "outputId": "c23e7ff3-4a99-40d8-be43-45d072a36d6c"
      },
      "source": [
        "x = 10\n",
        "  \n",
        "def my_function(x):  # fix me!\n",
        "    x += 5 \n",
        "    print(x)\n",
        "\n",
        "my_function(x)"
      ],
      "execution_count": null,
      "outputs": [
        {
          "output_type": "stream",
          "name": "stdout",
          "text": [
            "15\n"
          ]
        }
      ]
    },
    {
      "cell_type": "code",
      "metadata": {
        "colab": {
          "base_uri": "https://localhost:8080/"
        },
        "id": "uwlEQmaa3T5N",
        "outputId": "bc40cc93-bcb5-429f-d88c-53bb1c3fd9d6"
      },
      "source": [
        "def myfunc1():\n",
        "  x = \"hi\"\n",
        "  def myfunc2():\n",
        "    nonlocal x\n",
        "    x = \"hello\"\n",
        "  myfunc2() \n",
        "  return x\n",
        "\n",
        "print(myfunc1())"
      ],
      "execution_count": null,
      "outputs": [
        {
          "output_type": "stream",
          "name": "stdout",
          "text": [
            "hello\n"
          ]
        }
      ]
    },
    {
      "cell_type": "code",
      "metadata": {
        "colab": {
          "base_uri": "https://localhost:8080/"
        },
        "id": "PbfbkNDr3T2S",
        "outputId": "d994a0d5-83ba-4551-a8eb-2cc6a13a6959"
      },
      "source": [
        "echo_word = lambda x, y : x * y\n",
        "print(echo_word('hello', 3))"
      ],
      "execution_count": null,
      "outputs": [
        {
          "output_type": "stream",
          "name": "stdout",
          "text": [
            "hellohellohello\n"
          ]
        }
      ]
    },
    {
      "cell_type": "markdown",
      "metadata": {
        "id": "GWG__XvqWonc"
      },
      "source": [
        "# 02.12.2021"
      ]
    },
    {
      "cell_type": "code",
      "metadata": {
        "colab": {
          "base_uri": "https://localhost:8080/",
          "height": 36
        },
        "id": "IH5cWOHm3Tz8",
        "outputId": "414a5b98-5b72-4aaa-e29e-c03bfbee0629"
      },
      "source": [
        "pwd"
      ],
      "execution_count": null,
      "outputs": [
        {
          "output_type": "execute_result",
          "data": {
            "application/vnd.google.colaboratory.intrinsic+json": {
              "type": "string"
            },
            "text/plain": [
              "'/content'"
            ]
          },
          "metadata": {},
          "execution_count": 1
        }
      ]
    },
    {
      "cell_type": "code",
      "metadata": {
        "id": "LGwUgmT23Txh"
      },
      "source": [
        "import math"
      ],
      "execution_count": 2,
      "outputs": []
    },
    {
      "cell_type": "code",
      "metadata": {
        "id": "u5kQ84cb3TvB",
        "colab": {
          "base_uri": "https://localhost:8080/"
        },
        "outputId": "0ecb622f-3e5a-46be-8402-526116a2f389"
      },
      "source": [
        "print(dir(math))"
      ],
      "execution_count": 3,
      "outputs": [
        {
          "output_type": "stream",
          "name": "stdout",
          "text": [
            "['__doc__', '__loader__', '__name__', '__package__', '__spec__', 'acos', 'acosh', 'asin', 'asinh', 'atan', 'atan2', 'atanh', 'ceil', 'copysign', 'cos', 'cosh', 'degrees', 'e', 'erf', 'erfc', 'exp', 'expm1', 'fabs', 'factorial', 'floor', 'fmod', 'frexp', 'fsum', 'gamma', 'gcd', 'hypot', 'inf', 'isclose', 'isfinite', 'isinf', 'isnan', 'ldexp', 'lgamma', 'log', 'log10', 'log1p', 'log2', 'modf', 'nan', 'pi', 'pow', 'radians', 'remainder', 'sin', 'sinh', 'sqrt', 'tan', 'tanh', 'tau', 'trunc']\n"
          ]
        }
      ]
    },
    {
      "cell_type": "code",
      "metadata": {
        "id": "l_mgQBiA3TsX"
      },
      "source": [
        "from math import pi, factorial, log10"
      ],
      "execution_count": 6,
      "outputs": []
    },
    {
      "cell_type": "code",
      "metadata": {
        "id": "_IThGw4d3Tpj",
        "colab": {
          "base_uri": "https://localhost:8080/"
        },
        "outputId": "5690d525-5c2e-4b1a-bc85-790e192ec638"
      },
      "source": [
        "pi"
      ],
      "execution_count": 7,
      "outputs": [
        {
          "output_type": "execute_result",
          "data": {
            "text/plain": [
              "3.141592653589793"
            ]
          },
          "metadata": {},
          "execution_count": 7
        }
      ]
    },
    {
      "cell_type": "code",
      "metadata": {
        "colab": {
          "base_uri": "https://localhost:8080/"
        },
        "id": "3TSpX5qndNMA",
        "outputId": "a3df2d9e-6bf3-410c-d690-39956a0672e3"
      },
      "source": [
        "factorial(5)"
      ],
      "execution_count": 8,
      "outputs": [
        {
          "output_type": "execute_result",
          "data": {
            "text/plain": [
              "120"
            ]
          },
          "metadata": {},
          "execution_count": 8
        }
      ]
    },
    {
      "cell_type": "code",
      "metadata": {
        "colab": {
          "base_uri": "https://localhost:8080/"
        },
        "id": "l6XAYa_hdNJb",
        "outputId": "b655951c-ed6b-47b5-fbcf-f63b8adc9c39"
      },
      "source": [
        "log10(1000)"
      ],
      "execution_count": 9,
      "outputs": [
        {
          "output_type": "execute_result",
          "data": {
            "text/plain": [
              "3.0"
            ]
          },
          "metadata": {},
          "execution_count": 9
        }
      ]
    },
    {
      "cell_type": "code",
      "metadata": {
        "id": "9AWuHflcdNGI"
      },
      "source": [
        "import string"
      ],
      "execution_count": 10,
      "outputs": []
    },
    {
      "cell_type": "code",
      "metadata": {
        "colab": {
          "base_uri": "https://localhost:8080/",
          "height": 36
        },
        "id": "XWMYsr3ldNCe",
        "outputId": "d1d70dd9-1318-476a-8db8-44ab31a65b33"
      },
      "source": [
        "string.punctuation"
      ],
      "execution_count": 12,
      "outputs": [
        {
          "output_type": "execute_result",
          "data": {
            "application/vnd.google.colaboratory.intrinsic+json": {
              "type": "string"
            },
            "text/plain": [
              "'!\"#$%&\\'()*+,-./:;<=>?@[\\\\]^_`{|}~'"
            ]
          },
          "metadata": {},
          "execution_count": 12
        }
      ]
    },
    {
      "cell_type": "code",
      "metadata": {
        "colab": {
          "base_uri": "https://localhost:8080/",
          "height": 36
        },
        "id": "1ERcRccqdM8A",
        "outputId": "a163a4af-4e12-48ae-decb-a198367f9440"
      },
      "source": [
        "string.digits\n"
      ],
      "execution_count": 13,
      "outputs": [
        {
          "output_type": "execute_result",
          "data": {
            "application/vnd.google.colaboratory.intrinsic+json": {
              "type": "string"
            },
            "text/plain": [
              "'0123456789'"
            ]
          },
          "metadata": {},
          "execution_count": 13
        }
      ]
    },
    {
      "cell_type": "code",
      "metadata": {
        "id": "mFvBIAZ0dM2F"
      },
      "source": [
        "import datetime"
      ],
      "execution_count": 14,
      "outputs": []
    },
    {
      "cell_type": "code",
      "metadata": {
        "colab": {
          "base_uri": "https://localhost:8080/"
        },
        "id": "usJpdaZ4dMxA",
        "outputId": "7840db2e-1582-49a3-97b6-01118c8f5b72"
      },
      "source": [
        "print(datetime.date.today())\n",
        "print(datetime.datetime.today())\n"
      ],
      "execution_count": 27,
      "outputs": [
        {
          "output_type": "stream",
          "name": "stdout",
          "text": [
            "2021-12-02\n",
            "2021-12-02 19:22:13.020731\n"
          ]
        }
      ]
    },
    {
      "cell_type": "code",
      "metadata": {
        "id": "C6jl6dnFkO4x"
      },
      "source": [
        "#22 April 571\n",
        "#8 June 632"
      ],
      "execution_count": null,
      "outputs": []
    },
    {
      "cell_type": "code",
      "metadata": {
        "id": "eS0GyUUtkO2H"
      },
      "source": [
        "from datetime import date"
      ],
      "execution_count": 28,
      "outputs": []
    },
    {
      "cell_type": "code",
      "metadata": {
        "id": "UzGErBT0kOyJ"
      },
      "source": [
        "birt = date(571, 4, 22)"
      ],
      "execution_count": 29,
      "outputs": []
    },
    {
      "cell_type": "code",
      "metadata": {
        "id": "QoFCdz9BkOvN"
      },
      "source": [
        "death = date(632, 6, 8)"
      ],
      "execution_count": 30,
      "outputs": []
    },
    {
      "cell_type": "code",
      "metadata": {
        "colab": {
          "base_uri": "https://localhost:8080/"
        },
        "id": "M4eL8NK7kOsb",
        "outputId": "f35bef2b-d216-440e-a828-799a4bb54668"
      },
      "source": [
        "date.toordinal(death)"
      ],
      "execution_count": 31,
      "outputs": [
        {
          "output_type": "execute_result",
          "data": {
            "text/plain": [
              "230627"
            ]
          },
          "metadata": {},
          "execution_count": 31
        }
      ]
    },
    {
      "cell_type": "code",
      "metadata": {
        "colab": {
          "base_uri": "https://localhost:8080/"
        },
        "id": "IncEMYH1nx5I",
        "outputId": "b28f9875-e394-4df4-8009-bd87a07ae933"
      },
      "source": [
        "date.toordinal(birt)"
      ],
      "execution_count": 32,
      "outputs": [
        {
          "output_type": "execute_result",
          "data": {
            "text/plain": [
              "208300"
            ]
          },
          "metadata": {},
          "execution_count": 32
        }
      ]
    },
    {
      "cell_type": "code",
      "metadata": {
        "colab": {
          "base_uri": "https://localhost:8080/"
        },
        "id": "T7tjcJR9n5c4",
        "outputId": "f876e582-6d4c-4ae6-f701-63559ee4f33c"
      },
      "source": [
        "date.toordinal(death) - date.toordinal(birt)\n"
      ],
      "execution_count": 34,
      "outputs": [
        {
          "output_type": "execute_result",
          "data": {
            "text/plain": [
              "22327"
            ]
          },
          "metadata": {},
          "execution_count": 34
        }
      ]
    },
    {
      "cell_type": "code",
      "metadata": {
        "colab": {
          "base_uri": "https://localhost:8080/"
        },
        "id": "TH8t94SnoBwd",
        "outputId": "ce49c5ea-36e5-4305-c686-b6e86a965ae6"
      },
      "source": [
        "death - birt"
      ],
      "execution_count": 35,
      "outputs": [
        {
          "output_type": "execute_result",
          "data": {
            "text/plain": [
              "datetime.timedelta(days=22327)"
            ]
          },
          "metadata": {},
          "execution_count": 35
        }
      ]
    },
    {
      "cell_type": "code",
      "metadata": {
        "id": "vBChf5L5oLFP"
      },
      "source": [
        "dogm = date(1990, 7, 17)\n",
        "now = datetime.date.today()"
      ],
      "execution_count": 36,
      "outputs": []
    },
    {
      "cell_type": "code",
      "metadata": {
        "colab": {
          "base_uri": "https://localhost:8080/"
        },
        "id": "vNwCWH8_oLCk",
        "outputId": "28fac761-a71c-414d-fed8-ca9ad6f6e926"
      },
      "source": [
        "date.toordinal(now) - date.toordinal(dogm)"
      ],
      "execution_count": 37,
      "outputs": [
        {
          "output_type": "execute_result",
          "data": {
            "text/plain": [
              "11461"
            ]
          },
          "metadata": {},
          "execution_count": 37
        }
      ]
    },
    {
      "cell_type": "code",
      "metadata": {
        "id": "_OBVBT1OoK_-"
      },
      "source": [
        "import random"
      ],
      "execution_count": 38,
      "outputs": []
    },
    {
      "cell_type": "code",
      "metadata": {
        "colab": {
          "base_uri": "https://localhost:8080/",
          "height": 36
        },
        "id": "26PTIrpMoK9n",
        "outputId": "1416f27d-9295-4af6-866a-c25f2d3a142b"
      },
      "source": [
        "city = [\"Stocholm\", \"Istanbul\", \"Madrid\"]\n",
        "random.choice(city)"
      ],
      "execution_count": 43,
      "outputs": [
        {
          "output_type": "execute_result",
          "data": {
            "application/vnd.google.colaboratory.intrinsic+json": {
              "type": "string"
            },
            "text/plain": [
              "'Madrid'"
            ]
          },
          "metadata": {},
          "execution_count": 43
        }
      ]
    },
    {
      "cell_type": "code",
      "metadata": {
        "id": "IWXbmHcGoK6e"
      },
      "source": [
        "from random import choice"
      ],
      "execution_count": 45,
      "outputs": []
    },
    {
      "cell_type": "code",
      "metadata": {
        "colab": {
          "base_uri": "https://localhost:8080/"
        },
        "id": "P8vt0ELvoK2M",
        "outputId": "7e6fe3cc-eee9-4649-85f7-ae6f6fa917ed"
      },
      "source": [
        "print(choice(city))"
      ],
      "execution_count": 46,
      "outputs": [
        {
          "output_type": "stream",
          "name": "stdout",
          "text": [
            "Stocholm\n"
          ]
        }
      ]
    },
    {
      "cell_type": "code",
      "metadata": {
        "colab": {
          "base_uri": "https://localhost:8080/"
        },
        "id": "o-xa3Py4oKzY",
        "outputId": "cbe27c7f-7366-4e40-cc31-53ab3bf01408"
      },
      "source": [
        "pip --version"
      ],
      "execution_count": 47,
      "outputs": [
        {
          "output_type": "stream",
          "name": "stdout",
          "text": [
            "pip 21.1.3 from /usr/local/lib/python3.7/dist-packages/pip (python 3.7)\n"
          ]
        }
      ]
    },
    {
      "cell_type": "code",
      "metadata": {
        "colab": {
          "base_uri": "https://localhost:8080/"
        },
        "id": "7wU80JUDqGs7",
        "outputId": "3a4a4813-8e7a-4f6e-e553-63529f51d436"
      },
      "source": [
        "pip install kaggle"
      ],
      "execution_count": 3,
      "outputs": [
        {
          "output_type": "stream",
          "name": "stdout",
          "text": [
            "Requirement already satisfied: kaggle in /usr/local/lib/python3.7/dist-packages (1.5.12)\n",
            "Requirement already satisfied: requests in /usr/local/lib/python3.7/dist-packages (from kaggle) (2.23.0)\n",
            "Requirement already satisfied: tqdm in /usr/local/lib/python3.7/dist-packages (from kaggle) (4.62.3)\n",
            "Requirement already satisfied: python-dateutil in /usr/local/lib/python3.7/dist-packages (from kaggle) (2.8.2)\n",
            "Requirement already satisfied: urllib3 in /usr/local/lib/python3.7/dist-packages (from kaggle) (1.24.3)\n",
            "Requirement already satisfied: certifi in /usr/local/lib/python3.7/dist-packages (from kaggle) (2021.10.8)\n",
            "Requirement already satisfied: six>=1.10 in /usr/local/lib/python3.7/dist-packages (from kaggle) (1.15.0)\n",
            "Requirement already satisfied: python-slugify in /usr/local/lib/python3.7/dist-packages (from kaggle) (5.0.2)\n",
            "Requirement already satisfied: text-unidecode>=1.3 in /usr/local/lib/python3.7/dist-packages (from python-slugify->kaggle) (1.3)\n",
            "Requirement already satisfied: chardet<4,>=3.0.2 in /usr/local/lib/python3.7/dist-packages (from requests->kaggle) (3.0.4)\n",
            "Requirement already satisfied: idna<3,>=2.5 in /usr/local/lib/python3.7/dist-packages (from requests->kaggle) (2.10)\n"
          ]
        }
      ]
    },
    {
      "cell_type": "code",
      "metadata": {
        "colab": {
          "base_uri": "https://localhost:8080/"
        },
        "id": "2XeJ1BCVqGqy",
        "outputId": "8257bcde-2fe2-4d8b-927e-7a007c113a5e"
      },
      "source": [
        "pip install numpy\n"
      ],
      "execution_count": 1,
      "outputs": [
        {
          "output_type": "stream",
          "name": "stdout",
          "text": [
            "Requirement already satisfied: numpy in /usr/local/lib/python3.7/dist-packages (1.19.5)\n"
          ]
        }
      ]
    },
    {
      "cell_type": "code",
      "metadata": {
        "colab": {
          "base_uri": "https://localhost:8080/"
        },
        "id": "WfQZjxWoqGoP",
        "outputId": "57414826-ef61-4913-9041-c9334eba8177"
      },
      "source": [
        "!pip list"
      ],
      "execution_count": 4,
      "outputs": [
        {
          "output_type": "stream",
          "name": "stdout",
          "text": [
            "Package                       Version\n",
            "----------------------------- --------------\n",
            "absl-py                       0.12.0\n",
            "alabaster                     0.7.12\n",
            "albumentations                0.1.12\n",
            "altair                        4.1.0\n",
            "appdirs                       1.4.4\n",
            "argcomplete                   1.12.3\n",
            "argon2-cffi                   21.1.0\n",
            "arviz                         0.11.4\n",
            "astor                         0.8.1\n",
            "astropy                       4.3.1\n",
            "astunparse                    1.6.3\n",
            "atari-py                      0.2.9\n",
            "atomicwrites                  1.4.0\n",
            "attrs                         21.2.0\n",
            "audioread                     2.1.9\n",
            "autograd                      1.3\n",
            "Babel                         2.9.1\n",
            "backcall                      0.2.0\n",
            "beautifulsoup4                4.6.3\n",
            "bleach                        4.1.0\n",
            "blis                          0.4.1\n",
            "bokeh                         2.3.3\n",
            "Bottleneck                    1.3.2\n",
            "branca                        0.4.2\n",
            "bs4                           0.0.1\n",
            "CacheControl                  0.12.10\n",
            "cached-property               1.5.2\n",
            "cachetools                    4.2.4\n",
            "catalogue                     1.0.0\n",
            "certifi                       2021.10.8\n",
            "cffi                          1.15.0\n",
            "cftime                        1.5.1.1\n",
            "chardet                       3.0.4\n",
            "charset-normalizer            2.0.8\n",
            "click                         7.1.2\n",
            "cloudpickle                   1.3.0\n",
            "cmake                         3.12.0\n",
            "cmdstanpy                     0.9.5\n",
            "colorcet                      2.0.6\n",
            "colorlover                    0.3.0\n",
            "community                     1.0.0b1\n",
            "contextlib2                   0.5.5\n",
            "convertdate                   2.3.2\n",
            "coverage                      3.7.1\n",
            "coveralls                     0.5\n",
            "crcmod                        1.7\n",
            "cufflinks                     0.17.3\n",
            "cvxopt                        1.2.7\n",
            "cvxpy                         1.0.31\n",
            "cycler                        0.11.0\n",
            "cymem                         2.0.6\n",
            "Cython                        0.29.24\n",
            "daft                          0.0.4\n",
            "dask                          2.12.0\n",
            "datascience                   0.10.6\n",
            "debugpy                       1.0.0\n",
            "decorator                     4.4.2\n",
            "defusedxml                    0.7.1\n",
            "descartes                     1.1.0\n",
            "dill                          0.3.4\n",
            "distributed                   1.25.3\n",
            "dlib                          19.18.0\n",
            "dm-tree                       0.1.6\n",
            "docopt                        0.6.2\n",
            "docutils                      0.17.1\n",
            "dopamine-rl                   1.0.5\n",
            "earthengine-api               0.1.290\n",
            "easydict                      1.9\n",
            "ecos                          2.0.7.post1\n",
            "editdistance                  0.5.3\n",
            "en-core-web-sm                2.2.5\n",
            "entrypoints                   0.3\n",
            "ephem                         4.1\n",
            "et-xmlfile                    1.1.0\n",
            "fa2                           0.3.5\n",
            "fastai                        1.0.61\n",
            "fastdtw                       0.3.4\n",
            "fastprogress                  1.0.0\n",
            "fastrlock                     0.8\n",
            "fbprophet                     0.7.1\n",
            "feather-format                0.4.1\n",
            "filelock                      3.4.0\n",
            "firebase-admin                4.4.0\n",
            "fix-yahoo-finance             0.0.22\n",
            "Flask                         1.1.4\n",
            "flatbuffers                   2.0\n",
            "folium                        0.8.3\n",
            "fonttools                     4.28.2\n",
            "future                        0.16.0\n",
            "gast                          0.4.0\n",
            "GDAL                          2.2.2\n",
            "gdown                         3.6.4\n",
            "gensim                        3.6.0\n",
            "geographiclib                 1.52\n",
            "geopy                         1.17.0\n",
            "gin-config                    0.5.0\n",
            "glob2                         0.7\n",
            "google                        2.0.3\n",
            "google-api-core               1.26.3\n",
            "google-api-python-client      1.12.8\n",
            "google-auth                   1.35.0\n",
            "google-auth-httplib2          0.0.4\n",
            "google-auth-oauthlib          0.4.6\n",
            "google-cloud-bigquery         1.21.0\n",
            "google-cloud-bigquery-storage 1.1.0\n",
            "google-cloud-core             1.0.3\n",
            "google-cloud-datastore        1.8.0\n",
            "google-cloud-firestore        1.7.0\n",
            "google-cloud-language         1.2.0\n",
            "google-cloud-storage          1.18.1\n",
            "google-cloud-translate        1.5.0\n",
            "google-colab                  1.0.0\n",
            "google-pasta                  0.2.0\n",
            "google-resumable-media        0.4.1\n",
            "googleapis-common-protos      1.53.0\n",
            "googledrivedownloader         0.4\n",
            "graphviz                      0.10.1\n",
            "greenlet                      1.1.2\n",
            "grpcio                        1.42.0\n",
            "gspread                       3.0.1\n",
            "gspread-dataframe             3.0.8\n",
            "gym                           0.17.3\n",
            "h5py                          3.1.0\n",
            "HeapDict                      1.0.1\n",
            "hijri-converter               2.2.2\n",
            "holidays                      0.10.5.2\n",
            "holoviews                     1.14.6\n",
            "html5lib                      1.0.1\n",
            "httpimport                    0.5.18\n",
            "httplib2                      0.17.4\n",
            "httplib2shim                  0.0.3\n",
            "humanize                      0.5.1\n",
            "hyperopt                      0.1.2\n",
            "ideep4py                      2.0.0.post3\n",
            "idna                          2.10\n",
            "imageio                       2.4.1\n",
            "imagesize                     1.3.0\n",
            "imbalanced-learn              0.8.1\n",
            "imblearn                      0.0\n",
            "imgaug                        0.2.9\n",
            "importlib-metadata            4.8.2\n",
            "importlib-resources           5.4.0\n",
            "imutils                       0.5.4\n",
            "inflect                       2.1.0\n",
            "iniconfig                     1.1.1\n",
            "intel-openmp                  2021.4.0\n",
            "intervaltree                  2.1.0\n",
            "ipykernel                     4.10.1\n",
            "ipython                       5.5.0\n",
            "ipython-genutils              0.2.0\n",
            "ipython-sql                   0.3.9\n",
            "ipywidgets                    7.6.5\n",
            "itsdangerous                  1.1.0\n",
            "jax                           0.2.25\n",
            "jaxlib                        0.1.71+cuda111\n",
            "jdcal                         1.4.1\n",
            "jedi                          0.18.1\n",
            "jieba                         0.42.1\n",
            "Jinja2                        2.11.3\n",
            "joblib                        1.1.0\n",
            "jpeg4py                       0.1.4\n",
            "jsonschema                    2.6.0\n",
            "jupyter                       1.0.0\n",
            "jupyter-client                5.3.5\n",
            "jupyter-console               5.2.0\n",
            "jupyter-core                  4.9.1\n",
            "jupyterlab-pygments           0.1.2\n",
            "jupyterlab-widgets            1.0.2\n",
            "kaggle                        1.5.12\n",
            "kapre                         0.3.6\n",
            "keras                         2.7.0\n",
            "Keras-Preprocessing           1.1.2\n",
            "keras-vis                     0.4.1\n",
            "kiwisolver                    1.3.2\n",
            "korean-lunar-calendar         0.2.1\n",
            "libclang                      12.0.0\n",
            "librosa                       0.8.1\n",
            "lightgbm                      2.2.3\n",
            "llvmlite                      0.34.0\n",
            "lmdb                          0.99\n",
            "LunarCalendar                 0.0.9\n",
            "lxml                          4.2.6\n",
            "Markdown                      3.3.6\n",
            "MarkupSafe                    2.0.1\n",
            "matplotlib                    3.2.2\n",
            "matplotlib-inline             0.1.3\n",
            "matplotlib-venn               0.11.6\n",
            "missingno                     0.5.0\n",
            "mistune                       0.8.4\n",
            "mizani                        0.6.0\n",
            "mkl                           2019.0\n",
            "mlxtend                       0.14.0\n",
            "more-itertools                8.12.0\n",
            "moviepy                       0.2.3.5\n",
            "mpmath                        1.2.1\n",
            "msgpack                       1.0.3\n",
            "multiprocess                  0.70.12.2\n",
            "multitasking                  0.0.10\n",
            "murmurhash                    1.0.6\n",
            "music21                       5.5.0\n",
            "natsort                       5.5.0\n",
            "nbclient                      0.5.9\n",
            "nbconvert                     5.6.1\n",
            "nbformat                      5.1.3\n",
            "nest-asyncio                  1.5.1\n",
            "netCDF4                       1.5.8\n",
            "networkx                      2.6.3\n",
            "nibabel                       3.0.2\n",
            "nltk                          3.2.5\n",
            "notebook                      5.3.1\n",
            "numba                         0.51.2\n",
            "numexpr                       2.7.3\n",
            "numpy                         1.19.5\n",
            "nvidia-ml-py3                 7.352.0\n",
            "oauth2client                  4.1.3\n",
            "oauthlib                      3.1.1\n",
            "okgrade                       0.4.3\n",
            "opencv-contrib-python         4.1.2.30\n",
            "opencv-python                 4.1.2.30\n",
            "openpyxl                      2.5.9\n",
            "opt-einsum                    3.3.0\n",
            "osqp                          0.6.2.post0\n",
            "packaging                     21.3\n",
            "palettable                    3.3.0\n",
            "pandas                        1.1.5\n",
            "pandas-datareader             0.9.0\n",
            "pandas-gbq                    0.13.3\n",
            "pandas-profiling              1.4.1\n",
            "pandocfilters                 1.5.0\n",
            "panel                         0.12.1\n",
            "param                         1.12.0\n",
            "parso                         0.8.2\n",
            "pathlib                       1.0.1\n",
            "patsy                         0.5.2\n",
            "pep517                        0.12.0\n",
            "pexpect                       4.8.0\n",
            "pickleshare                   0.7.5\n",
            "Pillow                        7.1.2\n",
            "pip                           21.1.3\n",
            "pip-tools                     6.2.0\n",
            "plac                          1.1.3\n",
            "plotly                        4.4.1\n",
            "plotnine                      0.6.0\n",
            "pluggy                        0.7.1\n",
            "pooch                         1.5.2\n",
            "portpicker                    1.3.9\n",
            "prefetch-generator            1.0.1\n",
            "preshed                       3.0.6\n",
            "prettytable                   2.4.0\n",
            "progressbar2                  3.38.0\n",
            "prometheus-client             0.12.0\n",
            "promise                       2.3\n",
            "prompt-toolkit                1.0.18\n",
            "protobuf                      3.17.3\n",
            "psutil                        5.4.8\n",
            "psycopg2                      2.7.6.1\n",
            "ptyprocess                    0.7.0\n",
            "py                            1.11.0\n",
            "pyarrow                       3.0.0\n",
            "pyasn1                        0.4.8\n",
            "pyasn1-modules                0.2.8\n",
            "pycocotools                   2.0.3\n",
            "pycparser                     2.21\n",
            "pyct                          0.4.8\n",
            "pydata-google-auth            1.2.0\n",
            "pydot                         1.3.0\n",
            "pydot-ng                      2.0.0\n",
            "pydotplus                     2.0.2\n",
            "PyDrive                       1.3.1\n",
            "pyemd                         0.5.1\n",
            "pyerfa                        2.0.0.1\n",
            "pyglet                        1.5.0\n",
            "Pygments                      2.6.1\n",
            "pygobject                     3.26.1\n",
            "pymc3                         3.11.4\n",
            "PyMeeus                       0.5.11\n",
            "pymongo                       3.12.1\n",
            "pymystem3                     0.2.0\n",
            "PyOpenGL                      3.1.5\n",
            "pyparsing                     3.0.6\n",
            "pyrsistent                    0.18.0\n",
            "pysndfile                     1.3.8\n",
            "PySocks                       1.7.1\n",
            "pystan                        2.19.1.1\n",
            "pytest                        3.6.4\n",
            "python-apt                    0.0.0\n",
            "python-chess                  0.23.11\n",
            "python-dateutil               2.8.2\n",
            "python-louvain                0.15\n",
            "python-slugify                5.0.2\n",
            "python-utils                  2.5.6\n",
            "pytz                          2018.9\n",
            "pyviz-comms                   2.1.0\n",
            "PyWavelets                    1.2.0\n",
            "PyYAML                        3.13\n",
            "pyzmq                         22.3.0\n",
            "qdldl                         0.1.5.post0\n",
            "qtconsole                     5.2.1\n",
            "QtPy                          1.11.2\n",
            "regex                         2019.12.20\n",
            "requests                      2.23.0\n",
            "requests-oauthlib             1.3.0\n",
            "resampy                       0.2.2\n",
            "retrying                      1.3.3\n",
            "rpy2                          3.4.5\n",
            "rsa                           4.8\n",
            "scikit-image                  0.18.3\n",
            "scikit-learn                  1.0.1\n",
            "scipy                         1.4.1\n",
            "screen-resolution-extra       0.0.0\n",
            "scs                           2.1.4\n",
            "seaborn                       0.11.2\n",
            "semver                        2.13.0\n",
            "Send2Trash                    1.8.0\n",
            "setuptools                    57.4.0\n",
            "setuptools-git                1.2\n",
            "setuptools-scm                6.3.2\n",
            "Shapely                       1.8.0\n",
            "simplegeneric                 0.8.1\n",
            "six                           1.15.0\n",
            "sklearn                       0.0\n",
            "sklearn-pandas                1.8.0\n",
            "smart-open                    5.2.1\n",
            "snowballstemmer               2.2.0\n",
            "sortedcontainers              2.4.0\n",
            "SoundFile                     0.10.3.post1\n",
            "spacy                         2.2.4\n",
            "Sphinx                        1.8.6\n",
            "sphinxcontrib-serializinghtml 1.1.5\n",
            "sphinxcontrib-websupport      1.2.4\n",
            "SQLAlchemy                    1.4.27\n",
            "sqlparse                      0.4.2\n",
            "srsly                         1.0.5\n",
            "statsmodels                   0.10.2\n",
            "sympy                         1.7.1\n",
            "tables                        3.4.4\n",
            "tabulate                      0.8.9\n",
            "tblib                         1.7.0\n",
            "tensorboard                   2.7.0\n",
            "tensorboard-data-server       0.6.1\n",
            "tensorboard-plugin-wit        1.8.0\n",
            "tensorflow                    2.7.0\n",
            "tensorflow-datasets           4.0.1\n",
            "tensorflow-estimator          2.7.0\n",
            "tensorflow-gcs-config         2.7.0\n",
            "tensorflow-hub                0.12.0\n",
            "tensorflow-io-gcs-filesystem  0.22.0\n",
            "tensorflow-metadata           1.4.0\n",
            "tensorflow-probability        0.15.0\n",
            "termcolor                     1.1.0\n",
            "terminado                     0.12.1\n",
            "testpath                      0.5.0\n",
            "text-unidecode                1.3\n",
            "textblob                      0.15.3\n",
            "Theano-PyMC                   1.1.2\n",
            "thinc                         7.4.0\n",
            "threadpoolctl                 3.0.0\n",
            "tifffile                      2021.11.2\n",
            "toml                          0.10.2\n",
            "tomli                         1.2.2\n",
            "toolz                         0.11.2\n",
            "torch                         1.10.0+cu111\n",
            "torchaudio                    0.10.0+cu111\n",
            "torchsummary                  1.5.1\n",
            "torchtext                     0.11.0\n",
            "torchvision                   0.11.1+cu111\n",
            "tornado                       5.1.1\n",
            "tqdm                          4.62.3\n",
            "traitlets                     5.1.1\n",
            "tweepy                        3.10.0\n",
            "typeguard                     2.7.1\n",
            "typing-extensions             3.10.0.2\n",
            "tzlocal                       1.5.1\n",
            "uritemplate                   3.0.1\n",
            "urllib3                       1.24.3\n",
            "vega-datasets                 0.9.0\n",
            "wasabi                        0.8.2\n",
            "wcwidth                       0.2.5\n",
            "webencodings                  0.5.1\n",
            "Werkzeug                      1.0.1\n",
            "wheel                         0.37.0\n",
            "widgetsnbextension            3.5.2\n",
            "wordcloud                     1.5.0\n",
            "wrapt                         1.13.3\n",
            "xarray                        0.18.2\n",
            "xgboost                       0.90\n",
            "xkit                          0.0.0\n",
            "xlrd                          1.1.0\n",
            "xlwt                          1.3.0\n",
            "yellowbrick                   1.3.post1\n",
            "zict                          2.0.0\n",
            "zipp                          3.6.0\n"
          ]
        }
      ]
    },
    {
      "cell_type": "code",
      "metadata": {
        "colab": {
          "base_uri": "https://localhost:8080/"
        },
        "id": "7vY1z5ZRqGmA",
        "outputId": "a9ee8864-0afc-4d7c-ae47-31111faeaa62"
      },
      "source": [
        "pip show numpy"
      ],
      "execution_count": 5,
      "outputs": [
        {
          "output_type": "stream",
          "name": "stdout",
          "text": [
            "Name: numpy\n",
            "Version: 1.19.5\n",
            "Summary: NumPy is the fundamental package for array computing with Python.\n",
            "Home-page: https://www.numpy.org\n",
            "Author: Travis E. Oliphant et al.\n",
            "Author-email: None\n",
            "License: BSD\n",
            "Location: /usr/local/lib/python3.7/dist-packages\n",
            "Requires: \n",
            "Required-by: yellowbrick, xgboost, xarray, wordcloud, torchvision, torchtext, tifffile, thinc, Theano-PyMC, tensorflow, tensorflow-probability, tensorflow-hub, tensorflow-datasets, tensorboard, tables, statsmodels, spacy, sklearn-pandas, seaborn, scs, scipy, scikit-learn, scikit-image, resampy, qdldl, PyWavelets, python-louvain, pystan, pysndfile, pymc3, pyerfa, pyemd, pyarrow, plotnine, patsy, pandas, osqp, opt-einsum, opencv-python, opencv-contrib-python, numexpr, numba, nibabel, netCDF4, moviepy, mlxtend, mizani, missingno, matplotlib, matplotlib-venn, lightgbm, librosa, Keras-Preprocessing, kapre, jpeg4py, jaxlib, jax, imgaug, imbalanced-learn, imageio, hyperopt, holoviews, h5py, gym, gensim, folium, fix-yahoo-finance, fbprophet, fastprogress, fastdtw, fastai, fa2, ecos, daft, cvxpy, cufflinks, cmdstanpy, cftime, Bottleneck, bokeh, blis, autograd, atari-py, astropy, arviz, altair, albumentations\n"
          ]
        }
      ]
    },
    {
      "cell_type": "code",
      "metadata": {
        "colab": {
          "base_uri": "https://localhost:8080/"
        },
        "id": "s_7q6FruqGiz",
        "outputId": "6d8e72df-8151-447f-c5ae-ff1eb1a6cf50"
      },
      "source": [
        "pip show kaggle"
      ],
      "execution_count": 6,
      "outputs": [
        {
          "output_type": "stream",
          "name": "stdout",
          "text": [
            "Name: kaggle\n",
            "Version: 1.5.12\n",
            "Summary: Kaggle API\n",
            "Home-page: https://github.com/Kaggle/kaggle-api\n",
            "Author: Kaggle\n",
            "Author-email: support@kaggle.com\n",
            "License: Apache 2.0\n",
            "Location: /usr/local/lib/python3.7/dist-packages\n",
            "Requires: certifi, six, python-dateutil, urllib3, requests, python-slugify, tqdm\n",
            "Required-by: \n"
          ]
        }
      ]
    },
    {
      "cell_type": "code",
      "metadata": {
        "id": "k2WItEeLqGeg"
      },
      "source": [
        ""
      ],
      "execution_count": null,
      "outputs": []
    },
    {
      "cell_type": "code",
      "metadata": {
        "id": "aGb89BVjqGbn"
      },
      "source": [
        ""
      ],
      "execution_count": null,
      "outputs": []
    },
    {
      "cell_type": "code",
      "metadata": {
        "id": "9TKbmDMiqGYq"
      },
      "source": [
        ""
      ],
      "execution_count": null,
      "outputs": []
    },
    {
      "cell_type": "code",
      "metadata": {
        "id": "Np_Rciu9qGUs"
      },
      "source": [
        ""
      ],
      "execution_count": null,
      "outputs": []
    },
    {
      "cell_type": "code",
      "metadata": {
        "id": "JTKgFq5PoKwp"
      },
      "source": [
        ""
      ],
      "execution_count": null,
      "outputs": []
    },
    {
      "cell_type": "code",
      "metadata": {
        "id": "_6l5mIRetKUe"
      },
      "source": [
        ""
      ],
      "execution_count": null,
      "outputs": []
    },
    {
      "cell_type": "code",
      "metadata": {
        "id": "td_r_2qZtKRd"
      },
      "source": [
        ""
      ],
      "execution_count": null,
      "outputs": []
    },
    {
      "cell_type": "code",
      "metadata": {
        "id": "SmNa3fzutKO7"
      },
      "source": [
        ""
      ],
      "execution_count": null,
      "outputs": []
    },
    {
      "cell_type": "code",
      "metadata": {
        "id": "pgQb8qnktKMC"
      },
      "source": [
        ""
      ],
      "execution_count": null,
      "outputs": []
    }
  ]
}