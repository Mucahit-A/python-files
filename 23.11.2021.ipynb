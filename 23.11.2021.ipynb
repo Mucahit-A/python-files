{
 "cells": [
  {
   "cell_type": "code",
   "execution_count": null,
   "metadata": {},
   "outputs": [],
   "source": [
    "a= “herkesi sen”\n",
    "b= “Sadıkâne”\n",
    "c=“yâr olur”\n",
    "d=“ağyâr olur”\n",
    "e=“serdar olur”\n",
    "def yavuz(x1,x2,x3,x4,x5):\n",
    "  print(“Sanma şâhım”,x1,x2,x3)\n",
    "  print(x1,“dost mu sandın belki ol”, x4)\n",
    "  print(x2,“belki ol alemde bir”,x5)\n",
    "  print(x3,x4,x5,“didar olur”)"
   ]
  },
  {
   "cell_type": "code",
   "execution_count": null,
   "metadata": {},
   "outputs": [],
   "source": [
    "num =input(\"Write a positive number: \")\n",
    "a = 0\n",
    "if num.isdigit() and int(num) > 0:\n",
    "  for i in num:\n",
    "      a += int(i) **len(num)\n",
    "  if a == int(num):\n",
    "      print(num, \" is an Armstrong number\")   \n",
    "  else:\n",
    "      print(num, \" is not an Armstrong number\")\n",
    "else:\n",
    "  print(\"It is an invalid entry. Don't use non-numeric, float, or negative values!\")"
   ]
  },
  {
   "cell_type": "code",
   "execution_count": null,
   "metadata": {},
   "outputs": [],
   "source": [
    "print(\"save\")"
   ]
  }
 ],
 "metadata": {
  "language_info": {
   "name": "plaintext"
  },
  "orig_nbformat": 4
 },
 "nbformat": 4,
 "nbformat_minor": 2
}
