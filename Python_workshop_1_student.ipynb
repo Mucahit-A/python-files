{
  "nbformat": 4,
  "nbformat_minor": 0,
  "metadata": {
    "kernelspec": {
      "name": "python3",
      "display_name": "Python 3.9.6 64-bit"
    },
    "language_info": {
      "codemirror_mode": {
        "name": "ipython",
        "version": 3
      },
      "file_extension": ".py",
      "mimetype": "text/x-python",
      "name": "python",
      "nbconvert_exporter": "python",
      "pygments_lexer": "ipython3",
      "version": "3.9.6"
    },
    "interpreter": {
      "hash": "468f25ad0239460415b7e6b7483d5c8f7213894121f6fb96c4cb6ef93fffe534"
    },
    "colab": {
      "name": "Python-workshop-1-student.ipynb",
      "provenance": [],
      "include_colab_link": true
    }
  },
  "cells": [
    {
      "cell_type": "markdown",
      "metadata": {
        "id": "view-in-github",
        "colab_type": "text"
      },
      "source": [
        "<a href=\"https://colab.research.google.com/github/Mucahit-A/python-files/blob/main/Python_workshop_1_student.ipynb\" target=\"_parent\"><img src=\"https://colab.research.google.com/assets/colab-badge.svg\" alt=\"Open In Colab\"/></a>"
      ]
    },
    {
      "cell_type": "markdown",
      "metadata": {
        "id": "4cEzEusrvgdH"
      },
      "source": [
        "<center><img src=\"https://github.com/aaron-clarusway/fullstack/blob/master/itf-logo.png?raw=true\"  alt=\"alt text\" width=\"200\"/></center>\n",
        "<br>\n",
        "<h1><p style=\"text-align: center; color:darkblue\">Python Basic</p><h1>\n",
        "<center><h1>Workshop - 1</h1></center>\n",
        "<p><img align=\"right\"\n",
        "  src=\"https://secure.meetupstatic.com/photos/event/3/1/b/9/600_488352729.jpeg\"  width=\"15px\"></p>\n",
        "<br>\n",
        "\n",
        "\n",
        "# Subject: Basic Data Types and Useful Operations\n",
        "\n",
        "## Learning Goals\n",
        "\n",
        "* to work with quotes in strings,\n",
        "* to practice basic data types,\n",
        "* to consolidate basic boolean operations."
      ]
    },
    {
      "cell_type": "markdown",
      "metadata": {
        "id": "ALl5S3WjvgdR"
      },
      "source": [
        "### Problem 1\n",
        "\n",
        "Write a program that multiplies three numbers entered by the user. Print the output with the format method."
      ]
    },
    {
      "cell_type": "code",
      "metadata": {
        "colab": {
          "base_uri": "https://localhost:8080/"
        },
        "id": "F80An_uavgdT",
        "outputId": "38afb00b-4e61-4147-f6c7-5e3182a7bf4d"
      },
      "source": [
        "num_1 = int(input())\n",
        "num_2 = int(input())\n",
        "num_3 = int(input())\n",
        "total = num_1 * num_2 * num_3 \n",
        "print(\"{} * {} * {} = {}\".format(num_1, num_2,num_3, total))\n",
        "print(f\"{num_1} * {num_2} * {num_3} = {total}\")"
      ],
      "execution_count": null,
      "outputs": [
        {
          "output_type": "stream",
          "name": "stdout",
          "text": [
            "2\n",
            "3\n",
            "5\n",
            "2 * 3 * 5 = 30\n",
            "2 * 3 * 5 = 30\n"
          ]
        }
      ]
    },
    {
      "cell_type": "code",
      "metadata": {
        "id": "RmiEUru4GN9H"
      },
      "source": [
        ""
      ],
      "execution_count": null,
      "outputs": []
    },
    {
      "cell_type": "markdown",
      "metadata": {
        "id": "NkOcfJj-vgdU"
      },
      "source": [
        "### Problem 2\n",
        "\n",
        "Write a program that calculates body mass index from **height** and **weight** entered by the user. \n",
        "\n",
        "Body mass index :  Weight / Height(m) * Height(m)"
      ]
    },
    {
      "cell_type": "code",
      "metadata": {
        "id": "I0F7irPbvgdV",
        "colab": {
          "base_uri": "https://localhost:8080/"
        },
        "outputId": "b1cb12d6-8c8d-423c-f4d2-4f2c345db992"
      },
      "source": [
        "weight = int(input(\"Kilonuzu yaziniz (Orn: 80)\"))\n",
        "height = float(input(\"boyunuzu yaziniz (Orn: 1.80\"))\n",
        "body_mass = weight / height **2\n",
        "print(body_mass)"
      ],
      "execution_count": null,
      "outputs": [
        {
          "output_type": "stream",
          "name": "stdout",
          "text": [
            "Kilonuzu yaziniz (Orn: 80)77\n",
            "boyunuzu yaziniz (Orn: 1.801.77\n",
            "24.577867151840145\n"
          ]
        }
      ]
    },
    {
      "cell_type": "markdown",
      "metadata": {
        "id": "DpMrPBVJvgdW"
      },
      "source": [
        "### Problem 3\n",
        "\n",
        "With your $ 200, how many pieces of material can you get for $ 11 each? How much money do you have left after buying?"
      ]
    },
    {
      "cell_type": "code",
      "metadata": {
        "id": "PEQigOoRvgdW",
        "colab": {
          "base_uri": "https://localhost:8080/"
        },
        "outputId": "1015fe8d-da30-450d-cb35-03982ae1eed0"
      },
      "source": [
        "200 // 11"
      ],
      "execution_count": null,
      "outputs": [
        {
          "output_type": "execute_result",
          "data": {
            "text/plain": [
              "18"
            ]
          },
          "metadata": {},
          "execution_count": 12
        }
      ]
    },
    {
      "cell_type": "code",
      "metadata": {
        "colab": {
          "base_uri": "https://localhost:8080/"
        },
        "id": "lWGXOi3vZXM7",
        "outputId": "a1b17c7c-510d-49bc-fbbb-b61ec300f735"
      },
      "source": [
        "200 % 11"
      ],
      "execution_count": null,
      "outputs": [
        {
          "output_type": "execute_result",
          "data": {
            "text/plain": [
              "2"
            ]
          },
          "metadata": {},
          "execution_count": 40
        }
      ]
    },
    {
      "cell_type": "markdown",
      "metadata": {
        "id": "gc7Dez9CvgdX"
      },
      "source": [
        "### Problem 4\n",
        "\n",
        "Ask the user for two numbers and assign these numbers to variables and replace the values of these variables with each other."
      ]
    },
    {
      "cell_type": "code",
      "metadata": {
        "id": "lKmOkjz5vgdY",
        "colab": {
          "base_uri": "https://localhost:8080/"
        },
        "outputId": "6d3438b8-58a3-4d58-ba24-1219a3af6445"
      },
      "source": [
        "a = int(input())\n",
        "b = int(input())\n",
        "a, b = b, a\n",
        "print('{}, {}'.format(b, a))"
      ],
      "execution_count": null,
      "outputs": [
        {
          "output_type": "stream",
          "name": "stdout",
          "text": [
            "5\n",
            "4\n",
            "5, 4\n"
          ]
        }
      ]
    },
    {
      "cell_type": "markdown",
      "metadata": {
        "id": "NksP6OVjvgdY"
      },
      "source": [
        "### Problem 5\n",
        "\n",
        "Write a Python program to solve (x - y) * (x + y)."
      ]
    },
    {
      "cell_type": "code",
      "metadata": {
        "id": "YLu_DS4PvgdZ",
        "colab": {
          "base_uri": "https://localhost:8080/"
        },
        "outputId": "035d6c42-9a7d-4169-cf28-595b630c49a4"
      },
      "source": [
        "x, y = 3, 4\n",
        "result = x * x - y * y\n",
        "print(\"({} ^ 2 - {} ^ 2 = {})\".format(x,y,result))"
      ],
      "execution_count": null,
      "outputs": [
        {
          "output_type": "stream",
          "name": "stdout",
          "text": [
            "(3 ^ 2 - 4 ^ 2 = -7)\n"
          ]
        }
      ]
    },
    {
      "cell_type": "markdown",
      "metadata": {
        "id": "8PALGrsPvgdZ"
      },
      "source": [
        "### Problem 6\n",
        "\n",
        "Get **word**, **seperator** and **repetition** values from the user and print the word on the screen according to the given values. \n",
        "\n",
        "Ex: ``word = ali, sep = /, repetition = 3`` ----> ``ali/ali/ali``"
      ]
    },
    {
      "cell_type": "code",
      "metadata": {
        "id": "bP27zvFIvgda",
        "colab": {
          "base_uri": "https://localhost:8080/"
        },
        "outputId": "73bfcdd9-fac8-43fe-af74-f461fd0d5608"
      },
      "source": [
        "word = input('word: ')\n",
        "seperator = input(\"seperator: \")\n",
        "repetition = int(input(\"repetition: \"))\n",
        "a = (word + seperator) * (repetition - 1) + word\n",
        "print(a)\n",
        "\n"
      ],
      "execution_count": null,
      "outputs": [
        {
          "output_type": "stream",
          "name": "stdout",
          "text": [
            "word: muco\n",
            "seperator: +\n",
            "repetition: 3\n",
            "muco+muco+muco\n"
          ]
        }
      ]
    },
    {
      "cell_type": "markdown",
      "metadata": {
        "id": "XrilspcCvgda"
      },
      "source": [
        "### Problem 7\n",
        "\n",
        ">Do not run the code, try to figure out in your mind.\n",
        "\n",
        "What will be the output of the following syntax :\n",
        "\n",
        "```python\n",
        "print(True and False and (not True and False) and not (True or False))\n",
        "```"
      ]
    },
    {
      "cell_type": "code",
      "metadata": {
        "id": "S_sfht3Qbwn_"
      },
      "source": [
        "False"
      ],
      "execution_count": null,
      "outputs": []
    },
    {
      "cell_type": "code",
      "metadata": {
        "id": "TKPubgmfvgdb"
      },
      "source": [
        ""
      ],
      "execution_count": null,
      "outputs": []
    },
    {
      "cell_type": "markdown",
      "metadata": {
        "id": "zkGnUy-4vgdb"
      },
      "source": [
        "### Problem 8\n",
        "\n",
        ">Do not run the code, try to figure out in your mind.\n",
        "\n",
        "What will be the output of the following syntax :\n",
        "\n",
        "```python\n",
        "print(True and False and not \"False\" and None and (\"None\" or None))\n",
        "```"
      ]
    },
    {
      "cell_type": "code",
      "metadata": {
        "id": "vOjeKgwrvgdc",
        "colab": {
          "base_uri": "https://localhost:8080/"
        },
        "outputId": "b222fcc6-bedb-4eb8-8abc-2e49621a99f8"
      },
      "source": [
        "print(True and False and not \"False\" and None and (\"None\" or None))"
      ],
      "execution_count": null,
      "outputs": [
        {
          "output_type": "stream",
          "name": "stdout",
          "text": [
            "False\n"
          ]
        }
      ]
    },
    {
      "cell_type": "markdown",
      "metadata": {
        "id": "onq4ag1Wvgdc"
      },
      "source": [
        "### Problem 9\n",
        "\n",
        ">Do not run the code, try to figure out in your mind.\n",
        "\n",
        "What will be the output of the following syntax :\n",
        "\n",
        "```python\n",
        "print(\"clarusway\" and 0 and not \"\" and False and (\" \" or None))\n",
        "```"
      ]
    },
    {
      "cell_type": "code",
      "metadata": {
        "id": "BKwE1uTIvgdc",
        "colab": {
          "base_uri": "https://localhost:8080/"
        },
        "outputId": "03677c4c-8e94-4655-ca37-6badea1124b6"
      },
      "source": [
        "print(\"clarusway\" and 0 and not \"\" and False and (\" \" or None))"
      ],
      "execution_count": null,
      "outputs": [
        {
          "output_type": "stream",
          "name": "stdout",
          "text": [
            "0\n"
          ]
        }
      ]
    },
    {
      "cell_type": "code",
      "metadata": {
        "id": "Tfo0hRlgdOpm"
      },
      "source": [
        ""
      ],
      "execution_count": null,
      "outputs": []
    }
  ]
}