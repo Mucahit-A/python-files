{
  "nbformat": 4,
  "nbformat_minor": 0,
  "metadata": {
    "colab": {
      "name": "Emoji.ipynb",
      "provenance": [],
      "authorship_tag": "ABX9TyOhIhsrW+17dQU6HbVIAsVH",
      "include_colab_link": true
    },
    "kernelspec": {
      "name": "python3",
      "display_name": "Python 3"
    },
    "language_info": {
      "name": "python"
    }
  },
  "cells": [
    {
      "cell_type": "markdown",
      "metadata": {
        "id": "view-in-github",
        "colab_type": "text"
      },
      "source": [
        "<a href=\"https://colab.research.google.com/github/Mucahit-A/python-files/blob/main/Emoji.ipynb\" target=\"_parent\"><img src=\"https://colab.research.google.com/assets/colab-badge.svg\" alt=\"Open In Colab\"/></a>"
      ]
    },
    {
      "cell_type": "code",
      "metadata": {
        "colab": {
          "base_uri": "https://localhost:8080/"
        },
        "id": "Yy8_sZ0SIlcv",
        "outputId": "521d706c-cbdd-4d92-dab1-43f42640f618"
      },
      "source": [
        "def functioner(emoji) :\n",
        "  return lambda x :print(x, emoji)\n",
        "myPrint_smile = functioner(\":)\")\n",
        "myPrint_sad = functioner(\":(\")\n",
        "myPrint_neutral = functioner(\":|\")\n",
        "\n",
        "myPrint_smile(\"hello\")\n",
        "myPrint_sad(\"hello\")\n",
        "myPrint_neutral(\"hello\")"
      ],
      "execution_count": 1,
      "outputs": [
        {
          "output_type": "stream",
          "name": "stdout",
          "text": [
            "hello :)\n",
            "hello :(\n",
            "hello :|\n"
          ]
        }
      ]
    }
  ]
}