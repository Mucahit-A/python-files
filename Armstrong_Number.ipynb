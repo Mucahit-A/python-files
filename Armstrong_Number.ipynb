{
  "nbformat": 4,
  "nbformat_minor": 0,
  "metadata": {
    "colab": {
      "name": "Armstrong_Number.ipynb",
      "provenance": [],
      "authorship_tag": "ABX9TyPI1ktvdu/pzj7Y44iRbegV",
      "include_colab_link": true
    },
    "kernelspec": {
      "name": "python3",
      "display_name": "Python 3"
    },
    "language_info": {
      "name": "python"
    }
  },
  "cells": [
    {
      "cell_type": "markdown",
      "metadata": {
        "id": "view-in-github",
        "colab_type": "text"
      },
      "source": [
        "<a href=\"https://colab.research.google.com/github/Mucahit-A/python-files/blob/main/Armstrong_Number.ipynb\" target=\"_parent\"><img src=\"https://colab.research.google.com/assets/colab-badge.svg\" alt=\"Open In Colab\"/></a>"
      ]
    },
    {
      "cell_type": "code",
      "metadata": {
        "colab": {
          "base_uri": "https://localhost:8080/"
        },
        "id": "vJLR9pw6_3t2",
        "outputId": "30942dce-da10-4278-b3e5-29d3c9288e03"
      },
      "source": [
        "num =input(\"Write a positive number: \")\n",
        "a = 0\n",
        "if num.isdigit() and int(num) > 0:\n",
        "  for i in num:\n",
        "      a += int(i) **len(num)\n",
        "  if a == int(num):\n",
        "      print(num, \" is an Armstrong number\")   \n",
        "  else:\n",
        "      print(num, \" is not an Armstrong number\")\n",
        "else:\n",
        "  print(\"It is an invalid entry. Don't use non-numeric, float, or negative values!\")"
      ],
      "execution_count": null,
      "outputs": [
        {
          "output_type": "stream",
          "name": "stdout",
          "text": [
            "Write a positive number: 1507\n",
            "1507  is not an Armstrong number\n"
          ]
        }
      ]
    }
  ]
}