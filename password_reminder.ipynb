{
  "nbformat": 4,
  "nbformat_minor": 0,
  "metadata": {
    "colab": {
      "name": "password_reminder.ipynb",
      "provenance": [],
      "authorship_tag": "ABX9TyNyhmXXxx3+ktKUG+Q+LliO",
      "include_colab_link": true
    },
    "kernelspec": {
      "name": "python3",
      "display_name": "Python 3"
    },
    "language_info": {
      "name": "python"
    }
  },
  "cells": [
    {
      "cell_type": "markdown",
      "metadata": {
        "id": "view-in-github",
        "colab_type": "text"
      },
      "source": [
        "<a href=\"https://colab.research.google.com/github/Mucahit-A/python-files/blob/main/password_reminder.ipynb\" target=\"_parent\"><img src=\"https://colab.research.google.com/assets/colab-badge.svg\" alt=\"Open In Colab\"/></a>"
      ]
    },
    {
      "cell_type": "code",
      "metadata": {
        "id": "624Rt63dT1Jt"
      },
      "source": [
        "#password reminder\n",
        "\n",
        "name = \"Michael\"\n",
        "password = \"kasaba\"\n",
        "\n",
        "user = input(\"Enter your name: \")\n",
        "if user == name:\n",
        "  print(f'Hello, {name}! The password is: {password}')\n",
        "else:\n",
        "  print(f'Hello {user}! See you later.')"
      ],
      "execution_count": null,
      "outputs": []
    }
  ]
}