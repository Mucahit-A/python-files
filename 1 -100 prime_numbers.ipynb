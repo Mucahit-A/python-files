{
 "cells": [
  {
   "cell_type": "code",
   "execution_count": null,
   "metadata": {},
   "outputs": [],
   "source": [
    "prime_list= []\n",
    "for i in range(1,101):\n",
    "  if i > 1 :\n",
    "    for j in range(2,i):\n",
    "      if (i % j) == 0:\n",
    "        break\n",
    "    else:\n",
    "      prime_list.append(i)\n",
    "print(prime_list)"
   ]
  }
 ],
 "metadata": {
  "interpreter": {
   "hash": "ee2a79c2b157befac0e94feaeceaaeafd5ac728ba288d44878ff6725565708b0"
  },
  "kernelspec": {
   "display_name": "Python 3.11.0a1 64-bit",
   "language": "python",
   "name": "python3"
  },
  "language_info": {
   "name": "python",
   "version": "3.11.0"
  },
  "orig_nbformat": 4
 },
 "nbformat": 4,
 "nbformat_minor": 2
}
