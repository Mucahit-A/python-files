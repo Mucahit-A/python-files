{
  "nbformat": 4,
  "nbformat_minor": 0,
  "metadata": {
    "colab": {
      "name": "coronavirus-risk.ipynb",
      "provenance": [],
      "authorship_tag": "ABX9TyPL3f1xE6Pf44WXIorI5SdL",
      "include_colab_link": true
    },
    "kernelspec": {
      "name": "python3",
      "display_name": "Python 3"
    },
    "language_info": {
      "name": "python"
    }
  },
  "cells": [
    {
      "cell_type": "markdown",
      "metadata": {
        "id": "view-in-github",
        "colab_type": "text"
      },
      "source": [
        "<a href=\"https://colab.research.google.com/github/Mucahit-A/python-files/blob/main/coronavirus_risk.ipynb\" target=\"_parent\"><img src=\"https://colab.research.google.com/assets/colab-badge.svg\" alt=\"Open In Colab\"/></a>"
      ]
    },
    {
      "cell_type": "code",
      "metadata": {
        "colab": {
          "base_uri": "https://localhost:8080/"
        },
        "id": "CHNADT39-A8Z",
        "outputId": "297deceb-0ba4-4b29-9087-23171c9b89d7"
      },
      "source": [
        "#Estimating the risk of death from coronavirus.\n",
        "#Takes \"Yes\" or \"No\" from the user as an answer to the following questions :\n",
        "\n",
        "age = input(\"Are you a cigarette addict older than 75 years old?: Yes or No >> \")\n",
        "chronic = input(\"Do you have a severe chronic disease?: Yes or No >> \")\n",
        "immune = input(\"Is your immune system too weak?: Yes or No >> \")\n",
        "\n",
        "\n",
        "if age == \"Yes\" or chronic == \"Yes\" or immune == \"Yes\":\n",
        "  print(\"You are in risky group\")\n",
        "else:\n",
        "  print(\"You are not in risky group\")"
      ],
      "execution_count": null,
      "outputs": [
        {
          "output_type": "stream",
          "name": "stdout",
          "text": [
            "Are you a cigarette addict older than 75 years old?: Yes or No >> Yes\n",
            "Do you have a severe chronic disease?: Yes or No >> Yes\n",
            "Is your immune system too weak?: Yes or No >> No\n",
            "You are in risky group\n"
          ]
        }
      ]
    }
  ]
}